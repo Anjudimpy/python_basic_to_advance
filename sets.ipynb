{
 "cells": [
  {
   "cell_type": "code",
   "execution_count": 9,
   "id": "6ee40ae0-87ad-41bd-8e57-eb92cadc1b9d",
   "metadata": {},
   "outputs": [],
   "source": [
    "product_item={\"chips\",\"pencile\",\"bottel\",\"pencile\",\"bottel\"}\n"
   ]
  },
  {
   "cell_type": "code",
   "execution_count": 7,
   "id": "da45db43-7a57-4fdd-9b5d-fddf6b366bb8",
   "metadata": {},
   "outputs": [
    {
     "data": {
      "text/plain": [
       "{'bottel', 'chips', 'pencile'}"
      ]
     },
     "execution_count": 7,
     "metadata": {},
     "output_type": "execute_result"
    }
   ],
   "source": [
    "product_item"
   ]
  },
  {
   "cell_type": "code",
   "execution_count": null,
   "id": "727adb9d-8a80-4458-8420-4edbdb682cdf",
   "metadata": {},
   "outputs": [],
   "source": [
    "'''\n",
    "  Sets are mutable ? yes\n",
    "  Internally sets are in unorder\n",
    "  if update the sets then memory address allwasy same\n",
    "\n",
    "'''"
   ]
  },
  {
   "cell_type": "code",
   "execution_count": 23,
   "id": "2cb2e0cd-5ad3-4139-9f46-653aeecab561",
   "metadata": {},
   "outputs": [],
   "source": [
    "product_list=set()\n"
   ]
  },
  {
   "cell_type": "code",
   "execution_count": 25,
   "id": "87e5f705-f913-4e0c-b35b-8e7754f91ee9",
   "metadata": {},
   "outputs": [
    {
     "name": "stdout",
     "output_type": "stream",
     "text": [
      "<class 'set'>\n"
     ]
    },
    {
     "data": {
      "text/plain": [
       "{'pencile'}"
      ]
     },
     "execution_count": 25,
     "metadata": {},
     "output_type": "execute_result"
    }
   ],
   "source": [
    "product_list.add(\"pencile\")  #add item in the set\n",
    "print(type(product_list))\n",
    "product_list"
   ]
  },
  {
   "cell_type": "code",
   "execution_count": 59,
   "id": "685cdede-f6c2-4471-9c0a-13d124d3388a",
   "metadata": {},
   "outputs": [
    {
     "data": {
      "text/plain": [
       "{'Choclate', 'Copy', 'bottel', 'pencile', 'rubber'}"
      ]
     },
     "execution_count": 59,
     "metadata": {},
     "output_type": "execute_result"
    }
   ],
   "source": [
    "product_list.add(\"rubber\")\n",
    "product_list.add(\"bottel\")\n",
    "product_list.add(\"pencile\")\n",
    "product_list"
   ]
  },
  {
   "cell_type": "code",
   "execution_count": 61,
   "id": "ed16f597-74d9-4d3b-b19e-34a9d964ea9b",
   "metadata": {},
   "outputs": [
    {
     "data": {
      "text/plain": [
       "{'Choclate', 'Copy', 'pencile', 'rubber'}"
      ]
     },
     "execution_count": 61,
     "metadata": {},
     "output_type": "execute_result"
    }
   ],
   "source": [
    "product_list.add(\"pencile\")\n",
    "product_list.remove(\"bottel\") #remove item form sets\n",
    "product_list"
   ]
  },
  {
   "cell_type": "code",
   "execution_count": 33,
   "id": "3fe3ebc0-700f-4cc2-a53b-840ed5069229",
   "metadata": {},
   "outputs": [
    {
     "name": "stdout",
     "output_type": "stream",
     "text": [
      "2192337378592\n"
     ]
    }
   ],
   "source": [
    "print(id(product_list))"
   ]
  },
  {
   "cell_type": "code",
   "execution_count": 63,
   "id": "3e6378b2-a6bd-422f-8756-60d8e4f7061b",
   "metadata": {},
   "outputs": [
    {
     "name": "stdout",
     "output_type": "stream",
     "text": [
      "{'Copy', 'Choclate', 'pencile', 'rubber'}\n",
      "2192337378592\n"
     ]
    }
   ],
   "source": [
    "product_list.add(\"Copy\")\n",
    "product_list.add(\"Choclate\")\n",
    "print(product_list)\n",
    "print(id(product_list))    #memory address same"
   ]
  },
  {
   "cell_type": "code",
   "execution_count": 65,
   "id": "8c50c13b-970a-4c8d-bc2d-bc37631607d3",
   "metadata": {},
   "outputs": [
    {
     "name": "stdout",
     "output_type": "stream",
     "text": [
      "Copy\n",
      "Choclate\n",
      "pencile\n",
      "rubber\n"
     ]
    }
   ],
   "source": [
    "for ele in product_list:  #ittreate element\n",
    "    print(ele)"
   ]
  },
  {
   "cell_type": "code",
   "execution_count": 67,
   "id": "2ba4debe-1ada-4800-a6c1-fcdc1990e679",
   "metadata": {},
   "outputs": [
    {
     "name": "stdout",
     "output_type": "stream",
     "text": [
      "False\n"
     ]
    }
   ],
   "source": [
    "print(\"Cpoy\" in product_list)      #Search element are there or not"
   ]
  },
  {
   "cell_type": "code",
   "execution_count": 69,
   "id": "a50fce83-a84d-4f64-b923-ec476b1f4f1d",
   "metadata": {},
   "outputs": [
    {
     "name": "stdout",
     "output_type": "stream",
     "text": [
      "True\n"
     ]
    }
   ],
   "source": [
    "print(\"Copy\" in product_list)  #Search element are there or not"
   ]
  },
  {
   "cell_type": "code",
   "execution_count": 71,
   "id": "f35e2788-cd2e-49e5-90b2-ab7a785e4b1e",
   "metadata": {},
   "outputs": [
    {
     "name": "stdout",
     "output_type": "stream",
     "text": [
      "2 4 6 8 10 "
     ]
    }
   ],
   "source": [
    "my_set = {1, 2, 3, 4, 5}\n",
    "for num in my_set:\n",
    "    print(num * 2, end=' ')"
   ]
  },
  {
   "cell_type": "code",
   "execution_count": null,
   "id": "872fd091-4293-40e3-88bc-ef32df649746",
   "metadata": {},
   "outputs": [],
   "source": [
    "                                                      ''' Union or Pipe(|) Operator and Intersection '''"
   ]
  },
  {
   "cell_type": "code",
   "execution_count": 85,
   "id": "4d163975-2f4b-4494-af56-47b699eb941b",
   "metadata": {},
   "outputs": [],
   "source": [
    "p1={\"milk\",\"butter\",\"pencile\"}\n",
    "p2={\"bottel\",\"erasor\",\"butter\",\"milk\"}\n",
    "p3={\"copy\",\"milk\"}"
   ]
  },
  {
   "cell_type": "code",
   "execution_count": 89,
   "id": "17512c92-f97d-4271-a92b-ea8ab57320b4",
   "metadata": {},
   "outputs": [
    {
     "name": "stdout",
     "output_type": "stream",
     "text": [
      "{'copy', 'erasor', 'butter', 'bottel', 'pencile', 'milk'}\n"
     ]
    }
   ],
   "source": [
    "combined_list= p1 | p2 | p3\n",
    "print(combined_list)"
   ]
  },
  {
   "cell_type": "code",
   "execution_count": 91,
   "id": "da0ceb54-8b2d-4e5d-b759-02510a453f0f",
   "metadata": {},
   "outputs": [
    {
     "name": "stdout",
     "output_type": "stream",
     "text": [
      "{'erasor', 'butter', 'bottel', 'pencile', 'milk'}\n"
     ]
    }
   ],
   "source": [
    "combined_list1=p1.union(p2)           #Union\n",
    "print(combined_list1)           "
   ]
  },
  {
   "cell_type": "code",
   "execution_count": 93,
   "id": "f728e4f5-d3c7-4701-9795-b8ad93aa1149",
   "metadata": {},
   "outputs": [
    {
     "name": "stdout",
     "output_type": "stream",
     "text": [
      "{'copy', 'erasor', 'butter', 'bottel', 'pencile', 'milk'}\n"
     ]
    }
   ],
   "source": [
    "combined_list1=p1.union(p2,p3)\n",
    "print(combined_list1)"
   ]
  },
  {
   "cell_type": "code",
   "execution_count": 97,
   "id": "304bbfb1-ea01-4d01-9f38-fc421b5f3e60",
   "metadata": {},
   "outputs": [
    {
     "name": "stdout",
     "output_type": "stream",
     "text": [
      "{'butter', 'milk'}\n"
     ]
    }
   ],
   "source": [
    "                                                                  # Intersection\n",
    "print(p1.intersection(p2))"
   ]
  },
  {
   "cell_type": "code",
   "execution_count": 99,
   "id": "06707b4c-f252-42a3-84ca-b91d30be3d42",
   "metadata": {},
   "outputs": [
    {
     "name": "stdout",
     "output_type": "stream",
     "text": [
      "{'milk'}\n"
     ]
    }
   ],
   "source": [
    "print(p1.intersection(p2,p3))\n"
   ]
  },
  {
   "cell_type": "code",
   "execution_count": 101,
   "id": "4c8e5d8f-97c3-40af-a192-6181963b54e9",
   "metadata": {},
   "outputs": [
    {
     "name": "stdout",
     "output_type": "stream",
     "text": [
      "{'pencile'}\n"
     ]
    }
   ],
   "source": [
    "print(p1.difference(p2))     #only present item in p1 list"
   ]
  },
  {
   "cell_type": "code",
   "execution_count": 103,
   "id": "cedede06-0229-453a-bf5f-4676303365d8",
   "metadata": {},
   "outputs": [
    {
     "name": "stdout",
     "output_type": "stream",
     "text": [
      "{'erasor', 'bottel'}\n"
     ]
    }
   ],
   "source": [
    "print(p2.difference(p1))       #only present item in p2 list"
   ]
  },
  {
   "cell_type": "code",
   "execution_count": null,
   "id": "4f33a8f2-2e7a-43eb-8717-52a01e56b74a",
   "metadata": {},
   "outputs": [],
   "source": [
    "                                                  ''' Clear or remove or discard method'''"
   ]
  },
  {
   "cell_type": "code",
   "execution_count": 105,
   "id": "2fe23c00-e89e-4989-abfb-0b4937e71a0f",
   "metadata": {},
   "outputs": [],
   "source": [
    "s={1,2,4,5}"
   ]
  },
  {
   "cell_type": "code",
   "execution_count": 109,
   "id": "d69d0a6e-eaa1-4c16-a13c-3c903c7eb932",
   "metadata": {},
   "outputs": [
    {
     "name": "stdout",
     "output_type": "stream",
     "text": [
      "set()\n"
     ]
    }
   ],
   "source": [
    "s.clear()\n",
    "print(s)"
   ]
  },
  {
   "cell_type": "code",
   "execution_count": 115,
   "id": "48314bbe-4391-44a5-a62a-06cbd2c15671",
   "metadata": {},
   "outputs": [
    {
     "name": "stdout",
     "output_type": "stream",
     "text": [
      "{1, 4, 5}\n"
     ]
    }
   ],
   "source": [
    "s={1,2,4,5}\n",
    "s.remove(2)\n",
    "print(s)"
   ]
  },
  {
   "cell_type": "code",
   "execution_count": 117,
   "id": "13261952-105e-4404-aa4a-690e406ba86e",
   "metadata": {},
   "outputs": [
    {
     "name": "stdout",
     "output_type": "stream",
     "text": [
      "{1, 5}\n"
     ]
    }
   ],
   "source": [
    "s.discard(4)\n",
    "print(s)"
   ]
  },
  {
   "cell_type": "code",
   "execution_count": 125,
   "id": "a1086cca-ef4e-476e-8740-781922f0f435",
   "metadata": {},
   "outputs": [
    {
     "name": "stdout",
     "output_type": "stream",
     "text": [
      "{1, 2, 3, 4, 5}\n",
      "5 5\n",
      "{1, 2, 3, 4, 5}\n"
     ]
    }
   ],
   "source": [
    "s = {1,2,3,5,4,2,3,1}\n",
    "print(s)\n",
    "print(len(s),end= \" \")\n",
    "s.add(4)\n",
    "s.add(3)\n",
    "print(len(s))\n",
    "print(s)"
   ]
  },
  {
   "cell_type": "code",
   "execution_count": 153,
   "id": "17d32dea-e4b1-4460-9615-99810eefd44a",
   "metadata": {},
   "outputs": [
    {
     "data": {
      "text/plain": [
       "[1, 2, 3, 4]"
      ]
     },
     "execution_count": 153,
     "metadata": {},
     "output_type": "execute_result"
    }
   ],
   "source": [
    "''' You are given two arrays, arr1 and arr2, each containing integers. Your task is to write a Python function Merge(arr1, arr2) to merge the elements\n",
    "of these arrays into a single list while eliminating any duplicate elements. '''\n",
    "\n",
    "def Merge(arr1, arr2):\n",
    "     return list(set( arr1 + arr2))\n",
    "\n",
    "Merge([1,2], [1,3,4])"
   ]
  },
  {
   "cell_type": "code",
   "execution_count": 167,
   "id": "5b621c8f-3561-462b-83bc-261bccc1efe0",
   "metadata": {},
   "outputs": [
    {
     "data": {
      "text/plain": [
       "15"
      ]
     },
     "execution_count": 167,
     "metadata": {},
     "output_type": "execute_result"
    }
   ],
   "source": [
    "                                                    ''' Sum of unique value '''\n",
    "\n",
    "def sum_of_unique_value(li):\n",
    "    uni=set(li)\n",
    "    sum=0\n",
    "    for i in uni:\n",
    "        sum+=i\n",
    "    return sum\n",
    "s = [1,2,3,5,4,2,3,1]\n",
    "sum_of_unique_value(s)\n"
   ]
  },
  {
   "cell_type": "code",
   "execution_count": 193,
   "id": "19fd8e03-e355-4209-9977-196c9d7463e2",
   "metadata": {},
   "outputs": [
    {
     "name": "stdout",
     "output_type": "stream",
     "text": [
      "e u a "
     ]
    }
   ],
   "source": [
    "                                                    ''' Print all Unique Vowel in string '''\n",
    "def unique_vowel_in_string(string):\n",
    "    result=set(string)\n",
    "    for i in result:\n",
    "        s=set(i)\n",
    "        for j in s:\n",
    "            if j == 'a' or j=='e' or j=='i' or j=='o' or j=='u':\n",
    "                print(j,end=\" \")\n",
    "\n",
    "unique_vowel_in_string(\"anjuase\")"
   ]
  },
  {
   "cell_type": "code",
   "execution_count": 212,
   "id": "4c64a5ab-8de0-4707-8da3-a0efaed6a6b8",
   "metadata": {},
   "outputs": [
    {
     "data": {
      "text/plain": [
       "{'a', 'e', 'u'}"
      ]
     },
     "execution_count": 212,
     "metadata": {},
     "output_type": "execute_result"
    }
   ],
   "source": [
    "                                                   ''' Print all Unique Vowel in string '''\n",
    "def unique_vowel_in_string(string):\n",
    "    result =set()\n",
    "    vowel={'a','e','i','o','u'}\n",
    "    for i in range(len(string)):\n",
    "        if string[i] in vowel:\n",
    "            result.add(string[i])\n",
    "\n",
    "    return result\n",
    "unique_vowel_in_string(\"anjuase\")"
   ]
  },
  {
   "cell_type": "code",
   "execution_count": null,
   "id": "0f9c0999-0a7e-4e54-a745-c76f17779a4f",
   "metadata": {},
   "outputs": [],
   "source": [
    "                                                     '''Check subarray with sum of Zero'''"
   ]
  },
  {
   "cell_type": "code",
   "execution_count": 234,
   "id": "e834a2d4-ccb2-4cdd-9318-82c16720538d",
   "metadata": {},
   "outputs": [
    {
     "data": {
      "text/plain": [
       "True"
      ]
     },
     "execution_count": 234,
     "metadata": {},
     "output_type": "execute_result"
    }
   ],
   "source": [
    "def check_subarry_with_sum_zero(li):\n",
    "    if len(li)==0:\n",
    "        return False\n",
    "    if li[0] == 0:\n",
    "        return True\n",
    "    s={li[0]}\n",
    "    prefix_sum=li[0]\n",
    "    for i in range(1,len(li)):\n",
    "        prefix_sum+=li[i]\n",
    "        if prefix_sum in s:\n",
    "            return True\n",
    "        s.add(prefix_sum)\n",
    "    return False   \n",
    "\n",
    "check_subarry_with_sum_zero([1,3,5,-5])"
   ]
  },
  {
   "cell_type": "code",
   "execution_count": 236,
   "id": "dfd4d722-3b76-4867-8636-982288fddc66",
   "metadata": {},
   "outputs": [
    {
     "name": "stdout",
     "output_type": "stream",
     "text": [
      "[1]\n"
     ]
    }
   ],
   "source": [
    "def Element(A,B):\n",
    "    A = set(A)\n",
    "    B = set(B)\n",
    "    if len(A) > len(B):\n",
    "        print (list(A-B))\n",
    "    else:\n",
    "        print (list(B-A))\n",
    "\n",
    "A = [1, 4, 5, 7, 9]\n",
    "B = [4, 5, 7, 9]\n",
    "Element(A,B)"
   ]
  },
  {
   "cell_type": "code",
   "execution_count": 240,
   "id": "77da1b74-e626-45db-b588-5eea08eaf00d",
   "metadata": {},
   "outputs": [
    {
     "name": "stdout",
     "output_type": "stream",
     "text": [
      "{'1', '0'}\n",
      "Yes\n"
     ]
    }
   ],
   "source": [
    "def check(string):\n",
    "    p = set(string)\n",
    "    s = {'0', '1'}\n",
    "    if s == p or p == {'0'} or p == {'1'}:\n",
    "        print(\"Yes\")\n",
    "    else:\n",
    "        print(\"No\")\n",
    "\n",
    "\n",
    "string = \"101010000111\"\n",
    "check(string)\n"
   ]
  },
  {
   "cell_type": "code",
   "execution_count": 9,
   "id": "1062c968-9d4d-430a-86c4-372705ba69f6",
   "metadata": {},
   "outputs": [
    {
     "name": "stdout",
     "output_type": "stream",
     "text": [
      "2\n"
     ]
    }
   ],
   "source": [
    "'''You are given a tuple of integers and a target integer. Your task is to implement a function that finds the starting index of the\n",
    "first occurrence of the target within the tuple. '''\n",
    "\n",
    "def StartingIndex(data,target):\n",
    "    for i in data:\n",
    "        if i == target:\n",
    "            return data.index(i)\n",
    "\n",
    "print(StartingIndex((1, 2, 4, 5, 5), 4))"
   ]
  },
  {
   "cell_type": "code",
   "execution_count": 266,
   "id": "f2bd9021-d07e-44e1-b624-2a4af31e22ff",
   "metadata": {},
   "outputs": [
    {
     "name": "stdout",
     "output_type": "stream",
     "text": [
      "2\n"
     ]
    }
   ],
   "source": [
    "tu=(1,2,3,5)\n",
    "print(tu.index(3))"
   ]
  },
  {
   "cell_type": "code",
   "execution_count": 7,
   "id": "1af1d5a4-7dc1-4564-8352-c0234b436087",
   "metadata": {},
   "outputs": [
    {
     "name": "stdout",
     "output_type": "stream",
     "text": [
      "2\n"
     ]
    }
   ],
   "source": [
    "def StartingIndex(data,target):\n",
    "    if target in data:\n",
    "        return data.index(target)\n",
    "\n",
    "print(StartingIndex((1, 2, 4, 5, 5), 4))"
   ]
  },
  {
   "cell_type": "code",
   "execution_count": 37,
   "id": "277b7ae7-3467-4e48-b706-c684987762b3",
   "metadata": {},
   "outputs": [
    {
     "name": "stdout",
     "output_type": "stream",
     "text": [
      "(1, 2, 3)\n"
     ]
    }
   ],
   "source": [
    "''' You are given a Python function named \"Remove_element\" which takes a tuple test_tuple as input. Your task is to implement the function to remove the last element from the tuple and return the modified\n",
    "tuple. '''\n",
    "\n",
    "def Remove_element(test_tuple):\n",
    "    r=test_tuple[len(test_tuple)-1]\n",
    "    mu_test_tuple = list(test_tuple)\n",
    "    mu_test_tuple.remove(r)\n",
    "    test_tuple = tuple(mu_test_tuple)\n",
    "    return test_tuple\n",
    "\n",
    "print(Remove_element((1,2,3,4)) )   "
   ]
  },
  {
   "cell_type": "code",
   "execution_count": 25,
   "id": "f26e3f37-a19d-4cea-be4a-219d31f0b58c",
   "metadata": {},
   "outputs": [
    {
     "name": "stdout",
     "output_type": "stream",
     "text": [
      "4\n"
     ]
    }
   ],
   "source": [
    "li=[1,2,3,4]\n",
    "li.remove(3)\n",
    "print(li[2])"
   ]
  },
  {
   "cell_type": "code",
   "execution_count": 47,
   "id": "2f05079a-b230-48dc-ad90-90ced7e7c45e",
   "metadata": {},
   "outputs": [
    {
     "name": "stdout",
     "output_type": "stream",
     "text": [
      "(1, 2, 3)\n"
     ]
    }
   ],
   "source": [
    "def Remove_element(test_tuple):\n",
    "    if len(test_tuple) > 0:\n",
    "        return test_tuple[:-1] \n",
    "    return test_tuple\n",
    "\n",
    "print(Remove_element((1,2,3,4)) ) "
   ]
  },
  {
   "cell_type": "code",
   "execution_count": 67,
   "id": "054a5a74-8fea-499d-a017-d29c60684661",
   "metadata": {},
   "outputs": [
    {
     "data": {
      "text/plain": [
       "(10, 4, 11)"
      ]
     },
     "execution_count": 67,
     "metadata": {},
     "output_type": "execute_result"
    }
   ],
   "source": [
    "                                                       '''Count vowel, consonent and space '''\n",
    "\n",
    "def countVowelsConsonantsSpaces(s : str, n : int):\n",
    "    vowel={'a','e','i','o','u','A','E','I','O','U'}\n",
    "    count=0\n",
    "    space=0\n",
    "    for i in range(n):\n",
    "        if s[i] in vowel:\n",
    "            count+=1\n",
    "        elif s[i] == \" \":\n",
    "            space+=1\n",
    "   \n",
    "    return count, space, n-count-space\n",
    "    \n",
    "countVowelsConsonantsSpaces(\"Take u forward is Awesome\",25)\n"
   ]
  },
  {
   "cell_type": "code",
   "execution_count": null,
   "id": "967adcee-99d7-4c52-8d96-3f9cfe6209da",
   "metadata": {},
   "outputs": [],
   "source": []
  }
 ],
 "metadata": {
  "kernelspec": {
   "display_name": "Python [conda env:base] *",
   "language": "python",
   "name": "conda-base-py"
  },
  "language_info": {
   "codemirror_mode": {
    "name": "ipython",
    "version": 3
   },
   "file_extension": ".py",
   "mimetype": "text/x-python",
   "name": "python",
   "nbconvert_exporter": "python",
   "pygments_lexer": "ipython3",
   "version": "3.12.7"
  }
 },
 "nbformat": 4,
 "nbformat_minor": 5
}
