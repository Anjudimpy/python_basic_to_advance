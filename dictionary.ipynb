{
 "cells": [
  {
   "cell_type": "code",
   "execution_count": 1,
   "id": "4755403b-ff23-42c3-afe7-bfcfe7de1e78",
   "metadata": {},
   "outputs": [],
   "source": [
    "social_impression={\"insatgarm\":5000,\"facebook\":2000,\"linkedIn\":3000}"
   ]
  },
  {
   "cell_type": "code",
   "execution_count": 5,
   "id": "926a407f-eee2-4d60-ac7f-4e2b78c67fc0",
   "metadata": {},
   "outputs": [
    {
     "name": "stdout",
     "output_type": "stream",
     "text": [
      "{'insatgarm': 5000, 'facebook': 2000, 'linkedIn': 3000}\n",
      "<class 'dict'>\n"
     ]
    }
   ],
   "source": [
    "print(social_impression)\n",
    "print(type(social_impression))"
   ]
  },
  {
   "cell_type": "code",
   "execution_count": 7,
   "id": "49011c31-31bd-4749-8c6a-3bfdf11dd8a4",
   "metadata": {},
   "outputs": [],
   "source": [
    "cart={\"105\":5,\"107\":4,\"11\":1}"
   ]
  },
  {
   "cell_type": "code",
   "execution_count": 9,
   "id": "eedcd853-57d2-4cdc-ab2f-8cadc3ea2681",
   "metadata": {},
   "outputs": [
    {
     "name": "stdout",
     "output_type": "stream",
     "text": [
      "{'105': 5, '107': 4, '11': 1}\n"
     ]
    }
   ],
   "source": [
    "print(cart)"
   ]
  },
  {
   "cell_type": "code",
   "execution_count": null,
   "id": "ede9003a-e579-46be-8e65-0310684e65d4",
   "metadata": {},
   "outputs": [],
   "source": [
    "                                                        ''' add and update '''"
   ]
  },
  {
   "cell_type": "code",
   "execution_count": 19,
   "id": "9c6fd463-3a76-48fb-a1ae-8032517c5540",
   "metadata": {},
   "outputs": [],
   "source": [
    "social_handel=dict()"
   ]
  },
  {
   "cell_type": "code",
   "execution_count": 21,
   "id": "e9426206-ef07-442a-a679-37f85a6cf8a1",
   "metadata": {},
   "outputs": [],
   "source": [
    "social_handel['X']=3000\n",
    "social_handel['instagram']=3000"
   ]
  },
  {
   "cell_type": "code",
   "execution_count": 23,
   "id": "a7db0c2e-889a-4f31-991a-6a84e03c0643",
   "metadata": {},
   "outputs": [
    {
     "name": "stdout",
     "output_type": "stream",
     "text": [
      "{'X': 3000, 'instagram': 3000}\n"
     ]
    }
   ],
   "source": [
    "print(social_handel)"
   ]
  },
  {
   "cell_type": "code",
   "execution_count": 25,
   "id": "b21aa72b-718c-4aee-ae7d-dfe23cb1e227",
   "metadata": {},
   "outputs": [
    {
     "name": "stdout",
     "output_type": "stream",
     "text": [
      "{'X': 4000, 'instagram': 3000}\n"
     ]
    }
   ],
   "source": [
    "social_handel['X'] =4000  #update\n",
    "print(social_handel)"
   ]
  },
  {
   "cell_type": "code",
   "execution_count": 29,
   "id": "f37da38e-1837-4fb7-8250-7d50ad502184",
   "metadata": {},
   "outputs": [
    {
     "name": "stdout",
     "output_type": "stream",
     "text": [
      "dict_keys(['X', 'instagram'])\n"
     ]
    }
   ],
   "source": [
    "print(social_handel.keys())"
   ]
  },
  {
   "cell_type": "code",
   "execution_count": 31,
   "id": "f2d6c901-ea9c-45a2-a26d-3dd9a6713111",
   "metadata": {},
   "outputs": [
    {
     "name": "stdout",
     "output_type": "stream",
     "text": [
      "dict_values([4000, 3000])\n"
     ]
    }
   ],
   "source": [
    "print(social_handel.values())"
   ]
  },
  {
   "cell_type": "code",
   "execution_count": 35,
   "id": "f157ae1d-b3ab-47d9-b958-084f028767d0",
   "metadata": {},
   "outputs": [
    {
     "name": "stdout",
     "output_type": "stream",
     "text": [
      "dict_items([('X', 4000), ('instagram', 3000)])\n"
     ]
    }
   ],
   "source": [
    "print(social_handel.items())"
   ]
  },
  {
   "cell_type": "code",
   "execution_count": 39,
   "id": "a2e53dae-f2e9-45b6-aafc-a8aaa2d4b127",
   "metadata": {},
   "outputs": [
    {
     "data": {
      "text/plain": [
       "2"
      ]
     },
     "execution_count": 39,
     "metadata": {},
     "output_type": "execute_result"
    }
   ],
   "source": [
    "len(social_handel.items())"
   ]
  },
  {
   "cell_type": "code",
   "execution_count": 41,
   "id": "541f46fd-5746-4e92-a8db-10ada37ae16c",
   "metadata": {},
   "outputs": [
    {
     "name": "stdout",
     "output_type": "stream",
     "text": [
      "4000\n"
     ]
    }
   ],
   "source": [
    "print(social_handel[\"X\"]) #search  \n",
    "                          # if item are not found throw error"
   ]
  },
  {
   "cell_type": "code",
   "execution_count": 45,
   "id": "ce369e41-09c7-4ba6-b98b-5f4085e0f475",
   "metadata": {},
   "outputs": [
    {
     "name": "stdout",
     "output_type": "stream",
     "text": [
      "4000\n"
     ]
    }
   ],
   "source": [
    "print(social_handel.get(\"X\")) # using get if items are not found"
   ]
  },
  {
   "cell_type": "code",
   "execution_count": 47,
   "id": "9f83532b-e1a6-45bb-b8d7-5df912c63dd2",
   "metadata": {},
   "outputs": [
    {
     "name": "stdout",
     "output_type": "stream",
     "text": [
      "None\n"
     ]
    }
   ],
   "source": [
    "print(social_handel.get(\"Y\"))     # using get if items are not found return None(not throw any error)"
   ]
  },
  {
   "cell_type": "code",
   "execution_count": null,
   "id": "aae380cc-8e24-48ab-86bc-8874945557bb",
   "metadata": {},
   "outputs": [],
   "source": [
    "                                                       ''' pop, del and clear dict '''\n"
   ]
  },
  {
   "cell_type": "code",
   "execution_count": 49,
   "id": "38c0bc2c-ebc7-442c-bbfc-802d36335ade",
   "metadata": {},
   "outputs": [],
   "source": [
    "cart={\"105\":5,\"107\":4,\"11\":1,\"200\":5}\n"
   ]
  },
  {
   "cell_type": "code",
   "execution_count": 51,
   "id": "a2a447e0-b6ea-47bb-ae98-e7ff8b32b44e",
   "metadata": {},
   "outputs": [
    {
     "data": {
      "text/plain": [
       "4"
      ]
     },
     "execution_count": 51,
     "metadata": {},
     "output_type": "execute_result"
    }
   ],
   "source": [
    "cart.pop(\"107\")"
   ]
  },
  {
   "cell_type": "code",
   "execution_count": 53,
   "id": "bc785411-f533-46a8-a7b3-3af5e2a92a11",
   "metadata": {},
   "outputs": [
    {
     "data": {
      "text/plain": [
       "{'105': 5, '11': 1, '200': 5}"
      ]
     },
     "execution_count": 53,
     "metadata": {},
     "output_type": "execute_result"
    }
   ],
   "source": [
    "cart"
   ]
  },
  {
   "cell_type": "code",
   "execution_count": 59,
   "id": "50886794-cf3a-459f-b3e5-21a74bab0466",
   "metadata": {},
   "outputs": [],
   "source": [
    "del cart[\"200\"]"
   ]
  },
  {
   "cell_type": "code",
   "execution_count": 61,
   "id": "c6db69c6-516f-4b54-9331-ce9e3966c787",
   "metadata": {},
   "outputs": [
    {
     "data": {
      "text/plain": [
       "{'105': 5, '11': 1}"
      ]
     },
     "execution_count": 61,
     "metadata": {},
     "output_type": "execute_result"
    }
   ],
   "source": [
    "cart"
   ]
  },
  {
   "cell_type": "code",
   "execution_count": 63,
   "id": "4adab418-07f7-4ca9-8400-09e87c1052e3",
   "metadata": {},
   "outputs": [
    {
     "data": {
      "text/plain": [
       "{}"
      ]
     },
     "execution_count": 63,
     "metadata": {},
     "output_type": "execute_result"
    }
   ],
   "source": [
    "cart.clear()\n",
    "cart"
   ]
  },
  {
   "cell_type": "code",
   "execution_count": 65,
   "id": "c069113e-146f-413a-a9d1-cdbcfe50dd15",
   "metadata": {},
   "outputs": [
    {
     "data": {
      "text/plain": [
       "dict_keys([])"
      ]
     },
     "execution_count": 65,
     "metadata": {},
     "output_type": "execute_result"
    }
   ],
   "source": [
    "cart.keys()"
   ]
  },
  {
   "cell_type": "code",
   "execution_count": 67,
   "id": "ba449bd4-e6e7-4641-8dff-d982219c88c9",
   "metadata": {},
   "outputs": [],
   "source": [
    "#Updating values for given key"
   ]
  },
  {
   "cell_type": "code",
   "execution_count": 69,
   "id": "061aa6ad-6c40-4169-840a-f9f5fc95f949",
   "metadata": {},
   "outputs": [],
   "source": [
    "cart={\"105\":5,\"107\":4,\"11\":1,\"200\":5}"
   ]
  },
  {
   "cell_type": "code",
   "execution_count": 71,
   "id": "cf31e64f-3f52-4b1f-a685-489b054cc5a6",
   "metadata": {},
   "outputs": [],
   "source": [
    "cart[\"105\"] =24"
   ]
  },
  {
   "cell_type": "code",
   "execution_count": 73,
   "id": "6450527b-1301-4114-9b12-7507ecf5a372",
   "metadata": {},
   "outputs": [
    {
     "data": {
      "text/plain": [
       "{'105': 24, '107': 4, '11': 1, '200': 5}"
      ]
     },
     "execution_count": 73,
     "metadata": {},
     "output_type": "execute_result"
    }
   ],
   "source": [
    "cart"
   ]
  },
  {
   "cell_type": "code",
   "execution_count": 83,
   "id": "2af162d4-0a36-493b-9c83-1b1608fd1732",
   "metadata": {},
   "outputs": [
    {
     "name": "stdout",
     "output_type": "stream",
     "text": [
      "2\n"
     ]
    }
   ],
   "source": [
    "d = {1:2, \"abc\":5, \"def\":7}\n",
    "print(d[1])"
   ]
  },
  {
   "cell_type": "code",
   "execution_count": 85,
   "id": "062a50a0-a6f9-4e7e-8588-1911655bd40e",
   "metadata": {},
   "outputs": [
    {
     "data": {
      "text/plain": [
       "{1: 2, 'abc': 5, 'def': 7}"
      ]
     },
     "execution_count": 85,
     "metadata": {},
     "output_type": "execute_result"
    }
   ],
   "source": [
    "d"
   ]
  },
  {
   "cell_type": "code",
   "execution_count": 91,
   "id": "09b3b203-433d-45a5-8398-89348124cbc9",
   "metadata": {},
   "outputs": [
    {
     "name": "stdout",
     "output_type": "stream",
     "text": [
      "[3, 5]\n"
     ]
    }
   ],
   "source": [
    "a = {1:2,'list':[1,2],3:5}\n",
    "a.pop('list')\n",
    "a['list'] = [3,5]\n",
    "print(a['list'])"
   ]
  },
  {
   "cell_type": "code",
   "execution_count": null,
   "id": "b2cb9bc0-a2bb-4e88-a9f5-a1380768060a",
   "metadata": {},
   "outputs": [],
   "source": [
    "                                                             '''Iteration on Dictionary '''"
   ]
  },
  {
   "cell_type": "code",
   "execution_count": 93,
   "id": "f8a6739a-991f-492c-9578-5312c539c3a8",
   "metadata": {},
   "outputs": [],
   "source": [
    "cart={'105': 24, '107': 4, '11': 1, '200': 5}"
   ]
  },
  {
   "cell_type": "code",
   "execution_count": 97,
   "id": "06c2a4d5-f63c-49a0-9fb1-07a715fbaa8c",
   "metadata": {},
   "outputs": [
    {
     "name": "stdout",
     "output_type": "stream",
     "text": [
      "105 24\n",
      "107 4\n",
      "11 1\n",
      "200 5\n"
     ]
    }
   ],
   "source": [
    "for i in cart.keys():\n",
    "    print(i, cart[i])"
   ]
  },
  {
   "cell_type": "code",
   "execution_count": 101,
   "id": "9d047467-2224-481e-ba7d-7b60754978c8",
   "metadata": {},
   "outputs": [
    {
     "name": "stdout",
     "output_type": "stream",
     "text": [
      "105 24\n",
      "107 4\n",
      "11 1\n",
      "200 5\n"
     ]
    }
   ],
   "source": [
    "for k in cart:\n",
    "    print(k, cart[k])"
   ]
  },
  {
   "cell_type": "code",
   "execution_count": 103,
   "id": "f5e8b459-110b-45ba-843d-4275590817b6",
   "metadata": {},
   "outputs": [
    {
     "name": "stdout",
     "output_type": "stream",
     "text": [
      "24\n",
      "4\n",
      "1\n",
      "5\n"
     ]
    }
   ],
   "source": [
    "for j in cart.values():\n",
    "    print(j)"
   ]
  },
  {
   "cell_type": "code",
   "execution_count": 109,
   "id": "30a4bfce-b636-42df-9897-2a1b8975f15e",
   "metadata": {},
   "outputs": [
    {
     "name": "stdout",
     "output_type": "stream",
     "text": [
      "('105', 24) 105 24\n",
      "('107', 4) 107 4\n",
      "('11', 1) 11 1\n",
      "('200', 5) 200 5\n"
     ]
    }
   ],
   "source": [
    "for pair in cart.items():\n",
    "    print(pair, pair[0], pair[1])"
   ]
  },
  {
   "cell_type": "code",
   "execution_count": 111,
   "id": "711f0421-4d28-4985-b7b5-548e3f22ba55",
   "metadata": {},
   "outputs": [],
   "source": [
    "new_cart=cart.copy()"
   ]
  },
  {
   "cell_type": "code",
   "execution_count": 113,
   "id": "5d95ec36-6549-482c-bde5-15a1415a9984",
   "metadata": {},
   "outputs": [
    {
     "data": {
      "text/plain": [
       "{'105': 24, '107': 4, '11': 1, '200': 5}"
      ]
     },
     "execution_count": 113,
     "metadata": {},
     "output_type": "execute_result"
    }
   ],
   "source": [
    "new_cart"
   ]
  },
  {
   "cell_type": "code",
   "execution_count": 115,
   "id": "cfd8b3a4-ab74-429a-be60-2dee58771e92",
   "metadata": {},
   "outputs": [
    {
     "name": "stdout",
     "output_type": "stream",
     "text": [
      "2594972986048 2594972963392\n"
     ]
    }
   ],
   "source": [
    "print(id(cart), id(new_cart))"
   ]
  },
  {
   "cell_type": "code",
   "execution_count": null,
   "id": "266dcec6-b77f-40a7-a869-245220e9369d",
   "metadata": {},
   "outputs": [],
   "source": [
    "                                                                ''' Nested Dictionary '''"
   ]
  },
  {
   "cell_type": "code",
   "execution_count": 127,
   "id": "a13e78d5-b0ed-416b-bdd4-e03a06462e47",
   "metadata": {},
   "outputs": [],
   "source": [
    "p1={\"name\":\"iphone 13\", \"price\":130000, \"company\":\"Apple\"}\n",
    "p2={\"name\":\"iphone 14\", \"price\":135000, \"company\":\"Apple\"}\n",
    "p3={\"name\":\"airpod max\", \"price\":6000, \"company\":\"Apple\"}"
   ]
  },
  {
   "cell_type": "code",
   "execution_count": 129,
   "id": "920a41e6-f0cc-4a83-8845-7ed55817595a",
   "metadata": {},
   "outputs": [
    {
     "data": {
      "text/plain": [
       "list[{'name': 'iphone 13', 'price': 130000, 'company': 'Apple'}, {'name': 'iphone 14', 'price': 135000, 'company': 'Apple'}, {'name': 'airpod max', 'price': 6000, 'company': 'Apple'}]"
      ]
     },
     "execution_count": 129,
     "metadata": {},
     "output_type": "execute_result"
    }
   ],
   "source": [
    "list[p1,p2,p3]"
   ]
  },
  {
   "cell_type": "code",
   "execution_count": 135,
   "id": "0328fbad-6d76-4a94-9b94-e5ae90a24756",
   "metadata": {},
   "outputs": [],
   "source": [
    "nested_product={\"iphone 13\":p1, \"iphone 14\":p2, \"airpod max\":p3}"
   ]
  },
  {
   "cell_type": "code",
   "execution_count": 137,
   "id": "d6fab6ae-69eb-4a23-958f-dedfff438dd9",
   "metadata": {},
   "outputs": [
    {
     "name": "stdout",
     "output_type": "stream",
     "text": [
      "{'iphone 13': {'name': 'iphone 13', 'price': 130000, 'company': 'Apple'}, 'iphone 14': {'name': 'iphone 14', 'price': 135000, 'company': 'Apple'}, 'airpod max': {'name': 'airpod max', 'price': 6000, 'company': 'Apple'}}\n"
     ]
    }
   ],
   "source": [
    "print(nested_product)"
   ]
  },
  {
   "cell_type": "code",
   "execution_count": 139,
   "id": "ea6bcc31-ca2c-464f-81be-dc122bd60694",
   "metadata": {},
   "outputs": [
    {
     "data": {
      "text/plain": [
       "dict_keys(['iphone 13', 'iphone 14', 'airpod max'])"
      ]
     },
     "execution_count": 139,
     "metadata": {},
     "output_type": "execute_result"
    }
   ],
   "source": [
    "nested_product.keys()"
   ]
  },
  {
   "cell_type": "code",
   "execution_count": 141,
   "id": "1341b682-ff81-45dc-beb0-d86e9e4ae446",
   "metadata": {},
   "outputs": [
    {
     "data": {
      "text/plain": [
       "dict_values([{'name': 'iphone 13', 'price': 130000, 'company': 'Apple'}, {'name': 'iphone 14', 'price': 135000, 'company': 'Apple'}, {'name': 'airpod max', 'price': 6000, 'company': 'Apple'}])"
      ]
     },
     "execution_count": 141,
     "metadata": {},
     "output_type": "execute_result"
    }
   ],
   "source": [
    "nested_product.values()"
   ]
  },
  {
   "cell_type": "code",
   "execution_count": 143,
   "id": "dd26b7b3-2a40-4c2f-9045-50077824818c",
   "metadata": {},
   "outputs": [
    {
     "data": {
      "text/plain": [
       "dict_items([('iphone 13', {'name': 'iphone 13', 'price': 130000, 'company': 'Apple'}), ('iphone 14', {'name': 'iphone 14', 'price': 135000, 'company': 'Apple'}), ('airpod max', {'name': 'airpod max', 'price': 6000, 'company': 'Apple'})])"
      ]
     },
     "execution_count": 143,
     "metadata": {},
     "output_type": "execute_result"
    }
   ],
   "source": [
    "nested_product.items()"
   ]
  },
  {
   "cell_type": "code",
   "execution_count": 145,
   "id": "1ed71342-004a-468a-9380-cc4d0fa755e9",
   "metadata": {},
   "outputs": [
    {
     "name": "stdout",
     "output_type": "stream",
     "text": [
      "3\n"
     ]
    }
   ],
   "source": [
    "nested_dict = {'a': {'x': 1, 'y': 2}, 'b': {'x': 3, 'y': 4}}\n",
    "print(nested_dict['b']['x'])"
   ]
  },
  {
   "cell_type": "code",
   "execution_count": null,
   "id": "8c8b37fe-f4fa-4bec-915c-b757fca12c9c",
   "metadata": {},
   "outputs": [],
   "source": [
    "                                               ''' Duplicate character '''"
   ]
  },
  {
   "cell_type": "code",
   "execution_count": 166,
   "id": "2f89ffbb-2f01-4c7f-af0d-0c1dbffa7186",
   "metadata": {},
   "outputs": [
    {
     "name": "stdout",
     "output_type": "stream",
     "text": [
      "{'c': 1, 'o': 2, 'm': 1, 'b': 1, 'i': 2, 'n': 2, 'a': 1, 't': 1}\n",
      "o i n "
     ]
    }
   ],
   "source": [
    "def duplicate_characters(inp):\n",
    "    freq_map={}\n",
    "    for i in range(len(inp)):\n",
    "        if inp[i] in freq_map:\n",
    "            freq_map[inp[i]]+=1\n",
    "\n",
    "        else:\n",
    "            freq_map[inp[i]]=1\n",
    "\n",
    "    print(freq_map)\n",
    "    # for (key,value) in freq_map.items():\n",
    "    #     if value>1:\n",
    "    #         print(key,end=\" \")\n",
    "\n",
    "    for i in freq_map:\n",
    "        if freq_map[i]>1:\n",
    "            print(i,end=\" \")\n",
    "\n",
    "duplicate_characters(\"combination\")"
   ]
  },
  {
   "cell_type": "code",
   "execution_count": 251,
   "id": "19fc5d63-ce20-49de-866f-8b5485bd3be3",
   "metadata": {},
   "outputs": [
    {
     "name": "stdout",
     "output_type": "stream",
     "text": [
      "3\n"
     ]
    }
   ],
   "source": [
    "                                               ''' Duplicate Number '''\n",
    "def find_duplicate(arr):\n",
    "    dup_num = {}\n",
    "    for i in range(len(arr)):\n",
    "        if arr[i] in dup_num:\n",
    "            dup_num[arr[i]] +=1\n",
    "        else:\n",
    "            dup_num[arr[i]] = 1\n",
    "    for j in dup_num:\n",
    "        if dup_num[j] >1:\n",
    "            print(j)\n",
    "\n",
    "find_duplicate([1,2,3,3])\n",
    "    "
   ]
  },
  {
   "cell_type": "code",
   "execution_count": 176,
   "id": "de769e4e-cce4-4db1-b86a-28c5c5b34bf7",
   "metadata": {},
   "outputs": [
    {
     "name": "stdout",
     "output_type": "stream",
     "text": [
      "['i', 'am', 'good']\n"
     ]
    }
   ],
   "source": [
    "i=\"i am good\"\n",
    "print(i.split())"
   ]
  },
  {
   "cell_type": "code",
   "execution_count": null,
   "id": "4bbaff2b-b999-41db-abe9-22c1aa18f9ac",
   "metadata": {},
   "outputs": [],
   "source": [
    "                                                   ''' Print all word with frequency k '''"
   ]
  },
  {
   "cell_type": "code",
   "execution_count": 10,
   "id": "ac7565d4-2799-44c8-815e-785c2cdeb116",
   "metadata": {},
   "outputs": [
    {
     "name": "stdout",
     "output_type": "stream",
     "text": [
      "is a book "
     ]
    }
   ],
   "source": [
    "def word_freq_with_k(inp,k):\n",
    "    li=inp.split()\n",
    "    word_freq={}\n",
    "    for i in range(len(li)):\n",
    "        if li[i] in word_freq:\n",
    "            word_freq[li[i]] +=1\n",
    "        else:\n",
    "            word_freq[li[i]]=1\n",
    "\n",
    "    for i in word_freq:\n",
    "        if word_freq[i] == k:\n",
    "            print(i,end=\" \")\n",
    "            \n",
    "\n",
    "word_freq_with_k(\"this is a book it is a book\",2)\n",
    "            "
   ]
  },
  {
   "cell_type": "code",
   "execution_count": 38,
   "id": "fe68e605-0896-4dfa-b81c-24825d054259",
   "metadata": {},
   "outputs": [
    {
     "data": {
      "text/plain": [
       "False"
      ]
     },
     "execution_count": 38,
     "metadata": {},
     "output_type": "execute_result"
    }
   ],
   "source": [
    "def anagramPairs(n: int, m: int, s: str, t: str):\n",
    "    if n != m:\n",
    "        return False\n",
    "    d1 = {}\n",
    "    for i in range(n):\n",
    "        if s[i] in d1:\n",
    "            d1[s[i]]+=1\n",
    "        else:\n",
    "            d1[s[i]]=1\n",
    "    d2 = {}\n",
    "    for j in range(m):\n",
    "        if t[j] in d2:\n",
    "            d2[t[j]]+=1\n",
    "        else:\n",
    "            d2[t[j]]=1\n",
    "\n",
    "    # print(d1,d2)\n",
    "    if len(d1) != len(d2):\n",
    "        return False\n",
    "    for key in d1:\n",
    "        # print(d1[key],key)\n",
    "        if key in d2 and d1[key] == d2[key]:\n",
    "            # print(key, d1[key], d2[key])\n",
    "            continue\n",
    "        else:\n",
    "            return False\n",
    "    return True        \n",
    "            \n",
    "            \n",
    "n=4\n",
    "m=4\n",
    "s=\"fivs\"\n",
    "t=\"vife\"\n",
    "anagramPairs(n, m, s, t)    \n"
   ]
  },
  {
   "cell_type": "code",
   "execution_count": null,
   "id": "c794f983-4dae-4c51-a9b6-3ffefc2b9068",
   "metadata": {},
   "outputs": [],
   "source": [
    "''' Return true if these strings form an anagram pair, else return false. The strings form an anagram pair if letters of one string can be \n",
    "rearranged to form another string.  '''"
   ]
  },
  {
   "cell_type": "code",
   "execution_count": 42,
   "id": "0fdf7a91-725d-459d-981a-6d9ba860aacd",
   "metadata": {},
   "outputs": [
    {
     "data": {
      "text/plain": [
       "1"
      ]
     },
     "execution_count": 42,
     "metadata": {},
     "output_type": "execute_result"
    }
   ],
   "source": [
    "                                                      ''' Unique Element '''\n",
    "\n",
    "def find_unique_element(arr):\n",
    "    uni={}\n",
    "    for i in range(len(arr)):\n",
    "        if arr[i] in uni:\n",
    "            uni[arr[i]] +=1\n",
    "        else:\n",
    "            uni[arr[i]] = 1\n",
    "\n",
    "    for key in uni:\n",
    "        if uni[key]==1:\n",
    "            return key\n",
    "\n",
    "find_unique_element([2,1,3,4,2,3,4])\n",
    "            "
   ]
  },
  {
   "cell_type": "code",
   "execution_count": null,
   "id": "e9389b1b-ab12-4d11-80e7-17e0c4d095ba",
   "metadata": {},
   "outputs": [],
   "source": [
    "''' You are given an array of integers that contain numbers in random order. Write a program to find and return the number which occurs the maximum \n",
    "times in the given input.\n",
    "\n",
    "If two or more elements are having the maximum frequency, return the element which occurs in the array first.'''"
   ]
  },
  {
   "cell_type": "code",
   "execution_count": 67,
   "id": "3fed011b-f9dd-435a-9dfa-cf4204f64763",
   "metadata": {},
   "outputs": [
    {
     "data": {
      "text/plain": [
       "2"
      ]
     },
     "execution_count": 67,
     "metadata": {},
     "output_type": "execute_result"
    }
   ],
   "source": [
    "def maxfreq(arr):\n",
    "    max_fre={}\n",
    "    max_value=0\n",
    "    key=0\n",
    "    for i in arr:\n",
    "        if i in max_fre:\n",
    "            max_fre[i] +=1\n",
    "        else:\n",
    "            max_fre[i] =1\n",
    "\n",
    "    for i in max_fre:\n",
    "        if max_fre[i] > max_value:\n",
    "            max_value=max_fre[i]\n",
    "            key = i\n",
    "    return key        \n",
    "maxfreq([7, 2, 2, 4, 8, 4])"
   ]
  },
  {
   "cell_type": "code",
   "execution_count": 89,
   "id": "3f0c2bbe-d643-4ad6-9265-497874017117",
   "metadata": {},
   "outputs": [
    {
     "data": {
      "text/plain": [
       "3"
      ]
     },
     "execution_count": 89,
     "metadata": {},
     "output_type": "execute_result"
    }
   ],
   "source": [
    "def majority_element(arr):\n",
    "    maj_ele={}\n",
    "    max_value=0\n",
    "\n",
    "    for i in arr:\n",
    "        if i in  maj_ele:\n",
    "             maj_ele[i] +=1\n",
    "        else:\n",
    "             maj_ele[i] =1\n",
    "\n",
    "    for i in  maj_ele:\n",
    "        if  maj_ele[i] >len(arr)//2:\n",
    "            max_value = i\n",
    "    return  max_value   \n",
    "\n",
    "majority_element([2, 2, 3,3,3])    \n",
    "            "
   ]
  },
  {
   "cell_type": "code",
   "execution_count": null,
   "id": "9159250a-db4a-4eac-98ba-de20ce3b5641",
   "metadata": {},
   "outputs": [],
   "source": []
  }
 ],
 "metadata": {
  "kernelspec": {
   "display_name": "Python [conda env:base] *",
   "language": "python",
   "name": "conda-base-py"
  },
  "language_info": {
   "codemirror_mode": {
    "name": "ipython",
    "version": 3
   },
   "file_extension": ".py",
   "mimetype": "text/x-python",
   "name": "python",
   "nbconvert_exporter": "python",
   "pygments_lexer": "ipython3",
   "version": "3.12.7"
  }
 },
 "nbformat": 4,
 "nbformat_minor": 5
}
