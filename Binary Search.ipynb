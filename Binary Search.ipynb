{
 "cells": [
  {
   "cell_type": "code",
   "execution_count": 52,
   "id": "4de96eeb-5806-4c1d-a3fa-1c02d56ad4d1",
   "metadata": {},
   "outputs": [],
   "source": [
    "def search(nums: [int], target: int):\n",
    "    n=len(nums)\n",
    "    s=0\n",
    "    e=n-1\n",
    "    while s <= e:\n",
    "        m=(s+e)//2\n",
    "        if target == nums[m]:\n",
    "            return m\n",
    "        elif target < nums[m]:\n",
    "            e = m-1\n",
    "        else:\n",
    "            s=m+1\n",
    "    return None  \n",
    "        \n",
    "\n",
    "search([1, 3, 7, 9, 11, 12, 45], 29)"
   ]
  },
  {
   "cell_type": "code",
   "execution_count": 116,
   "id": "0531ddc5-31fa-4716-9247-a49172f71472",
   "metadata": {},
   "outputs": [
    {
     "data": {
      "text/plain": [
       "5"
      ]
     },
     "execution_count": 116,
     "metadata": {},
     "output_type": "execute_result"
    }
   ],
   "source": [
    "def lowerBound(arr: [int], n: int, x: int):\n",
    "    # Write your code here\n",
    "\n",
    "    s=0\n",
    "    e=n-1\n",
    "    ans=n\n",
    "    while s<=e:\n",
    "        mid=(s+e)//2\n",
    "        # print(mid)\n",
    "        if arr[mid]>=x:\n",
    "            ans = mid\n",
    "            e=mid-1\n",
    "        else:\n",
    "            s = mid + 1    \n",
    "\n",
    "    return ans \n",
    "\n",
    "lowerBound([1, 2, 2, 3, 3, 5],6,4)"
   ]
  },
  {
   "cell_type": "code",
   "execution_count": 1,
   "id": "daa57559-57c4-4763-b19b-e3bc1cb147d3",
   "metadata": {},
   "outputs": [
    {
     "data": {
      "text/plain": [
       "2"
      ]
     },
     "execution_count": 1,
     "metadata": {},
     "output_type": "execute_result"
    }
   ],
   "source": [
    "''' You are given a positive integer ‘N’. Your task is to find and return its square root. If ‘N’ is not a perfect square, then return the floor \n",
    "value of sqrt(N).'''\n",
    "\n",
    "def squareroot(n):\n",
    "      return int(n**0.5)\n",
    "\n",
    "squareroot(8)"
   ]
  },
  {
   "cell_type": "code",
   "execution_count": null,
   "id": "ca67df38-60dd-4171-94f1-20d3a481e214",
   "metadata": {},
   "outputs": [],
   "source": [
    "def squareroot(n):\n",
    "    s=0\n",
    "    e=n\n",
    "    ans=0\n",
    "    while s<=e:\n",
    "        m =(s+e)//2\n",
    "        if m*m <= n:\n",
    "            ans = m\n",
    "            s= m+1\n",
    "        else:\n",
    "            e=m-1\n",
    "    return ans      \n",
    "squareroot(16)       "
   ]
  },
  {
   "cell_type": "code",
   "execution_count": null,
   "id": "1aceb9ca-e29d-4f8f-92a1-0397d1948753",
   "metadata": {},
   "outputs": [],
   "source": [
    "''' You are given a 2-D matrix of dimensions 'N' x 'M', each row of the matrix is sorted in non-decreasing order, and each column is sorted in \n",
    "non-decreasing order.'''"
   ]
  },
  {
   "cell_type": "code",
   "execution_count": 11,
   "id": "c6018ca8-e3b0-4e36-8c35-365db5dd628a",
   "metadata": {},
   "outputs": [
    {
     "data": {
      "text/plain": [
       "True"
      ]
     },
     "execution_count": 11,
     "metadata": {},
     "output_type": "execute_result"
    }
   ],
   "source": [
    "def findInMatrix(target, grid):\n",
    "    # write your code logic here !!!\n",
    "    m = len(grid)\n",
    "    n = len(grid[0])  \n",
    "    s = 0\n",
    "    e = m * n - 1\n",
    "\n",
    "    while s <= e:\n",
    "        mid = s + (e - s) // 2\n",
    "        row = mid // n  \n",
    "        col = mid % n  \n",
    "        ele = grid[row][col]\n",
    "\n",
    "        if ele == target:\n",
    "            return True\n",
    "        elif target < ele:\n",
    "            e = mid - 1\n",
    "        else:\n",
    "            s = mid + 1 \n",
    "\n",
    "    return False \n",
    "        \n",
    "\n",
    "findInMatrix(13, [[1,3,5], [7,9,10], [12,13,14], [20,25,27]])"
   ]
  },
  {
   "cell_type": "code",
   "execution_count": null,
   "id": "37438bb9-ab39-417c-a0b9-2598e48a0e00",
   "metadata": {},
   "outputs": [],
   "source": [
    "'''Aahad and Harshit always have fun by solving problems. Harshit took a sorted array consisting of distinct integers and rotated it clockwise by an\n",
    "unknown amount. For example, he took a sorted array = [1, 2, 3, 4, 5] and if he rotates it by 2, then the array becomes: [4, 5, 1, 2, 3].\n",
    "After rotating a sorted array, Aahad needs to answer Q queries asked by Harshit, each of them is described by one integer Q[i]. which Harshit \n",
    "wanted him to search in the array. For each query, if he found it, he had to shout the index of the number, otherwise, he had to shout -1.\n",
    "For each query, you have to complete the given method where 'key' denotes Q[i]. If the key exists in the array, return the index of the 'key',\n",
    "otherwise, return -1.'''"
   ]
  },
  {
   "cell_type": "code",
   "execution_count": 25,
   "id": "ce930497-b42c-4e07-8dee-335188bab432",
   "metadata": {},
   "outputs": [
    {
     "data": {
      "text/plain": [
       "2"
      ]
     },
     "execution_count": 25,
     "metadata": {},
     "output_type": "execute_result"
    }
   ],
   "source": [
    "''' Brute Froce Approch '''\n",
    "def search(arr, target) :\n",
    "    for i in range(len(arr)):\n",
    "        if target == arr[i]:\n",
    "            return i\n",
    "\n",
    "search([100, -2, 6, 10, 11],6)\n",
    "    "
   ]
  },
  {
   "cell_type": "code",
   "execution_count": 48,
   "id": "b84641dd-165c-4455-8e87-2f7ad6154269",
   "metadata": {},
   "outputs": [
    {
     "data": {
      "text/plain": [
       "2"
      ]
     },
     "execution_count": 48,
     "metadata": {},
     "output_type": "execute_result"
    }
   ],
   "source": [
    "''' Using Binary Search '''\n",
    "def search(arr, target) :\n",
    "    start = 0\n",
    "    end = len(arr) - 1\n",
    "\n",
    "    while start <= end:\n",
    "        mid = (start + end) // 2\n",
    "\n",
    "        if arr[mid] == target:\n",
    "            return mid\n",
    "\n",
    "        if arr[start] > arr[mid]:\n",
    "            if arr[mid] <= target <= arr[end]:\n",
    "                 start = mid + 1\n",
    "            else:\n",
    "          \n",
    "                end = mid - 1\n",
    "        else:\n",
    "            if arr[start] <= target <= arr[mid]:\n",
    "              \n",
    "                end = mid - 1\n",
    "            else:\n",
    "         \n",
    "                start = mid + 1\n",
    "\n",
    "    return -1\n",
    "search([3,1,2],2)"
   ]
  },
  {
   "cell_type": "code",
   "execution_count": 123,
   "id": "282536a8-9a72-4fef-932d-8bb54d0a8e47",
   "metadata": {},
   "outputs": [
    {
     "data": {
      "text/plain": [
       "3"
      ]
     },
     "execution_count": 123,
     "metadata": {},
     "output_type": "execute_result"
    }
   ],
   "source": [
    "def upperBound(arr: [int], x: int, n: int):\n",
    "    s=0\n",
    "    e= n-1\n",
    "    ans=n\n",
    "    while s<=e:\n",
    "        mid=(s+e)//2\n",
    "        if arr[mid] > x:\n",
    "            ans = mid\n",
    "            e = mid-1\n",
    "        else:\n",
    "            s=mid+1\n",
    "    return ans       \n",
    "upperBound([1, 5, 5, 7, 7, 9, 10],5,7)"
   ]
  },
  {
   "cell_type": "code",
   "execution_count": 180,
   "id": "6fa567c5-ca8c-4a6f-a5a8-7c62c12e3d4f",
   "metadata": {},
   "outputs": [
    {
     "data": {
      "text/plain": [
       "1"
      ]
     },
     "execution_count": 180,
     "metadata": {},
     "output_type": "execute_result"
    }
   ],
   "source": [
    "def searchInsert(arr: [int], m: int) -> int:\n",
    "    # Write your code here.\n",
    "    if len(arr) == 0:\n",
    "        return 0\n",
    "\n",
    "    s=0\n",
    "    e=len(arr) - 1\n",
    "    t = -1\n",
    "    if m < arr[s]:\n",
    "        arr.append(m)\n",
    "        return s\n",
    "    if m>arr[e]:\n",
    "        arr.append(m)\n",
    "        return len(arr)-1\n",
    "    while s<=e:\n",
    "        mid = (s+e)//2\n",
    "      \n",
    "        if arr[mid]>=m:\n",
    "            t= mid\n",
    "            e=mid-1\n",
    "        else:\n",
    "            s=mid+1\n",
    "    if arr[t]== m:\n",
    "        return t\n",
    "    else:\n",
    "        arr.append(m)\n",
    "        arr.sort()\n",
    "        return t\n",
    "        \n",
    "    \n",
    "searchInsert([1,2,4,7],2)\n"
   ]
  },
  {
   "cell_type": "code",
   "execution_count": 131,
   "id": "9b981bc1-7aea-4317-b7d3-12eb37c8d299",
   "metadata": {},
   "outputs": [
    {
     "name": "stdout",
     "output_type": "stream",
     "text": [
      "[2, 1, 2, 3, 4]\n"
     ]
    }
   ],
   "source": [
    "li=[21,2,3]\n",
    "li.append(4)\n",
    "print(li)"
   ]
  },
  {
   "cell_type": "code",
   "execution_count": null,
   "id": "1ec5cf65-e371-4062-ad29-86f9bfb81c48",
   "metadata": {},
   "outputs": [],
   "source": []
  }
 ],
 "metadata": {
  "kernelspec": {
   "display_name": "Python [conda env:base] *",
   "language": "python",
   "name": "conda-base-py"
  },
  "language_info": {
   "codemirror_mode": {
    "name": "ipython",
    "version": 3
   },
   "file_extension": ".py",
   "mimetype": "text/x-python",
   "name": "python",
   "nbconvert_exporter": "python",
   "pygments_lexer": "ipython3",
   "version": "3.12.7"
  }
 },
 "nbformat": 4,
 "nbformat_minor": 5
}
