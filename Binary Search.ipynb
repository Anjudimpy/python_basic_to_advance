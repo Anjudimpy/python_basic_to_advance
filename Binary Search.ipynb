{
 "cells": [
  {
   "cell_type": "code",
   "execution_count": 52,
   "id": "4de96eeb-5806-4c1d-a3fa-1c02d56ad4d1",
   "metadata": {},
   "outputs": [],
   "source": [
    "def search(nums: [int], target: int):\n",
    "    n=len(nums)\n",
    "    s=0\n",
    "    e=n-1\n",
    "    while s <= e:\n",
    "        m=(s+e)//2\n",
    "        if target == nums[m]:\n",
    "            return m\n",
    "        elif target < nums[m]:\n",
    "            e = m-1\n",
    "        else:\n",
    "            s=m+1\n",
    "    return None  \n",
    "        \n",
    "\n",
    "search([1, 3, 7, 9, 11, 12, 45], 29)"
   ]
  },
  {
   "cell_type": "code",
   "execution_count": 116,
   "id": "0531ddc5-31fa-4716-9247-a49172f71472",
   "metadata": {},
   "outputs": [
    {
     "data": {
      "text/plain": [
       "5"
      ]
     },
     "execution_count": 116,
     "metadata": {},
     "output_type": "execute_result"
    }
   ],
   "source": [
    "def lowerBound(arr: [int], n: int, x: int):\n",
    "    # Write your code here\n",
    "\n",
    "    s=0\n",
    "    e=n-1\n",
    "    ans=n\n",
    "    while s<=e:\n",
    "        mid=(s+e)//2\n",
    "        # print(mid)\n",
    "        if arr[mid]>=x:\n",
    "            ans = mid\n",
    "            e=mid-1\n",
    "        else:\n",
    "            s = mid + 1    \n",
    "\n",
    "    return ans \n",
    "\n",
    "lowerBound([1, 2, 2, 3, 3, 5],6,4)"
   ]
  },
  {
   "cell_type": "code",
   "execution_count": 1,
   "id": "daa57559-57c4-4763-b19b-e3bc1cb147d3",
   "metadata": {},
   "outputs": [
    {
     "data": {
      "text/plain": [
       "2"
      ]
     },
     "execution_count": 1,
     "metadata": {},
     "output_type": "execute_result"
    }
   ],
   "source": [
    "''' You are given a positive integer ‘N’. Your task is to find and return its square root. If ‘N’ is not a perfect square, then return the floor \n",
    "value of sqrt(N).'''\n",
    "\n",
    "def squareroot(n):\n",
    "      return int(n**0.5)\n",
    "\n",
    "squareroot(8)"
   ]
  },
  {
   "cell_type": "code",
   "execution_count": null,
   "id": "ca67df38-60dd-4171-94f1-20d3a481e214",
   "metadata": {},
   "outputs": [],
   "source": [
    "def squareroot(n):\n",
    "    s=0\n",
    "    e=n\n",
    "    ans=0\n",
    "    while s<=e:\n",
    "        m =(s+e)//2\n",
    "        if m*m <= n:\n",
    "            ans = m\n",
    "            s= m+1\n",
    "        else:\n",
    "            e=m-1\n",
    "    return ans      \n",
    "squareroot(16)       "
   ]
  },
  {
   "cell_type": "code",
   "execution_count": null,
   "id": "1aceb9ca-e29d-4f8f-92a1-0397d1948753",
   "metadata": {},
   "outputs": [],
   "source": [
    "''' You are given a 2-D matrix of dimensions 'N' x 'M', each row of the matrix is sorted in non-decreasing order, and each column is sorted in \n",
    "non-decreasing order.'''"
   ]
  },
  {
   "cell_type": "code",
   "execution_count": 11,
   "id": "c6018ca8-e3b0-4e36-8c35-365db5dd628a",
   "metadata": {},
   "outputs": [
    {
     "data": {
      "text/plain": [
       "True"
      ]
     },
     "execution_count": 11,
     "metadata": {},
     "output_type": "execute_result"
    }
   ],
   "source": [
    "def findInMatrix(target, grid):\n",
    "    # write your code logic here !!!\n",
    "    m = len(grid)\n",
    "    n = len(grid[0])  \n",
    "    s = 0\n",
    "    e = m * n - 1\n",
    "\n",
    "    while s <= e:\n",
    "        mid = s + (e - s) // 2\n",
    "        row = mid // n  \n",
    "        col = mid % n  \n",
    "        ele = grid[row][col]\n",
    "\n",
    "        if ele == target:\n",
    "            return True\n",
    "        elif target < ele:\n",
    "            e = mid - 1\n",
    "        else:\n",
    "            s = mid + 1 \n",
    "\n",
    "    return False \n",
    "        \n",
    "\n",
    "findInMatrix(13, [[1,3,5], [7,9,10], [12,13,14], [20,25,27]])"
   ]
  },
  {
   "cell_type": "code",
   "execution_count": null,
   "id": "37438bb9-ab39-417c-a0b9-2598e48a0e00",
   "metadata": {},
   "outputs": [],
   "source": [
    "'''Aahad and Harshit always have fun by solving problems. Harshit took a sorted array consisting of distinct integers and rotated it clockwise by an\n",
    "unknown amount. For example, he took a sorted array = [1, 2, 3, 4, 5] and if he rotates it by 2, then the array becomes: [4, 5, 1, 2, 3].\n",
    "After rotating a sorted array, Aahad needs to answer Q queries asked by Harshit, each of them is described by one integer Q[i]. which Harshit \n",
    "wanted him to search in the array. For each query, if he found it, he had to shout the index of the number, otherwise, he had to shout -1.\n",
    "For each query, you have to complete the given method where 'key' denotes Q[i]. If the key exists in the array, return the index of the 'key',\n",
    "otherwise, return -1.'''"
   ]
  },
  {
   "cell_type": "code",
   "execution_count": 25,
   "id": "ce930497-b42c-4e07-8dee-335188bab432",
   "metadata": {},
   "outputs": [
    {
     "data": {
      "text/plain": [
       "2"
      ]
     },
     "execution_count": 25,
     "metadata": {},
     "output_type": "execute_result"
    }
   ],
   "source": [
    "''' Brute Froce Approch '''\n",
    "def search(arr, target) :\n",
    "    for i in range(len(arr)):\n",
    "        if target == arr[i]:\n",
    "            return i\n",
    "\n",
    "search([100, -2, 6, 10, 11],6)\n",
    "    "
   ]
  },
  {
   "cell_type": "code",
   "execution_count": 48,
   "id": "b84641dd-165c-4455-8e87-2f7ad6154269",
   "metadata": {},
   "outputs": [
    {
     "data": {
      "text/plain": [
       "2"
      ]
     },
     "execution_count": 48,
     "metadata": {},
     "output_type": "execute_result"
    }
   ],
   "source": [
    "''' Using Binary Search '''\n",
    "def search(arr, target) :\n",
    "    start = 0\n",
    "    end = len(arr) - 1\n",
    "\n",
    "    while start <= end:\n",
    "        mid = (start + end) // 2\n",
    "\n",
    "        if arr[mid] == target:\n",
    "            return mid\n",
    "\n",
    "        if arr[start] > arr[mid]:\n",
    "            if arr[mid] <= target <= arr[end]:\n",
    "                 start = mid + 1\n",
    "            else:\n",
    "          \n",
    "                end = mid - 1\n",
    "        else:\n",
    "            if arr[start] <= target <= arr[mid]:\n",
    "              \n",
    "                end = mid - 1\n",
    "            else:\n",
    "         \n",
    "                start = mid + 1\n",
    "\n",
    "    return -1\n",
    "search([3,1,2],2)"
   ]
  },
  {
   "cell_type": "code",
   "execution_count": 123,
   "id": "282536a8-9a72-4fef-932d-8bb54d0a8e47",
   "metadata": {},
   "outputs": [
    {
     "data": {
      "text/plain": [
       "3"
      ]
     },
     "execution_count": 123,
     "metadata": {},
     "output_type": "execute_result"
    }
   ],
   "source": [
    "def upperBound(arr: [int], x: int, n: int):\n",
    "    s=0\n",
    "    e= n-1\n",
    "    ans=n\n",
    "    while s<=e:\n",
    "        mid=(s+e)//2\n",
    "        if arr[mid] > x:\n",
    "            ans = mid\n",
    "            e = mid-1\n",
    "        else:\n",
    "            s=mid+1\n",
    "    return ans       \n",
    "upperBound([1, 5, 5, 7, 7, 9, 10],5,7)"
   ]
  },
  {
   "cell_type": "code",
   "execution_count": 180,
   "id": "6fa567c5-ca8c-4a6f-a5a8-7c62c12e3d4f",
   "metadata": {},
   "outputs": [
    {
     "data": {
      "text/plain": [
       "1"
      ]
     },
     "execution_count": 180,
     "metadata": {},
     "output_type": "execute_result"
    }
   ],
   "source": [
    "def searchInsert(arr: [int], m: int) -> int:\n",
    "    # Write your code here.\n",
    "    if len(arr) == 0:\n",
    "        return 0\n",
    "\n",
    "    s=0\n",
    "    e=len(arr) - 1\n",
    "    t = -1\n",
    "    if m < arr[s]:\n",
    "        arr.append(m)\n",
    "        return s\n",
    "    if m>arr[e]:\n",
    "        arr.append(m)\n",
    "        return len(arr)-1\n",
    "    while s<=e:\n",
    "        mid = (s+e)//2\n",
    "      \n",
    "        if arr[mid]>=m:\n",
    "            t= mid\n",
    "            e=mid-1\n",
    "        else:\n",
    "            s=mid+1\n",
    "    if arr[t]== m:\n",
    "        return t\n",
    "    else:\n",
    "        arr.append(m)\n",
    "        arr.sort()\n",
    "        return t\n",
    "        \n",
    "    \n",
    "searchInsert([1,2,4,7],2)\n"
   ]
  },
  {
   "cell_type": "code",
   "execution_count": 3,
   "id": "9b981bc1-7aea-4317-b7d3-12eb37c8d299",
   "metadata": {},
   "outputs": [
    {
     "name": "stdout",
     "output_type": "stream",
     "text": [
      "[21, 2, 3, 4]\n"
     ]
    }
   ],
   "source": [
    "li=[21,2,3]\n",
    "li.append(4)\n",
    "print(li)"
   ]
  },
  {
   "cell_type": "code",
   "execution_count": null,
   "id": "729ad6cb-eb84-41b9-99e2-0e3cd3214e74",
   "metadata": {},
   "outputs": [],
   "source": [
    "'''You are given a non-decreasing array 'arr' consisting of 'n' integers and an integer 'x'. You need to find the first and last position of \n",
    "'x' in the array.\n",
    "Note:\n",
    "1. The array follows 0-based indexing, so you need to return 0-based indices.\n",
    "2. If 'x' is not present in the array, return {-1 -1}.\n",
    "3. If 'x' is only present once in the array, the first and last position of its occurrence will be the same.'''"
   ]
  },
  {
   "cell_type": "code",
   "execution_count": 70,
   "id": "1ec5cf65-e371-4062-ad29-86f9bfb81c48",
   "metadata": {},
   "outputs": [
    {
     "name": "stdin",
     "output_type": "stream",
     "text": [
      " -10 -5 -5 -5 2\n",
      " -5\n"
     ]
    },
    {
     "data": {
      "text/plain": [
       "(1, 3)"
      ]
     },
     "execution_count": 70,
     "metadata": {},
     "output_type": "execute_result"
    }
   ],
   "source": [
    "def searchRange(arr: [int], x: int):\n",
    "    s=0 \n",
    "    e=len(arr)-1\n",
    "    f,l= -1,-1 \n",
    "    while s<=e:\n",
    "        m=(s+e)//2\n",
    "        if arr[m] == x:\n",
    "            f=m\n",
    "            e= m-1\n",
    "        else:\n",
    "            if arr[m]>x:\n",
    "                e=m-1\n",
    "            else:\n",
    "                s=m+1\n",
    "    s=0 \n",
    "    e=len(arr)-1            \n",
    "    while s<=e:\n",
    "        m=(s+e)//2\n",
    "        if arr[m] == x:\n",
    "            l=m\n",
    "            s= m+1\n",
    "        else:\n",
    "            if arr[m]>x:\n",
    "                e=m-1\n",
    "            else:\n",
    "                s=m+1            \n",
    "    return f,l  \n",
    "    \n",
    "arr= list(input().split())\n",
    "x = input()\n",
    "searchRange(arr,x)            \n",
    "# searchRange([-10,-5,-5,-5,2],-5)"
   ]
  },
  {
   "cell_type": "code",
   "execution_count": null,
   "id": "6a0ac1f0-749f-4e1e-8dc3-f72abd15948e",
   "metadata": {},
   "outputs": [],
   "source": [
    "'''You are given a sorted array A consisting of N integers. Your task is to find the magic index in the given array.\n",
    "Note :\n",
    "1. A magic index in an array A[0 ... N - 1] is defined to be an index i such that A[i] = i.\n",
    "2. The elements in the array can be negative.\n",
    "3. The elements in the array can be repeated multiple times.\n",
    "4. There can be more than one magic index in an array.'''"
   ]
  },
  {
   "cell_type": "code",
   "execution_count": 7,
   "id": "992e6b91-80f0-43ae-a121-e7d7a33f4274",
   "metadata": {},
   "outputs": [
    {
     "data": {
      "text/plain": [
       "4"
      ]
     },
     "execution_count": 7,
     "metadata": {},
     "output_type": "execute_result"
    }
   ],
   "source": [
    "def magicIndex(a, n):\n",
    "    s=0\n",
    "    e=len(a)-1\n",
    "    while s<=e:\n",
    "        m=(s+e)//2\n",
    "        if m == a[m]:\n",
    "            return m\n",
    "        else:\n",
    "            e = m-1\n",
    "    s=0\n",
    "    e=len(a)-1\n",
    "    while s<=e:\n",
    "        m=(s+e)//2\n",
    "        if m == a[m]:\n",
    "            return m\n",
    "        else:\n",
    "            s = m+1        \n",
    "\n",
    "            \n",
    "magicIndex([-1, -1, -1, 4, 4, 4],5)"
   ]
  },
  {
   "cell_type": "code",
   "execution_count": null,
   "id": "9f1b8c7b-f7b8-48da-b3f3-a96fb4a0d0cb",
   "metadata": {},
   "outputs": [],
   "source": [
    "'''\n",
    "You have been given a matrix of ‘N’ rows and ‘M’ columns filled up with integers where every row is sorted in non-decreasing order. Your task is to find \n",
    "the overall median of the matrix i.e if all elements of the matrix are written in a single line, then you need to return the median of that linear array.\n",
    "The median of a finite list of numbers is the \"middle\" number when those numbers are listed in order from smallest to greatest. If there is an odd \n",
    "number of observations, the middle one is picked. For example, consider the list of numbers [1, 3, 3, 6, 7, 8, 9]. This list contains seven numbers.\n",
    "The median is the fourth of them, which is 6.\n",
    "'''"
   ]
  },
  {
   "cell_type": "code",
   "execution_count": null,
   "id": "13afdedb-869f-4813-b604-82944bd0b8a7",
   "metadata": {},
   "outputs": [],
   "source": [
    "def getMedian(matrix):\n",
    "    return soted("
   ]
  },
  {
   "cell_type": "code",
   "execution_count": 13,
   "id": "b9dc0433-d302-4e30-8cde-e294511e8e55",
   "metadata": {},
   "outputs": [
    {
     "name": "stdout",
     "output_type": "stream",
     "text": [
      "4\n",
      "[1, 2, 3, 4, 6, 7, 8]\n"
     ]
    }
   ],
   "source": [
    "mat=[[1,2,3],[6,7,8],[2,3,4]]\n",
    "li={num for row in mat for num in row}\n",
    "s_li=list(li)\n",
    "mid=len(s_li)//2\n",
    "print(s_li[mid])\n",
    "\n",
    "\n",
    "print(s_li)"
   ]
  },
  {
   "cell_type": "code",
   "execution_count": 59,
   "id": "0ab03c75-b04d-463f-88f9-16f42bdcba22",
   "metadata": {},
   "outputs": [
    {
     "data": {
      "text/plain": [
       "5"
      ]
     },
     "execution_count": 59,
     "metadata": {},
     "output_type": "execute_result"
    }
   ],
   "source": [
    "def getMedian(matrix):\n",
    "    li=[]\n",
    "    for i in matrix:\n",
    "        for j in i:\n",
    "            li.append(j)\n",
    "    li.sort()        \n",
    "    mid = (len(li)-1)//2\n",
    "    return li[mid]\n",
    "    \n",
    "\n",
    "matrix=[[1, 2, 6, 6, 10],[2, 4, 4, 5, 7],[2, 5, 5, 6, 6]]\n",
    "getMedian(matrix)    "
   ]
  },
  {
   "cell_type": "code",
   "execution_count": null,
   "id": "fdf7c00c-a11d-4991-9c38-f1210e88b3bd",
   "metadata": {},
   "outputs": [],
   "source": [
    "'''\n",
    "Problem statement\n",
    "You are given a sorted array 'ARR' and a number 'X'. Your task is to count the number of occurrences of 'X' in 'ARR'.\n",
    "\n",
    "Note :\n",
    "1. If 'X' is not found in the array, return 0.\n",
    "2. The given array is sorted in non-decreasing order.\n",
    "Detailed explanation ( Input/output format, Notes, Images )\n",
    "Constraints :\n",
    "1 <= T <= 10^2\n",
    "1 <= N <= 10^4\n",
    "0 <= ARR[i], X <= 10^9\n",
    "\n",
    "Time Limit : 1 sec\n",
    "Sample Input 1 :\n",
    "2\n",
    "7\n",
    "1 1 2 2 2 2 3\n",
    "2\n",
    "5\n",
    "1 2 2 3 3\n",
    "4\n",
    "Sample Output 1 :\n",
    "4\n",
    "0\n",
    "Explanation For Sample Input 1 :\n",
    "For the first test case, the target element 2 occurs four times in the array at indexes from 2 to 5. \n",
    "\n",
    "For the second test case, the target element 4 doesn’t occur in the array.\n",
    "Sample Input 2 :\n",
    "2\n",
    "4\n",
    "2 3 4 4\n",
    "4\n",
    "6\n",
    "5 7 7 8 8 10\n",
    "10\n",
    "Sample Output 2 :\n",
    "2\n",
    "1\n",
    "'''\n",
    "def countOccurrences(arr, x):"
   ]
  },
  {
   "cell_type": "code",
   "execution_count": null,
   "id": "885ae1f0-6e65-4a27-8765-32aeda462910",
   "metadata": {},
   "outputs": [],
   "source": [
    "'''\n",
    "Problem statement\n",
    "You are given an infinite array consisting of only ones and zeroes, in sorted order. You have to find the index of the first occurrence of 1.\n",
    "\n",
    "Example:\n",
    "If the array is 0 0 0 0 1 1 1 1… then, the first occurrence of 1 will be at index 4 therefore the answer here is 4.\n",
    "Note:\n",
    "As the array size is infinite, the actual array won’t be given to you. Instead, you will be able to access the array elements by calling a method named ‘get’.\n",
    "\n",
    "get(i) : returns the value present at index I.\n",
    "\n",
    "Indexing is 0-based. \n",
    "\n",
    "Instead of representing an infinite array in the input, we give the index of the first occurrence of 1 in the input itself. However, this input will be completely hidden from the user.\n",
    "\n",
    "It is guaranteed that the answer will fit in a 64-bit integer.\n",
    "Detailed explanation ( Input/output format, Notes, Images )\n",
    "Constraints:\n",
    "0 <= ARR[i] <= 1\n",
    "\n",
    "Time limit: 1sec\n",
    "Sample Input 1:\n",
    "10\n",
    "Sample Output 1:\n",
    "10\n",
    "Sample Input 2:\n",
    "1\n",
    "Sample Output 2:\n",
    "1\n",
    "'''\n",
    "def firstOne(get):"
   ]
  }
 ],
 "metadata": {
  "kernelspec": {
   "display_name": "Python [conda env:base] *",
   "language": "python",
   "name": "conda-base-py"
  },
  "language_info": {
   "codemirror_mode": {
    "name": "ipython",
    "version": 3
   },
   "file_extension": ".py",
   "mimetype": "text/x-python",
   "name": "python",
   "nbconvert_exporter": "python",
   "pygments_lexer": "ipython3",
   "version": "3.12.7"
  }
 },
 "nbformat": 4,
 "nbformat_minor": 5
}
