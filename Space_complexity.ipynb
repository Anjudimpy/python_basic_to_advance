{
 "cells": [
  {
   "cell_type": "code",
   "execution_count": 2,
   "id": "488ed984-f820-4a94-b0fc-54aca5d9ae81",
   "metadata": {},
   "outputs": [
    {
     "data": {
      "text/plain": [
       "' Fibonacci Series \\n    TC:-O(n)\\n    SC:-O(n)\\n'"
      ]
     },
     "execution_count": 2,
     "metadata": {},
     "output_type": "execute_result"
    }
   ],
   "source": [
    "''' Fibonacci Series \n",
    "    TC:-O(n)\n",
    "    SC:-O(n)\n",
    "'''"
   ]
  },
  {
   "cell_type": "code",
   "execution_count": 3,
   "id": "2ae0ceb5-78b7-4a9e-8557-13de12fb19c8",
   "metadata": {},
   "outputs": [
    {
     "data": {
      "text/plain": [
       "8"
      ]
     },
     "execution_count": 3,
     "metadata": {},
     "output_type": "execute_result"
    }
   ],
   "source": [
    "def cal_fib_spaceA(n):\n",
    "    if n == 0 or n==1:\n",
    "        return n\n",
    "    fibArr=[0,1]\n",
    "    for i in range(2,n+1):\n",
    "        fibArr.append(fibArr[i-1]+fibArr[i-2])\n",
    "    return fibArr[n]    \n",
    "    \n",
    "cal_fib_spaceA(6)"
   ]
  },
  {
   "cell_type": "code",
   "execution_count": 4,
   "id": "93320842-6729-4bde-9790-5b71f1943581",
   "metadata": {},
   "outputs": [
    {
     "data": {
      "text/plain": [
       "' Fibonacci Series \\n    TC:-O(n)\\n    SC:-O(1)\\n'"
      ]
     },
     "execution_count": 4,
     "metadata": {},
     "output_type": "execute_result"
    }
   ],
   "source": [
    "''' Fibonacci Series \n",
    "    TC:-O(n)\n",
    "    SC:-O(1)\n",
    "'''"
   ]
  },
  {
   "cell_type": "code",
   "execution_count": 5,
   "id": "d5b31a89-725a-431a-8f0e-936aedebd772",
   "metadata": {},
   "outputs": [
    {
     "data": {
      "text/plain": [
       "8"
      ]
     },
     "execution_count": 5,
     "metadata": {},
     "output_type": "execute_result"
    }
   ],
   "source": [
    "def cal_fib_spaceB(n):\n",
    "    if n == 0 or n==1:\n",
    "        return n\n",
    "    a=0\n",
    "    b=1\n",
    "    c=None\n",
    "    for i in range(n-1):#or (2,n+1)\n",
    "        c=a+b\n",
    "        a=b \n",
    "        b=c\n",
    "    return c\n",
    "    \n",
    "cal_fib_spaceB(6)"
   ]
  },
  {
   "cell_type": "code",
   "execution_count": 6,
   "id": "ccf9a42d-6589-4311-8666-be325941b40b",
   "metadata": {},
   "outputs": [
    {
     "name": "stdout",
     "output_type": "stream",
     "text": [
      "ValueError\n"
     ]
    }
   ],
   "source": [
    "try:\n",
    "    if '2' != 2:\n",
    "        raise ValueError\n",
    "    else:\n",
    "        print('same')\n",
    "except ValueError:\n",
    "    print('ValueError')\n",
    "\n",
    "except NameError:\n",
    "    print('NameError')"
   ]
  },
  {
   "cell_type": "code",
   "execution_count": null,
   "id": "ed278054-afe5-40c2-ae52-59f787c707e6",
   "metadata": {},
   "outputs": [
    {
     "data": {
      "text/plain": [
       "[1, 2, 3, 4, 5, 5, 7, 8]"
      ]
     },
     "execution_count": 7,
     "metadata": {},
     "output_type": "execute_result"
    }
   ],
   "source": [
    "''' Merge Sorting \n",
    "    TC:-O(n+m)\n",
    "    SC:-O(n+m)\n",
    "'''\n",
    "def merge(arr1, n, arr2, m):\n",
    "    i=0\n",
    "    j=0\n",
    "    arr3=[]\n",
    "    while i<n and j<m:\n",
    "        if arr1[i] <arr2[j]:\n",
    "            arr3.append(arr1[i])\n",
    "            i+=1\n",
    "        else:\n",
    "            arr3.append(arr2[j])\n",
    "            j+=1\n",
    "    while i<n:\n",
    "        arr3.append(arr1[i])\n",
    "        i+=1\n",
    "    while j<m:\n",
    "        arr3.append(arr2[j])\n",
    "        j+=1    \n",
    "            \n",
    "    return arr3\n",
    "        \n",
    "merge([1,3,5], 3, [2,4,5,7,8], 5)   \n"
   ]
  },
  {
   "cell_type": "code",
   "execution_count": null,
   "id": "ae0b386f",
   "metadata": {},
   "outputs": [],
   "source": [
    "'''For a given integer array/list 'ARR' of size 'N' containing all distinct values, find the total number of 'Inversions' that may exist.\n",
    "An inversion is defined for a pair of integers in the array/list when the following two conditions are met.\n",
    "A pair ('ARR[i]', 'ARR[j]') is said to be an inversion when:\n",
    "1. 'ARR[i] > 'ARR[j]' \n",
    "2. 'i' < 'j'\n",
    "Where 'i' and 'j' denote the indices ranging from [0, 'N').'''"
   ]
  },
  {
   "cell_type": "code",
   "execution_count": 9,
   "id": "b20342ee",
   "metadata": {},
   "outputs": [
    {
     "name": "stdout",
     "output_type": "stream",
     "text": [
      "( 2 1 ) ( 5 1 ) ( 5 3 ) ( 5 4 ) "
     ]
    },
    {
     "data": {
      "text/plain": [
       "4"
      ]
     },
     "execution_count": 9,
     "metadata": {},
     "output_type": "execute_result"
    }
   ],
   "source": [
    "def getInversionsA(arr, n):\n",
    "    # write your code here !!\n",
    "    count =0\n",
    "    for i in range(n):\n",
    "        for j in range(i+1,n):\n",
    "            if arr[i]>arr[j]:\n",
    "                print(\"(\",arr[i],arr[j], end=\" ) \")\n",
    "                count +=1\n",
    "\n",
    "    return count\n",
    "\n",
    "getInversionsA([2, 5, 1, 3, 4], 5)"
   ]
  },
  {
   "cell_type": "code",
   "execution_count": null,
   "id": "683bb6ba",
   "metadata": {},
   "outputs": [],
   "source": [
    "''' Given a string s, find the first character that repeats in the string. Return the character if found; otherwise, return None if there are no \n",
    "repeating characters.\n",
    "'''"
   ]
  },
  {
   "cell_type": "code",
   "execution_count": 8,
   "id": "66ff43b3-cce3-4e05-bd25-3d2123ff999b",
   "metadata": {},
   "outputs": [
    {
     "data": {
      "text/plain": [
       "'l'"
      ]
     },
     "execution_count": 8,
     "metadata": {},
     "output_type": "execute_result"
    }
   ],
   "source": [
    "def first_repeating(s):\n",
    "    dic={}\n",
    "    for i in range(len(s)):\n",
    "        if s[i] in dic:\n",
    "            dic[s[i]] +=1\n",
    "        else:\n",
    "            dic[s[i]] =1\n",
    "    for j in dic:\n",
    "        if dic[j]>1:\n",
    "            return j\n",
    "            \n",
    "\n",
    "first_repeating(\"hello\")"
   ]
  }
 ],
 "metadata": {
  "kernelspec": {
   "display_name": "base",
   "language": "python",
   "name": "python3"
  },
  "language_info": {
   "codemirror_mode": {
    "name": "ipython",
    "version": 3
   },
   "file_extension": ".py",
   "mimetype": "text/x-python",
   "name": "python",
   "nbconvert_exporter": "python",
   "pygments_lexer": "ipython3",
   "version": "3.12.7"
  }
 },
 "nbformat": 4,
 "nbformat_minor": 5
}
