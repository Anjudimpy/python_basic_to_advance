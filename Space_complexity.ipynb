{
 "cells": [
  {
   "cell_type": "code",
   "execution_count": null,
   "id": "488ed984-f820-4a94-b0fc-54aca5d9ae81",
   "metadata": {},
   "outputs": [],
   "source": [
    "''' Fibonacci Series \n",
    "    TC:-O(n)\n",
    "    SC:-O(n)\n",
    "'''"
   ]
  },
  {
   "cell_type": "code",
   "execution_count": 17,
   "id": "2ae0ceb5-78b7-4a9e-8557-13de12fb19c8",
   "metadata": {},
   "outputs": [
    {
     "data": {
      "text/plain": [
       "8"
      ]
     },
     "execution_count": 17,
     "metadata": {},
     "output_type": "execute_result"
    }
   ],
   "source": [
    "def cal_fib_spaceA(n):\n",
    "    if n == 0 or n==1:\n",
    "        return n\n",
    "    fibArr=[0,1]\n",
    "    for i in range(2,n+1):\n",
    "        fibArr.append(fibArr[i-1]+fibArr[i-2])\n",
    "    return fibArr[n]    \n",
    "    \n",
    "cal_fib_spaceA(6)"
   ]
  },
  {
   "cell_type": "code",
   "execution_count": null,
   "id": "93320842-6729-4bde-9790-5b71f1943581",
   "metadata": {},
   "outputs": [],
   "source": [
    "''' Fibonacci Series \n",
    "    TC:-O(n)\n",
    "    SC:-O(1)\n",
    "'''"
   ]
  },
  {
   "cell_type": "code",
   "execution_count": 27,
   "id": "d5b31a89-725a-431a-8f0e-936aedebd772",
   "metadata": {},
   "outputs": [
    {
     "data": {
      "text/plain": [
       "8"
      ]
     },
     "execution_count": 27,
     "metadata": {},
     "output_type": "execute_result"
    }
   ],
   "source": [
    "def cal_fib_spaceB(n):\n",
    "    if n == 0 or n==1:\n",
    "        return n\n",
    "    a=0\n",
    "    b=1\n",
    "    c=None\n",
    "    for i in range(n-1):#or (2,n+1)\n",
    "        c=a+b\n",
    "        a=b \n",
    "        b=c\n",
    "    return c\n",
    "    \n",
    "cal_fib_spaceB(6)"
   ]
  },
  {
   "cell_type": "code",
   "execution_count": 29,
   "id": "ccf9a42d-6589-4311-8666-be325941b40b",
   "metadata": {},
   "outputs": [
    {
     "name": "stdout",
     "output_type": "stream",
     "text": [
      "ValueError\n"
     ]
    }
   ],
   "source": [
    "try:\n",
    "    if '2' != 2:\n",
    "        raise ValueError\n",
    "    else:\n",
    "        print('same')\n",
    "except ValueError:\n",
    "    print('ValueError')\n",
    "\n",
    "except NameError:\n",
    "    print('NameError')"
   ]
  },
  {
   "cell_type": "code",
   "execution_count": 54,
   "id": "ed278054-afe5-40c2-ae52-59f787c707e6",
   "metadata": {},
   "outputs": [
    {
     "data": {
      "text/plain": [
       "[1, 2, 3, 4, 5, 5, 7, 8]"
      ]
     },
     "execution_count": 54,
     "metadata": {},
     "output_type": "execute_result"
    }
   ],
   "source": [
    "def merge(arr1, n, arr2, m):\n",
    "    i=0\n",
    "    j=0\n",
    "    arr3=[]\n",
    "    while i<n and j<m:\n",
    "        if arr1[i] <arr2[j]:\n",
    "            arr3.append(arr1[i])\n",
    "            i+=1\n",
    "        else:\n",
    "            arr3.append(arr2[j])\n",
    "            j+=1\n",
    "    while i<n:\n",
    "        arr3.append(arr1[i])\n",
    "        i+=1\n",
    "    while j<m:\n",
    "        arr3.append(arr2[j])\n",
    "        j+=1    \n",
    "            \n",
    "    return arr3\n",
    "        \n",
    "merge([1,3,5], 3, [2,4,5,7,8], 5)   \n"
   ]
  },
  {
   "cell_type": "code",
   "execution_count": null,
   "id": "66ff43b3-cce3-4e05-bd25-3d2123ff999b",
   "metadata": {},
   "outputs": [],
   "source": []
  }
 ],
 "metadata": {
  "kernelspec": {
   "display_name": "Python [conda env:base] *",
   "language": "python",
   "name": "conda-base-py"
  },
  "language_info": {
   "codemirror_mode": {
    "name": "ipython",
    "version": 3
   },
   "file_extension": ".py",
   "mimetype": "text/x-python",
   "name": "python",
   "nbconvert_exporter": "python",
   "pygments_lexer": "ipython3",
   "version": "3.12.7"
  }
 },
 "nbformat": 4,
 "nbformat_minor": 5
}
