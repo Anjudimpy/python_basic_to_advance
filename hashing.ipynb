{
 "cells": [
  {
   "cell_type": "code",
   "execution_count": null,
   "id": "3fa600f8",
   "metadata": {},
   "outputs": [],
   "source": [
    "'''Mapping Has table'''\n",
    "'''\n",
    "insert(key, value)\n",
    "get(key) -> value\n",
    "delete(key)\n",
    "'''\n",
    "\n",
    "class HashTable:\n",
    "    def __init__(self, size) -> None:\n",
    "        self.size = size\n",
    "        self.create_hash_table()\n",
    "\n",
    "    def create_hash_table(Self):\n",
    "        Self.hash_table = [[] for _ in range(Self.size)]\n",
    "\n",
    "    def insert(self, key, value):\n",
    "        hash_value = hash(key)%self.size\n",
    "                "
   ]
  },
  {
   "cell_type": "code",
   "execution_count": 1,
   "id": "1cb9a47a",
   "metadata": {},
   "outputs": [
    {
     "name": "stdout",
     "output_type": "stream",
     "text": [
      "{'sam': 92, 'Harry': 82, 'Annie': 88}\n"
     ]
    }
   ],
   "source": [
    "temp_dict= dict({\n",
    "    \"sam\":92,\n",
    "    \"Harry\":82,\n",
    "    \"Annie\":88\n",
    "})\n",
    "\n",
    "print(temp_dict)"
   ]
  },
  {
   "cell_type": "code",
   "execution_count": 2,
   "id": "adc0d962",
   "metadata": {},
   "outputs": [
    {
     "name": "stdout",
     "output_type": "stream",
     "text": [
      "{'sam': 92, 'Harry': 82, 'Annie': 88}\n"
     ]
    }
   ],
   "source": [
    "temp_dict2=dict([\n",
    "    (\"sam\",92),\n",
    "    (\"Harry\",82),\n",
    "    (\"Annie\",88)\n",
    "\n",
    "])\n",
    "print(temp_dict2)\n"
   ]
  },
  {
   "cell_type": "code",
   "execution_count": 3,
   "id": "46ac5518",
   "metadata": {},
   "outputs": [
    {
     "name": "stdout",
     "output_type": "stream",
     "text": [
      "{'sam': 90, 'Harry': 82, 'Annie': 88}\n"
     ]
    }
   ],
   "source": [
    "temp_dict3={\n",
    "    \"sam\":90,\n",
    "    \"Harry\":82,\n",
    "    \"Annie\":88\n",
    "}\n",
    "print(temp_dict3)"
   ]
  },
  {
   "cell_type": "code",
   "execution_count": 4,
   "id": "295a7bdd",
   "metadata": {},
   "outputs": [
    {
     "name": "stdout",
     "output_type": "stream",
     "text": [
      "<class 'dict'> <class 'dict'> <class 'dict'>\n"
     ]
    }
   ],
   "source": [
    "print(type(temp_dict), type(temp_dict2), type(temp_dict3))"
   ]
  },
  {
   "cell_type": "code",
   "execution_count": null,
   "id": "5525eb66",
   "metadata": {},
   "outputs": [
    {
     "name": "stdout",
     "output_type": "stream",
     "text": [
      "{'sam': 0, 'Harry': 0, 'Annie': 0}\n"
     ]
    }
   ],
   "source": [
    "keys=[\"sam\",\"Harry\",\"Annie\"]\n",
    "temp_dict4= dict.fromkeys(keys,0)\n",
    "\n",
    "print(temp_dict4)"
   ]
  },
  {
   "cell_type": "code",
   "execution_count": null,
   "id": "64a67389",
   "metadata": {},
   "outputs": [
    {
     "name": "stdout",
     "output_type": "stream",
     "text": [
      "{'sam': 92, 'Harry': 77, 'Annie': 88}\n",
      "{'sam': 92, 'Harry': 77, 'Annie': 88}\n",
      "{'sam': 92, 'Harry': 77, 'Annie': 88}\n",
      "{'sam': 73, 'Harry': 77, 'Annie': 88}\n"
     ]
    }
   ],
   "source": [
    "'''Copy of Dictionary'''\n",
    "\n",
    "temp_dict5= temp_dict #wrong way to copy(copy oringinal location)\n",
    "temp_dict5[\"Harry\"] = 77\n",
    "\n",
    "print(temp_dict)\n",
    "print(temp_dict5)\n",
    "\n",
    "temp_dict6= temp_dict.copy() # right way to copy\n",
    "temp_dict6[\"sam\"] = 73\n",
    "\n",
    "print(temp_dict)\n",
    "print(temp_dict6)\n"
   ]
  },
  {
   "cell_type": "code",
   "execution_count": 11,
   "id": "9a9d6653",
   "metadata": {},
   "outputs": [
    {
     "name": "stdout",
     "output_type": "stream",
     "text": [
      "3\n"
     ]
    }
   ],
   "source": [
    "#length of dictionary\n",
    "\n",
    "print(len(temp_dict5))"
   ]
  },
  {
   "cell_type": "code",
   "execution_count": null,
   "id": "e680edf8",
   "metadata": {},
   "outputs": [
    {
     "name": "stdout",
     "output_type": "stream",
     "text": [
      "82\n",
      "88\n",
      "None\n",
      "0\n"
     ]
    }
   ],
   "source": [
    "'''get value'''\n",
    "\n",
    "temp_dict={\n",
    "    \"sam\":92,\n",
    "    \"Harry\":88,\n",
    "    \"Annie\":82\n",
    "}\n",
    "\n",
    "print(temp_dict[\"Annie\"]) # using this if key not found sowing error\n",
    "print(temp_dict.get(\"Harry\")) # if key not found sowing None\n",
    "\n",
    "print(temp_dict.get(\"Xyz\"))\n",
    "print(temp_dict.get(\"xyz\",0)) # if not found default value = 0\n"
   ]
  },
  {
   "cell_type": "code",
   "execution_count": 15,
   "id": "955e0e2b",
   "metadata": {},
   "outputs": [
    {
     "name": "stdout",
     "output_type": "stream",
     "text": [
      "82\n"
     ]
    }
   ],
   "source": [
    "key = input(\"Enter students name whose marks you want to get: \")\n",
    "print(temp_dict.get(key,0))"
   ]
  },
  {
   "cell_type": "code",
   "execution_count": 18,
   "id": "72597915",
   "metadata": {},
   "outputs": [
    {
     "name": "stdout",
     "output_type": "stream",
     "text": [
      "Student: sam\n",
      "Student: Harry\n",
      "Student: Annie\n"
     ]
    }
   ],
   "source": [
    "keys = temp_dict.keys()\n",
    "for key in keys:\n",
    "    print(\"Student:\" + \" \" + key)"
   ]
  },
  {
   "cell_type": "code",
   "execution_count": 20,
   "id": "591a0e97",
   "metadata": {},
   "outputs": [
    {
     "name": "stdout",
     "output_type": "stream",
     "text": [
      "dict_values([92, 88, 82])\n",
      "dict_items([('sam', 92), ('Harry', 88), ('Annie', 82)])\n",
      "marks ofsamis =92\n",
      "marks ofHarryis =88\n",
      "marks ofAnnieis =82\n"
     ]
    }
   ],
   "source": [
    "print(temp_dict.values())\n",
    "print(temp_dict.items())\n",
    "\n",
    "for key in temp_dict:\n",
    "    print(\"marks of\" + key + \"is =\" + str(temp_dict[key]))"
   ]
  },
  {
   "cell_type": "code",
   "execution_count": 24,
   "id": "11558472",
   "metadata": {},
   "outputs": [
    {
     "name": "stdout",
     "output_type": "stream",
     "text": [
      "{'sam': 92, 'Annie': 88}\n",
      "dict_keys(['sam', 'Annie'])\n",
      "{'sam': 95, 'Annie': 88}\n",
      "{'sam': 95, 'Annie': 88, 'Harry': 82}\n"
     ]
    }
   ],
   "source": [
    "'''Method of dictionary'''\n",
    "\n",
    "temp_dict = {}\n",
    "#update method\n",
    "\n",
    "temp_dict.update([(\"sam\",92),(\"Annie\",88)])\n",
    "print(temp_dict)\n",
    "print(temp_dict.keys())\n",
    "\n",
    "temp_dict.update([(\"sam\", 95)])\n",
    "print(temp_dict)\n",
    "\n",
    "#other approch for update\n",
    "\n",
    "temp_dict[\"Harry\"] = 82\n",
    "print(temp_dict)"
   ]
  },
  {
   "cell_type": "code",
   "execution_count": 25,
   "id": "c947e93f",
   "metadata": {},
   "outputs": [
    {
     "name": "stdout",
     "output_type": "stream",
     "text": [
      "{'sam': 95, 'Annie': 88}\n",
      "82\n"
     ]
    }
   ],
   "source": [
    "#delete \n",
    "\n",
    "marks=temp_dict.pop(\"Harry\") #delete and return value\n",
    "print(temp_dict)\n",
    "print(marks)\n"
   ]
  },
  {
   "cell_type": "code",
   "execution_count": null,
   "id": "c58edcc9",
   "metadata": {},
   "outputs": [
    {
     "name": "stdout",
     "output_type": "stream",
     "text": [
      "{'sam': 95}\n"
     ]
    }
   ],
   "source": [
    "#other approch for delete\n",
    "\n",
    "del (temp_dict[\"Annie\"])\n",
    "print(temp_dict)"
   ]
  },
  {
   "cell_type": "code",
   "execution_count": 28,
   "id": "cc483db8",
   "metadata": {},
   "outputs": [
    {
     "name": "stdout",
     "output_type": "stream",
     "text": [
      "{}\n"
     ]
    }
   ],
   "source": [
    "#Clear Dictionary\n",
    "temp_dict.clear()\n",
    "print(temp_dict)"
   ]
  },
  {
   "cell_type": "code",
   "execution_count": null,
   "id": "b8317a59",
   "metadata": {},
   "outputs": [
    {
     "name": "stdout",
     "output_type": "stream",
     "text": [
      "{'cat': 2, 'dog': 2, 'elephant': 1, 'tiger': 1}\n"
     ]
    },
    {
     "data": {
      "text/plain": [
       "['cat', 'dog']"
      ]
     },
     "execution_count": 30,
     "metadata": {},
     "output_type": "execute_result"
    }
   ],
   "source": [
    "def find_words_with_freq_atleast_k(words, k):\n",
    "    freq =  dict()\n",
    "    for word in words:\n",
    "        if not freq.get(word,None):\n",
    "            freq[word] =1\n",
    "        else:\n",
    "            freq[word] +=1\n",
    "    ans=[]\n",
    "    # print(freq)\n",
    "    for key in freq.keys():\n",
    "        if freq[key] >= k:\n",
    "            ans.append(key)\n",
    "    return ans\n",
    "\n",
    "find_words_with_freq_atleast_k([\"cat\", \"dog\", \"elephant\", \"cat\", \"tiger\", \"dog\"], 2)                    "
   ]
  },
  {
   "cell_type": "code",
   "execution_count": 40,
   "id": "c6062564",
   "metadata": {},
   "outputs": [
    {
     "name": "stdout",
     "output_type": "stream",
     "text": [
      "{1: 2, 2: 2}\n"
     ]
    },
    {
     "data": {
      "text/plain": [
       "1"
      ]
     },
     "execution_count": 40,
     "metadata": {},
     "output_type": "execute_result"
    }
   ],
   "source": [
    "def maxfreq(arr):\n",
    "    # write your code logic here !!!\n",
    "    freq= dict()\n",
    "    for num in arr:\n",
    "        if not freq.get(num,None):\n",
    "            freq[num] = 1\n",
    "        else:\n",
    "            freq[num] += 1\n",
    "    ans=0\n",
    "    print(freq)\n",
    "    for key in freq.keys():\n",
    "        if freq[key] > ans:\n",
    "            ans = freq[key]\n",
    "    for key in freq.keys():\n",
    "        if freq[key] == ans:\n",
    "            return key \n",
    "\n",
    "maxfreq([1,2,2,1])"
   ]
  },
  {
   "cell_type": "code",
   "execution_count": 50,
   "id": "69eff44e",
   "metadata": {},
   "outputs": [
    {
     "name": "stdout",
     "output_type": "stream",
     "text": [
      "9\n"
     ]
    }
   ],
   "source": [
    "'''Pair of Sum'''\n",
    "\n",
    "def pair_sum(arr, target):\n",
    "    freq=dict()\n",
    "    ans=0\n",
    "    for num in arr:\n",
    "        expect = target - num\n",
    "        ans += freq.get(expect,0)\n",
    "\n",
    "        if freq.get(num,0):\n",
    "            freq[num]+=1\n",
    "        else:\n",
    "            freq[num] = 1\n",
    "    return ans\n",
    "\n",
    "print(pair_sum([2, 3, 1, 2, 2, 3, 1, 1], 4))            "
   ]
  },
  {
   "cell_type": "code",
   "execution_count": 44,
   "id": "a09f947b",
   "metadata": {},
   "outputs": [
    {
     "name": "stdout",
     "output_type": "stream",
     "text": [
      "[3, 2, 1]\n"
     ]
    }
   ],
   "source": [
    "l=[1,2,3]\n",
    "print(l[::-1])"
   ]
  },
  {
   "cell_type": "code",
   "execution_count": null,
   "id": "3b36e223",
   "metadata": {},
   "outputs": [
    {
     "name": "stdout",
     "output_type": "stream",
     "text": [
      "2\n"
     ]
    }
   ],
   "source": [
    "'''Pair of Sum'''\n",
    "\n",
    "def pair_sum(arr, target):\n",
    "    # arr1=arr[::-1]\n",
    "\n",
    "    freq=dict()\n",
    "    ans=0\n",
    "    for num in arr:\n",
    "        expect = num + target\n",
    "        ans += freq.get(expect,0)\n",
    "\n",
    "        if freq.get(num,0):\n",
    "            freq[num]+=1\n",
    "        else:\n",
    "            freq[num] = 1\n",
    "    return ans\n",
    "\n",
    "print(pair_sum([5,1,2,4], 3))            "
   ]
  },
  {
   "cell_type": "code",
   "execution_count": null,
   "id": "56fde3a2",
   "metadata": {},
   "outputs": [
    {
     "data": {
      "text/plain": [
       "5"
      ]
     },
     "execution_count": 81,
     "metadata": {},
     "output_type": "execute_result"
    }
   ],
   "source": [
    "def lengthOfLongestConsecutiveSequence(arr, n):\n",
    "\n",
    "    freq = dict()\n",
    "    for num in arr:\n",
    "        if not freq.get(num,None):\n",
    "            freq[num] = 1\n",
    "        s=num\n",
    "      \n",
    "        for i in arr:\n",
    "            if s in arr:\n",
    "                freq[num] +=1\n",
    "                s+=1\n",
    "            else:\n",
    "                break \n",
    "    ans=0         \n",
    "    for key in freq.keys():\n",
    "        if freq[key] > ans:\n",
    "            ans = freq[key]\n",
    "\n",
    "    return ans\n",
    "lengthOfLongestConsecutiveSequence([100,100,100,100,99,101,101,101,101,101],10)                \n",
    "    "
   ]
  },
  {
   "cell_type": "code",
   "execution_count": 90,
   "id": "6b1ded2b",
   "metadata": {},
   "outputs": [
    {
     "name": "stdout",
     "output_type": "stream",
     "text": [
      "adsf\n"
     ]
    }
   ],
   "source": [
    "def uniqueChar(s): \n",
    "    seen = dict()\n",
    "    new_s = \"\"\n",
    "    for char in s:\n",
    "        if char not in seen.keys():\n",
    "            seen[char] =1\n",
    "            new_s += char\n",
    "    return new_s\n",
    "\n",
    "# Main \n",
    "s = input() \n",
    "print(uniqueChar(s))\n"
   ]
  },
  {
   "cell_type": "code",
   "execution_count": null,
   "id": "a33bdddb",
   "metadata": {},
   "outputs": [],
   "source": []
  }
 ],
 "metadata": {
  "kernelspec": {
   "display_name": "base",
   "language": "python",
   "name": "python3"
  },
  "language_info": {
   "codemirror_mode": {
    "name": "ipython",
    "version": 3
   },
   "file_extension": ".py",
   "mimetype": "text/x-python",
   "name": "python",
   "nbconvert_exporter": "python",
   "pygments_lexer": "ipython3",
   "version": "3.12.7"
  }
 },
 "nbformat": 4,
 "nbformat_minor": 5
}
