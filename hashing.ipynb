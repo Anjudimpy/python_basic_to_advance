{
 "cells": [
  {
   "cell_type": "code",
   "execution_count": null,
   "id": "3fa600f8",
   "metadata": {},
   "outputs": [],
   "source": [
    "'''Mapping Has table'''\n",
    "'''\n",
    "insert(key, value)\n",
    "get(key) -> value\n",
    "delete(key)\n",
    "'''\n",
    "\n",
    "class HashTable:\n",
    "    def __init__(self, size) -> None:\n",
    "        self.size = size\n",
    "        self.create_hash_table()\n",
    "\n",
    "    def create_hash_table(Self):\n",
    "        Self.hash_table = [[] for _ in range(Self.size)]\n",
    "\n",
    "    def insert(self, key, value):\n",
    "        hash_value = hash(key)%self.size\n",
    "                "
   ]
  },
  {
   "cell_type": "code",
   "execution_count": 1,
   "id": "1cb9a47a",
   "metadata": {},
   "outputs": [
    {
     "name": "stdout",
     "output_type": "stream",
     "text": [
      "{'sam': 92, 'Harry': 82, 'Annie': 88}\n"
     ]
    }
   ],
   "source": [
    "temp_dict= dict({\n",
    "    \"sam\":92,\n",
    "    \"Harry\":82,\n",
    "    \"Annie\":88\n",
    "})\n",
    "\n",
    "print(temp_dict)"
   ]
  },
  {
   "cell_type": "code",
   "execution_count": 2,
   "id": "adc0d962",
   "metadata": {},
   "outputs": [
    {
     "name": "stdout",
     "output_type": "stream",
     "text": [
      "{'sam': 92, 'Harry': 82, 'Annie': 88}\n"
     ]
    }
   ],
   "source": [
    "temp_dict2=dict([\n",
    "    (\"sam\",92),\n",
    "    (\"Harry\",82),\n",
    "    (\"Annie\",88)\n",
    "\n",
    "])\n",
    "print(temp_dict2)\n"
   ]
  },
  {
   "cell_type": "code",
   "execution_count": 3,
   "id": "46ac5518",
   "metadata": {},
   "outputs": [
    {
     "name": "stdout",
     "output_type": "stream",
     "text": [
      "{'sam': 90, 'Harry': 82, 'Annie': 88}\n"
     ]
    }
   ],
   "source": [
    "temp_dict3={\n",
    "    \"sam\":90,\n",
    "    \"Harry\":82,\n",
    "    \"Annie\":88\n",
    "}\n",
    "print(temp_dict3)"
   ]
  },
  {
   "cell_type": "code",
   "execution_count": 4,
   "id": "295a7bdd",
   "metadata": {},
   "outputs": [
    {
     "name": "stdout",
     "output_type": "stream",
     "text": [
      "<class 'dict'> <class 'dict'> <class 'dict'>\n"
     ]
    }
   ],
   "source": [
    "print(type(temp_dict), type(temp_dict2), type(temp_dict3))"
   ]
  },
  {
   "cell_type": "code",
   "execution_count": null,
   "id": "5525eb66",
   "metadata": {},
   "outputs": [
    {
     "name": "stdout",
     "output_type": "stream",
     "text": [
      "{'sam': 0, 'Harry': 0, 'Annie': 0}\n"
     ]
    }
   ],
   "source": [
    "keys=[\"sam\",\"Harry\",\"Annie\"]\n",
    "temp_dict4= dict.fromkeys(keys,0)\n",
    "\n",
    "print(temp_dict4)"
   ]
  },
  {
   "cell_type": "code",
   "execution_count": null,
   "id": "64a67389",
   "metadata": {},
   "outputs": [
    {
     "name": "stdout",
     "output_type": "stream",
     "text": [
      "{'sam': 92, 'Harry': 77, 'Annie': 88}\n",
      "{'sam': 92, 'Harry': 77, 'Annie': 88}\n",
      "{'sam': 92, 'Harry': 77, 'Annie': 88}\n",
      "{'sam': 73, 'Harry': 77, 'Annie': 88}\n"
     ]
    }
   ],
   "source": [
    "'''Copy of Dictionary'''\n",
    "\n",
    "temp_dict5= temp_dict #wrong way to copy(copy oringinal location)\n",
    "temp_dict5[\"Harry\"] = 77\n",
    "\n",
    "print(temp_dict)\n",
    "print(temp_dict5)\n",
    "\n",
    "temp_dict6= temp_dict.copy() # right way to copy\n",
    "temp_dict6[\"sam\"] = 73\n",
    "\n",
    "print(temp_dict)\n",
    "print(temp_dict6)\n"
   ]
  },
  {
   "cell_type": "code",
   "execution_count": 11,
   "id": "9a9d6653",
   "metadata": {},
   "outputs": [
    {
     "name": "stdout",
     "output_type": "stream",
     "text": [
      "3\n"
     ]
    }
   ],
   "source": [
    "#length of dictionary\n",
    "\n",
    "print(len(temp_dict5))"
   ]
  },
  {
   "cell_type": "code",
   "execution_count": null,
   "id": "e680edf8",
   "metadata": {},
   "outputs": [
    {
     "name": "stdout",
     "output_type": "stream",
     "text": [
      "82\n",
      "88\n",
      "None\n",
      "0\n"
     ]
    }
   ],
   "source": [
    "'''get value'''\n",
    "\n",
    "temp_dict={\n",
    "    \"sam\":92,\n",
    "    \"Harry\":88,\n",
    "    \"Annie\":82\n",
    "}\n",
    "\n",
    "print(temp_dict[\"Annie\"]) # using this if key not found sowing error\n",
    "print(temp_dict.get(\"Harry\")) # if key not found sowing None\n",
    "\n",
    "print(temp_dict.get(\"Xyz\"))\n",
    "print(temp_dict.get(\"xyz\",0)) # if not found default value = 0\n"
   ]
  },
  {
   "cell_type": "code",
   "execution_count": 15,
   "id": "955e0e2b",
   "metadata": {},
   "outputs": [
    {
     "name": "stdout",
     "output_type": "stream",
     "text": [
      "82\n"
     ]
    }
   ],
   "source": [
    "key = input(\"Enter students name whose marks you want to get: \")\n",
    "print(temp_dict.get(key,0))"
   ]
  },
  {
   "cell_type": "code",
   "execution_count": 18,
   "id": "72597915",
   "metadata": {},
   "outputs": [
    {
     "name": "stdout",
     "output_type": "stream",
     "text": [
      "Student: sam\n",
      "Student: Harry\n",
      "Student: Annie\n"
     ]
    }
   ],
   "source": [
    "keys = temp_dict.keys()\n",
    "for key in keys:\n",
    "    print(\"Student:\" + \" \" + key)"
   ]
  },
  {
   "cell_type": "code",
   "execution_count": 20,
   "id": "591a0e97",
   "metadata": {},
   "outputs": [
    {
     "name": "stdout",
     "output_type": "stream",
     "text": [
      "dict_values([92, 88, 82])\n",
      "dict_items([('sam', 92), ('Harry', 88), ('Annie', 82)])\n",
      "marks ofsamis =92\n",
      "marks ofHarryis =88\n",
      "marks ofAnnieis =82\n"
     ]
    }
   ],
   "source": [
    "print(temp_dict.values())\n",
    "print(temp_dict.items())\n",
    "\n",
    "for key in temp_dict:\n",
    "    print(\"marks of\" + key + \"is =\" + str(temp_dict[key]))"
   ]
  },
  {
   "cell_type": "code",
   "execution_count": null,
   "id": "11558472",
   "metadata": {},
   "outputs": [],
   "source": []
  }
 ],
 "metadata": {
  "kernelspec": {
   "display_name": "base",
   "language": "python",
   "name": "python3"
  },
  "language_info": {
   "codemirror_mode": {
    "name": "ipython",
    "version": 3
   },
   "file_extension": ".py",
   "mimetype": "text/x-python",
   "name": "python",
   "nbconvert_exporter": "python",
   "pygments_lexer": "ipython3",
   "version": "3.12.7"
  }
 },
 "nbformat": 4,
 "nbformat_minor": 5
}
