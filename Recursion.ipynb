{
 "cells": [
  {
   "cell_type": "code",
   "execution_count": null,
   "id": "82ee753b-4183-4404-9e69-39976551dbed",
   "metadata": {},
   "outputs": [],
   "source": [
    "                                                 '''Factorial and sum of n natural number '''"
   ]
  },
  {
   "cell_type": "code",
   "execution_count": 244,
   "id": "dcd7e381-654f-49d7-a504-66a3be3ac4f1",
   "metadata": {},
   "outputs": [],
   "source": [
    "def fact(n):\n",
    "    if n == 0:\n",
    "        return 1\n",
    "    return n*fact(n-1)"
   ]
  },
  {
   "cell_type": "code",
   "execution_count": 246,
   "id": "7f6b7c7b-7222-43f3-a517-105769b395ba",
   "metadata": {},
   "outputs": [],
   "source": [
    "def sum_n(n):\n",
    "    if n==1:\n",
    "        return 1\n",
    "    return n + sum_n(n-1)    "
   ]
  },
  {
   "cell_type": "code",
   "execution_count": 248,
   "id": "bb045d34-aafa-4ee0-a4dd-c2e435141172",
   "metadata": {},
   "outputs": [
    {
     "name": "stdout",
     "output_type": "stream",
     "text": [
      " 4\n"
     ]
    },
    {
     "name": "stdout",
     "output_type": "stream",
     "text": [
      "24\n",
      "10\n"
     ]
    }
   ],
   "source": [
    "n=int(input())\n",
    "print(fact(n))\n",
    "print(sum_n(n))"
   ]
  },
  {
   "cell_type": "code",
   "execution_count": null,
   "id": "2ff179eb-8843-4baf-b766-96451c5e1173",
   "metadata": {},
   "outputs": [],
   "source": [
    "'''Write a program to find x to the power n (i.e. x^n). Take x and n from the user. You need to print the answer.\n",
    "Note : For this question, you can assume that 0 raised to the power of 0 is 1'''"
   ]
  },
  {
   "cell_type": "code",
   "execution_count": 252,
   "id": "da8b6811-6147-4638-8b6f-8b9e0ed715d8",
   "metadata": {},
   "outputs": [
    {
     "name": "stdout",
     "output_type": "stream",
     "text": [
      " 3 4\n"
     ]
    },
    {
     "data": {
      "text/plain": [
       "81"
      ]
     },
     "execution_count": 252,
     "metadata": {},
     "output_type": "execute_result"
    }
   ],
   "source": [
    "def power(a,b):\n",
    "    if b==0:\n",
    "        return 1\n",
    "    return a * power(a,(b-1))\n",
    "    \n",
    "a, b = input().split()\n",
    "a = int(a)\n",
    "b = int(b)\n",
    "power(a,b)"
   ]
  },
  {
   "cell_type": "code",
   "execution_count": 254,
   "id": "162c0582-845c-4ae8-b1f4-750167db8558",
   "metadata": {},
   "outputs": [
    {
     "name": "stdout",
     "output_type": "stream",
     "text": [
      " 2 4\n"
     ]
    },
    {
     "data": {
      "text/plain": [
       "16"
      ]
     },
     "execution_count": 254,
     "metadata": {},
     "output_type": "execute_result"
    }
   ],
   "source": [
    "def power(a,b):\n",
    "    return a**b\n",
    "    \n",
    "a, b = input().split()\n",
    "a = int(a)\n",
    "b = int(b)\n",
    "power(a,b)"
   ]
  },
  {
   "cell_type": "code",
   "execution_count": null,
   "id": "fe779792-be88-4469-8e3a-100eaa757591",
   "metadata": {},
   "outputs": [],
   "source": [
    "''' Print 1 to n '''"
   ]
  },
  {
   "cell_type": "code",
   "execution_count": 256,
   "id": "2eba767e-20ca-4e0a-85b8-7b8f600b28bf",
   "metadata": {},
   "outputs": [
    {
     "name": "stdout",
     "output_type": "stream",
     "text": [
      " 4\n"
     ]
    },
    {
     "name": "stdout",
     "output_type": "stream",
     "text": [
      "4\n",
      "3\n",
      "2\n",
      "1\n"
     ]
    }
   ],
   "source": [
    "def print_1_to_n(n):\n",
    "    if n==0:\n",
    "        return \n",
    "    print(n)\n",
    "    print_1_to_n(n-1)\n",
    "\n",
    "n=int(input())\n",
    "print_1_to_n(n)"
   ]
  },
  {
   "cell_type": "code",
   "execution_count": 258,
   "id": "17edb385-14b1-40ab-af06-d29604c261c6",
   "metadata": {},
   "outputs": [
    {
     "name": "stdout",
     "output_type": "stream",
     "text": [
      " 4\n"
     ]
    },
    {
     "name": "stdout",
     "output_type": "stream",
     "text": [
      "1\n",
      "2\n",
      "3\n",
      "4\n"
     ]
    }
   ],
   "source": [
    "def print_1_to_n(n):\n",
    "    if n==0:\n",
    "        return \n",
    "    print_1_to_n(n-1)\n",
    "    print(n)\n",
    "    \n",
    "n=int(input())\n",
    "print_1_to_n(n)"
   ]
  },
  {
   "cell_type": "code",
   "execution_count": 260,
   "id": "28f741ea-a222-476d-9abe-2066253b7852",
   "metadata": {},
   "outputs": [
    {
     "name": "stdout",
     "output_type": "stream",
     "text": [
      "16\n"
     ]
    }
   ],
   "source": [
    "def fun(n):\n",
    "    if(n == 4):\n",
    "        return n\n",
    "    else:\n",
    "        return 2*fun(n+1)\n",
    "\n",
    "\n",
    "print(fun(2))"
   ]
  },
  {
   "cell_type": "code",
   "execution_count": null,
   "id": "aee08822-ecc9-4145-bb8f-2f28a4ed9db4",
   "metadata": {},
   "outputs": [],
   "source": [
    "'''Given an array of length N, you need to find and return the sum of all elements of the array.\n",
    "Do this recursively.''"
   ]
  },
  {
   "cell_type": "code",
   "execution_count": 262,
   "id": "892daa73-74dd-4c70-9424-e173c60e39a3",
   "metadata": {},
   "outputs": [
    {
     "name": "stdout",
     "output_type": "stream",
     "text": [
      "10\n"
     ]
    }
   ],
   "source": [
    "def sumArray(arr):\n",
    "    # Please add your code\n",
    "   \n",
    "    n=len(arr)-1\n",
    "    if n == 0:\n",
    "        return arr[0]\n",
    "    return arr[0]+sumArray(arr[1:])\n",
    "\n",
    "# Main\n",
    "# from sys import setrecursionlimit\n",
    "# setrecursionlimit(11000)\n",
    "# n=int(input())\n",
    "# arr=list(int(i) for i in input().strip().split(' '))\n",
    "print(sumArray([1,2,3,4]))"
   ]
  },
  {
   "cell_type": "code",
   "execution_count": null,
   "id": "51bc9f6e-df8e-40a2-884b-8905d0aa26e1",
   "metadata": {},
   "outputs": [],
   "source": [
    "'''Given an array of length N and an integer x, you need to find if x is present in the array or not. Return true or false.\n",
    "Do this recursively.'''"
   ]
  },
  {
   "cell_type": "code",
   "execution_count": null,
   "id": "78900709-211b-4b94-b4c6-46e4d5ec7012",
   "metadata": {},
   "outputs": [],
   "source": [
    "def checkNumber(arr, x):\n",
    "    if len(arr) == 0:\n",
    "        return False\n",
    "    elif arr[0] == x:\n",
    "        return True\n",
    "    else:\n",
    "        return checkNumber(arr[1:], x)\n",
    "  \n",
    "checkNumber([2,3,4,1,5],0)"
   ]
  },
  {
   "cell_type": "code",
   "execution_count": null,
   "id": "644a70d0-9bbd-4e48-9fce-76b18c0694ec",
   "metadata": {},
   "outputs": [],
   "source": [
    "                                                        ''' Check List are Sorted or  not '''"
   ]
  },
  {
   "cell_type": "code",
   "execution_count": 264,
   "id": "bfd90d80-4698-45a7-80f0-7d1fe634453b",
   "metadata": {},
   "outputs": [
    {
     "data": {
      "text/plain": [
       "True"
      ]
     },
     "execution_count": 264,
     "metadata": {},
     "output_type": "execute_result"
    }
   ],
   "source": [
    "def check_sorted_or_not(arr,i):\n",
    "    # i=inedx of array\n",
    "    if i == len(arr)-1 or  i ==1:\n",
    "        return True\n",
    "    if arr[i]> arr[i+1]:\n",
    "        return False\n",
    "    return check_sorted_or_not(arr,i+1)    \n",
    "    \n",
    "check_sorted_or_not([2,3,4,5],0)"
   ]
  },
  {
   "cell_type": "code",
   "execution_count": null,
   "id": "5749a764-dba8-4dc8-93ea-956ac6c21f4f",
   "metadata": {},
   "outputs": [],
   "source": [
    "'''Given an array of length N and an integer x, you need to find and return the first index of integer x present in the array. Return -1 if it is not present in the array.\n",
    "First index means, the index of first occurrence of x in the input array.\n",
    "Do this recursively. Indexing in the array starts from 0.'''"
   ]
  },
  {
   "cell_type": "code",
   "execution_count": 266,
   "id": "f7367bc4-9416-4b0e-a7ab-fc3aa9e693ca",
   "metadata": {},
   "outputs": [
    {
     "data": {
      "text/plain": [
       "1"
      ]
     },
     "execution_count": 266,
     "metadata": {},
     "output_type": "execute_result"
    }
   ],
   "source": [
    "def firstIndex(arr, x):\n",
    "    l=len(arr)\n",
    "    if l == 0:\n",
    "        return -1\n",
    " \n",
    "    elif arr[0] == x:\n",
    "        return 0\n",
    "    shortArr = firstIndex(arr[1:], x) \n",
    "    if shortArr == -1:\n",
    "        return -1\n",
    "    else:\n",
    "        return shortArr + 1\n",
    "        \n",
    "firstIndex([9, 8, 10, 8], 8)   "
   ]
  },
  {
   "cell_type": "code",
   "execution_count": null,
   "id": "6f1220db-abde-4cdd-8b7f-dcd78bd7fd36",
   "metadata": {},
   "outputs": [],
   "source": [
    "def firstIndex(arr, x,si):\n",
    "    n=len(arr)\n",
    "    if si == n:\n",
    "        return -1\n",
    "    if arr[si] == x:\n",
    "        return si\n",
    "    return firstIndex(arr, x,si+1)    \n",
    "        \n",
    "firstIndex([9, 7, 10, 8], 8,0)          "
   ]
  },
  {
   "cell_type": "code",
   "execution_count": null,
   "id": "02ace18b-c798-49bc-ae83-761970681cfd",
   "metadata": {},
   "outputs": [],
   "source": [
    "def firstIndex(arr, x):\n",
    "    for i in range(len(arr)-1):\n",
    "        if arr[i]==x:\n",
    "            return i\n",
    "    return -1        \n",
    "        \n",
    "firstIndex([9, 8, 10, 8], 8)    "
   ]
  },
  {
   "cell_type": "code",
   "execution_count": 268,
   "id": "c69a1ef4-1ecb-451f-bf2b-93e337b21ddd",
   "metadata": {},
   "outputs": [
    {
     "data": {
      "text/plain": [
       "3"
      ]
     },
     "execution_count": 268,
     "metadata": {},
     "output_type": "execute_result"
    }
   ],
   "source": [
    "def firstIndex(arr, x):\n",
    "    if x in arr:\n",
    "        return arr.index(x)\n",
    "    return -1  \n",
    "        \n",
    "firstIndex([9, 7, 10, 8], 8)"
   ]
  },
  {
   "cell_type": "code",
   "execution_count": null,
   "id": "7328f6f2-bcbb-4e88-afa8-9f1ae51fc10c",
   "metadata": {},
   "outputs": [],
   "source": [
    "li=[9, 9, 10, 8]\n",
    "print(li[0:])"
   ]
  },
  {
   "cell_type": "code",
   "execution_count": null,
   "id": "d03c264e-87a6-4fac-b5fc-7e3339c750ba",
   "metadata": {},
   "outputs": [],
   "source": [
    "'''Given an array of length N and an integer x, you need to find and return the last index of integer x present in the array. Return -1 if it is not\n",
    "present in the array.\n",
    "Last index means - if x is present multiple times in the array, return the index at which x comes last in the array.\n",
    "You should start traversing your array from 0, not from (N - 1).\n",
    "Do this recursively. Indexing in the array starts from 0. '''"
   ]
  },
  {
   "cell_type": "code",
   "execution_count": null,
   "id": "2f9e88d4-dca2-4afe-b96f-97f0e74832d8",
   "metadata": {},
   "outputs": [],
   "source": [
    "def last_index(arr,x):\n",
    "    l=len(arr)\n",
    "    if l == 0:\n",
    "        return -1\n",
    "    s=arr[1:]\n",
    "    so=last_index(s,x)\n",
    "    if so != -1:\n",
    "        return so+1\n",
    "    else:\n",
    "        if arr[0] == x:\n",
    "            return 0\n",
    "        else:\n",
    "            return -1\n",
    "\n",
    "N = int(input())                      \n",
    "arr = list(map(int, input().split()))  \n",
    "x = int(input())                     \n",
    "\n",
    "print(last_index(arr, x))     "
   ]
  },
  {
   "cell_type": "code",
   "execution_count": null,
   "id": "f3c4f4bc-2522-4a01-9947-6098a3c19899",
   "metadata": {},
   "outputs": [],
   "source": [
    "def lastIndexB(arr,x,si):\n",
    "    l=len(arr)\n",
    "    if si == l:\n",
    "        return -1\n",
    "    s=lastIndexB(arr,x,si+1)\n",
    "    if s != -1:\n",
    "        return s\n",
    "    else:\n",
    "        if arr[si] == x:\n",
    "            return si\n",
    "        else:\n",
    "            return -1\n",
    "\n",
    "lastIndexB([3,5,6,7,8,4,8,9],8,0)"
   ]
  },
  {
   "cell_type": "code",
   "execution_count": null,
   "id": "2ddd03d4-17a0-4729-933b-eabff89caac9",
   "metadata": {},
   "outputs": [],
   "source": [
    "                                                         ''' remove specfic given charactor '''"
   ]
  },
  {
   "cell_type": "code",
   "execution_count": null,
   "id": "62f3c154-a884-4ae8-bc59-3b759409d523",
   "metadata": {},
   "outputs": [],
   "source": [
    "def removeX(string): \n",
    "    if len(string)==0:\n",
    "        return string\n",
    "    smallOutput=removeX(string[1:])\n",
    "    if string[0]=='x':\n",
    "        return smallOutput\n",
    "    else:\n",
    "        return string[0]+smallOutput\n",
    "\n",
    "\n",
    "# Main\n",
    "string = input()\n",
    "print(removeX(string))"
   ]
  },
  {
   "cell_type": "code",
   "execution_count": null,
   "id": "b873bbe3-c381-45e7-bd68-835aa8fd35ac",
   "metadata": {},
   "outputs": [],
   "source": [
    "''' Replace ChAR '''"
   ]
  },
  {
   "cell_type": "code",
   "execution_count": null,
   "id": "8063fca7-2905-4ff6-a9f9-1a78ea12997a",
   "metadata": {},
   "outputs": [],
   "source": [
    "def replaceChar(s,a,b):\n",
    "    if len(s)==0:\n",
    "        return s\n",
    "    smallOutput=replaceChar(s[1:],a,b)\n",
    "    if s[0]==a:\n",
    "        return smallOutput\n",
    "    else:\n",
    "        return s[0]+smallOutput\n",
    "    \n",
    "replaceChar(\"ccsw\",'c','x')"
   ]
  },
  {
   "cell_type": "code",
   "execution_count": null,
   "id": "aba92edb-b14b-423d-adef-b429fc0b3e13",
   "metadata": {},
   "outputs": [],
   "source": [
    "                                                            ''' Replace pi with 3.14 '''"
   ]
  },
  {
   "cell_type": "code",
   "execution_count": null,
   "id": "d97737e8-8db2-4cf0-8e67-93591a81dd81",
   "metadata": {},
   "outputs": [],
   "source": [
    "def replace_pi(s):\n",
    "    if len(s) == 0 or len(s) == 1:\n",
    "        return s\n",
    "    if s[0] == 'p' and s[1] == 'i':\n",
    "        return '3.14'+replace_pi(s[2:])\n",
    "    else:\n",
    "        return s[0]+replace_pi(s[1:])\n",
    "\n",
    "replace_pi('aapia')       "
   ]
  },
  {
   "cell_type": "code",
   "execution_count": null,
   "id": "74aa081e-d8cd-4168-9bfe-ca5353f6f3eb",
   "metadata": {},
   "outputs": [],
   "source": [
    "                                     '''Given a string S, remove consecutive duplicates from it recursively.'''"
   ]
  },
  {
   "cell_type": "code",
   "execution_count": null,
   "id": "ac426813-1e9b-4175-8397-1b8f59ca892d",
   "metadata": {},
   "outputs": [],
   "source": [
    "def removeConsecutiveDuplicates(string):\n",
    "    # Please add your code here\n",
    "    if len(string) == 0 or len(string) == 1:\n",
    "        return string\n",
    "    if string[0] == string[1]:\n",
    "        return removeConsecutiveDuplicates(string[1:])\n",
    "    else:\n",
    "        return string[0]+removeConsecutiveDuplicates(string[1:])\n",
    "\n",
    "# Main\n",
    "string = input().strip()\n",
    "print(removeConsecutiveDuplicates(string))"
   ]
  },
  {
   "cell_type": "code",
   "execution_count": null,
   "id": "8840fcd0-f99a-401c-a38b-50e78cbcfdaf",
   "metadata": {},
   "outputs": [],
   "source": [
    "                                                            '''Binary Search using Recursion '''"
   ]
  },
  {
   "cell_type": "code",
   "execution_count": null,
   "id": "21c02ec1-4a12-4ca3-818e-ca5f03dc65b5",
   "metadata": {},
   "outputs": [],
   "source": [
    "def binarySearch(a,x,si,en):\n",
    "    if si > en :\n",
    "        return -1\n",
    "    mid = (si+en)//2\n",
    "    if a[mid] == x:\n",
    "        return mid\n",
    "    elif a[mid]>x:\n",
    "        binarySearch(a,x,si,mid-1)\n",
    "    else:\n",
    "        binarySearch(a,x,mid+1,en)\n",
    "\n",
    "binarySearch([2,3,4,5,15,16,17,22],16,0,8)"
   ]
  },
  {
   "cell_type": "code",
   "execution_count": null,
   "id": "a3d70f0f-88dd-4f40-ae7b-03f3523f0746",
   "metadata": {},
   "outputs": [],
   "source": [
    "'''You are given the starting 'l' and the ending 'r' positions of the array 'ARR'.\n",
    "You must sort the elements between 'l' and 'r'.'''"
   ]
  },
  {
   "cell_type": "code",
   "execution_count": null,
   "id": "57ceecd3-2474-4af2-951f-d770070a698d",
   "metadata": {},
   "outputs": [],
   "source": [
    "def merge(a1,a2,arr):\n",
    "    i=0\n",
    "    j=0\n",
    "    k=0\n",
    "    while i<len(a1) and j<len(a2):\n",
    "        if a1[i]<a2[j]:\n",
    "            arr[k]=a1[i]\n",
    "            i+=1\n",
    "            k+=1\n",
    "        else:\n",
    "            arr[k]=a2[j]\n",
    "            j+=1\n",
    "            k+=1\n",
    "    while i<len(a1):\n",
    "        arr[k]=a1[i]\n",
    "        i+=1\n",
    "        k+=1        \n",
    "    while j<len(a2):\n",
    "        arr[k]=a2[j]\n",
    "        j+=1\n",
    "        k+=1\n",
    "        \n",
    "def mergeSort(arr: [int], l: int, r: int):\n",
    "    if len(arr)==0 or len(arr) ==1:\n",
    "        return \n",
    "    mid = len(arr)//2\n",
    "    a1=arr[0:mid]\n",
    "    a2=arr[mid:]\n",
    "\n",
    "   \n",
    "    mergeSort(a1,l,r)\n",
    "    mergeSort(a2,l,r)\n",
    "    merge(a1,a2,arr)\n",
    "     \n",
    "a=[10,5,3,1,7,9,4]\n",
    "mergeSort(a,0,7)\n",
    "a"
   ]
  },
  {
   "cell_type": "code",
   "execution_count": null,
   "id": "63cc5062-0e0c-4653-92ab-9c6abce4b581",
   "metadata": {},
   "outputs": [],
   "source": [
    "def merge(a1,a2,arr):\n",
    "    i=0\n",
    "    j=0\n",
    "    k=0\n",
    "    while i<len(a1) and j<len(a2):\n",
    "        if a1[i]<a2[j]:\n",
    "            arr[k]=a1[i]\n",
    "            i+=1\n",
    "            k+=1\n",
    "        else:\n",
    "            arr[k]=a2[j]\n",
    "            j+=1\n",
    "            k+=1\n",
    "    while i<len(a1):\n",
    "        arr[k]=a1[i]\n",
    "        i+=1\n",
    "        k+=1        \n",
    "    while j<len(a2):\n",
    "        arr[k]=a2[j]\n",
    "        j+=1\n",
    "        k+=1\n",
    "        \n",
    "def mergeSort(arr: [int], l: int, r: int):\n",
    "    if len(arr)==0 or len(arr) ==1:\n",
    "        return \n",
    "    mid = len(arr)//2\n",
    "    a1=arr[l:mid]\n",
    "    a2=arr[mid:]\n",
    "\n",
    "   \n",
    "    mergeSort(a1,l,r)\n",
    "    mergeSort(a2,l,r)\n",
    "    merge(a1,a2,arr)\n",
    "     \n",
    "a=[10,5,3,1,7,9,4]\n",
    "mergeSort(a,0,7)\n",
    "a"
   ]
  },
  {
   "cell_type": "code",
   "execution_count": null,
   "id": "8ad576e7-760a-41df-97b5-b024afdbf3b2",
   "metadata": {},
   "outputs": [],
   "source": [
    "'''Quick Sort '''\n",
    "def partition(a,s,e):\n",
    "    fav= a[s]\n",
    "    c=0\n",
    "    for i in range(s,e+1):\n",
    "        if a[i]<fav:\n",
    "            c+=1\n",
    "    a[s],a[s+c] = a[s+c],a[s]\n",
    "    fav_index = s+c\n",
    "    i=s\n",
    "    j=e\n",
    "    while i<j:\n",
    "        if a[i]<fav:\n",
    "            i+=1\n",
    "        elif a[j]>=fav:\n",
    "            j-=1\n",
    "        else:\n",
    "            a[i],a[j]=a[j],a[i]\n",
    "            i+=1\n",
    "            j-=1\n",
    "    return fav_index        \n",
    "        \n",
    "        \n",
    "def quickSort(a,s,e):\n",
    "    if s>=e:\n",
    "        return\n",
    "    fav_index= partition(a,s,e)\n",
    "    quickSort(a,s,fav_index-1)\n",
    "    quickSort(a,fav_index+1,e)\n",
    "    \n"
   ]
  },
  {
   "cell_type": "code",
   "execution_count": null,
   "id": "bcef288a-f649-4ef2-a00e-77c23570ac56",
   "metadata": {},
   "outputs": [],
   "source": [
    "a=[3,2,9,4,6,7,10,8,5]\n",
    "quickSort(a,0,len(a)-1)\n",
    "a"
   ]
  },
  {
   "cell_type": "code",
   "execution_count": null,
   "id": "9371b9c6-2499-4afa-a9bf-6301d0470bb9",
   "metadata": {},
   "outputs": [],
   "source": [
    "'''Tower of Hanoi is a mathematical puzzle where we have three rods and n disks. The objective of the puzzle is to move all disks from source rod to\n",
    "destination rod using third rod (say auxiliary). The rules are :\n",
    "1) Only one disk can be moved at a time.\n",
    "2) A disk can be moved only if it is on the top of a rod.\n",
    "3) No disk can be placed on the top of a smaller disk.\n",
    "Print the steps required to move n disks from source rod to destination rod.\n",
    "Source Rod is named as 'a', auxiliary rod as 'b' and destination rod as 'c'."
   ]
  },
  {
   "cell_type": "code",
   "execution_count": null,
   "id": "7fb92643-0f7a-449b-a74f-e5effa3dfdc0",
   "metadata": {},
   "outputs": [],
   "source": [
    "def towerofhanoi(n, source, aux, dest):\n",
    "    if n==1:\n",
    "        print(source, dest)\n",
    "        return\n",
    "    towerofhanoi((n-1), source, dest, aux)\n",
    "    print(source,dest)\n",
    "    towerofhanoi((n-1), aux, source, dest)\n",
    "    \n",
    "n=int(input())\n",
    "towerofhanoi(n, 'a', 'b', 'c')"
   ]
  },
  {
   "cell_type": "code",
   "execution_count": null,
   "id": "f4e53ffb-c352-4353-b833-b371f47d7e71",
   "metadata": {},
   "outputs": [],
   "source": [
    "def towerofhanoiB(n, source, aux, dest):\n",
    "    if n == 0:\n",
    "        return\n",
    "    towerofhanoiB(n - 1, source, dest, aux)\n",
    "    print(source, dest)\n",
    "    towerofhanoiB(n - 1, aux, source, dest)\n",
    "\n",
    "n = int(input())\n",
    "towerofhanoiB(n, 'a', 'b', 'c')\n"
   ]
  },
  {
   "cell_type": "code",
   "execution_count": null,
   "id": "e1917d4f-37da-402a-8266-5f1cd1b1d519",
   "metadata": {},
   "outputs": [],
   "source": [
    "'''Given k, find the geometric sum i.e.\n",
    "1 + 1/2 + 1/4 + 1/8 + ... + 1/(2^k) \n",
    "Note :\n",
    "using recursion."
   ]
  },
  {
   "cell_type": "code",
   "execution_count": null,
   "id": "a5b4ede7-638e-46f9-81d9-17dbcec1a01c",
   "metadata": {},
   "outputs": [],
   "source": [
    "def geometric_sum(n):\n",
    "    if n<0:\n",
    "        return 0 \n",
    "    return 1 / (2 ** n) + geometric_sum(n - 1)\n",
    "    \n",
    "    \n",
    "    \n",
    "        \n",
    "n=int(input())\n",
    "sums=geometric_sum(n)\n",
    "print(f\"{sums:.5f}\")\n",
    "\n"
   ]
  },
  {
   "cell_type": "code",
   "execution_count": null,
   "id": "97a61d55-2170-40a3-8ff4-9bcaa3e368a0",
   "metadata": {},
   "outputs": [],
   "source": [
    "def isPalindrome(string: str) -> bool:\n",
    "    if len(string) ==0:\n",
    "        return False\n",
    "    s=\"\"    \n",
    "    for i in range(len(string)-1,-1,-1):\n",
    "        s+=string[i]\n",
    "    if s == string:\n",
    "        return True\n",
    "    else:\n",
    "        return False\n",
    "        \n",
    "isPalindrome(\"aabb\")    "
   ]
  },
  {
   "cell_type": "code",
   "execution_count": null,
   "id": "e63dfbec-b7db-4b91-8f75-b871202d9dfb",
   "metadata": {},
   "outputs": [],
   "source": [
    "'''Palindrom string '''"
   ]
  },
  {
   "cell_type": "code",
   "execution_count": null,
   "id": "74f8049c-f714-4815-96d1-b7c95300629b",
   "metadata": {},
   "outputs": [],
   "source": [
    "def isPalindrome(string: str) -> bool:\n",
    "    if len(string)<=1:\n",
    "        return True\n",
    "    if string[0] != string[-1]:\n",
    "        return False\n",
    "    return isPalindrome(string[1:-1])     \n",
    "        \n",
    "print(isPalindrome(\"aabbaa\"))  \n"
   ]
  },
  {
   "cell_type": "code",
   "execution_count": null,
   "id": "c0c6c620-1790-4620-a2ef-4ce59b7ef143",
   "metadata": {},
   "outputs": [],
   "source": [
    "s=123\n",
    "print(s)"
   ]
  },
  {
   "cell_type": "code",
   "execution_count": null,
   "id": "1e659615-e71c-44a6-98cc-fe7979cc43b1",
   "metadata": {},
   "outputs": [],
   "source": [
    "def isPalindrome(string: str) -> bool:\n",
    "    if len(string) <= 1:\n",
    "        return True\n",
    "    if string[0] != string[-1]:\n",
    "        return False\n",
    "    return isPalindrome(string[1:-1])\n",
    "\n",
    "# Test\n",
    "print(isPalindrome(\"aabbaa\"))  # ✅ Output: True\n"
   ]
  },
  {
   "cell_type": "code",
   "execution_count": null,
   "id": "f3c55902-dcc7-4efb-b09e-ffb3bb411c4b",
   "metadata": {},
   "outputs": [],
   "source": [
    "def sum_of_digits(num):\n",
    "    if num == 0:\n",
    "        return 0\n",
    "    return num%10 + sum_of_digits(num//10)\n",
    "  \n",
    "num=int(input())\n",
    "sum_of_digits(num)"
   ]
  },
  {
   "cell_type": "code",
   "execution_count": null,
   "id": "38a80778-5f72-41e2-8120-16bc127cabe8",
   "metadata": {},
   "outputs": [],
   "source": [
    "'''Given two integers M & N, calculate and return their multiplication using recursion. You can only use subtraction and addition for your calculation.\n",
    "No other operators are allowed.'''"
   ]
  },
  {
   "cell_type": "code",
   "execution_count": null,
   "id": "e17b5edd-58ca-4d91-bd47-32f159593233",
   "metadata": {},
   "outputs": [],
   "source": [
    "def multiplication_num(M,N):\n",
    "    if N == 0:\n",
    "        return 0\n",
    "    return M + multiplication_num(M,N-1) \n",
    "    \n",
    "M =int(input())\n",
    "N=int(input())\n",
    "multiplication_num(M,N)\n",
    "\n",
    "    "
   ]
  },
  {
   "cell_type": "code",
   "execution_count": null,
   "id": "d35b9368-4063-451b-ad17-ecad4a45e223",
   "metadata": {},
   "outputs": [],
   "source": [
    "''' Given an integer N, count and return the number of zeros that are present in the given integer using recursion.'''\n",
    "  "
   ]
  },
  {
   "cell_type": "code",
   "execution_count": null,
   "id": "1ccfbf9d-0d95-405d-a7b1-3c0105677fb4",
   "metadata": {},
   "outputs": [],
   "source": [
    "def count_zero(n, count):\n",
    "    if n == 0 and count == 0:\n",
    "        return 1 \n",
    "    if n<=9:\n",
    "        return count\n",
    "    r = n % 10\n",
    "    if r == 0:\n",
    "        count += 1\n",
    "\n",
    "    return count_zero(n // 10, count)\n",
    "\n",
    "n = int(input())         \n",
    "print(count_zero(n, 0))\n"
   ]
  },
  {
   "cell_type": "code",
   "execution_count": null,
   "id": "28deccae-8ab7-40c2-b4ef-daf697919729",
   "metadata": {},
   "outputs": [],
   "source": [
    "'''Write a recursive function to convert a given string into the number it represents. That is input will be a numeric string that contains only \n",
    "numbers, you need to convert the string into corresponding integer and return the answer.'''"
   ]
  },
  {
   "cell_type": "code",
   "execution_count": 396,
   "id": "20121e7f-96c7-4a1e-82b1-ab2f8299d9c3",
   "metadata": {},
   "outputs": [
    {
     "name": "stdout",
     "output_type": "stream",
     "text": [
      " 0001230\n"
     ]
    },
    {
     "name": "stdout",
     "output_type": "stream",
     "text": [
      "1230"
     ]
    }
   ],
   "source": [
    "def string_num_to_int(s):\n",
    "    for i in s:\n",
    "        if i=='0' and len(s)==1:\n",
    "            return 0\n",
    "        if s[0]!='0' and len(s)>0:\n",
    "            print(int(i),end=\"\")\n",
    "        else:\n",
    "            return string_num_to_int(s[1:])\n",
    "            \n",
    "  \n",
    "s=input()\n",
    "string_num_to_int(s)"
   ]
  },
  {
   "cell_type": "code",
   "execution_count": null,
   "id": "c99b73e4-af28-451b-bfbc-7f8435671390",
   "metadata": {},
   "outputs": [],
   "source": [
    "'''Given a string S, compute recursively a new string where identical chars that are adjacent in the original string are separated from each \n",
    "other by a \"*\".'''"
   ]
  },
  {
   "cell_type": "code",
   "execution_count": 469,
   "id": "a826bf78-9209-4d4f-bf8f-a80919e745ea",
   "metadata": {},
   "outputs": [
    {
     "name": "stdout",
     "output_type": "stream",
     "text": [
      "0\n",
      "1\n",
      "2\n"
     ]
    }
   ],
   "source": [
    "def pair_star(s):\n",
    "    for i in range(len(s)):\n",
    "        print(i)\n",
    "s=input()\n",
    "pair_star(\"ggg\")\n",
    "        "
   ]
  },
  {
   "cell_type": "code",
   "execution_count": 10,
   "id": "1307933c-fe26-494f-97f2-a0b45c2f64d9",
   "metadata": {},
   "outputs": [
    {
     "name": "stdout",
     "output_type": "stream",
     "text": [
      "0 1 2 3 4 5 "
     ]
    }
   ],
   "source": [
    "'''Print First N natural Number'''\n",
    "\n",
    "def naturalNumber(n):\n",
    "    if n == 0:\n",
    "        print(0, end=\" \")\n",
    "        return\n",
    "    \n",
    "    naturalNumber(n-1)\n",
    "    print(n,end=\" \") \n",
    "    \n",
    "n=int(input())\n",
    "naturalNumber(n)\n",
    "    "
   ]
  },
  {
   "cell_type": "code",
   "execution_count": null,
   "id": "efa6af0c-c205-4533-acd2-156e3da486f4",
   "metadata": {},
   "outputs": [
    {
     "name": "stdout",
     "output_type": "stream",
     "text": [
      "2 3 2 5 "
     ]
    },
    {
     "data": {
      "text/plain": [
       "5"
      ]
     },
     "execution_count": 44,
     "metadata": {},
     "output_type": "execute_result"
    }
   ],
   "source": [
    "'''nth fibonacci number'''\n",
    "\n",
    "def fib(n):\n",
    "    if n==1 or n==2:\n",
    "        return 1\n",
    "    fib_n_1=fib(n-1)\n",
    "    fib_n_2=fib(n-2)  \n",
    "    output=fib_n_1+fib_n_2\n",
    "\n",
    "    return output\n",
    "\n",
    "n=5\n",
    "fib(n)"
   ]
  },
  {
   "cell_type": "code",
   "execution_count": 59,
   "id": "5b8b0f31",
   "metadata": {},
   "outputs": [],
   "source": [
    "'''Check list sorted or not'''\n",
    "\n",
    "def checkList(li):\n",
    "    if len(li) == 0 or len(li) == 1:\n",
    "        return True\n",
    "    if li[0] > li[1]:\n",
    "        return False\n",
    "    return checkList(li[1:])\n",
    "\n",
    "def checkListBetter(li,i):\n",
    "    if i == len(li) or i == len(li)-1:\n",
    "        return True\n",
    "    \n",
    "    if li[i]> li[i+1]:\n",
    "        return False\n",
    "    \n",
    "    return checkListBetter(li, i+1)\n",
    "    "
   ]
  },
  {
   "cell_type": "code",
   "execution_count": 61,
   "id": "9a8e5c60",
   "metadata": {},
   "outputs": [
    {
     "data": {
      "text/plain": [
       "True"
      ]
     },
     "execution_count": 61,
     "metadata": {},
     "output_type": "execute_result"
    }
   ],
   "source": [
    "li=[1,2,3,6,15]\n",
    "# checkList(li)\n",
    "\n",
    "checkListBetter(li,0)"
   ]
  },
  {
   "cell_type": "code",
   "execution_count": 65,
   "id": "7b98c25e",
   "metadata": {},
   "outputs": [
    {
     "data": {
      "text/plain": [
       "27"
      ]
     },
     "execution_count": 65,
     "metadata": {},
     "output_type": "execute_result"
    }
   ],
   "source": [
    "'''Sum of Array'''\n",
    "def sumOfArray(arr,i,s):\n",
    "    if i == len(arr):\n",
    "        return s\n",
    "    s+=arr[i]\n",
    "    return sumOfArray(arr,i+1,s)\n",
    "\n",
    "\n",
    "li=[1,2,3,6,15]\n",
    "sumOfArray(li,0,0)\n"
   ]
  },
  {
   "cell_type": "code",
   "execution_count": 74,
   "id": "5f211cac",
   "metadata": {},
   "outputs": [],
   "source": [
    "li=[[] for _ in range(5)]\n",
    "li[3].append((2,3))"
   ]
  },
  {
   "cell_type": "code",
   "execution_count": 86,
   "id": "bda53b2d",
   "metadata": {},
   "outputs": [
    {
     "name": "stdout",
     "output_type": "stream",
     "text": [
      "[2, 3]\n"
     ]
    },
    {
     "ename": "AttributeError",
     "evalue": "'str' object has no attribute 'remove'",
     "output_type": "error",
     "traceback": [
      "\u001b[1;31m---------------------------------------------------------------------------\u001b[0m",
      "\u001b[1;31mAttributeError\u001b[0m                            Traceback (most recent call last)",
      "Cell \u001b[1;32mIn[86], line 4\u001b[0m\n\u001b[0;32m      2\u001b[0m \u001b[38;5;28mprint\u001b[39m(li[\u001b[38;5;241m1\u001b[39m:])\n\u001b[0;32m      3\u001b[0m s\u001b[38;5;241m=\u001b[39m\u001b[38;5;124m\"\u001b[39m\u001b[38;5;124mabc\u001b[39m\u001b[38;5;124m\"\u001b[39m\n\u001b[1;32m----> 4\u001b[0m s\u001b[38;5;241m.\u001b[39mremove(x)\n\u001b[0;32m      5\u001b[0m \u001b[38;5;28mprint\u001b[39m(s)\n",
      "\u001b[1;31mAttributeError\u001b[0m: 'str' object has no attribute 'remove'"
     ]
    }
   ],
   "source": [
    "li=[1,2,3]\n",
    "print(li[1:])\n",
    "s=\"abc\"\n",
    "s.remove(x)\n",
    "print(s)"
   ]
  },
  {
   "cell_type": "code",
   "execution_count": null,
   "id": "024b01a3",
   "metadata": {},
   "outputs": [],
   "source": []
  },
  {
   "cell_type": "code",
   "execution_count": null,
   "id": "1feafcd2",
   "metadata": {},
   "outputs": [],
   "source": []
  }
 ],
 "metadata": {
  "kernelspec": {
   "display_name": "base",
   "language": "python",
   "name": "python3"
  },
  "language_info": {
   "codemirror_mode": {
    "name": "ipython",
    "version": 3
   },
   "file_extension": ".py",
   "mimetype": "text/x-python",
   "name": "python",
   "nbconvert_exporter": "python",
   "pygments_lexer": "ipython3",
   "version": "3.12.7"
  }
 },
 "nbformat": 4,
 "nbformat_minor": 5
}
