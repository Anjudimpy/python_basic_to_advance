{
 "cells": [
  {
   "cell_type": "code",
   "execution_count": null,
   "id": "89a347f9",
   "metadata": {},
   "outputs": [],
   "source": [
    "'''A doubly-linked list is a data structure that consists of sequentially linked nodes, and the nodes have reference to both the previous and the next \n",
    "nodes in the sequence of nodes.\n",
    "Given a doubly-linked list and a value ‘k’, insert a node having value ‘k’ at the end of the doubly linked list.'''"
   ]
  },
  {
   "cell_type": "code",
   "execution_count": null,
   "id": "3ea16bc7",
   "metadata": {},
   "outputs": [],
   "source": [
    "'''ADD NODE AT TAIL'''\n",
    "class Node:\n",
    "    def __init__(self, val=0, next=None, prev=None):\n",
    "        self.val = val\n",
    "        self.prev = prev\n",
    "        self.next = next\n",
    "\n",
    "\n",
    "def insertAtTail(head: Node, k: int) -> Node:\n",
    "    # Write your code here\n",
    "    if head == None:\n",
    "        return Node(k)\n",
    "    temp=head\n",
    "    while temp.next != None:\n",
    "        temp= temp.next\n",
    "    newTali=Node(k)\n",
    "    temp.next=newTali\n",
    "    newTali.prev=temp\n",
    "    \n",
    "    return head"
   ]
  },
  {
   "cell_type": "code",
   "execution_count": null,
   "id": "b1ccfa9b",
   "metadata": {},
   "outputs": [],
   "source": [
    "'''REMOVE THE NODE AT TAIL IN DOUBLY LINK LIST'''\n",
    "class Node:\n",
    "    def __init__(self, data=0, next=None, prev=None):\n",
    "        self.data = data\n",
    "        self.next = next\n",
    "        self.prev = prev\n",
    "\n",
    "\n",
    "# Do not change code above.\n",
    "\n",
    "\n",
    "def deleteLastNode(head: Node) -> Node:\n",
    "    # Write your code here\n",
    "    if head == None:\n",
    "        return\n",
    "    if head.next == None:\n",
    "        head = None\n",
    "        return head\n",
    "    temp = head\n",
    "    while temp.next != None:\n",
    "        temp= temp.next\n",
    "\n",
    "    prv= temp.prev\n",
    "    prv.next=None\n",
    "    temp.prev= None\n",
    "    return head            \n"
   ]
  },
  {
   "cell_type": "code",
   "execution_count": 46,
   "id": "71b8cdb8",
   "metadata": {},
   "outputs": [],
   "source": [
    "class Node:\n",
    "    def __init__(self,value):\n",
    "        self.data=value\n",
    "class CircularLL:\n",
    "    def __init__(self):\n",
    "        self.head= None\n",
    "        self.tail=None\n",
    "\n",
    "    def add_at_head(self,data):\n",
    "        if self.head==None:\n",
    "            new_head=Node(data)\n",
    "            self.head=new_head\n",
    "            self.tail = new_head\n",
    "            return\n",
    "        new_head=Node(data)\n",
    "        new_head.next=self.head\n",
    "        self.head=new_head\n",
    "        self.tail.next=self.head\n",
    "\n",
    "    def display(self):\n",
    "    \n",
    "        if self.head == None:\n",
    "            return\n",
    "        if self.head == self.tail:\n",
    "            print(self.head.data)\n",
    "            return\n",
    "        temp=self.head\n",
    "        while temp != self.tail:\n",
    "            print(temp.data, end=\"->\")\n",
    "            temp=temp.next\n",
    "\n",
    "        #Print tail node    \n",
    "        print(temp.data, end=\"->\")\n",
    "\n",
    "        #print next Node of tail Node\n",
    "        print(temp.next.data)\n",
    "\n",
    "\n"
   ]
  },
  {
   "cell_type": "code",
   "execution_count": 47,
   "id": "6db7b4bc",
   "metadata": {},
   "outputs": [
    {
     "name": "stdout",
     "output_type": "stream",
     "text": [
      "40->30->20->10->40\n"
     ]
    }
   ],
   "source": [
    "cl = CircularLL()\n",
    "cl.add_at_head(10)\n",
    "cl.add_at_head(20)\n",
    "cl.add_at_head(30)\n",
    "cl.add_at_head(40)\n",
    "cl.display()"
   ]
  },
  {
   "cell_type": "code",
   "execution_count": null,
   "metadata": {},
   "outputs": [],
   "source": [
    "'''You’re given a linked list. The last node might point to null, or it might point to a node in the list, thus forming a cycle.\n",
    "Find out whether the linked list has a cycle or not, and the length of the cycle if it does.\n",
    "If there is no cycle, return 0, otherwise return the length of the cycle.\n",
    "Example:Input: Linked List: 4 -> 10 -> 3 -> 5 -> 10(at position 2)\n",
    "Output: Length of cycle = 3\n",
    "Explanation: The cycle is 10, 3, 5.'''"
   ]
  },
  {
   "cell_type": "code",
   "execution_count": 101,
   "id": "d4034781",
   "metadata": {},
   "outputs": [
    {
     "name": "stdout",
     "output_type": "stream",
     "text": [
      "5->4->3->2->x\n"
     ]
    },
    {
     "data": {
      "text/plain": [
       "3"
      ]
     },
     "execution_count": 101,
     "metadata": {},
     "output_type": "execute_result"
    }
   ],
   "source": [
    "'''length of cycle link list'''\n",
    "class Node:\n",
    "    def __init__(self,value):\n",
    "        self.data=value\n",
    "        self.next=None  \n",
    "\n",
    "class cycleLinkList:\n",
    "    def __init__(self):\n",
    "         self.head=None\n",
    "\n",
    "    def add_node_head(self,data):\n",
    "     \n",
    "        new_head=Node(data)\n",
    "        new_head.next=self.head\n",
    "        self.head=new_head\n",
    "\n",
    "    def display(self):\n",
    "        if self.head ==None:\n",
    "            return\n",
    "        temp=self.head\n",
    "        while temp!= None:\n",
    "            print(temp.data, end=\"->\")\n",
    "            temp=temp.next\n",
    "        print(\"x\")\n",
    "\n",
    "    def detectCyclie(self):\n",
    "        slow=self.head\n",
    "        fast=self.head\n",
    "        while fast !=None and fast.next !=None:\n",
    "            slow=slow.next\n",
    "            fast=fast.next.next\n",
    "            if slow == fast:\n",
    "                cur=slow.next\n",
    "                count=1\n",
    "                while cur !=slow:\n",
    "                    count+=1\n",
    "                    cur=cur.next    \n",
    "                return count\n",
    "        return 0    \n",
    "                \n",
    "cll=cycleLinkList()\n",
    "cll.add_node_head(2)\n",
    "cll.add_node_head(3)\n",
    "cll.add_node_head(4)\n",
    "cll.add_node_head(5)\n",
    "cll.display()\n",
    "cy=cll.head.next\n",
    "temp=cll.head\n",
    "while temp.next != None:\n",
    "    temp=temp.next\n",
    "\n",
    "temp.next=cy\n",
    "\n",
    "cll.detectCyclie()\n",
    "        "
   ]
  },
  {
   "cell_type": "code",
   "execution_count": null,
   "id": "922c26c7",
   "metadata": {},
   "outputs": [],
   "source": [
    "'''Swap twod node'''\n",
    "def swapNodes(head, i, j) :\n",
    "\t#Your code goes here\n",
    "    if i == j:\n",
    "        return head\n",
    "    temp=head\n",
    "    c=0\n",
    "    n=0\n",
    "    if i>j:\n",
    "        n=i \n",
    "        i=j \n",
    "        j=n\n",
    "    while c < j:\n",
    "        if c == i:\n",
    "            ithnode=temp\n",
    "            \n",
    "        temp=temp.next\n",
    "        c+=1\n",
    "    ithnode.data, temp.data= temp.data, ithnode.data\n",
    "  \n",
    "    \n",
    "    return head   "
   ]
  },
  {
   "cell_type": "code",
   "execution_count": null,
   "id": "c5b313fd",
   "metadata": {},
   "outputs": [],
   "source": [
    "'''Spearate odd even node '''\n",
    "\n",
    "\n",
    "def evenAfterOdd(head):\n",
    "    if head is None:\n",
    "        return None\n",
    "\n",
    "    odd_head = odd_tail = None\n",
    "    even_head = even_tail = None\n",
    "    current = head\n",
    "\n",
    "    while current:\n",
    "        next_node = current.next\n",
    "        current.next = None  \n",
    "\n",
    "        if current.data % 2 != 0:\n",
    "            if odd_head is None:\n",
    "                odd_head = odd_tail = current\n",
    "            else:\n",
    "                odd_tail.next = current\n",
    "                odd_tail = current\n",
    "        else:\n",
    "            if even_head is None:\n",
    "                even_head = even_tail = current\n",
    "            else:\n",
    "                even_tail.next = current\n",
    "                even_tail = current\n",
    "\n",
    "        current = next_node\n",
    "\n",
    "\n",
    "    if odd_tail:\n",
    "        odd_tail.next = even_head\n",
    "        return odd_head\n",
    "    else:\n",
    "        return even_head\n",
    "        \n",
    "\n",
    "\n",
    "\n",
    "\n",
    "\n",
    "\n",
    "\n",
    "\n",
    "\n",
    "\n",
    "\n",
    "\n",
    "\n",
    "\n",
    "\n",
    "\n",
    "\n",
    "\n",
    "\n",
    "\n",
    "\n",
    "\n",
    "\n",
    "\n",
    "#Taking Input Using Fast I/O\n",
    "def takeInput() :\n",
    "    head = None\n",
    "    tail = None\n",
    "\n",
    "    datas = list(map(int, stdin.readline().rstrip().split(\" \")))\n",
    "\n",
    "    i = 0\n",
    "    while (i < len(datas)) and (datas[i] != -1) :\n",
    "        data = datas[i]\n",
    "        newNode = Node(data)\n",
    "\n",
    "        if head is None :\n",
    "            head = newNode\n",
    "            tail = newNode\n",
    "\n",
    "        else :\n",
    "            tail.next = newNode\n",
    "            tail = newNode\n",
    "\n",
    "        i += 1\n",
    "\n",
    "    return head\n",
    "\n"
   ]
  },
  {
   "cell_type": "code",
   "execution_count": null,
   "id": "c75d4be9",
   "metadata": {},
   "outputs": [],
   "source": [
    "'''remove data=k in dubly link list'''\n",
    "\n",
    "def deleteAllOccurrences(head: Node, k: int) -> Node:\n",
    "    # Write your code \n",
    "    while head != None:\n",
    "        if head.data == k:\n",
    "            head=head.next\n",
    "        else:\n",
    "            break    \n",
    "    temp=head\n",
    "    while temp != None:\n",
    "        if temp.data == k:\n",
    "            temp.prev.next=temp.next\n",
    "        temp=temp.next\n",
    "    return head"
   ]
  },
  {
   "cell_type": "code",
   "execution_count": null,
   "id": "55c09ce4",
   "metadata": {},
   "outputs": [],
   "source": [
    "'''Create a Stack usning Python List'''\n",
    "\n",
    "class Stack:\n",
    "    def __init__(self):\n",
    "        self.__arr=[]\n",
    "        self.__top=None\n",
    "\n",
    "    def push(self,data):\n",
    "        self.__arr.append(data)\n",
    "        self.__top=len(self.__arr)-1\n",
    "\n",
    "        \n",
    "    def pop(self):\n",
    "        if self.__top == None:\n",
    "            print(\"stack is empty\")\n",
    "            return\n",
    "        self.__arr.pop()\n",
    "        self.__top=len(self.__arr)-1\n",
    "        if self.__top == -1:\n",
    "            self.__top = None\n",
    "            \n",
    "    def peek(self):\n",
    "        if self.__top == None:\n",
    "            print(\"Stack is empty\")\n",
    "            return\n",
    "        value=self.__arr[self.__top]\n",
    "        return value\n",
    "    \n",
    "\n",
    "\n"
   ]
  },
  {
   "cell_type": "code",
   "execution_count": null,
   "metadata": {},
   "outputs": [
    {
     "data": {
      "text/plain": [
       "40"
      ]
     },
     "execution_count": 117,
     "metadata": {},
     "output_type": "execute_result"
    }
   ],
   "source": [
    "st=Stack()\n",
    "st.push(10)\n",
    "st.push(20)\n",
    "st.push(30)\n",
    "st.push(40)\n",
    "# 10-->20--->30--->40(top)\n",
    "st.peek()\n"
   ]
  },
  {
   "cell_type": "code",
   "execution_count": 118,
   "id": "756b5bd6",
   "metadata": {},
   "outputs": [
    {
     "data": {
      "text/plain": [
       "30"
      ]
     },
     "execution_count": 118,
     "metadata": {},
     "output_type": "execute_result"
    }
   ],
   "source": [
    "st.pop()\n",
    "# 10--->20--->30(top)\n",
    "st.peek()"
   ]
  },
  {
   "cell_type": "code",
   "execution_count": 119,
   "id": "12eded7e",
   "metadata": {},
   "outputs": [
    {
     "data": {
      "text/plain": [
       "20"
      ]
     },
     "execution_count": 119,
     "metadata": {},
     "output_type": "execute_result"
    }
   ],
   "source": [
    "st.pop()\n",
    "# 10--->20(top)\n",
    "st.peek()"
   ]
  },
  {
   "cell_type": "code",
   "execution_count": 120,
   "id": "e4467c6f",
   "metadata": {},
   "outputs": [
    {
     "name": "stdout",
     "output_type": "stream",
     "text": [
      "Stack is empty\n"
     ]
    }
   ],
   "source": [
    "st.pop()\n",
    "# 10(top)\n",
    "st.pop()\n",
    "st.peek()"
   ]
  },
  {
   "cell_type": "code",
   "execution_count": 141,
   "id": "106ea98a",
   "metadata": {},
   "outputs": [],
   "source": [
    "'''Impliment Stack using Link list'''\n",
    "class Node:\n",
    "    def __init__(self, value):\n",
    "        self.data=value\n",
    "        self.next= None\n",
    "\n",
    "class Linklist:\n",
    "    def __init__(self):\n",
    "        self.head= None\n",
    "\n",
    "    def node_at_head(self, data):\n",
    "        newHead= Node(data)\n",
    "        newHead.next = self.head\n",
    "        self.head=newHead\n",
    "\n",
    "    def remove_from_head(self):\n",
    "        if self.head == None:\n",
    "            return\n",
    "        new_head= self.head.next\n",
    "        self.head.next=None\n",
    "        self.head=new_head\n",
    "\n",
    "    def display(self):\n",
    "        if self.head == None:\n",
    "            return\n",
    "        temp =self.head\n",
    "        while temp != None:\n",
    "            print(temp.data, end=\"-->\")\n",
    "            temp=temp.next\n",
    "        print(\"x\")             \n",
    "    \n",
    "    def is_empty(self):\n",
    "        return self.head == None\n",
    "    \n",
    "    def get_head(self):\n",
    "        if self.is_empty():\n",
    "            return\n",
    "        return self.head.data\n",
    "\n",
    "\n",
    "\n",
    "class Stack:\n",
    "    def __init__(self):\n",
    "        self.__ll=Linklist()\n",
    "\n",
    "    def push(self,data):\n",
    "        self.__ll.node_at_head(data)\n",
    "\n",
    "    def pop(self):\n",
    "        if self.__ll.is_empty():\n",
    "            print(\"stack is empty\")\n",
    "            return\n",
    "        self.__ll.remove_from_head()\n",
    "    \n",
    "    def peek(self):\n",
    "        if self.__ll.is_empty():\n",
    "            print(\"stack is empty\")\n",
    "            return\n",
    "        return self.__ll.get_head()\n",
    "\n",
    "\n",
    "\n",
    "                 \n",
    "        "
   ]
  },
  {
   "cell_type": "code",
   "execution_count": 144,
   "id": "9e21028c",
   "metadata": {},
   "outputs": [
    {
     "data": {
      "text/plain": [
       "20"
      ]
     },
     "execution_count": 144,
     "metadata": {},
     "output_type": "execute_result"
    }
   ],
   "source": [
    "s=Stack()\n",
    "s.push(10)\n",
    "s.push(20)\n",
    "s.peek()"
   ]
  },
  {
   "cell_type": "code",
   "execution_count": 145,
   "id": "72936aa2",
   "metadata": {},
   "outputs": [
    {
     "data": {
      "text/plain": [
       "10"
      ]
     },
     "execution_count": 145,
     "metadata": {},
     "output_type": "execute_result"
    }
   ],
   "source": [
    "s.pop()\n",
    "s.peek()"
   ]
  },
  {
   "cell_type": "code",
   "execution_count": 146,
   "id": "6e3edb3b",
   "metadata": {},
   "outputs": [
    {
     "name": "stdout",
     "output_type": "stream",
     "text": [
      "stack is empty\n"
     ]
    }
   ],
   "source": [
    "s.pop()\n",
    "s.peek()"
   ]
  },
  {
   "cell_type": "code",
   "execution_count": 147,
   "id": "76d92312",
   "metadata": {},
   "outputs": [
    {
     "name": "stdout",
     "output_type": "stream",
     "text": [
      "stack is empty\n"
     ]
    }
   ],
   "source": [
    "s.pop()"
   ]
  },
  {
   "cell_type": "code",
   "execution_count": null,
   "id": "3f4385cf",
   "metadata": {},
   "outputs": [
    {
     "name": "stdout",
     "output_type": "stream",
     "text": [
      "40-->30-->20-->10-->x\n",
      "30-->20-->10-->x\n"
     ]
    }
   ],
   "source": [
    "ll=Linklist()\n",
    "ll.node_at_head(10)\n",
    "ll.node_at_head(20)\n",
    "ll.node_at_head(30)\n",
    "ll.node_at_head(40)\n",
    "ll.display()\n",
    "ll.remove_from_head()\n",
    "ll.display()\n"
   ]
  },
  {
   "cell_type": "code",
   "execution_count": 170,
   "id": "cd7be9af",
   "metadata": {},
   "outputs": [],
   "source": [
    "'''Balanced Parentheses'''\n",
    "\n",
    "def isBalanced(expression):\n",
    "    st=[]\n",
    "    for i in range(len(expression)):\n",
    "        if expression[i]=='(':\n",
    "            st.append('(')\n",
    "        elif expression[i] == ')':\n",
    "            if len(st) == 0:\n",
    "                return False\n",
    "            if st [len(st)-1] == '(':\n",
    "                st.pop()\n",
    "    return len(st) == 0\n"
   ]
  },
  {
   "cell_type": "code",
   "execution_count": 171,
   "id": "8d57b780",
   "metadata": {},
   "outputs": [
    {
     "data": {
      "text/plain": [
       "True"
      ]
     },
     "execution_count": 171,
     "metadata": {},
     "output_type": "execute_result"
    }
   ],
   "source": [
    "isBalanced(\"(())\")"
   ]
  },
  {
   "cell_type": "code",
   "execution_count": null,
   "id": "a3a21606",
   "metadata": {},
   "outputs": [],
   "source": [
    "'''You have been given two stacks that can store integers as the data. Out of the two given stacks, one is populated and the other one is empty. You are required to write a\n",
    " function that reverses the populated stack using the one which is empty.\n",
    "'''"
   ]
  },
  {
   "cell_type": "code",
   "execution_count": null,
   "id": "fa01dfdd",
   "metadata": {},
   "outputs": [],
   "source": [
    "def reverseStack(inputStack, extraStack):\n",
    "    if isEmpty(inputStack):\n",
    "        return\n",
    "    \n",
    "    topElement = inputStack.pop() \n",
    "    reverseStack(inputStack, extraStack)  \n",
    "\t\n",
    "    while not isEmpty(inputStack):\n",
    "        element = inputStack.pop()\n",
    "        extraStack.append(element)\n",
    "    \n",
    "    inputStack.append(topElement)\n",
    "\n",
    "    while not isEmpty(extraStack):\n",
    "        element = extraStack.pop()\n",
    "        inputStack.append(element)"
   ]
  },
  {
   "cell_type": "code",
   "execution_count": null,
   "id": "7f882c51",
   "metadata": {},
   "outputs": [],
   "source": [
    "'''\n",
    "You have been given an array/list ‘ARR’ consisting of ‘N’ positive integers. Your task is to return the Next Greater Element(NGE) for every element.\n",
    "The Next Greater Element for an element ‘X’ is the first element on the right side of ‘X’ in the array 'ARR', which is greater than ‘X’. If no such element exists to the \n",
    "right of ‘X’, then return -1.\n",
    "'''"
   ]
  },
  {
   "cell_type": "code",
   "execution_count": 173,
   "id": "8f853bd6",
   "metadata": {},
   "outputs": [
    {
     "data": {
      "text/plain": [
       "[2, 5, 8, 8, 10, 10, -1]"
      ]
     },
     "execution_count": 173,
     "metadata": {},
     "output_type": "execute_result"
    }
   ],
   "source": [
    "def next_greater(arr,n):\n",
    "    st=[]\n",
    "    output=[-1]*n\n",
    "    for i in range(n):\n",
    "        while st and arr[i]> arr[st[-1]]:\n",
    "            output[st[-1]] = arr[i]\n",
    "            st.pop()\n",
    "        st.append(i)\n",
    "    return output\n",
    "        \n",
    "\n",
    "\n",
    "next_greater([1,2,5,3,8,4,10],7)"
   ]
  },
  {
   "cell_type": "code",
   "execution_count": 175,
   "id": "ae403ec1",
   "metadata": {},
   "outputs": [
    {
     "data": {
      "text/plain": [
       "[-1, 1, 2, 2, 3, 3, 4]"
      ]
     },
     "execution_count": 175,
     "metadata": {},
     "output_type": "execute_result"
    }
   ],
   "source": [
    "'''previous small'''\n",
    "\n",
    "def previous_small(arr,n):\n",
    "    st=[]\n",
    "    output=[-1]*n\n",
    "    for i in range(n-1,-1,-1):\n",
    "        while st and arr[i]<arr[st[-1]]:\n",
    "            output[st[-1]]= arr[i]\n",
    "            st.pop()\n",
    "        st.append(i)\n",
    "    return output\n",
    "previous_small([1,2,5,3,8,4,10],7)\n"
   ]
  },
  {
   "cell_type": "code",
   "execution_count": null,
   "id": "d3607dcf",
   "metadata": {},
   "outputs": [],
   "source": [
    "'''\n",
    "Amit has been working with an organization called 'Money Traders' for the past few years. The organization is into the money trading business. His manager\n",
    " assigned him a task. For a given array/list of stock's prices for N days, find the stock's span for each day.\n",
    "The span of the stock's price today is defined as the maximum number of consecutive days(starting from today and going backwards) for which the price of \n",
    "the stock was less than today's price.\n",
    "Explanation:\n",
    "For the stock prices [100, 80, 60, 70, 60, 75, 85], the span of each day is calculated by counting consecutive previous days with a price less than or \n",
    "equal to today's price:\n",
    "'''"
   ]
  },
  {
   "cell_type": "code",
   "execution_count": null,
   "id": "a07352b2",
   "metadata": {},
   "outputs": [],
   "source": [
    "def stockSpan(price, n) :\n",
    "\t#Your code goes here\n",
    "\toutput=[1]*n\n",
    "\tfor i in range(n-1,-1,-1):\n",
    "\t\tfor j in range(i+1,-1,-1):\n",
    "\t\t\tif price[j] > price[i]:\n",
    "\t\t\t\toutput[i] = i-j+1\n",
    "\t\t\telse:\n",
    "\t\t\t\toutput[i]=i+1\n",
    "\treturn output\n",
    "\t\n",
    "\t\t\t\n",
    "\t\t"
   ]
  },
  {
   "cell_type": "code",
   "execution_count": null,
   "id": "4bd7fc82",
   "metadata": {},
   "outputs": [],
   "source": [
    "from sys import stdin\n",
    "\n",
    "def stockSpan(price, n) :\n",
    "\t#Your code goes here\n",
    "\toutput=[1]*n\n",
    "\tst=[]\n",
    "\tfor i in range(n-1,-1,-1):\n",
    "\t\twhile st and arr[st[-1]]> arr[i]:\n",
    "\t\t\toutput[i]=i-st[-1]\n",
    "\t\t\tst.pop()\n",
    "\t\tst.append(i)\n",
    "\t\t\n",
    "\t\t\n",
    "\treturn output"
   ]
  },
  {
   "cell_type": "code",
   "execution_count": null,
   "id": "e6bee8fb",
   "metadata": {},
   "outputs": [
    {
     "data": {
      "text/plain": [
       "[1, 2, 3, 4, 1, 1, 2, 8]"
      ]
     },
     "execution_count": 210,
     "metadata": {},
     "output_type": "execute_result"
    }
   ],
   "source": [
    "def previous_greater(arr, n):\n",
    "    st = []\n",
    "    output = [0] * n  \n",
    "\n",
    "    for i in range(n):\n",
    "        while st and arr[st[-1]] <= arr[i]:\n",
    "            st.pop()\n",
    "        if not st:\n",
    "            output[i] = i + 1\n",
    "        else:\n",
    "            output[i] = i - st[-1]\n",
    "        \n",
    "        st.append(i)\n",
    "\n",
    "    return output\n",
    "\n",
    " \n",
    "\n",
    "previous_greater([60,70,80,100,90,75,80,120],8)\n"
   ]
  },
  {
   "cell_type": "code",
   "execution_count": null,
   "id": "051df0be",
   "metadata": {},
   "outputs": [],
   "source": [
    "\n",
    "def stockSpan(price, n) :\n",
    "    st = []\n",
    "    output = [1] * n  \n",
    "    for i in range(n-1,0,-1):\n",
    "        if price[i-1]>price[i]:\n",
    "            output[i]= i-(i-1)\n",
    "            while st and price[i-1]>price[st[-1]]:\n",
    "                output[i]=st[-1]-i\n",
    "                st.pop()\n",
    "        else:\n",
    "           st.append(i)\n",
    "           output[i]=i+1\t\n",
    "\n",
    "    return output\t\n",
    "                                                                   \n",
    "\n",
    "\t\t"
   ]
  },
  {
   "cell_type": "code",
   "execution_count": null,
   "id": "da367790",
   "metadata": {},
   "outputs": [],
   "source": [
    "'''\n",
    "Problem statement\n",
    "You have been given a long type array/list 'arr’ of size 'n’.\n",
    "It represents an elevation map wherein 'arr[i]’ denotes the elevation of the 'ith' bar.\n",
    "Print the total amount of rainwater that can be trapped in these elevations.\n",
    "Note :\n",
    "The width of each bar is the same and is equal to 1.\n",
    "Example:\n",
    "Input: ‘n’ = 6, ‘arr’ = [3, 0, 0, 2, 0, 4\n",
    "'''"
   ]
  },
  {
   "cell_type": "code",
   "execution_count": 247,
   "id": "6b20869f",
   "metadata": {},
   "outputs": [
    {
     "name": "stdout",
     "output_type": "stream",
     "text": [
      "[8, 8, 8, 8, 8]\n",
      "[8, 8, 8, 4, 4]\n"
     ]
    },
    {
     "data": {
      "text/plain": [
       "9"
      ]
     },
     "execution_count": 247,
     "metadata": {},
     "output_type": "execute_result"
    }
   ],
   "source": [
    "\n",
    "def getTrappedWater(arr,n):\n",
    "    # Write your code here.\n",
    "    tl=[0]*n\n",
    "    tr=[0]*n\n",
    "    tr[n-1]=arr[n-1]\n",
    "    r=0\n",
    "    for i in range(n):\n",
    "        tl[i]=max(tl[i-1],arr[i])\n",
    "        \n",
    "    for j in range(n-2,-1,-1):\n",
    "        tr[j]=max(tr[j+1],arr[j])\n",
    "    for k in range(n):\n",
    "        if tl[k]<=tr[k]:\n",
    "            r+=tl[k]-arr[k]\n",
    "        else:\n",
    "            r+=tr[k]-arr[k]\n",
    "\n",
    "\n",
    "     \n",
    "    print(tl)\n",
    "    print(tr)\n",
    "    return r\n",
    "\n",
    "\n",
    "   \n",
    "    \n",
    "     \n",
    "\n",
    "getTrappedWater([8,1,8,2,4],5)\n"
   ]
  },
  {
   "cell_type": "code",
   "execution_count": null,
   "id": "13ed7fa8",
   "metadata": {},
   "outputs": [],
   "source": [
    "'''You are given a string denoting a valid Prefix expression containing ‘+’, ’-’, ’*’, ‘/’ and lowercase letters.\n",
    "Convert the given Prefix expression into an Infix expression.'''"
   ]
  },
  {
   "cell_type": "code",
   "execution_count": 249,
   "id": "77ee3937",
   "metadata": {},
   "outputs": [
    {
     "data": {
      "text/plain": [
       "'((a-(b/c))*((d/k)-l))'"
      ]
     },
     "execution_count": 249,
     "metadata": {},
     "output_type": "execute_result"
    }
   ],
   "source": [
    "''' Prefix to infix expression'''\n",
    "def prefixToInfixConversion(s):\n",
    "    st = []\n",
    "  \n",
    "    for i in range(len(s) - 1, -1, -1):\n",
    "        if s[i] not in ['+','-','*','/']:\n",
    "            st.append(s[i])\n",
    "        else:\n",
    "            a = st.pop()\n",
    "            b = st.pop()\n",
    "            st.append('(' + a + s[i] + b + ')')\n",
    "    \n",
    "    return st[-1]\n",
    "\n",
    "prefixToInfixConversion('*-a/bc-/dkl')"
   ]
  },
  {
   "cell_type": "code",
   "execution_count": null,
   "id": "702584c3",
   "metadata": {},
   "outputs": [],
   "source": []
  }
 ],
 "metadata": {
  "kernelspec": {
   "display_name": "base",
   "language": "python",
   "name": "python3"
  },
  "language_info": {
   "codemirror_mode": {
    "name": "ipython",
    "version": 3
   },
   "file_extension": ".py",
   "mimetype": "text/x-python",
   "name": "python",
   "nbconvert_exporter": "python",
   "pygments_lexer": "ipython3",
   "version": "3.12.7"
  }
 },
 "nbformat": 4,
 "nbformat_minor": 5
}
