{
 "cells": [
  {
   "cell_type": "code",
   "execution_count": null,
   "id": "89a347f9",
   "metadata": {},
   "outputs": [],
   "source": [
    "'''A doubly-linked list is a data structure that consists of sequentially linked nodes, and the nodes have reference to both the previous and the next \n",
    "nodes in the sequence of nodes.\n",
    "Given a doubly-linked list and a value ‘k’, insert a node having value ‘k’ at the end of the doubly linked list.'''"
   ]
  },
  {
   "cell_type": "code",
   "execution_count": null,
   "id": "3ea16bc7",
   "metadata": {},
   "outputs": [],
   "source": [
    "'''ADD NODE AT TAIL'''\n",
    "class Node:\n",
    "    def __init__(self, val=0, next=None, prev=None):\n",
    "        self.val = val\n",
    "        self.prev = prev\n",
    "        self.next = next\n",
    "\n",
    "\n",
    "def insertAtTail(head: Node, k: int) -> Node:\n",
    "    # Write your code here\n",
    "    if head == None:\n",
    "        return Node(k)\n",
    "    temp=head\n",
    "    while temp.next != None:\n",
    "        temp= temp.next\n",
    "    newTali=Node(k)\n",
    "    temp.next=newTali\n",
    "    newTali.prev=temp\n",
    "    \n",
    "    return head"
   ]
  },
  {
   "cell_type": "code",
   "execution_count": null,
   "id": "b1ccfa9b",
   "metadata": {},
   "outputs": [],
   "source": [
    "'''REMOVE THE NODE AT TAIL IN DOUBLY LINK LIST'''\n",
    "class Node:\n",
    "    def __init__(self, data=0, next=None, prev=None):\n",
    "        self.data = data\n",
    "        self.next = next\n",
    "        self.prev = prev\n",
    "\n",
    "\n",
    "# Do not change code above.\n",
    "\n",
    "\n",
    "def deleteLastNode(head: Node) -> Node:\n",
    "    # Write your code here\n",
    "    if head == None:\n",
    "        return\n",
    "    if head.next == None:\n",
    "        head = None\n",
    "        return head\n",
    "    temp = head\n",
    "    while temp.next != None:\n",
    "        temp= temp.next\n",
    "\n",
    "    prv= temp.prev\n",
    "    prv.next=None\n",
    "    temp.prev= None\n",
    "    return head            \n"
   ]
  },
  {
   "cell_type": "code",
   "execution_count": 46,
   "id": "71b8cdb8",
   "metadata": {},
   "outputs": [],
   "source": [
    "class Node:\n",
    "    def __init__(self,value):\n",
    "        self.data=value\n",
    "class CircularLL:\n",
    "    def __init__(self):\n",
    "        self.head= None\n",
    "        self.tail=None\n",
    "\n",
    "    def add_at_head(self,data):\n",
    "        if self.head==None:\n",
    "            new_head=Node(data)\n",
    "            self.head=new_head\n",
    "            self.tail = new_head\n",
    "            return\n",
    "        new_head=Node(data)\n",
    "        new_head.next=self.head\n",
    "        self.head=new_head\n",
    "        self.tail.next=self.head\n",
    "\n",
    "    def display(self):\n",
    "    \n",
    "        if self.head == None:\n",
    "            return\n",
    "        if self.head == self.tail:\n",
    "            print(self.head.data)\n",
    "            return\n",
    "        temp=self.head\n",
    "        while temp != self.tail:\n",
    "            print(temp.data, end=\"->\")\n",
    "            temp=temp.next\n",
    "\n",
    "        #Print tail node    \n",
    "        print(temp.data, end=\"->\")\n",
    "\n",
    "        #print next Node of tail Node\n",
    "        print(temp.next.data)\n",
    "\n",
    "\n"
   ]
  },
  {
   "cell_type": "code",
   "execution_count": 47,
   "id": "6db7b4bc",
   "metadata": {},
   "outputs": [
    {
     "name": "stdout",
     "output_type": "stream",
     "text": [
      "40->30->20->10->40\n"
     ]
    }
   ],
   "source": [
    "cl = CircularLL()\n",
    "cl.add_at_head(10)\n",
    "cl.add_at_head(20)\n",
    "cl.add_at_head(30)\n",
    "cl.add_at_head(40)\n",
    "cl.display()"
   ]
  },
  {
   "cell_type": "code",
   "execution_count": null,
   "metadata": {},
   "outputs": [],
   "source": []
  }
 ],
 "metadata": {
  "kernelspec": {
   "display_name": "base",
   "language": "python",
   "name": "python3"
  },
  "language_info": {
   "codemirror_mode": {
    "name": "ipython",
    "version": 3
   },
   "file_extension": ".py",
   "mimetype": "text/x-python",
   "name": "python",
   "nbconvert_exporter": "python",
   "pygments_lexer": "ipython3",
   "version": "3.12.7"
  }
 },
 "nbformat": 4,
 "nbformat_minor": 5
}
