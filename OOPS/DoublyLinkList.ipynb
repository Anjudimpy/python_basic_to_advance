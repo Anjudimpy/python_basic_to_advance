{
 "cells": [
  {
   "cell_type": "code",
   "execution_count": null,
   "id": "89a347f9",
   "metadata": {},
   "outputs": [],
   "source": [
    "'''A doubly-linked list is a data structure that consists of sequentially linked nodes, and the nodes have reference to both the previous and the next \n",
    "nodes in the sequence of nodes.\n",
    "Given a doubly-linked list and a value ‘k’, insert a node having value ‘k’ at the end of the doubly linked list.'''"
   ]
  },
  {
   "cell_type": "code",
   "execution_count": null,
   "id": "3ea16bc7",
   "metadata": {},
   "outputs": [],
   "source": [
    "'''ADD NODE AT TAIL'''\n",
    "class Node:\n",
    "    def __init__(self, val=0, next=None, prev=None):\n",
    "        self.val = val\n",
    "        self.prev = prev\n",
    "        self.next = next\n",
    "\n",
    "\n",
    "def insertAtTail(head: Node, k: int) -> Node:\n",
    "    # Write your code here\n",
    "    if head == None:\n",
    "        return Node(k)\n",
    "    temp=head\n",
    "    while temp.next != None:\n",
    "        temp= temp.next\n",
    "    newTali=Node(k)\n",
    "    temp.next=newTali\n",
    "    newTali.prev=temp\n",
    "    \n",
    "    return head"
   ]
  },
  {
   "cell_type": "code",
   "execution_count": null,
   "id": "b1ccfa9b",
   "metadata": {},
   "outputs": [],
   "source": [
    "'''REMOVE THE NODE AT TAIL IN DOUBLY LINK LIST'''\n",
    "class Node:\n",
    "    def __init__(self, data=0, next=None, prev=None):\n",
    "        self.data = data\n",
    "        self.next = next\n",
    "        self.prev = prev\n",
    "\n",
    "\n",
    "# Do not change code above.\n",
    "\n",
    "\n",
    "def deleteLastNode(head: Node) -> Node:\n",
    "    # Write your code here\n",
    "    if head == None:\n",
    "        return\n",
    "    if head.next == None:\n",
    "        head = None\n",
    "        return head\n",
    "    temp = head\n",
    "    while temp.next != None:\n",
    "        temp= temp.next\n",
    "\n",
    "    prv= temp.prev\n",
    "    prv.next=None\n",
    "    temp.prev= None\n",
    "    return head            \n"
   ]
  }
 ],
 "metadata": {
  "language_info": {
   "name": "python"
  }
 },
 "nbformat": 4,
 "nbformat_minor": 5
}
