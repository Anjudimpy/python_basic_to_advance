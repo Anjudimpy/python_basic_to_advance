{
 "cells": [
  {
   "cell_type": "code",
   "execution_count": null,
   "id": "89a347f9",
   "metadata": {},
   "outputs": [],
   "source": [
    "'''A doubly-linked list is a data structure that consists of sequentially linked nodes, and the nodes have reference to both the previous and the next \n",
    "nodes in the sequence of nodes.\n",
    "Given a doubly-linked list and a value ‘k’, insert a node having value ‘k’ at the end of the doubly linked list.'''"
   ]
  },
  {
   "cell_type": "code",
   "execution_count": null,
   "id": "3ea16bc7",
   "metadata": {},
   "outputs": [],
   "source": [
    "'''ADD NODE AT TAIL'''\n",
    "class Node:\n",
    "    def __init__(self, val=0, next=None, prev=None):\n",
    "        self.val = val\n",
    "        self.prev = prev\n",
    "        self.next = next\n",
    "\n",
    "\n",
    "def insertAtTail(head: Node, k: int) -> Node:\n",
    "    # Write your code here\n",
    "    if head == None:\n",
    "        return Node(k)\n",
    "    temp=head\n",
    "    while temp.next != None:\n",
    "        temp= temp.next\n",
    "    newTali=Node(k)\n",
    "    temp.next=newTali\n",
    "    newTali.prev=temp\n",
    "    \n",
    "    return head"
   ]
  },
  {
   "cell_type": "code",
   "execution_count": null,
   "id": "b1ccfa9b",
   "metadata": {},
   "outputs": [],
   "source": [
    "'''REMOVE THE NODE AT TAIL IN DOUBLY LINK LIST'''\n",
    "class Node:\n",
    "    def __init__(self, data=0, next=None, prev=None):\n",
    "        self.data = data\n",
    "        self.next = next\n",
    "        self.prev = prev\n",
    "\n",
    "\n",
    "# Do not change code above.\n",
    "\n",
    "\n",
    "def deleteLastNode(head: Node) -> Node:\n",
    "    # Write your code here\n",
    "    if head == None:\n",
    "        return\n",
    "    if head.next == None:\n",
    "        head = None\n",
    "        return head\n",
    "    temp = head\n",
    "    while temp.next != None:\n",
    "        temp= temp.next\n",
    "\n",
    "    prv= temp.prev\n",
    "    prv.next=None\n",
    "    temp.prev= None\n",
    "    return head            \n"
   ]
  },
  {
   "cell_type": "code",
   "execution_count": 46,
   "id": "71b8cdb8",
   "metadata": {},
   "outputs": [],
   "source": [
    "class Node:\n",
    "    def __init__(self,value):\n",
    "        self.data=value\n",
    "class CircularLL:\n",
    "    def __init__(self):\n",
    "        self.head= None\n",
    "        self.tail=None\n",
    "\n",
    "    def add_at_head(self,data):\n",
    "        if self.head==None:\n",
    "            new_head=Node(data)\n",
    "            self.head=new_head\n",
    "            self.tail = new_head\n",
    "            return\n",
    "        new_head=Node(data)\n",
    "        new_head.next=self.head\n",
    "        self.head=new_head\n",
    "        self.tail.next=self.head\n",
    "\n",
    "    def display(self):\n",
    "    \n",
    "        if self.head == None:\n",
    "            return\n",
    "        if self.head == self.tail:\n",
    "            print(self.head.data)\n",
    "            return\n",
    "        temp=self.head\n",
    "        while temp != self.tail:\n",
    "            print(temp.data, end=\"->\")\n",
    "            temp=temp.next\n",
    "\n",
    "        #Print tail node    \n",
    "        print(temp.data, end=\"->\")\n",
    "\n",
    "        #print next Node of tail Node\n",
    "        print(temp.next.data)\n",
    "\n",
    "\n"
   ]
  },
  {
   "cell_type": "code",
   "execution_count": 47,
   "id": "6db7b4bc",
   "metadata": {},
   "outputs": [
    {
     "name": "stdout",
     "output_type": "stream",
     "text": [
      "40->30->20->10->40\n"
     ]
    }
   ],
   "source": [
    "cl = CircularLL()\n",
    "cl.add_at_head(10)\n",
    "cl.add_at_head(20)\n",
    "cl.add_at_head(30)\n",
    "cl.add_at_head(40)\n",
    "cl.display()"
   ]
  },
  {
   "cell_type": "code",
   "execution_count": null,
   "metadata": {},
   "outputs": [],
   "source": [
    "'''You’re given a linked list. The last node might point to null, or it might point to a node in the list, thus forming a cycle.\n",
    "Find out whether the linked list has a cycle or not, and the length of the cycle if it does.\n",
    "If there is no cycle, return 0, otherwise return the length of the cycle.\n",
    "Example:Input: Linked List: 4 -> 10 -> 3 -> 5 -> 10(at position 2)\n",
    "Output: Length of cycle = 3\n",
    "Explanation: The cycle is 10, 3, 5.'''"
   ]
  },
  {
   "cell_type": "code",
   "execution_count": 101,
   "id": "d4034781",
   "metadata": {},
   "outputs": [
    {
     "name": "stdout",
     "output_type": "stream",
     "text": [
      "5->4->3->2->x\n"
     ]
    },
    {
     "data": {
      "text/plain": [
       "3"
      ]
     },
     "execution_count": 101,
     "metadata": {},
     "output_type": "execute_result"
    }
   ],
   "source": [
    "'''length of cycle link list'''\n",
    "class Node:\n",
    "    def __init__(self,value):\n",
    "        self.data=value\n",
    "        self.next=None  \n",
    "\n",
    "class cycleLinkList:\n",
    "    def __init__(self):\n",
    "         self.head=None\n",
    "\n",
    "    def add_node_head(self,data):\n",
    "     \n",
    "        new_head=Node(data)\n",
    "        new_head.next=self.head\n",
    "        self.head=new_head\n",
    "\n",
    "    def display(self):\n",
    "        if self.head ==None:\n",
    "            return\n",
    "        temp=self.head\n",
    "        while temp!= None:\n",
    "            print(temp.data, end=\"->\")\n",
    "            temp=temp.next\n",
    "        print(\"x\")\n",
    "\n",
    "    def detectCyclie(self):\n",
    "        slow=self.head\n",
    "        fast=self.head\n",
    "        while fast !=None and fast.next !=None:\n",
    "            slow=slow.next\n",
    "            fast=fast.next.next\n",
    "            if slow == fast:\n",
    "                cur=slow.next\n",
    "                count=1\n",
    "                while cur !=slow:\n",
    "                    count+=1\n",
    "                    cur=cur.next    \n",
    "                return count\n",
    "        return 0    \n",
    "                \n",
    "cll=cycleLinkList()\n",
    "cll.add_node_head(2)\n",
    "cll.add_node_head(3)\n",
    "cll.add_node_head(4)\n",
    "cll.add_node_head(5)\n",
    "cll.display()\n",
    "cy=cll.head.next\n",
    "temp=cll.head\n",
    "while temp.next != None:\n",
    "    temp=temp.next\n",
    "\n",
    "temp.next=cy\n",
    "\n",
    "cll.detectCyclie()\n",
    "        "
   ]
  },
  {
   "cell_type": "code",
   "execution_count": null,
   "id": "922c26c7",
   "metadata": {},
   "outputs": [],
   "source": [
    "'''Swap twod node'''\n",
    "def swapNodes(head, i, j) :\n",
    "\t#Your code goes here\n",
    "    if i == j:\n",
    "        return head\n",
    "    temp=head\n",
    "    c=0\n",
    "    n=0\n",
    "    if i>j:\n",
    "        n=i \n",
    "        i=j \n",
    "        j=n\n",
    "    while c < j:\n",
    "        if c == i:\n",
    "            ithnode=temp\n",
    "            \n",
    "        temp=temp.next\n",
    "        c+=1\n",
    "    ithnode.data, temp.data= temp.data, ithnode.data\n",
    "  \n",
    "    \n",
    "    return head   "
   ]
  },
  {
   "cell_type": "code",
   "execution_count": null,
   "id": "c5b313fd",
   "metadata": {},
   "outputs": [],
   "source": [
    "'''Spearate odd even node '''\n",
    "\n",
    "\n",
    "def evenAfterOdd(head):\n",
    "    if head is None:\n",
    "        return None\n",
    "\n",
    "    odd_head = odd_tail = None\n",
    "    even_head = even_tail = None\n",
    "    current = head\n",
    "\n",
    "    while current:\n",
    "        next_node = current.next\n",
    "        current.next = None  \n",
    "\n",
    "        if current.data % 2 != 0:\n",
    "            if odd_head is None:\n",
    "                odd_head = odd_tail = current\n",
    "            else:\n",
    "                odd_tail.next = current\n",
    "                odd_tail = current\n",
    "        else:\n",
    "            if even_head is None:\n",
    "                even_head = even_tail = current\n",
    "            else:\n",
    "                even_tail.next = current\n",
    "                even_tail = current\n",
    "\n",
    "        current = next_node\n",
    "\n",
    "\n",
    "    if odd_tail:\n",
    "        odd_tail.next = even_head\n",
    "        return odd_head\n",
    "    else:\n",
    "        return even_head\n",
    "        \n",
    "\n",
    "\n",
    "\n",
    "\n",
    "\n",
    "\n",
    "\n",
    "\n",
    "\n",
    "\n",
    "\n",
    "\n",
    "\n",
    "\n",
    "\n",
    "\n",
    "\n",
    "\n",
    "\n",
    "\n",
    "\n",
    "\n",
    "\n",
    "\n",
    "#Taking Input Using Fast I/O\n",
    "def takeInput() :\n",
    "    head = None\n",
    "    tail = None\n",
    "\n",
    "    datas = list(map(int, stdin.readline().rstrip().split(\" \")))\n",
    "\n",
    "    i = 0\n",
    "    while (i < len(datas)) and (datas[i] != -1) :\n",
    "        data = datas[i]\n",
    "        newNode = Node(data)\n",
    "\n",
    "        if head is None :\n",
    "            head = newNode\n",
    "            tail = newNode\n",
    "\n",
    "        else :\n",
    "            tail.next = newNode\n",
    "            tail = newNode\n",
    "\n",
    "        i += 1\n",
    "\n",
    "    return head\n",
    "\n"
   ]
  },
  {
   "cell_type": "code",
   "execution_count": null,
   "id": "c75d4be9",
   "metadata": {},
   "outputs": [],
   "source": [
    "'''remove data=k in dubly link list'''\n",
    "\n",
    "def deleteAllOccurrences(head: Node, k: int) -> Node:\n",
    "    # Write your code \n",
    "    while head != None:\n",
    "        if head.data == k:\n",
    "            head=head.next\n",
    "        else:\n",
    "            break    \n",
    "    temp=head\n",
    "    while temp != None:\n",
    "        if temp.data == k:\n",
    "            temp.prev.next=temp.next\n",
    "        temp=temp.next\n",
    "    return head"
   ]
  },
  {
   "cell_type": "code",
   "execution_count": null,
   "id": "55c09ce4",
   "metadata": {},
   "outputs": [],
   "source": [
    "'''Create a Stack usning Python List'''\n",
    "\n",
    "class Stack:\n",
    "    def __init__(self):\n",
    "        self.__arr=[]\n",
    "        self.__top=None\n",
    "\n",
    "    def push(self,data):\n",
    "        self.__arr.append(data)\n",
    "        self.__top=len(self.__arr)-1\n",
    "\n",
    "        \n",
    "    def pop(self):\n",
    "        if self.__top == None:\n",
    "            print(\"stack is empty\")\n",
    "            return\n",
    "        self.__arr.pop()\n",
    "        self.__top=len(self.__arr)-1\n",
    "        if self.__top == -1:\n",
    "            self.__top = None\n",
    "            \n",
    "    def peek(self):\n",
    "        if self.__top == None:\n",
    "            print(\"Stack is empty\")\n",
    "            return\n",
    "        value=self.__arr[self.__top]\n",
    "        return value\n",
    "    \n",
    "\n",
    "\n"
   ]
  },
  {
   "cell_type": "code",
   "execution_count": null,
   "metadata": {},
   "outputs": [
    {
     "data": {
      "text/plain": [
       "40"
      ]
     },
     "execution_count": 117,
     "metadata": {},
     "output_type": "execute_result"
    }
   ],
   "source": [
    "st=Stack()\n",
    "st.push(10)\n",
    "st.push(20)\n",
    "st.push(30)\n",
    "st.push(40)\n",
    "# 10-->20--->30--->40(top)\n",
    "st.peek()\n"
   ]
  },
  {
   "cell_type": "code",
   "execution_count": 118,
   "id": "756b5bd6",
   "metadata": {},
   "outputs": [
    {
     "data": {
      "text/plain": [
       "30"
      ]
     },
     "execution_count": 118,
     "metadata": {},
     "output_type": "execute_result"
    }
   ],
   "source": [
    "st.pop()\n",
    "# 10--->20--->30(top)\n",
    "st.peek()"
   ]
  },
  {
   "cell_type": "code",
   "execution_count": 119,
   "id": "12eded7e",
   "metadata": {},
   "outputs": [
    {
     "data": {
      "text/plain": [
       "20"
      ]
     },
     "execution_count": 119,
     "metadata": {},
     "output_type": "execute_result"
    }
   ],
   "source": [
    "st.pop()\n",
    "# 10--->20(top)\n",
    "st.peek()"
   ]
  },
  {
   "cell_type": "code",
   "execution_count": 120,
   "id": "e4467c6f",
   "metadata": {},
   "outputs": [
    {
     "name": "stdout",
     "output_type": "stream",
     "text": [
      "Stack is empty\n"
     ]
    }
   ],
   "source": [
    "st.pop()\n",
    "# 10(top)\n",
    "st.pop()\n",
    "st.peek()"
   ]
  },
  {
   "cell_type": "code",
   "execution_count": 141,
   "id": "106ea98a",
   "metadata": {},
   "outputs": [],
   "source": [
    "'''Impliment Stack using Link list'''\n",
    "class Node:\n",
    "    def __init__(self, value):\n",
    "        self.data=value\n",
    "        self.next= None\n",
    "\n",
    "class Linklist:\n",
    "    def __init__(self):\n",
    "        self.head= None\n",
    "\n",
    "    def node_at_head(self, data):\n",
    "        newHead= Node(data)\n",
    "        newHead.next = self.head\n",
    "        self.head=newHead\n",
    "\n",
    "    def remove_from_head(self):\n",
    "        if self.head == None:\n",
    "            return\n",
    "        new_head= self.head.next\n",
    "        self.head.next=None\n",
    "        self.head=new_head\n",
    "\n",
    "    def display(self):\n",
    "        if self.head == None:\n",
    "            return\n",
    "        temp =self.head\n",
    "        while temp != None:\n",
    "            print(temp.data, end=\"-->\")\n",
    "            temp=temp.next\n",
    "        print(\"x\")             \n",
    "    \n",
    "    def is_empty(self):\n",
    "        return self.head == None\n",
    "    \n",
    "    def get_head(self):\n",
    "        if self.is_empty():\n",
    "            return\n",
    "        return self.head.data\n",
    "\n",
    "\n",
    "\n",
    "class Stack:\n",
    "    def __init__(self):\n",
    "        self.__ll=Linklist()\n",
    "\n",
    "    def push(self,data):\n",
    "        self.__ll.node_at_head(data)\n",
    "\n",
    "    def pop(self):\n",
    "        if self.__ll.is_empty():\n",
    "            print(\"stack is empty\")\n",
    "            return\n",
    "        self.__ll.remove_from_head()\n",
    "    \n",
    "    def peek(self):\n",
    "        if self.__ll.is_empty():\n",
    "            print(\"stack is empty\")\n",
    "            return\n",
    "        return self.__ll.get_head()\n",
    "\n",
    "\n",
    "\n",
    "                 \n",
    "        "
   ]
  },
  {
   "cell_type": "code",
   "execution_count": 144,
   "id": "9e21028c",
   "metadata": {},
   "outputs": [
    {
     "data": {
      "text/plain": [
       "20"
      ]
     },
     "execution_count": 144,
     "metadata": {},
     "output_type": "execute_result"
    }
   ],
   "source": [
    "s=Stack()\n",
    "s.push(10)\n",
    "s.push(20)\n",
    "s.peek()"
   ]
  },
  {
   "cell_type": "code",
   "execution_count": 145,
   "id": "72936aa2",
   "metadata": {},
   "outputs": [
    {
     "data": {
      "text/plain": [
       "10"
      ]
     },
     "execution_count": 145,
     "metadata": {},
     "output_type": "execute_result"
    }
   ],
   "source": [
    "s.pop()\n",
    "s.peek()"
   ]
  },
  {
   "cell_type": "code",
   "execution_count": 146,
   "id": "6e3edb3b",
   "metadata": {},
   "outputs": [
    {
     "name": "stdout",
     "output_type": "stream",
     "text": [
      "stack is empty\n"
     ]
    }
   ],
   "source": [
    "s.pop()\n",
    "s.peek()"
   ]
  },
  {
   "cell_type": "code",
   "execution_count": 147,
   "id": "76d92312",
   "metadata": {},
   "outputs": [
    {
     "name": "stdout",
     "output_type": "stream",
     "text": [
      "stack is empty\n"
     ]
    }
   ],
   "source": [
    "s.pop()"
   ]
  },
  {
   "cell_type": "code",
   "execution_count": null,
   "id": "3f4385cf",
   "metadata": {},
   "outputs": [
    {
     "name": "stdout",
     "output_type": "stream",
     "text": [
      "40-->30-->20-->10-->x\n",
      "30-->20-->10-->x\n"
     ]
    }
   ],
   "source": [
    "ll=Linklist()\n",
    "ll.node_at_head(10)\n",
    "ll.node_at_head(20)\n",
    "ll.node_at_head(30)\n",
    "ll.node_at_head(40)\n",
    "ll.display()\n",
    "ll.remove_from_head()\n",
    "ll.display()\n"
   ]
  },
  {
   "cell_type": "code",
   "execution_count": 170,
   "id": "cd7be9af",
   "metadata": {},
   "outputs": [],
   "source": [
    "'''Balanced Parentheses'''\n",
    "\n",
    "def isBalanced(expression):\n",
    "    st=[]\n",
    "    for i in range(len(expression)):\n",
    "        if expression[i]=='(':\n",
    "            st.append('(')\n",
    "        elif expression[i] == ')':\n",
    "            if len(st) == 0:\n",
    "                return False\n",
    "            if st [len(st)-1] == '(':\n",
    "                st.pop()\n",
    "    return len(st) == 0\n"
   ]
  },
  {
   "cell_type": "code",
   "execution_count": 171,
   "id": "8d57b780",
   "metadata": {},
   "outputs": [
    {
     "data": {
      "text/plain": [
       "True"
      ]
     },
     "execution_count": 171,
     "metadata": {},
     "output_type": "execute_result"
    }
   ],
   "source": [
    "isBalanced(\"(())\")"
   ]
  },
  {
   "cell_type": "code",
   "execution_count": null,
   "id": "a3a21606",
   "metadata": {},
   "outputs": [],
   "source": [
    "'''You have been given two stacks that can store integers as the data. Out of the two given stacks, one is populated and the other one is empty. You are required to write a\n",
    " function that reverses the populated stack using the one which is empty.\n",
    "'''"
   ]
  },
  {
   "cell_type": "code",
   "execution_count": null,
   "id": "fa01dfdd",
   "metadata": {},
   "outputs": [],
   "source": [
    "def reverseStack(inputStack, extraStack):\n",
    "    if isEmpty(inputStack):\n",
    "        return\n",
    "    \n",
    "    topElement = inputStack.pop() \n",
    "    reverseStack(inputStack, extraStack)  \n",
    "\t\n",
    "    while not isEmpty(inputStack):\n",
    "        element = inputStack.pop()\n",
    "        extraStack.append(element)\n",
    "    \n",
    "    inputStack.append(topElement)\n",
    "\n",
    "    while not isEmpty(extraStack):\n",
    "        element = extraStack.pop()\n",
    "        inputStack.append(element)"
   ]
  },
  {
   "cell_type": "code",
   "execution_count": null,
   "id": "7f882c51",
   "metadata": {},
   "outputs": [],
   "source": [
    "'''\n",
    "You have been given an array/list ‘ARR’ consisting of ‘N’ positive integers. Your task is to return the Next Greater Element(NGE) for every element.\n",
    "The Next Greater Element for an element ‘X’ is the first element on the right side of ‘X’ in the array 'ARR', which is greater than ‘X’. If no such element exists to the \n",
    "right of ‘X’, then return -1.\n",
    "'''"
   ]
  },
  {
   "cell_type": "code",
   "execution_count": 173,
   "id": "8f853bd6",
   "metadata": {},
   "outputs": [
    {
     "data": {
      "text/plain": [
       "[2, 5, 8, 8, 10, 10, -1]"
      ]
     },
     "execution_count": 173,
     "metadata": {},
     "output_type": "execute_result"
    }
   ],
   "source": [
    "def next_greater(arr,n):\n",
    "    st=[]\n",
    "    output=[-1]*n\n",
    "    for i in range(n):\n",
    "        while st and arr[i]> arr[st[-1]]:\n",
    "            output[st[-1]] = arr[i]\n",
    "            st.pop()\n",
    "        st.append(i)\n",
    "    return output\n",
    "        \n",
    "\n",
    "\n",
    "next_greater([1,2,5,3,8,4,10],7)"
   ]
  },
  {
   "cell_type": "code",
   "execution_count": 175,
   "id": "ae403ec1",
   "metadata": {},
   "outputs": [
    {
     "data": {
      "text/plain": [
       "[-1, 1, 2, 2, 3, 3, 4]"
      ]
     },
     "execution_count": 175,
     "metadata": {},
     "output_type": "execute_result"
    }
   ],
   "source": [
    "'''previous small'''\n",
    "\n",
    "def previous_small(arr,n):\n",
    "    st=[]\n",
    "    output=[-1]*n\n",
    "    for i in range(n-1,-1,-1):\n",
    "        while st and arr[i]<arr[st[-1]]:\n",
    "            output[st[-1]]= arr[i]\n",
    "            st.pop()\n",
    "        st.append(i)\n",
    "    return output\n",
    "previous_small([1,2,5,3,8,4,10],7)\n"
   ]
  }
 ],
 "metadata": {
  "kernelspec": {
   "display_name": "base",
   "language": "python",
   "name": "python3"
  },
  "language_info": {
   "codemirror_mode": {
    "name": "ipython",
    "version": 3
   },
   "file_extension": ".py",
   "mimetype": "text/x-python",
   "name": "python",
   "nbconvert_exporter": "python",
   "pygments_lexer": "ipython3",
   "version": "3.12.7"
  }
 },
 "nbformat": 4,
 "nbformat_minor": 5
}
