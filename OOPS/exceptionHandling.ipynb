{
 "cells": [
  {
   "cell_type": "code",
   "execution_count": null,
   "id": "1ef72670",
   "metadata": {},
   "outputs": [],
   "source": [
    "'''ERROR:-\n",
    "          - Syntax Error\n",
    "          - Logical Error: use try and except block\n",
    "\n",
    "'''"
   ]
  },
  {
   "cell_type": "code",
   "execution_count": null,
   "id": "d290b01e",
   "metadata": {},
   "outputs": [
    {
     "ename": "ZeroDivisionError",
     "evalue": "integer division or modulo by zero",
     "output_type": "error",
     "traceback": [
      "\u001b[1;31m---------------------------------------------------------------------------\u001b[0m",
      "\u001b[1;31mZeroDivisionError\u001b[0m                         Traceback (most recent call last)",
      "Cell \u001b[1;32mIn[3], line 3\u001b[0m\n\u001b[0;32m      1\u001b[0m a\u001b[38;5;241m=\u001b[39m\u001b[38;5;241m5\u001b[39m\n\u001b[0;32m      2\u001b[0m b\u001b[38;5;241m=\u001b[39m\u001b[38;5;241m0\u001b[39m\n\u001b[1;32m----> 3\u001b[0m c\u001b[38;5;241m=\u001b[39ma\u001b[38;5;241m/\u001b[39m\u001b[38;5;241m/\u001b[39mb\n\u001b[0;32m      4\u001b[0m \u001b[38;5;28mprint\u001b[39m(c)\n\u001b[0;32m      5\u001b[0m \u001b[38;5;28mprint\u001b[39m(\u001b[38;5;124m\"\u001b[39m\u001b[38;5;124mhello\u001b[39m\u001b[38;5;124m\"\u001b[39m)\n",
      "\u001b[1;31mZeroDivisionError\u001b[0m: integer division or modulo by zero"
     ]
    }
   ],
   "source": [
    "'''If we not handle exception then code broken in between'''\n",
    "a=5\n",
    "b=0\n",
    "c=a//b\n",
    "print(c)\n",
    "print(\"hello\")"
   ]
  },
  {
   "cell_type": "code",
   "execution_count": null,
   "id": "cbf40718",
   "metadata": {},
   "outputs": [
    {
     "name": "stdout",
     "output_type": "stream",
     "text": [
      "Exception handle\n",
      "Hello\n"
     ]
    }
   ],
   "source": [
    "'''1. try and except '''\n",
    "try:\n",
    "    a=5\n",
    "    b=0\n",
    "    c=a//b\n",
    "    print(c)\n",
    "except ZeroDivisionError as e:\n",
    "    print(\"Exception handle\")  \n",
    "print(\"Hello\")      "
   ]
  },
  {
   "cell_type": "code",
   "execution_count": 4,
   "id": "10f4efb7",
   "metadata": {},
   "outputs": [
    {
     "name": "stdout",
     "output_type": "stream",
     "text": [
      "integer division or modulo by zero\n",
      "Welcome\n"
     ]
    }
   ],
   "source": [
    "'''2. Handel multiple exception together '''\n",
    "try:\n",
    "    a=[1,2,3,0]\n",
    "    b=a[0]//a[3]\n",
    "    c=a[5]\n",
    "    print(b,c)\n",
    "\n",
    "except (IndexError,ZeroDivisionError) as e:\n",
    "    print(e)  \n",
    "\n",
    "print(\"Welcome\")      "
   ]
  },
  {
   "cell_type": "code",
   "execution_count": 6,
   "id": "d1fe7906",
   "metadata": {},
   "outputs": [
    {
     "name": "stdout",
     "output_type": "stream",
     "text": [
      "list index out of range\n",
      "Welcome\n"
     ]
    }
   ],
   "source": [
    "'''3. Handel multiple exception together '''\n",
    "try:\n",
    "    a=[1,2,3,0]\n",
    "    c=a[5]\n",
    "    b=a[0]//a[3]\n",
    "   \n",
    "    print(b,c)\n",
    "\n",
    "except IndexError as e:\n",
    "    print(e)  \n",
    "except ZeroDivisionError:\n",
    "    print(\"ZeroDivisionError\")\n",
    "print(\"Welcome\") "
   ]
  },
  {
   "cell_type": "code",
   "execution_count": 7,
   "id": "4b9b367d",
   "metadata": {},
   "outputs": [
    {
     "name": "stdout",
     "output_type": "stream",
     "text": [
      "list index out of range\n",
      "Welcome\n"
     ]
    }
   ],
   "source": [
    "'''4. Handel multiple exception together '''\n",
    "try:\n",
    "    a=[1,2,3,0]\n",
    "    c=a[5]\n",
    "    b=a[0]//a[3]\n",
    "   \n",
    "    print(b,c)\n",
    "\n",
    "except Exception as e:\n",
    "    print(e)\n",
    "print(\"Welcome\")"
   ]
  },
  {
   "cell_type": "code",
   "execution_count": 10,
   "id": "40baf95c",
   "metadata": {},
   "outputs": [
    {
     "name": "stdout",
     "output_type": "stream",
     "text": [
      "Name Error occured\n"
     ]
    }
   ],
   "source": [
    "try:\n",
    "    a = 10\n",
    "    b = 0\n",
    "    print(d)\n",
    "    c = a/b\n",
    "\n",
    "except ZeroDivisionError:\n",
    "    print('Zero Division Error occured')\n",
    "except NameError:\n",
    "    print('Name Error occured')    "
   ]
  },
  {
   "cell_type": "code",
   "execution_count": 14,
   "id": "6dafe9a5",
   "metadata": {},
   "outputs": [
    {
     "name": "stdout",
     "output_type": "stream",
     "text": [
      "Division By Zero exception\n",
      "caught Exception\n"
     ]
    }
   ],
   "source": [
    "'''Custom Exception Class'''\n",
    "class DivisionByZeroException(Exception):\n",
    "    def __init__(self) -> None:\n",
    "        print(\"Division By Zero exception\")\n",
    "        super().__init__()\n",
    "\n",
    "def perform_operation(a,b):\n",
    "    if b==0:\n",
    "        raise DivisionByZeroException()\n",
    "    num=a/b\n",
    "    print(num)\n",
    "\n",
    "a=7\n",
    "b=0\n",
    "try:\n",
    "    perform_operation(a,b)\n",
    "except DivisionByZeroException:\n",
    "    print(\"caught Exception\")    "
   ]
  },
  {
   "cell_type": "code",
   "execution_count": null,
   "id": "c1883ac8",
   "metadata": {},
   "outputs": [
    {
     "ename": "ZeroDenominatorError",
     "evalue": "",
     "output_type": "error",
     "traceback": [
      "\u001b[1;31m---------------------------------------------------------------------------\u001b[0m",
      "\u001b[1;31mZeroDenominatorError\u001b[0m                      Traceback (most recent call last)",
      "Cell \u001b[1;32mIn[16], line 7\u001b[0m\n\u001b[0;32m      5\u001b[0m     b \u001b[38;5;241m=\u001b[39m \u001b[38;5;241m0\u001b[39m\n\u001b[0;32m      6\u001b[0m     \u001b[38;5;28;01mif\u001b[39;00m(b\u001b[38;5;241m==\u001b[39m\u001b[38;5;241m0\u001b[39m):\n\u001b[1;32m----> 7\u001b[0m         \u001b[38;5;28;01mraise\u001b[39;00m ZeroDenominatorError() \n\u001b[0;32m      8\u001b[0m     c \u001b[38;5;241m=\u001b[39m a\u001b[38;5;241m/\u001b[39mb\n\u001b[0;32m      9\u001b[0m \u001b[38;5;28;01mexcept\u001b[39;00m \u001b[38;5;167;01mZeroDivisionError\u001b[39;00m:\n",
      "\u001b[1;31mZeroDenominatorError\u001b[0m: "
     ]
    }
   ],
   "source": [
    "class ZeroDenominatorError(Exception):\n",
    "    pass\n",
    "try:\n",
    "    a = 10\n",
    "    b = 0\n",
    "    if(b==0):\n",
    "        raise ZeroDenominatorError() \n",
    "    c = a/b\n",
    "except ZeroDivisionError:\n",
    "    print('Zero Division Error occured')"
   ]
  },
  {
   "cell_type": "code",
   "execution_count": 1,
   "id": "70a4bc94",
   "metadata": {},
   "outputs": [
    {
     "name": "stdout",
     "output_type": "stream",
     "text": [
      "Zero Division Error occured\n"
     ]
    }
   ],
   "source": [
    "class ZeroDenominatorError(ZeroDivisionError):\n",
    "    pass\n",
    "try:\n",
    "    a = 10\n",
    "    b = 0\n",
    "    if(b==0):\n",
    "        raise ZeroDenominatorError()\n",
    "    c = a/b\n",
    "except ZeroDivisionError:\n",
    "    print('Zero Division Error occured')\n",
    "except ZeroDenominatorError:\n",
    "    print('Zero Denominator Error occured')"
   ]
  },
  {
   "cell_type": "code",
   "execution_count": null,
   "id": "718b72f6",
   "metadata": {},
   "outputs": [],
   "source": [
    "'''Rishabh has recently learnt about custom exceptions. His friend gave him a task to initialise the salary with 500 in a class and raise an exception \n",
    "with message as \"Insufficent funds in the account\" if the withdrawl amount is greater than the bank balance otherwise display a message \n",
    "as \" Remaining:remaining balance\"'''"
   ]
  },
  {
   "cell_type": "code",
   "execution_count": null,
   "id": "94eb952c",
   "metadata": {},
   "outputs": [
    {
     "name": "stdout",
     "output_type": "stream",
     "text": [
      "Insufficent funds in the account\n"
     ]
    }
   ],
   "source": [
    "\n",
    "class InsufficientFundsError(Exception):\n",
    "    pass\n",
    "try:\n",
    "    n=int(input())\n",
    "    if n>=500:\n",
    "            raise InsufficientFundsError()\n",
    "    else:\n",
    "          print(\"Remaining:{}\".format(500-n))\n",
    "except InsufficientFundsError:\n",
    "    print(\"Insufficient funds in the account.\")      \n"
   ]
  },
  {
   "cell_type": "code",
   "execution_count": 5,
   "id": "4dd5766a",
   "metadata": {},
   "outputs": [
    {
     "name": "stdout",
     "output_type": "stream",
     "text": [
      "Exception Zero division\n",
      "Inside Finally Block\n"
     ]
    }
   ],
   "source": [
    "'''Finally Block'''\n",
    "try:\n",
    "    a=5\n",
    "    b=0\n",
    "    c=a//b\n",
    "except ZeroDivisionError:\n",
    "    print(\"Exception Zero division\")\n",
    "finally:\n",
    "    print(\"Inside Finally Block\")        "
   ]
  }
 ],
 "metadata": {
  "kernelspec": {
   "display_name": "base",
   "language": "python",
   "name": "python3"
  },
  "language_info": {
   "codemirror_mode": {
    "name": "ipython",
    "version": 3
   },
   "file_extension": ".py",
   "mimetype": "text/x-python",
   "name": "python",
   "nbconvert_exporter": "python",
   "pygments_lexer": "ipython3",
   "version": "3.12.7"
  }
 },
 "nbformat": 4,
 "nbformat_minor": 5
}
