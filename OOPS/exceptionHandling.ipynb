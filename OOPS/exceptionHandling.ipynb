{
 "cells": [
  {
   "cell_type": "code",
   "execution_count": null,
   "id": "1ef72670",
   "metadata": {},
   "outputs": [],
   "source": [
    "'''ERROR:-\n",
    "          - Syntax Error\n",
    "          - Logical Error: use try and except block\n",
    "\n",
    "'''"
   ]
  },
  {
   "cell_type": "code",
   "execution_count": 3,
   "id": "d290b01e",
   "metadata": {},
   "outputs": [
    {
     "ename": "ZeroDivisionError",
     "evalue": "integer division or modulo by zero",
     "output_type": "error",
     "traceback": [
      "\u001b[1;31m---------------------------------------------------------------------------\u001b[0m",
      "\u001b[1;31mZeroDivisionError\u001b[0m                         Traceback (most recent call last)",
      "Cell \u001b[1;32mIn[3], line 3\u001b[0m\n\u001b[0;32m      1\u001b[0m a\u001b[38;5;241m=\u001b[39m\u001b[38;5;241m5\u001b[39m\n\u001b[0;32m      2\u001b[0m b\u001b[38;5;241m=\u001b[39m\u001b[38;5;241m0\u001b[39m\n\u001b[1;32m----> 3\u001b[0m c\u001b[38;5;241m=\u001b[39ma\u001b[38;5;241m/\u001b[39m\u001b[38;5;241m/\u001b[39mb\n\u001b[0;32m      4\u001b[0m \u001b[38;5;28mprint\u001b[39m(c)\n\u001b[0;32m      5\u001b[0m \u001b[38;5;28mprint\u001b[39m(\u001b[38;5;124m\"\u001b[39m\u001b[38;5;124mhello\u001b[39m\u001b[38;5;124m\"\u001b[39m)\n",
      "\u001b[1;31mZeroDivisionError\u001b[0m: integer division or modulo by zero"
     ]
    }
   ],
   "source": [
    "'''If we not handle exception then code broken in between'''\n",
    "a=5\n",
    "b=0\n",
    "c=a//b\n",
    "print(c)\n",
    "print(\"hello\")"
   ]
  },
  {
   "cell_type": "code",
   "execution_count": 2,
   "id": "cbf40718",
   "metadata": {},
   "outputs": [
    {
     "name": "stdout",
     "output_type": "stream",
     "text": [
      "Exception handle\n",
      "Hello\n"
     ]
    }
   ],
   "source": [
    "'''1. try and except '''\n",
    "try:\n",
    "    a=5\n",
    "    b=0\n",
    "    c=a//b\n",
    "    print(c)\n",
    "except ZeroDivisionError as e:\n",
    "    print(\"Exception handle\")  \n",
    "print(\"Hello\")      "
   ]
  },
  {
   "cell_type": "code",
   "execution_count": 4,
   "id": "10f4efb7",
   "metadata": {},
   "outputs": [
    {
     "name": "stdout",
     "output_type": "stream",
     "text": [
      "integer division or modulo by zero\n",
      "Welcome\n"
     ]
    }
   ],
   "source": [
    "'''2. Handel multiple exception together '''\n",
    "try:\n",
    "    a=[1,2,3,0]\n",
    "    b=a[0]//a[3]\n",
    "    c=a[5]\n",
    "    print(b,c)\n",
    "\n",
    "except (IndexError,ZeroDivisionError) as e:\n",
    "    print(e)  \n",
    "\n",
    "print(\"Welcome\")      "
   ]
  },
  {
   "cell_type": "code",
   "execution_count": 6,
   "id": "d1fe7906",
   "metadata": {},
   "outputs": [
    {
     "name": "stdout",
     "output_type": "stream",
     "text": [
      "list index out of range\n",
      "Welcome\n"
     ]
    }
   ],
   "source": [
    "'''3. Handel multiple exception together '''\n",
    "try:\n",
    "    a=[1,2,3,0]\n",
    "    c=a[5]\n",
    "    b=a[0]//a[3]\n",
    "   \n",
    "    print(b,c)\n",
    "\n",
    "except IndexError as e:\n",
    "    print(e)  \n",
    "except ZeroDivisionError:\n",
    "    print(\"ZeroDivisionError\")\n",
    "print(\"Welcome\") "
   ]
  },
  {
   "cell_type": "code",
   "execution_count": 7,
   "id": "4b9b367d",
   "metadata": {},
   "outputs": [
    {
     "name": "stdout",
     "output_type": "stream",
     "text": [
      "list index out of range\n",
      "Welcome\n"
     ]
    }
   ],
   "source": [
    "'''4. Handel multiple exception together '''\n",
    "try:\n",
    "    a=[1,2,3,0]\n",
    "    c=a[5]\n",
    "    b=a[0]//a[3]\n",
    "   \n",
    "    print(b,c)\n",
    "\n",
    "except Exception as e:\n",
    "    print(e)\n",
    "print(\"Welcome\")"
   ]
  },
  {
   "cell_type": "code",
   "execution_count": 10,
   "id": "40baf95c",
   "metadata": {},
   "outputs": [
    {
     "name": "stdout",
     "output_type": "stream",
     "text": [
      "Name Error occured\n"
     ]
    }
   ],
   "source": [
    "try:\n",
    "    a = 10\n",
    "    b = 0\n",
    "    print(d)\n",
    "    c = a/b\n",
    "\n",
    "except ZeroDivisionError:\n",
    "    print('Zero Division Error occured')\n",
    "except NameError:\n",
    "    print('Name Error occured')    "
   ]
  },
  {
   "cell_type": "code",
   "execution_count": 14,
   "id": "6dafe9a5",
   "metadata": {},
   "outputs": [
    {
     "name": "stdout",
     "output_type": "stream",
     "text": [
      "Division By Zero exception\n",
      "caught Exception\n"
     ]
    }
   ],
   "source": [
    "'''Custom Exception Class'''\n",
    "class DivisionByZeroException(Exception):\n",
    "    def __init__(self) -> None:\n",
    "        print(\"Division By Zero exception\")\n",
    "        super().__init__()\n",
    "\n",
    "def perform_operation(a,b):\n",
    "    if b==0:\n",
    "        raise DivisionByZeroException()\n",
    "    num=a/b\n",
    "    print(num)\n",
    "\n",
    "a=7\n",
    "b=0\n",
    "try:\n",
    "    perform_operation(a,b)\n",
    "except DivisionByZeroException:\n",
    "    print(\"caught Exception\")    "
   ]
  },
  {
   "cell_type": "code",
   "execution_count": 16,
   "id": "c1883ac8",
   "metadata": {},
   "outputs": [
    {
     "ename": "ZeroDenominatorError",
     "evalue": "",
     "output_type": "error",
     "traceback": [
      "\u001b[1;31m---------------------------------------------------------------------------\u001b[0m",
      "\u001b[1;31mZeroDenominatorError\u001b[0m                      Traceback (most recent call last)",
      "Cell \u001b[1;32mIn[16], line 7\u001b[0m\n\u001b[0;32m      5\u001b[0m     b \u001b[38;5;241m=\u001b[39m \u001b[38;5;241m0\u001b[39m\n\u001b[0;32m      6\u001b[0m     \u001b[38;5;28;01mif\u001b[39;00m(b\u001b[38;5;241m==\u001b[39m\u001b[38;5;241m0\u001b[39m):\n\u001b[1;32m----> 7\u001b[0m         \u001b[38;5;28;01mraise\u001b[39;00m ZeroDenominatorError() \n\u001b[0;32m      8\u001b[0m     c \u001b[38;5;241m=\u001b[39m a\u001b[38;5;241m/\u001b[39mb\n\u001b[0;32m      9\u001b[0m \u001b[38;5;28;01mexcept\u001b[39;00m \u001b[38;5;167;01mZeroDivisionError\u001b[39;00m:\n",
      "\u001b[1;31mZeroDenominatorError\u001b[0m: "
     ]
    }
   ],
   "source": [
    "class ZeroDenominatorError(Exception):\n",
    "    pass\n",
    "try:\n",
    "    a = 10\n",
    "    b = 0\n",
    "    if(b==0):\n",
    "        raise ZeroDenominatorError() \n",
    "    c = a/b\n",
    "except ZeroDivisionError:\n",
    "    print('Zero Division Error occured')"
   ]
  },
  {
   "cell_type": "code",
   "execution_count": 1,
   "id": "70a4bc94",
   "metadata": {},
   "outputs": [
    {
     "name": "stdout",
     "output_type": "stream",
     "text": [
      "Zero Division Error occured\n"
     ]
    }
   ],
   "source": [
    "class ZeroDenominatorError(ZeroDivisionError):\n",
    "    pass\n",
    "try:\n",
    "    a = 10\n",
    "    b = 0\n",
    "    if(b==0):\n",
    "        raise ZeroDenominatorError()\n",
    "    c = a/b\n",
    "except ZeroDivisionError:\n",
    "    print('Zero Division Error occured')\n",
    "except ZeroDenominatorError:\n",
    "    print('Zero Denominator Error occured')"
   ]
  },
  {
   "cell_type": "code",
   "execution_count": null,
   "id": "718b72f6",
   "metadata": {},
   "outputs": [],
   "source": [
    "'''Rishabh has recently learnt about custom exceptions. His friend gave him a task to initialise the salary with 500 in a class and raise an exception \n",
    "with message as \"Insufficent funds in the account\" if the withdrawl amount is greater than the bank balance otherwise display a message \n",
    "as \" Remaining:remaining balance\"'''"
   ]
  },
  {
   "cell_type": "code",
   "execution_count": 2,
   "id": "94eb952c",
   "metadata": {},
   "outputs": [
    {
     "name": "stdout",
     "output_type": "stream",
     "text": [
      "Insufficent funds in the account\n"
     ]
    }
   ],
   "source": [
    "\n",
    "class InsufficientFundsError(Exception):\n",
    "    pass\n",
    "try:\n",
    "    n=int(input())\n",
    "    if n>=500:\n",
    "            raise InsufficientFundsError()\n",
    "    else:\n",
    "          print(\"Remaining:{}\".format(500-n))\n",
    "except InsufficientFundsError:\n",
    "    print(\"Insufficient funds in the account.\")      \n"
   ]
  },
  {
   "cell_type": "code",
   "execution_count": 5,
   "id": "4dd5766a",
   "metadata": {},
   "outputs": [
    {
     "name": "stdout",
     "output_type": "stream",
     "text": [
      "Exception Zero division\n",
      "Inside Finally Block\n"
     ]
    }
   ],
   "source": [
    "'''Finally Block'''\n",
    "try:\n",
    "    a=5\n",
    "    b=0\n",
    "    c=a//b\n",
    "except ZeroDivisionError:\n",
    "    print(\"Exception Zero division\")\n",
    "finally:\n",
    "    print(\"Inside Finally Block\")        "
   ]
  },
  {
   "cell_type": "code",
   "execution_count": 9,
   "id": "9135f2ca",
   "metadata": {},
   "outputs": [
    {
     "name": "stdout",
     "output_type": "stream",
     "text": [
      "2.0\n",
      "else works\n"
     ]
    }
   ],
   "source": [
    "class ZeroDenominatorError(ZeroDivisionError):\n",
    "    pass\n",
    "try:\n",
    "    a = 10\n",
    "    b = 5\n",
    "    if(b==0):\n",
    "        raise ZeroDenominatorError()\n",
    "    c = a/b\n",
    "    print(c)\n",
    "except ZeroDivisionError:\n",
    "    print('Zero Division Error occured',end= \" \")\n",
    "except ZeroDenominatorError:\n",
    "    print('Zero Denominator Error occured',end = \" \")\n",
    "else:\n",
    "    print(\"else works\")"
   ]
  },
  {
   "cell_type": "code",
   "execution_count": null,
   "id": "b00fde0b",
   "metadata": {},
   "outputs": [],
   "source": [
    "'''Rishabh has recently learned about exception handling in Python. His teacher gave him a task to take two integer inputs from the user and print the\n",
    " result of their division.\n",
    "The output should follow these conditions:\n",
    "1. If the division is successful, print the result of the division, followed by the message \"Program Exit\" on the next line.\n",
    "2. If the division is not possible (e.g., dividing by zero), print \"Division not possible\" followed by \"Program Exit\" on the next line.\n",
    "'''"
   ]
  },
  {
   "cell_type": "code",
   "execution_count": 11,
   "id": "aaef32b1",
   "metadata": {},
   "outputs": [
    {
     "name": "stdout",
     "output_type": "stream",
     "text": [
      "0\n",
      "Program Exit\n"
     ]
    }
   ],
   "source": [
    "class ZeroDivisionedError(Exception):\n",
    "    pass\n",
    "def abc(x,y):\n",
    "    #write your code logic here !!\n",
    "    try:\n",
    "        if y==0:\n",
    "            raise ZeroDivisionedError()\n",
    "        else:\n",
    "            print(x//y)    \n",
    "    except ZeroDivisionedError:\n",
    "            print(\"Division not possible\")\n",
    "    finally:\n",
    "            print(\"Program Exit\")    \n",
    "\n",
    "x = int(input())\n",
    "y = int(input())\n",
    "abc(x,y)\n",
    "\n"
   ]
  },
  {
   "cell_type": "code",
   "execution_count": null,
   "id": "2da522d7",
   "metadata": {},
   "outputs": [],
   "source": [
    "'''Your task is to implement the divide function and demonstrate its functionality by creating a Python program.\n",
    "Description\n",
    "1. If y is zero, the function should raise a ZeroDivisionError and print the message \"Sorry! You are dividing by zero.\". If y is not zero, the\n",
    " function should return the result of dividing x by `y.\n",
    "2. Implement a try-except block to handle the ZeroDivisionError exception within the divide function.\n",
    "3. Call the divide function with the provided values and print the result if successful, or the error message if a ZeroDivisionError occurs.\n",
    "4. Ensure that the finally block in the divide function is used to print the message \"This is always executed\" regardless of whether an exception\n",
    " is raised or not.'''"
   ]
  },
  {
   "cell_type": "code",
   "execution_count": 12,
   "id": "4b2182f4",
   "metadata": {},
   "outputs": [
    {
     "name": "stdout",
     "output_type": "stream",
     "text": [
      "Sorry ! You are dividing by zero\n",
      "This is always executed\n"
     ]
    }
   ],
   "source": [
    "\n",
    "x=int(input())\n",
    "y=int(input())\n",
    "def divide(x, y): \n",
    "\t# write your code logic !!\n",
    "    class ZeroDivisionedError(ZeroDivisionError):\n",
    "        pass\n",
    "    try:\n",
    "        if y == 0:\n",
    "            raise ZeroDivisionedError()\n",
    "        else:\n",
    "            print(x // y)\t\t\t\n",
    "    except:\n",
    "          print(\"Sorry ! You are dividing by zero\")\n",
    "    finally:\n",
    "\t\t   print(\"This is always executed\")\n",
    "divide(x, y) \n",
    "\n"
   ]
  },
  {
   "cell_type": "code",
   "execution_count": 48,
   "id": "ce7ea5ee",
   "metadata": {},
   "outputs": [],
   "source": [
    "'''Insert Node in Middile'''\n",
    "class Node:\n",
    "    def __init__(self,value):\n",
    "        self.data=value\n",
    "        self.next=None\n",
    "class LinkedList:\n",
    "    def __init__(self):\n",
    "        self.head=None\n",
    "\n",
    "    def insert_at_head(self,data):\n",
    "         #1.create a new node\n",
    "         new_node=Node(data)\n",
    "\n",
    "         #2.Connect the node with existing end\n",
    "         new_node.next=self.head\n",
    "\n",
    "         #3 update the head\n",
    "         self.head=new_node\n",
    "    def insert_at_tail(self, value):\n",
    "        # check if LL is empty ?\n",
    "        if self.head == None:\n",
    "            self.insert_at_head(value)\n",
    "            return\n",
    "\n",
    "        # if LL is not empty find the tail\n",
    "        temp = self.head\n",
    "        while temp.next != None:\n",
    "            temp = temp.next\n",
    "\n",
    "        # once the loop ends temp points to tail\n",
    "        new = Node(value)\n",
    "        temp.next = new  \n",
    "\n",
    "    def insert_in_between(self, value, pos):\n",
    "        if self.head == None:\n",
    "            self.insert_at_head(value)\n",
    "            return\n",
    "\n",
    "        temp = self.head\n",
    "        i = 0\n",
    "        while temp.next != None and i < pos-1:\n",
    "            temp = temp.next\n",
    "            i += 1\n",
    "\n",
    "        new = Node(value)\n",
    "        remaining = temp.next\n",
    "        temp.next = new\n",
    "        new.next = remaining        \n",
    "\n",
    "  "
   ]
  },
  {
   "cell_type": "code",
   "execution_count": 49,
   "id": "4629cd63",
   "metadata": {},
   "outputs": [
    {
     "name": "stdout",
     "output_type": "stream",
     "text": [
      "30 100 40\n"
     ]
    }
   ],
   "source": [
    "ll=LinkedList()\n",
    "ll.insert_at_tail(30)\n",
    "ll.insert_at_tail(40)\n",
    "ll.insert_in_between(100,1)\n",
    "print(ll.head.data, ll.head.next.data, ll.head.next.next.data)"
   ]
  },
  {
   "cell_type": "code",
   "execution_count": 100,
   "id": "6ee0d468",
   "metadata": {},
   "outputs": [],
   "source": [
    "'''Delete node at head'''\n",
    "class Node:\n",
    "    def __init__(self,value):\n",
    "        self.data=value\n",
    "        self.next=None\n",
    "class LinkedList:\n",
    "    def __init__(self):\n",
    "        self.head=None\n",
    "    def insert_at_head(self,data):\n",
    "        newNode= Node(data)\n",
    "        newNode.next=self.head\n",
    "        self.head=newNode\n",
    "\n",
    "        # DeLETE node\n",
    "    def delete_at_head(self):\n",
    "        if self.head==None:\n",
    "            return\n",
    "        newHead=self.head.next\n",
    "        self.head=None\n",
    "        self.head=newHead\n",
    "        \n",
    "    def delete_at_between(self,pos):\n",
    "        if self.head == None:\n",
    "            return\n",
    "        temp=self.head\n",
    "        i=0\n",
    "        while temp.next !=None and i<=pos:\n",
    "            temp=temp.next\n",
    "            i+=1\n",
    "        reamaing=temp.next\n",
    "        temp=None\n",
    "        temp=reamaing\n",
    "        \n",
    "\n",
    "\n",
    "    # Display List \n",
    "    def display(self):\n",
    "        temp=self.head\n",
    "        while temp !=None:\n",
    "            print(temp.data,end=\"->\")\n",
    "            temp=temp.next    \n",
    "        print(\"X\")\n",
    "\n",
    "\n"
   ]
  },
  {
   "cell_type": "code",
   "execution_count": 102,
   "id": "1524e2e0",
   "metadata": {},
   "outputs": [
    {
     "name": "stdout",
     "output_type": "stream",
     "text": [
      "50->40->30->20->X\n",
      "50->40->30->20->X\n"
     ]
    }
   ],
   "source": [
    "ll=LinkedList()\n",
    "ll.insert_at_head(20)\n",
    "ll.insert_at_head(30)\n",
    "ll.insert_at_head(40)\n",
    "ll.insert_at_head(50)\n",
    "ll.display()\n",
    "ll.delete_at_between(1)\n",
    "ll.display()"
   ]
  },
  {
   "cell_type": "code",
   "execution_count": null,
   "id": "1cd97c9a",
   "metadata": {},
   "outputs": [],
   "source": [
    "'''You have been given a linked list of integers. Your task is to write a function that deletes a node from a given position, 'POS'.\n",
    "Note :\n",
    "Assume that the Indexing for the linked list always starts from 0.\n",
    "If the position is greater than or equal to the length of the linked list, you should return the same linked list without any change.'''"
   ]
  },
  {
   "cell_type": "code",
   "execution_count": 2,
   "id": "7248a48f",
   "metadata": {},
   "outputs": [],
   "source": [
    "'''Delete node at between'''\n",
    "class Node:\n",
    "    def __init__(self,value):\n",
    "        self.data=value\n",
    "        self.next=None\n",
    "class LinkedList:\n",
    "    def __init__(self):\n",
    "        self.head=None\n",
    "    def insert_at_head(self,data):\n",
    "        newNode= Node(data)\n",
    "        newNode.next=self.head\n",
    "        self.head=newNode\n",
    "\n",
    "        # DeLETE node\n",
    "    def deleteNode(self, pos):\n",
    "        if self.head is None:\n",
    "            return self.head\n",
    "        if pos == 0:\n",
    "            return self.head.next\n",
    "\n",
    "        temp = self.head\n",
    "        prv=self.head\n",
    "        i = 0\n",
    "\n",
    "        while temp !=None:\n",
    "            if i == pos:\n",
    "                prv.next=temp.next\n",
    "                return self.head\n",
    "            else:\n",
    "                prv=temp\n",
    "                temp=temp.next\n",
    "                i+=1 \n",
    "\n",
    "        \n",
    "    # Display List \n",
    "    def display(self):\n",
    "        temp=self.head\n",
    "        while temp !=None:\n",
    "            print(temp.data,end=\"->\")\n",
    "            temp=temp.next    \n",
    "        print(\"X\")"
   ]
  },
  {
   "cell_type": "code",
   "execution_count": 4,
   "id": "ac67e42a",
   "metadata": {},
   "outputs": [
    {
     "name": "stdout",
     "output_type": "stream",
     "text": [
      "50->40->30->20->X\n",
      "50->40->30->X\n"
     ]
    }
   ],
   "source": [
    "ll=LinkedList()\n",
    "ll.insert_at_head(20)\n",
    "ll.insert_at_head(30)\n",
    "ll.insert_at_head(40)\n",
    "ll.insert_at_head(50)\n",
    "ll.display()\n",
    "ll.deleteNode(3)\n",
    "ll.display()"
   ]
  },
  {
   "cell_type": "code",
   "execution_count": null,
   "id": "12199912",
   "metadata": {},
   "outputs": [],
   "source": [
    "'''Given a singly linked list of 'N' nodes. The objective is to determine the middle node of a singly linked list. However, if the list has an even number of nodes, we return the second middle node.\n",
    "Note:\n",
    "1. If the list is empty, the function immediately returns None because there is no middle node to find.\n",
    "2. If the list has only one node, then the only node in the list is trivially the middle node, and the function returns that node.'''"
   ]
  },
  {
   "cell_type": "code",
   "execution_count": 5,
   "id": "ff756ae6",
   "metadata": {},
   "outputs": [],
   "source": [
    "class Node:\n",
    "        def __init__(self, data):\n",
    "            self.data = data\n",
    "            self.next = None\n",
    "def findMiddle(head):\n",
    "    # Write your code here\n",
    "    # head denoted head of linked list\n",
    "    if head == None:\n",
    "        return head\n",
    "    if head.next==None:\n",
    "        return head    \n",
    "    temp=head\n",
    "    c=0\n",
    "    while temp!=None:\n",
    "        temp=temp.next\n",
    "        c+=1    \n",
    "    slow = head\n",
    "    fast = head\n",
    "    while fast.next != None and fast.next.next != None:\n",
    "        fast = fast.next.next\n",
    "        slow = slow.next \n",
    " \n",
    "\n",
    "    if c%2==0:\n",
    "        return slow.next\n",
    "\n",
    "    return slow    "
   ]
  },
  {
   "cell_type": "code",
   "execution_count": null,
   "id": "74789d63",
   "metadata": {},
   "outputs": [],
   "source": [
    "'''Reverse The Link List'''\n",
    "class Node:\n",
    "    def __init__(self,value):\n",
    "        self.data=value\n",
    "        self.next=None\n",
    "class LinkedList:\n",
    "    def __init__(self):\n",
    "        self.head=None\n",
    "    def insert_at_head(self,data):\n",
    "        newNode= Node(data)\n",
    "        newNode.next=self.head\n",
    "        self.head=newNode\n",
    "\n",
    "        # DeLETE node\n",
    "    def deleteNode(self, pos):\n",
    "        if self.head is None:\n",
    "            return self.head\n",
    "        if pos == 0:\n",
    "            return self.head.next\n",
    "\n",
    "        temp = self.head\n",
    "        prv=self.head\n",
    "        i = 0\n",
    "\n",
    "        while temp !=None:\n",
    "            if i == pos:\n",
    "                prv.next=temp.next\n",
    "                return self.head\n",
    "            else:\n",
    "                prv=temp\n",
    "                temp=temp.next\n",
    "                i+=1 \n",
    "\n",
    "    #Reverse\n",
    "    def reverse(self):\n",
    "        while cur!=None:\n",
    "            remaining=cur.next\n",
    "            cur.next=prv\n",
    "            prv=cur\n",
    "            cur=remaining prv=None\n",
    "        cur=self.head\n",
    "       \n",
    "        first = self.head\n",
    "        second = self.head\n",
    "        while second.next !=None:\n",
    "            if first.data != second.data:\n",
    "                return False\n",
    "            print(first.data, second.data)\n",
    "            first = first.next\n",
    "            second = second.next      \n",
    "    #Reverse using recursion\n",
    "    def reverse_by_recursion(self,head):\n",
    "        \n",
    "        if head == None or head.next==None:\n",
    "            return head\n",
    "        tailnodde=self.reverse_by_recursion(head.next)\n",
    "\n",
    "        head.next.next=head\n",
    "        head.next=None\n",
    "        return tailnodde\n",
    "    def recursive_reverse(self):\n",
    "        newhaed=self.reverse_by_recursion(self.head)\n",
    "        self.head=newhaed    \n",
    "    # Display List \n",
    "    def display(self):\n",
    "        temp=self.head\n",
    "        while temp !=None:\n",
    "            print(temp.data,end=\"->\")\n",
    "            temp=temp.next    \n",
    "        print(\"X\")"
   ]
  },
  {
   "cell_type": "code",
   "execution_count": null,
   "id": "8f80d386",
   "metadata": {},
   "outputs": [
    {
     "name": "stdout",
     "output_type": "stream",
     "text": [
      "3->9->2->9->3->X\n"
     ]
    }
   ],
   "source": [
    "ll=LinkedList()\n",
    "ll.insert_at_head(3)\n",
    "ll.insert_at_head(9)\n",
    "ll.insert_at_head(1)\n",
    "ll.insert_at_head(2)\n",
    "ll.insert_at_head(9)\n",
    "ll.insert_at_head(3)\n",
    "ll.display()\n",
    "ll.reverse()\n",
    "\n"
   ]
  },
  {
   "cell_type": "code",
   "execution_count": null,
   "id": "d1d1b81c",
   "metadata": {},
   "outputs": [],
   "source": []
  },
  {
   "cell_type": "code",
   "execution_count": 95,
   "id": "86fd7608",
   "metadata": {},
   "outputs": [
    {
     "name": "stdout",
     "output_type": "stream",
     "text": [
      "3->9->2->1->9->3->X\n"
     ]
    },
    {
     "data": {
      "text/plain": [
       "2"
      ]
     },
     "execution_count": 95,
     "metadata": {},
     "output_type": "execute_result"
    }
   ],
   "source": [
    "ll=LinkedList()\n",
    "ll.insert_at_head(3)\n",
    "ll.insert_at_head(9)\n",
    "ll.insert_at_head(1)\n",
    "ll.insert_at_head(2)\n",
    "ll.insert_at_head(9)\n",
    "ll.insert_at_head(3)\n",
    "ll.display()\n",
    "ll.kth_node_from_last(4)"
   ]
  },
  {
   "cell_type": "code",
   "execution_count": null,
   "id": "3af9d2ed",
   "metadata": {},
   "outputs": [],
   "source": []
  },
  {
   "cell_type": "code",
   "execution_count": null,
   "id": "7746342c",
   "metadata": {},
   "outputs": [],
   "source": []
  },
  {
   "cell_type": "code",
   "execution_count": null,
   "metadata": {},
   "outputs": [],
   "source": []
  }
 ],
 "metadata": {
  "kernelspec": {
   "display_name": "base",
   "language": "python",
   "name": "python3"
  },
  "language_info": {
   "codemirror_mode": {
    "name": "ipython",
    "version": 3
   },
   "file_extension": ".py",
   "mimetype": "text/x-python",
   "name": "python",
   "nbconvert_exporter": "python",
   "pygments_lexer": "ipython3",
   "version": "3.12.7"
  }
 },
 "nbformat": 4,
 "nbformat_minor": 5
}
