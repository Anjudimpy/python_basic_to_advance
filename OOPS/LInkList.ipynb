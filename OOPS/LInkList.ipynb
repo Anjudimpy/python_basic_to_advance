{
 "cells": [
  {
   "cell_type": "code",
   "execution_count": 1,
   "id": "67ce8376",
   "metadata": {},
   "outputs": [
    {
     "name": "stdout",
     "output_type": "stream",
     "text": [
      "10 None\n",
      "<__main__.Node object at 0x000002A1C52A71A0>\n",
      "20 None\n"
     ]
    }
   ],
   "source": [
    "'''Link List'''\n",
    "class Node:\n",
    "    def __init__(self,value):\n",
    "        self.data=value\n",
    "        self.next=None\n",
    "n1=Node(10)\n",
    "print(n1.data,n1.next)\n",
    "print(n1)\n",
    "\n",
    "n2=Node(20)\n",
    "print(n2.data, n2.next)"
   ]
  },
  {
   "cell_type": "code",
   "execution_count": 2,
   "metadata": {},
   "outputs": [
    {
     "name": "stdout",
     "output_type": "stream",
     "text": [
      "20 10 "
     ]
    }
   ],
   "source": [
    "class Node:\n",
    "    def __init__(self, data):\n",
    "        self.data = data\n",
    "        self.next = None\n",
    "def printLL(head):\n",
    "    while head is not None:\n",
    "        print(head.data,end=\" \")\n",
    "        head = head.next\n",
    "node1 = Node(10)\n",
    "node2 = Node(20)\n",
    "node2.next = node1\n",
    "printLL(node2)"
   ]
  },
  {
   "cell_type": "code",
   "execution_count": 3,
   "id": "c8c81135",
   "metadata": {},
   "outputs": [],
   "source": [
    "'''Insert Node in head TC:-O(1), SC:-O(1)'''\n",
    "class Node:\n",
    "    def __init__(self,value):\n",
    "        self.data=value\n",
    "        self.next=None\n",
    "class LinkedList:\n",
    "    def __init__(self):\n",
    "        self.head=None\n",
    "\n",
    "    def insert_at_head(self,data):\n",
    "         #1.create a new node\n",
    "         new_node=Node(data)\n",
    "\n",
    "         #2.Connect the node with existing end\n",
    "         new_node.next=self.head\n",
    "\n",
    "         #3 update the head\n",
    "         self.head=new_node\n"
   ]
  },
  {
   "cell_type": "code",
   "execution_count": 4,
   "id": "5217b232",
   "metadata": {},
   "outputs": [
    {
     "name": "stdout",
     "output_type": "stream",
     "text": [
      "10\n",
      "30\n"
     ]
    }
   ],
   "source": [
    "ll=LinkedList()\n",
    "ll.insert_at_head(30)\n",
    "ll.insert_at_head(10)\n",
    "print(ll.head.data)\n",
    "print(ll.head.next.data)"
   ]
  },
  {
   "cell_type": "code",
   "execution_count": 6,
   "id": "7fbceffd",
   "metadata": {},
   "outputs": [],
   "source": [
    "'''Insert Node in Tail'''\n",
    "class Node:\n",
    "    def __init__(self,value):\n",
    "        self.data=value\n",
    "        self.next=None\n",
    "class LinkedList:\n",
    "    def __init__(self):\n",
    "        self.head=None\n",
    "\n",
    "    def insert_at_head(self,data):\n",
    "         #1.create a new node\n",
    "         new_node=Node(data)\n",
    "\n",
    "         #2.Connect the node with existing end\n",
    "         new_node.next=self.head\n",
    "\n",
    "         #3 update the head\n",
    "         self.head=new_node\n",
    "    def insert_at_tail(self, value):\n",
    "        # check if LL is empty ?\n",
    "        if self.head == None:\n",
    "            self.insert_at_head(value)\n",
    "            return\n",
    "\n",
    "        # if LL is not empty find the tail\n",
    "        temp = self.head\n",
    "        while temp.next != None:\n",
    "            temp = temp.next\n",
    "\n",
    "        # once the loop ends temp points to tail\n",
    "        new = Node(value)\n",
    "        temp.next = new     \n",
    "\n",
    "  "
   ]
  },
  {
   "cell_type": "code",
   "execution_count": 7,
   "id": "72dfba53",
   "metadata": {},
   "outputs": [
    {
     "name": "stdout",
     "output_type": "stream",
     "text": [
      "30 40\n"
     ]
    }
   ],
   "source": [
    "ll=LinkedList()\n",
    "ll.insert_at_tail(30)\n",
    "ll.insert_at_tail(40)\n",
    "print(ll.head.data, ll.head.next.data)"
   ]
  },
  {
   "cell_type": "code",
   "execution_count": null,
   "id": "4903acf9",
   "metadata": {},
   "outputs": [],
   "source": [
    "'''You're given a positive integer represented in the form of a singly linked-list of digits. The length of the number is 'n'.\n",
    "Add 1 to the number, i.e., increment the given number by one.\n",
    "The digits are stored such that the most significant digit is at the head of the linked list and the least significant digit is at the tail of the linked list.\n",
    "'''"
   ]
  },
  {
   "cell_type": "code",
   "execution_count": 32,
   "metadata": {},
   "outputs": [],
   "source": [
    "class Node:\n",
    "    def __init__(self,value):\n",
    "        self.data=value\n",
    "        self.next=None\n",
    "class LinkedList:\n",
    "    def __init__(self):\n",
    "        self.head=None\n",
    "\n",
    "    def insert_at_head(self,data):\n",
    "         new_node=Node(data)\n",
    "         new_node.next=self.head\n",
    "         self.head = new_node\n",
    "    def display(self):\n",
    "        temp=self.head\n",
    "        while temp != None:\n",
    "            print(temp.data, end=\"->\")\n",
    "            temp = temp.next\n",
    "        print(\"x\")  \n",
    "\n",
    "    # add 1 in node\n",
    "    def reverse(self):\n",
    "        prv = None\n",
    "        cur=self.head\n",
    "        while cur != None:\n",
    "            remaining= cur.next\n",
    "            cur.next=prv\n",
    "            prv=cur\n",
    "            cur=remaining\n",
    "        self.head=prv     \n",
    "    def add_one_in_node(self):\n",
    "        self.reverse()\n",
    "        crry=1\n",
    "        temp=self.head\n",
    "        tail=self.head\n",
    "        while temp != None:\n",
    "            total= temp.data+crry\n",
    "            temp.data=total%10\n",
    "            crry=total//10\n",
    "            if tail.next !=None:\n",
    "                tail=tail.next\n",
    "            temp=temp.next\n",
    "        if crry !=0:\n",
    "            tail.next = Node(crry)\n",
    "        self.reverse()\n",
    "\n",
    "    #Remove duplicate Node in sorted  Link list\n",
    "    def remove_duplicate(self):\n",
    "        cur = self.head\n",
    "        while cur != None and cur.next!=None:\n",
    "            if cur.data == cur.next.data:\n",
    "                cur.next=cur.next.next\n",
    "            else:\n",
    "                cur=cur.next\n",
    "                    \n",
    "\n",
    "            \n",
    "\n",
    "\n",
    "         "
   ]
  },
  {
   "cell_type": "code",
   "execution_count": 33,
   "id": "d5a5003c",
   "metadata": {},
   "outputs": [
    {
     "name": "stdout",
     "output_type": "stream",
     "text": [
      "9->9->9->x\n",
      "1->0->0->0->x\n"
     ]
    }
   ],
   "source": [
    "ll=LinkedList()\n",
    "ll.insert_at_head(9)\n",
    "ll.insert_at_head(9)\n",
    "ll.insert_at_head(9)\n",
    "ll.display()\n",
    "ll.add_one_in_node()\n",
    "ll.display()"
   ]
  },
  {
   "cell_type": "code",
   "execution_count": null,
   "id": "f53d951c",
   "metadata": {},
   "outputs": [],
   "source": [
    "'''Remove Duplicate Node in accending order link list'''\n",
    "class Node:\n",
    "    def __init__(self,value):\n",
    "        self.data=value\n",
    "        self.next=None\n",
    "class LinkedList:\n",
    "    def __init__(self):\n",
    "        self.head=None\n",
    "\n",
    "    def insert_at_head(self, data):\n",
    "        new_node = Node(data)\n",
    "        new_node.next = self.head\n",
    "        self.head = new_node\n",
    "\n",
    "    \n",
    " \n",
    "\n",
    "    #Remove duplicate Node in sorted  Link list\n",
    "    def remove_duplicate(self):\n",
    "        cur = self.head\n",
    "        while cur != None and cur.next!=None:\n",
    "            if cur.data == cur.next.data:\n",
    "                cur.next=cur.next.next\n",
    "            else:\n",
    "                cur=cur.next\n",
    "                    \n",
    "    def display(self):\n",
    "        temp=self.head\n",
    "        while temp != None:\n",
    "            print(temp.data, end=\"->\")\n",
    "            temp = temp.next\n",
    "        print(\"x\") \n",
    "            \n",
    "\n",
    "\n",
    "         "
   ]
  },
  {
   "cell_type": "code",
   "execution_count": 45,
   "id": "fcbedf0d",
   "metadata": {},
   "outputs": [
    {
     "name": "stdout",
     "output_type": "stream",
     "text": [
      "1->1->2->3->3->x\n",
      "1->2->3->x\n"
     ]
    }
   ],
   "source": [
    "ll=LinkedList()\n",
    "ll.insert_at_head(3)\n",
    "ll.insert_at_head(3)\n",
    "ll.insert_at_head(2)\n",
    "ll.insert_at_head(1)\n",
    "ll.insert_at_head(1)\n",
    "ll.display()\n",
    "ll.remove_duplicate()\n",
    "ll.display()"
   ]
  },
  {
   "cell_type": "code",
   "execution_count": 50,
   "id": "03f29e0b",
   "metadata": {},
   "outputs": [],
   "source": [
    "'''Given a linked list, find and return the length of the given linked list recursively.'''\n",
    "class Node:\n",
    "    def __init__(self,value):\n",
    "        self.data=value\n",
    "        self.next=None\n",
    "class LinkedList:\n",
    "    def __init__(self):\n",
    "        self.head=None\n",
    "\n",
    "    def insert_at_head(self, data):\n",
    "        new_node = Node(data)\n",
    "        new_node.next = self.head\n",
    "        self.head = new_node\n",
    "\n",
    "    def length_of_linkList(self,head):\n",
    "        if head == None:\n",
    "            return 0\n",
    "        return 1 + self.length_of_linkList(head.next)\n",
    "        \n",
    "        \n"
   ]
  },
  {
   "cell_type": "code",
   "execution_count": 51,
   "id": "6fd92d8f",
   "metadata": {},
   "outputs": [
    {
     "data": {
      "text/plain": [
       "5"
      ]
     },
     "execution_count": 51,
     "metadata": {},
     "output_type": "execute_result"
    }
   ],
   "source": [
    "ll=LinkedList()\n",
    "ll.insert_at_head(3)\n",
    "ll.insert_at_head(3)\n",
    "ll.insert_at_head(2)\n",
    "ll.insert_at_head(1)\n",
    "ll.insert_at_head(1)\n",
    "ll.length_of_linkList(ll.head)"
   ]
  },
  {
   "cell_type": "code",
   "execution_count": null,
   "id": "6cae26c8",
   "metadata": {},
   "outputs": [],
   "source": [
    "'''For a given a singly linked list of integers and a position 'i', print the node data at the 'i-th' position.\n",
    " Note :\n",
    "1. Assume that the Indexing for the singly linked list always starts from 0.\n",
    "2. If the given position 'i',  is greater than the length of the given singly linked list, then don't print anything.'''"
   ]
  },
  {
   "cell_type": "code",
   "execution_count": null,
   "id": "c18cfebf",
   "metadata": {},
   "outputs": [],
   "source": [
    "def printIthNode(head, i):\n",
    "    c=0\n",
    "    while head != None:\n",
    "        if c == i:\n",
    "            print(head.data)\n",
    "            return\n",
    "        else:\n",
    "            c+=1\n",
    "            head=head.next\n",
    "    return            \n"
   ]
  },
  {
   "cell_type": "code",
   "execution_count": null,
   "metadata": {},
   "outputs": [],
   "source": [
    "'''You have been given a singly linked list of integers. Write a function that returns the index/position of integer data denoted by 'N' (if it exists). Return -1 otherwise.\n",
    "Note :Assume that the Indexing for the'''"
   ]
  },
  {
   "cell_type": "code",
   "execution_count": null,
   "id": "bb326e48",
   "metadata": {},
   "outputs": [],
   "source": [
    "def findNode(head, n) :\n",
    "    # Write your code here.\n",
    "    c=0\n",
    "    while head != None:\n",
    "        if head.data == n:\n",
    "            return c\n",
    "        else:\n",
    "            c+=1\n",
    "            head=head.next\n",
    "    return -1   "
   ]
  },
  {
   "cell_type": "code",
   "execution_count": null,
   "id": "70e21648",
   "metadata": {},
   "outputs": [],
   "source": [
    "'''You are given a Singly Linked List of integers. Return true if it has a cycle, else return false.\n",
    "A cycle occurs when a node's next points back to a previous node in the list.\n",
    "'''"
   ]
  },
  {
   "cell_type": "code",
   "execution_count": null,
   "id": "61381ca9",
   "metadata": {},
   "outputs": [],
   "source": [
    "def detectCycle(head) :\n",
    "    # Write your code here.\n",
    "    if head ==None or head.next == None:\n",
    "        return False\n",
    "    tot=head\n",
    "    rabit=head\n",
    "\n",
    "    while rabit!= None and  rabit.next != None:\n",
    "        tot=tot.next\n",
    "        rabit=rabit.next.next\n",
    "        if tot == rabit:\n",
    "            return True\n",
    "    return False"
   ]
  },
  {
   "cell_type": "code",
   "execution_count": null,
   "metadata": {},
   "outputs": [],
   "source": [
    "def detectCycleStartNode(head):\n",
    "    if head == None or head.next == None:\n",
    "        return False\n",
    "    slow = head\n",
    "    fast =head\n",
    "    i=head\n",
    "\n",
    "    while fast != None and fast.next != None:\n",
    "        slow=slow.next\n",
    "        fast = fast.next.next\n",
    "        if slow == fast:\n",
    "            j=slow\n",
    "            while j != i:\n",
    "                i=i.next\n",
    "                j=j.next\n",
    "            return i.data  \n",
    "    return False      \n",
    "            "
   ]
  },
  {
   "cell_type": "code",
   "execution_count": null,
   "id": "d2ec52a8",
   "metadata": {},
   "outputs": [],
   "source": [
    "'''Find Kth Element from last'''\n",
    "class Node:\n",
    "    def __init__(self,value):\n",
    "        self.data=value\n",
    "        self.next=None\n",
    "class LinkedList:\n",
    "    def __init__(self):\n",
    "        self.head=None\n",
    "    def insert_at_head(self,data):\n",
    "        newNode= Node(data)\n",
    "        newNode.next=self.head\n",
    "        self.head=newNode\n",
    "        \n",
    "    def kth_node_from_last(self, k):\n",
    "        s = self.head\n",
    "        f = self.head\n",
    "        i = 1\n",
    "        while i < k:\n",
    "            f = f.next\n",
    "            i += 1\n",
    "        while f.next != None: # while f is behind the tail\n",
    "            f = f.next\n",
    "            s = s.next\n",
    "        return s.data\n",
    "                    \n",
    "    # Display List \n",
    "    def display(self):\n",
    "        temp=self.head\n",
    "        while temp !=None:\n",
    "            print(temp.data,end=\"->\")\n",
    "            temp=temp.next    \n",
    "        print(\"X\")"
   ]
  },
  {
   "cell_type": "code",
   "execution_count": null,
   "metadata": {},
   "outputs": [],
   "source": []
  },
  {
   "cell_type": "code",
   "execution_count": null,
   "id": "b7510051",
   "metadata": {},
   "outputs": [],
   "source": [
    "'''You have been given a singly linked list of integers along with an integer 'N'. Write a function to append the last 'N' nodes towards the front of the \n",
    "singly linked list and returns the new head to the list.\n",
    "Hint:\n",
    "Identify how many pointers you require and try traversing them to right places and connect nodes accordingly also don't forget to disconnect what's required \n",
    "else it could create cycles.'''"
   ]
  },
  {
   "cell_type": "code",
   "execution_count": null,
   "metadata": {},
   "outputs": [],
   "source": [
    "'''Move last kth element last to fornt'''\n",
    "\n",
    "def appendLastNToFirst(head, n) :\n",
    "    #Your code goes here\n",
    "    if head == None or n==0:\n",
    "        return head\n",
    "  \n",
    "    i=0\n",
    "    slow=head\n",
    "    fast=head\n",
    "    while i < n:\n",
    "        fast=fast.next\n",
    "        i+=1\n",
    "    while fast.next != None:\n",
    "        fast=fast.next\n",
    "        slow=slow.next\n",
    "    newHead = slow.next\n",
    "    slow.next = None\n",
    "    fast.next= head\n",
    "    head = newHead\n",
    "    return newHead"
   ]
  },
  {
   "cell_type": "code",
   "execution_count": null,
   "id": "9ad3ffa7",
   "metadata": {},
   "outputs": [],
   "source": [
    "'''You have been given two sorted(in ascending order) singly linked lists of integers.\n",
    "Write a function to merge them in such a way that the resulting singly linked list is also sorted(in ascending order) and return the new head to the list.\n",
    "Note :\n",
    "Try solving this in O(1) auxiliary space.'''"
   ]
  },
  {
   "cell_type": "code",
   "execution_count": null,
   "metadata": {},
   "outputs": [],
   "source": [
    "'''Merge two sorted link list'''\n",
    "\n",
    "def mergeTwoSortedLinkedLists(head1, head2):\n",
    "\n",
    "    newhead = Node(-1)\n",
    "    dummy = newhead\n",
    "\n",
    "    i = head1\n",
    "    j = head2\n",
    "\n",
    "    while i != None and j != None:\n",
    "        if i.data < j.data:\n",
    "            dummy.next = i\n",
    "            i = i.next\n",
    "        else:\n",
    "            dummy.next = j\n",
    "            j = j.next\n",
    "\n",
    "        dummy.next.next = None\n",
    "        dummy = dummy.next\n",
    "\n",
    "    if j != None:\n",
    "        dummy.next = j\n",
    "\n",
    "    if i != None:\n",
    "        dummy.next = i\n",
    "\n",
    "    result = newhead.next\n",
    "    newhead.next = None\n",
    "    return result "
   ]
  }
 ],
 "metadata": {
  "kernelspec": {
   "display_name": "base",
   "language": "python",
   "name": "python3"
  },
  "language_info": {
   "codemirror_mode": {
    "name": "ipython",
    "version": 3
   },
   "file_extension": ".py",
   "mimetype": "text/x-python",
   "name": "python",
   "nbconvert_exporter": "python",
   "pygments_lexer": "ipython3",
   "version": "3.12.7"
  }
 },
 "nbformat": 4,
 "nbformat_minor": 5
}
