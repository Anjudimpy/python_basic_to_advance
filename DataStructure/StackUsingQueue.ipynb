{
 "cells": [
  {
   "cell_type": "code",
   "execution_count": null,
   "id": "bbeeeb41",
   "metadata": {},
   "outputs": [],
   "source": [
    "'''Implement Stack Using Queue'''"
   ]
  },
  {
   "cell_type": "code",
   "execution_count": 168,
   "id": "17386713",
   "metadata": {},
   "outputs": [],
   "source": [
    "class Node:\n",
    "    def __init__(self, value):\n",
    "        self.data = value\n",
    "        self.next = None\n",
    "class Linklist:\n",
    "    def __init__(self):\n",
    "        self.head = None\n",
    "        self.tail = None\n",
    "\n",
    "    def add_at_tail(self, data):\n",
    "        new_node =  Node(data)\n",
    "        if self.head == None:\n",
    "            self.head = new_node\n",
    "            self.tail =  new_node\n",
    "        else:\n",
    "            self.tail.next= new_node\n",
    "            self.tail = new_node\n",
    "    def is_empty(self):\n",
    "        return self.head == None\n",
    "    \n",
    "    def remove_from_head(self):\n",
    "        if self.is_empty():\n",
    "            return None\n",
    "        data = self.head.data\n",
    "        if self.head.next is None:\n",
    "            self.head = None\n",
    "            self.tail = None\n",
    "        else:\n",
    "            self.head = self.head.next\n",
    "        return data \n",
    "    def getHead(self):\n",
    "        if self.is_empty():\n",
    "            return\n",
    "        return self.head.data\n",
    "    \n",
    "class Queue:\n",
    "    def __init__(self):\n",
    "        self.__ll = Linklist()\n",
    "\n",
    "    def enqueue(self, data):\n",
    "        self.__ll.add_at_tail(data)\n",
    "\n",
    "    def is_empty(self):\n",
    "     \n",
    "     return self.__ll.is_empty()\n",
    "    \n",
    "    def dequeue(self):\n",
    "        if self.is_empty():\n",
    "            print(\"Queue is empty\")\n",
    "            return\n",
    "        return self.__ll.remove_from_head()\n",
    "\n",
    "    def front(self):\n",
    "        if self.is_empty():\n",
    "            print(\"Queue is empty\")\n",
    "            return\n",
    "        return self.__ll.getHead()\n",
    " \n",
    "    \n",
    "class Stack:\n",
    "    def __init__(self):\n",
    "        self.__qu = Queue()\n",
    "        self.size = 0\n",
    "        \n",
    "    def sizeOf(self):\n",
    "        return self.size\n",
    "\n",
    "    def push(self,data):\n",
    "        self.__qu.enqueue(data)\n",
    "        self.size+=1\n",
    "\n",
    "    def pop(self):\n",
    "        sec=Queue()\n",
    "        last = None\n",
    "        while not self.__qu.is_empty():\n",
    "            last=self.__qu.dequeue()\n",
    "            if self.__qu.is_empty():\n",
    "                break\n",
    "            sec.enqueue(last)\n",
    "\n",
    "        while not sec.is_empty():\n",
    "            self.__qu.enqueue(sec.dequeue())\n",
    "        self.size-=1\n",
    "        return last\n",
    "           \n",
    "    def top(self):\n",
    "        last= None\n",
    "        sec=Queue()\n",
    "        while not self.__qu.is_empty():\n",
    "            last=self.__qu.dequeue()\n",
    "            sec.enqueue(last)\n",
    "        top_of_stack=last\n",
    "        while not sec.is_empty():\n",
    "            self.__qu.enqueue(sec.dequeue())\n",
    "\n",
    "        return top_of_stack\n",
    "\n",
    "        "
   ]
  },
  {
   "cell_type": "code",
   "execution_count": 173,
   "id": "b368d110",
   "metadata": {},
   "outputs": [],
   "source": [
    "st= Stack()\n",
    "st.push(10)\n",
    "st.push(20)\n",
    "st.push(30)\n"
   ]
  },
  {
   "cell_type": "code",
   "execution_count": 174,
   "id": "2610cd32",
   "metadata": {},
   "outputs": [
    {
     "data": {
      "text/plain": [
       "30"
      ]
     },
     "execution_count": 174,
     "metadata": {},
     "output_type": "execute_result"
    }
   ],
   "source": [
    "st.top()"
   ]
  },
  {
   "cell_type": "code",
   "execution_count": 175,
   "id": "6700c434",
   "metadata": {},
   "outputs": [
    {
     "data": {
      "text/plain": [
       "3"
      ]
     },
     "execution_count": 175,
     "metadata": {},
     "output_type": "execute_result"
    }
   ],
   "source": [
    "st.sizeOf()"
   ]
  },
  {
   "cell_type": "code",
   "execution_count": null,
   "id": "c1a2c364",
   "metadata": {},
   "outputs": [],
   "source": []
  }
 ],
 "metadata": {
  "kernelspec": {
   "display_name": "base",
   "language": "python",
   "name": "python3"
  },
  "language_info": {
   "codemirror_mode": {
    "name": "ipython",
    "version": 3
   },
   "file_extension": ".py",
   "mimetype": "text/x-python",
   "name": "python",
   "nbconvert_exporter": "python",
   "pygments_lexer": "ipython3",
   "version": "3.12.7"
  }
 },
 "nbformat": 4,
 "nbformat_minor": 5
}
