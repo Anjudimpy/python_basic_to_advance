{
 "cells": [
  {
   "cell_type": "code",
   "execution_count": 37,
   "id": "3356ff16",
   "metadata": {},
   "outputs": [
    {
     "name": "stdout",
     "output_type": "stream",
     "text": [
      "1:\n",
      "Total Number of Node in tree:- 1\n",
      "Sum of Node:- 1\n",
      "largest data in Tree:- 1\n",
      "Total Number of Node which is greater Then 2 :-  0\n",
      "Height of tree:- 1\n",
      "Number of leaf Node:- 1\n",
      "Mirror Binary Tree None\n",
      "1:\n",
      "Tree after remove leaf Node:  None\n",
      "None:\n"
     ]
    }
   ],
   "source": [
    "'''Binary Tree '''\n",
    "\n",
    "class BinaryTreeNode:\n",
    "    def __init__(self,data):\n",
    "        self.data=data\n",
    "        self.left=None\n",
    "        self.right=None\n",
    "\n",
    "def printTreeDetailed(root):\n",
    "        if root == None:\n",
    "            return\n",
    "        print(root.data, end=\":\")\n",
    "        if root.left!=None:\n",
    "            print('L', root.left.data, end=',')\n",
    "        if root.right != None:\n",
    "            print('R', root.right.data, end='')\n",
    "        print()\n",
    "        printTreeDetailed(root.left)\n",
    "        printTreeDetailed(root.right)\n",
    "\n",
    "\n",
    "def treeInput():\n",
    "     rootData = int(input())\n",
    "     if rootData == -1:\n",
    "          return None\n",
    "     root = BinaryTreeNode(rootData)\n",
    "     leftTree = treeInput()\n",
    "     rightTree = treeInput()\n",
    "     root.left=leftTree\n",
    "     root.right = rightTree\n",
    "     return root\n",
    "\n",
    "def numNodes(root):\n",
    "     if root == None:\n",
    "          return 0\n",
    "     leftCount = numNodes(root.left)\n",
    "     rightCount = numNodes(root.right)\n",
    "     return leftCount + rightCount + 1\n",
    "\n",
    "def getSumNode(root):\n",
    "     if root == None:\n",
    "          return 0\n",
    "     return root.data + getSumNode(root.left) + getSumNode(root.right) \n",
    "\n",
    "def largestData(root):\n",
    "     if root == None:\n",
    "          return -1\n",
    "     largest=max(largestData(root.left), largestData(root.right), root.data)\n",
    "     return largest\n",
    "     \n",
    "def countNodesGreaterThanX(root, x):\n",
    "    if root is None:\n",
    "        return 0\n",
    "\n",
    "    leftCount = countNodesGreaterThanX(root.left, x)\n",
    "    rightCount = countNodesGreaterThanX(root.right, x)\n",
    "\n",
    "    if root.data > x:\n",
    "        return 1 + leftCount + rightCount\n",
    "    else:\n",
    "        return leftCount + rightCount\n",
    "    \n",
    "'''Height OF Tree'''\n",
    "\n",
    "def heightOfTree(root):\n",
    "     if root == None:\n",
    "          return 0\n",
    "     return 1 + max(heightOfTree(root.left), heightOfTree(root.right))\n",
    "\n",
    "'''NUmber of Leaf Node'''\n",
    "\n",
    "def numLeafNode(root):\n",
    "     if root == None:\n",
    "          return 0\n",
    "     if root.left == None and root.right == None:\n",
    "          return 1\n",
    "     return numLeafNode(root.left) + numLeafNode(root.right)\n",
    "\n",
    "'''Print Node without sibling'''\n",
    "\n",
    "def printNodesWithoutSibling(root) :\n",
    "\t# Your code goes here\n",
    "    if root  == None:\n",
    "        return\n",
    "\n",
    "    if root.left !=None and root.right == None:\n",
    "        print(root.left.data, end=\" \")    \n",
    "    if root.left == None and root.right != None:\n",
    "        print(root.right.data, end=\" \")\n",
    "           \n",
    "    printNodesWithoutSibling(root.left)\n",
    "    printNodesWithoutSibling(root.right) \n",
    "\n",
    "'''Remove Leaf Node'''\n",
    "\n",
    "def removeLeafNode(root):\n",
    "     if root == None:\n",
    "          return\n",
    "     if root.left == None and root.right == None:\n",
    "          root.data = None\n",
    "\n",
    "     removeLeafNode(root.left)\n",
    "     removeLeafNode(root.right) \n",
    "   \n",
    "'''Mirror Binary Tree'''\n",
    "\n",
    "def mirrorBinaryTree(root) :\n",
    "    # Your code goes here\n",
    "    if root  == None:\n",
    "        return\n",
    "    root.left, root.right = root.right, root.left \n",
    "    mirrorBinaryTree(root.left)\n",
    "    mirrorBinaryTree(root.right)\n",
    "\n",
    "\n",
    "                 \n",
    "     \n",
    "\n",
    "\n",
    "\n",
    "root = treeInput()\n",
    "printTreeDetailed(root)\n",
    "print(\"Total Number of Node in tree:-\", numNodes(root))\n",
    "print(\"Sum of Node:-\",getSumNode(root))\n",
    "print(\"largest data in Tree:-\", largestData(root))\n",
    "print(\"Total Number of Node which is greater Then 2 :- \",countNodesGreaterThanX(root, 2))\n",
    "print(\"Height of tree:-\", heightOfTree(root))\n",
    "print(\"Number of leaf Node:-\", numLeafNode(root))\n",
    "print(\"Mirror Binary Tree\",mirrorBinaryTree(root))\n",
    "printTreeDetailed(root)\n",
    "print(\"Tree after remove leaf Node: \", removeLeafNode(root))\n",
    "printTreeDetailed(root)\n",
    "\n",
    "        "
   ]
  },
  {
   "cell_type": "code",
   "execution_count": null,
   "id": "e924325b",
   "metadata": {},
   "outputs": [
    {
     "name": "stdout",
     "output_type": "stream",
     "text": [
      "1:L 2,R 3\n",
      "2:L 4,R 5\n",
      "4:\n",
      "5:\n",
      "3:\n"
     ]
    }
   ],
   "source": [
    "btn1=BinaryTreeNode(1)\n",
    "btn2=BinaryTreeNode(2)\n",
    "btn3=BinaryTreeNode(3)\n",
    "btn4=BinaryTreeNode(4)\n",
    "btn5=BinaryTreeNode(5)\n",
    "\n",
    "btn1.left=btn2\n",
    "btn1.right=btn3\n",
    "btn2.left=btn4\n",
    "btn2.right=btn5\n",
    "\n",
    "printTreeDetailed(btn1)"
   ]
  },
  {
   "cell_type": "code",
   "execution_count": null,
   "id": "0c847d91",
   "metadata": {},
   "outputs": [],
   "source": [
    "'''Check Tree is Balanced or Node , TC:O(n2)\n",
    "if left subtree hight greater then 1 then to right sub tree then tree is not balaced\n",
    "or right subtree hight greater then 1 then to left sub tree then tree is not balaced\n",
    "'''\n",
    "def height(root):\n",
    "    if root == None:\n",
    "        return 0\n",
    "    return 1+ max(height(root.left), height(root.right))\n",
    "\n",
    "def isBalanced(root):\n",
    "    if root == None:\n",
    "        return True\n",
    "    \n",
    "    lh= height(root.left)\n",
    "    rh= height(root.right)\n",
    "    \n",
    "    if lh-rh>1 or rh-lh>1:\n",
    "        return False\n",
    "    leftBalanced = isBalanced(root.left)\n",
    "    rightBalanced = isBalanced(root.right)\n",
    "\n",
    "    if leftBalanced and rightBalanced:\n",
    "        return True\n",
    "    else:\n",
    "        return False\n",
    "  \n"
   ]
  },
  {
   "cell_type": "code",
   "execution_count": null,
   "id": "c6917ec6",
   "metadata": {},
   "outputs": [
    {
     "name": "stdout",
     "output_type": "stream",
     "text": [
      "1:L 2,\n",
      "2:L 3,\n",
      "3:\n",
      "False\n"
     ]
    }
   ],
   "source": [
    "root = treeInput()\n",
    "printTreeDetailed(root)\n",
    "print(isBalanced(root))"
   ]
  },
  {
   "cell_type": "code",
   "execution_count": null,
   "id": "59f37bb7",
   "metadata": {},
   "outputs": [],
   "source": [
    "'''Check Tree is Balanced or Node , TC:O(n)\n",
    "if left subtree hight greater then 1 then to right sub tree then tree is not balaced\n",
    "or right subtree hight greater then 1 then to left sub tree then tree is not balaced\n",
    "'''\n",
    "def isBalanced2(root):\n",
    "    if root == None:\n",
    "        return 0, True\n",
    "    lh,leftBalanced =isBalanced2(root.left)\n",
    "    rh,rightBlanced= isBalanced2(root.right)\n",
    "    \n",
    "    h =1+ max(lh, rh)\n",
    "    if lh - rh >1 or rh - lh >1:\n",
    "        return h, False\n",
    "    if leftBalanced and rightBlanced:\n",
    "        return h, True\n",
    "    else:\n",
    "        return h,False"
   ]
  },
  {
   "cell_type": "code",
   "execution_count": null,
   "id": "569fd927",
   "metadata": {},
   "outputs": [
    {
     "name": "stdout",
     "output_type": "stream",
     "text": [
      "1:L 2,R 3\n",
      "2:L 3,\n",
      "3:L 4,\n",
      "4:\n",
      "3:\n",
      "(4, False)\n"
     ]
    }
   ],
   "source": [
    "root = treeInput()\n",
    "printTreeDetailed(root)\n",
    "print(isBalanced2(root))"
   ]
  },
  {
   "cell_type": "code",
   "execution_count": null,
   "id": "194ee7e6",
   "metadata": {},
   "outputs": [],
   "source": [
    "'''Diameter of tree '''\n",
    "\n",
    "def height(root):\n",
    "    if root == None:\n",
    "        return 0\n",
    "    return 1 + max(height(root.left), height(root.right))\n",
    "\n",
    "def diameterOfBinaryTree(root):\n",
    "    if root == None:\n",
    "        return 0\n",
    "\n",
    "    diameterThroughRoot =1+ height(root.left) + height(root.right)\n",
    "\n",
    "    leftDiameter = diameterOfBinaryTree(root.left)\n",
    "    rightDiameter = diameterOfBinaryTree(root.right)\n",
    "\n",
    "    return max(diameterThroughRoot, leftDiameter, rightDiameter)"
   ]
  },
  {
   "cell_type": "code",
   "execution_count": 19,
   "id": "ea8f0426",
   "metadata": {},
   "outputs": [],
   "source": [
    "'''LevelWise Input Binary Tree '''\n",
    "import queue\n",
    "\n",
    "def levelwiseInput():\n",
    "    q=queue.Queue()\n",
    "    print(\"Enter root\")\n",
    "    rootData=int(input())\n",
    "    if rootData==-1:\n",
    "        return None\n",
    "    root=BinaryTreeNode(rootData)\n",
    "    q.put(root)\n",
    "    while(not(q.empty())):\n",
    "        current_node=q.get()\n",
    "        print(\"Enter left child of\",current_node.data)\n",
    "        leftChildData=int(input())\n",
    "        if leftChildData!=-1:\n",
    "            leftChild=BinaryTreeNode(leftChildData)\n",
    "            current_node.left=leftChild\n",
    "            q.put(leftChild)\n",
    "        \n",
    "        print(\"Enter right child of\",current_node.data)\n",
    "        rightChildData=int(input())\n",
    "        if rightChildData!=-1:\n",
    "            rightChild=BinaryTreeNode(rightChildData)\n",
    "            current_node.right=rightChild\n",
    "            q.put(rightChild)\n",
    "    return root\n",
    "   \n",
    "\n",
    "\n",
    "\n"
   ]
  },
  {
   "cell_type": "code",
   "execution_count": 23,
   "id": "ff3bf3b5",
   "metadata": {},
   "outputs": [
    {
     "name": "stdout",
     "output_type": "stream",
     "text": [
      "Enter root\n",
      "Enter left child of 1\n",
      "Enter right child of 1\n",
      "Enter left child of 2\n",
      "Enter right child of 2\n",
      "Enter left child of 3\n",
      "Enter right child of 3\n",
      "1:L 2,R 3\n",
      "2:\n",
      "3:\n"
     ]
    }
   ],
   "source": [
    "root= levelwiseInput()\n",
    "printTreeDetailed(root)"
   ]
  },
  {
   "cell_type": "code",
   "execution_count": 40,
   "id": "0dff58dc",
   "metadata": {},
   "outputs": [],
   "source": [
    "class BinaryTreeNode:\n",
    "    def __init__(self,data):\n",
    "        self.data=data\n",
    "        self.left=None\n",
    "        self.right=None\n",
    "\n",
    "def printTree(root):\n",
    "    if root==None:\n",
    "        return\n",
    "    print(root.data)\n",
    "    printTree(root.left)\n",
    "    printTree(root.right)\n",
    "\n",
    "def printTreeDetailed(root):\n",
    "    if root==None:\n",
    "        return\n",
    "    print(root.data,end=\":\")\n",
    "    if root.left!=None:\n",
    "        print(\"L\",root.left.data,end=\",\")\n",
    "    if root.right!=None:\n",
    "        print(\"R\",root.right.data,end=\"\")\n",
    "    print()\n",
    "    printTreeDetailed(root.left)\n",
    "    printTreeDetailed(root.right)\n",
    "\n",
    "import queue\n",
    "def takeTreeInputLevelWise():\n",
    "    q=queue.Queue()\n",
    "    print(\"Enter root\")\n",
    "    rootData=int(input())\n",
    "    if rootData==-1:\n",
    "        return None\n",
    "    root=BinaryTreeNode(rootData)\n",
    "    q.put(root)\n",
    "    while(not(q.empty())):\n",
    "        current_node=q.get()\n",
    "        print(\"Enter left child of\",current_node.data)\n",
    "        leftChildData=int(input())\n",
    "        if leftChildData!=-1:\n",
    "            leftChild=BinaryTreeNode(leftChildData)\n",
    "            current_node.left=leftChild\n",
    "            q.put(leftChild)\n",
    "        \n",
    "        print(\"Enter right child of\",current_node.data)\n",
    "        rightChildData=int(input())\n",
    "        if rightChildData!=-1:\n",
    "            rightChild=BinaryTreeNode(rightChildData)\n",
    "            current_node.right=rightChild\n",
    "            q.put(rightChild)\n",
    "    return root\n",
    "\n",
    "\n",
    "def printLevelWise(root):\n",
    "    if root == None:\n",
    "        return\n",
    "    q=queue.Queue()\n",
    "    q.put(root)\n",
    "\n",
    "    while not q.empty():\n",
    "        currentNode= q.get()\n",
    "        left=-1\n",
    "        right=-1\n",
    "        if currentNode.left:\n",
    "            left= currentNode.left.data\n",
    "            q.put(currentNode.left)\n",
    "        if currentNode.right:\n",
    "            right= currentNode.right.data\n",
    "            q.put(currentNode.right)\n",
    "        print(currentNode.data,\":L:\",left,\"R:\",right)\n",
    "        \n",
    "        \n",
    "   \n",
    "\n",
    "\n",
    "\n"
   ]
  },
  {
   "cell_type": "code",
   "execution_count": 41,
   "id": "e9e52eb3",
   "metadata": {},
   "outputs": [
    {
     "name": "stdout",
     "output_type": "stream",
     "text": [
      "Enter root\n",
      "Enter left child of 2\n",
      "Enter right child of 2\n",
      "2 :L: -1 R: -1\n",
      "2:\n"
     ]
    }
   ],
   "source": [
    "root=takeTreeInputLevelWise()\n",
    "printLevelWise(root)\n",
    "printTreeDetailed(root)"
   ]
  },
  {
   "cell_type": "code",
   "execution_count": 44,
   "id": "7ec654e9",
   "metadata": {},
   "outputs": [
    {
     "name": "stdout",
     "output_type": "stream",
     "text": [
      "[2, 3, 4, 5]\n"
     ]
    }
   ],
   "source": [
    "li=[1,2,3,4,5]\n",
    "print(li[1:5])"
   ]
  },
  {
   "cell_type": "code",
   "execution_count": null,
   "id": "1505f601",
   "metadata": {},
   "outputs": [],
   "source": [
    "'''For a given preorder and inorder traversal of a Binary Tree of type integer stored in an array/list, create the binary tree using the given two arrays/lists. \n",
    "You just need to construct the tree and return the root.'''"
   ]
  },
  {
   "cell_type": "code",
   "execution_count": 99,
   "id": "a77ccb87",
   "metadata": {},
   "outputs": [],
   "source": [
    "import queue\n",
    "class BinaryTreeNode:\n",
    "    def __init__(self, value):\n",
    "        self.data = value \n",
    "        self.left = None\n",
    "        self.right= None\n",
    "\n",
    "def BuildTree(preOrder, inOrder):\n",
    "    if len(preOrder) == 0:\n",
    "        return None\n",
    "    \n",
    "    rootData = preOrder[0]\n",
    "    root = BinaryTreeNode(rootData)\n",
    "    \n",
    "\n",
    "    rootIndexInorder=-1\n",
    "\n",
    "    for i in range(len(inOrder)):\n",
    "        if inOrder[i] == rootData:\n",
    "            rootIndexInorder = i\n",
    "            break\n",
    "    if rootIndexInorder == -1:\n",
    "        return None\n",
    "    \n",
    "    leftInorder =inOrder[0:rootIndexInorder]\n",
    "    rightInorder= inOrder[rootIndexInorder+1:]\n",
    "\n",
    "    lenLeftSubTree = len(leftInorder)\n",
    "    \n",
    "    leftPreOrder =preOrder[1:lenLeftSubTree+1]\n",
    "    rightPreOrder =preOrder[lenLeftSubTree+1:]\n",
    "\n",
    "    leftChild=BuildTree(leftPreOrder,leftInorder)\n",
    "    rightChild = BuildTree(rightPreOrder, rightInorder)\n",
    "\n",
    "    root.left = leftChild\n",
    "    root.right = rightChild\n",
    "\n",
    "    return root\n",
    "\n",
    "def printTreeStructure(root):\n",
    "    if root == None:\n",
    "        return\n",
    "    q=queue.Queue()\n",
    "    q.put(root)\n",
    "   \n",
    "    while not q.empty():\n",
    "        \n",
    "        for _ in range(q.qsize()):\n",
    "            current = q.get()\n",
    "            print(current.data, end=\" \")\n",
    "            if current.left:\n",
    "                q.put(current.left)\n",
    "            if current.right:\n",
    "                q.put(current.right)\n",
    "            \n",
    "        print()\n",
    "\n"
   ]
  },
  {
   "cell_type": "code",
   "execution_count": 100,
   "id": "bffab1bb",
   "metadata": {},
   "outputs": [
    {
     "name": "stdout",
     "output_type": "stream",
     "text": [
      "1 \n",
      "2 3 \n",
      "4 5 6 7 \n"
     ]
    }
   ],
   "source": [
    "preOrder =[1,2,4,5,3,6,7]\n",
    "inOrder=[4,2,5,1,6,3,7]\n",
    "root=BuildTree(preOrder,inOrder)\n",
    "printTreeStructure(root)"
   ]
  },
  {
   "cell_type": "code",
   "execution_count": null,
   "id": "d9ca8f92",
   "metadata": {},
   "outputs": [],
   "source": [
    "'''Given a BST and an integer k. Find if the integer k is present in given BST or not. You have to return true, if node with data k is present, return \n",
    "false otherwise.'''"
   ]
  },
  {
   "cell_type": "code",
   "execution_count": null,
   "id": "a0307fef",
   "metadata": {},
   "outputs": [],
   "source": [
    "def searchInBST(root, k):\n",
    "    if root == None:\n",
    "        return False\n",
    "    \n",
    "    if root.data == k:\n",
    "        return True\n",
    "    elif  root.data> k:\n",
    "        return searchInBST(root.left,k)\n",
    "    else:\n",
    "        return searchInBST(root.right,k)"
   ]
  },
  {
   "cell_type": "code",
   "execution_count": null,
   "id": "e7935654",
   "metadata": {},
   "outputs": [],
   "source": [
    "'''Given a Binary Search Tree and two integers k1 and k2, find and print the elements which are in range k1 and k2 (both inclusive).\n",
    "Print the elements in increasing order.'''"
   ]
  },
  {
   "cell_type": "code",
   "execution_count": null,
   "id": "72966510",
   "metadata": {},
   "outputs": [],
   "source": [
    "def elementsInRangeK1K2(root, k1, k2):\n",
    "    #############################\n",
    "    # PLEASE ADD YOUR CODE HERE #\n",
    "    #############################\n",
    "    if root  == None:\n",
    "        return\n",
    "      \n",
    "    if root.data> k1:\n",
    "        elementsInRangeK1K2(root.left,k1,k2) \n",
    "\n",
    "    if k1 <= root.data <= k2:\n",
    "        print(root.data, end=\" \")\n",
    "            \n",
    "    if root.data<k2:\n",
    "        elementsInRangeK1K2(root.right,k1,k2)"
   ]
  },
  {
   "cell_type": "code",
   "execution_count": 6,
   "id": "6bd01ea7",
   "metadata": {},
   "outputs": [
    {
     "name": "stdout",
     "output_type": "stream",
     "text": [
      "3\n"
     ]
    }
   ],
   "source": [
    "print(7//2)\n"
   ]
  },
  {
   "cell_type": "code",
   "execution_count": null,
   "id": "a4e9f7ed",
   "metadata": {},
   "outputs": [],
   "source": [
    "'''Given a sorted integer array A of size n, which contains all unique elements. You need to construct a balanced BST from this input array. Return\n",
    "the root of constructed BST.\n",
    "Note: If array size is even, take first mid as root.'''"
   ]
  },
  {
   "cell_type": "code",
   "execution_count": null,
   "id": "dd074c93",
   "metadata": {},
   "outputs": [],
   "source": [
    "def constructBST(lst):\n",
    "    #############################\n",
    "    # PLEASE ADD YOUR CODE HERE #\n",
    "    #############################\n",
    "    if not lst:\n",
    "        return None\n",
    "\n",
    "    lenLst=len(lst)\n",
    "    \n",
    "    if lenLst %2 ==0:\n",
    "        mid= (lenLst-1)//2   \n",
    "    else:\n",
    "        mid=lenLst//2\n",
    "\n",
    "    root = BinaryTreeNode(lst[mid])\n",
    "    LeftChild= lst[:mid]\n",
    "    rightChild= lst[mid+1:]\n",
    "\n",
    "    root.left=constructBST(LeftChild)\n",
    "    root.right=constructBST(rightChild)\n",
    "\n",
    "    return root"
   ]
  },
  {
   "cell_type": "code",
   "execution_count": null,
   "id": "b44c6128",
   "metadata": {},
   "outputs": [
    {
     "name": "stdout",
     "output_type": "stream",
     "text": [
      "Enter root\n",
      "Enter left child of 4\n",
      "Enter right child of 4\n",
      "Enter left child of 2\n",
      "Enter right child of 2\n",
      "Enter left child of 3\n",
      "Enter right child of 3\n",
      "Enter left child of 1\n",
      "Enter right child of 1\n",
      "Enter left child of 10\n",
      "Enter right child of 10\n",
      "Enter left child of 5\n",
      "Enter right child of 5\n",
      "Enter left child of 6\n",
      "Enter right child of 6\n",
      "4:L 2,R 3\n",
      "2:L 1,R 10\n",
      "1:\n",
      "10:\n",
      "3:L 5,R 6\n",
      "5:\n",
      "6:\n",
      "1 100000 100000\n",
      "10 100000 100000\n",
      "2 1 10\n",
      "5 100000 100000\n",
      "6 100000 100000\n",
      "3 5 6\n",
      "4 1 3\n"
     ]
    },
    {
     "data": {
      "text/plain": [
       "1"
      ]
     },
     "execution_count": 12,
     "metadata": {},
     "output_type": "execute_result"
    }
   ],
   "source": [
    "class BinaryTreeNode:\n",
    "    def __init__(self,data):\n",
    "        self.data=data\n",
    "        self.left=None\n",
    "        self.right=None\n",
    "\n",
    "\n",
    "\n",
    "def printTreeDetailed(root):\n",
    "    if root==None:\n",
    "        return\n",
    "    print(root.data,end=\":\")\n",
    "    if root.left!=None:\n",
    "        print(\"L\",root.left.data,end=\",\")\n",
    "    if root.right!=None:\n",
    "        print(\"R\",root.right.data,end=\"\")\n",
    "    print()\n",
    "    printTreeDetailed(root.left)\n",
    "    printTreeDetailed(root.right)\n",
    "\n",
    "import queue\n",
    "def takeTreeInputLevelWise():\n",
    "    q=queue.Queue()\n",
    "    print(\"Enter root\")\n",
    "    rootData=int(input())\n",
    "    if rootData==-1:\n",
    "        return None\n",
    "    root=BinaryTreeNode(rootData)\n",
    "    q.put(root)\n",
    "    while(not(q.empty())):\n",
    "        current_node=q.get()\n",
    "        print(\"Enter left child of\",current_node.data)\n",
    "        leftChildData=int(input())\n",
    "        if leftChildData!=-1:\n",
    "            leftChild=BinaryTreeNode(leftChildData)\n",
    "            current_node.left=leftChild\n",
    "            q.put(leftChild)\n",
    "        print(\"Enter right child of\",current_node.data)\n",
    "        rightChildData=int(input())\n",
    "        if rightChildData!=-1:\n",
    "            rightChild=BinaryTreeNode(rightChildData)\n",
    "            current_node.right=rightChild\n",
    "            q.put(rightChild)\n",
    "    return root\n",
    "\n",
    "def minTree(root):\n",
    "    if root==None:\n",
    "        return 100000\n",
    "    leftMin=minTree(root.left)\n",
    "    rightMin=minTree(root.right)\n",
    "    print(root.data, leftMin, rightMin)\n",
    "    print()\n",
    "    return min(leftMin,rightMin,root.data)\n",
    "\n",
    "\n",
    "\n",
    "root=takeTreeInputLevelWise()\n",
    "printTreeDetailed(root)\n",
    "minTree(root)\n"
   ]
  },
  {
   "cell_type": "code",
   "execution_count": 9,
   "id": "51f0c4f3",
   "metadata": {},
   "outputs": [
    {
     "data": {
      "text/plain": [
       "-1"
      ]
     },
     "execution_count": 9,
     "metadata": {},
     "output_type": "execute_result"
    }
   ],
   "source": [
    "-1\n"
   ]
  },
  {
   "cell_type": "code",
   "execution_count": null,
   "id": "b1a0738a",
   "metadata": {},
   "outputs": [],
   "source": [
    "'''Given a BST and an integer k. Find and return the path from the node with data k and root (if a node with data k is present in given BST) in a list.\n",
    " Return empty list otherwise.\n",
    "Note: Assume that BST contains all unique elements.'''"
   ]
  },
  {
   "cell_type": "code",
   "execution_count": null,
   "id": "54d10586",
   "metadata": {},
   "outputs": [],
   "source": [
    "def findPathBST(root,data):\n",
    "    #############################\n",
    "    # PLEASE ADD YOUR CODE HERE #\n",
    "    #############################\n",
    "    if root  == None:\n",
    "        return None\n",
    "    if root.data == data:\n",
    "        li=[]\n",
    "        li.append(root.data)\n",
    "        return li\n",
    "\n",
    "    leftOutput = findPathBST(root.left, data)\n",
    "    if leftOutput != None:\n",
    "        leftOutput.append(root.data)   \n",
    "        return leftOutput\n",
    "\n",
    "    rightOutput=findPathBST(root.right,data)\n",
    "    if rightOutput != None:\n",
    "        rightOutput.append(root.data) \n",
    "        return rightOutput\n",
    "    else:\n",
    "        return None"
   ]
  },
  {
   "cell_type": "code",
   "execution_count": null,
   "id": "8fff24b6",
   "metadata": {},
   "outputs": [],
   "source": []
  }
 ],
 "metadata": {
  "kernelspec": {
   "display_name": "base",
   "language": "python",
   "name": "python3"
  },
  "language_info": {
   "codemirror_mode": {
    "name": "ipython",
    "version": 3
   },
   "file_extension": ".py",
   "mimetype": "text/x-python",
   "name": "python",
   "nbconvert_exporter": "python",
   "pygments_lexer": "ipython3",
   "version": "3.12.7"
  }
 },
 "nbformat": 4,
 "nbformat_minor": 5
}
