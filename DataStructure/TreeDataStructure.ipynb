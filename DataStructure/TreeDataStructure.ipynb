{
 "cells": [
  {
   "cell_type": "code",
   "execution_count": 39,
   "id": "3356ff16",
   "metadata": {},
   "outputs": [
    {
     "name": "stdout",
     "output_type": "stream",
     "text": [
      "2:L 3,R 4\n",
      "3:\n",
      "4:\n",
      "3\n",
      "9\n"
     ]
    }
   ],
   "source": [
    "'''Binary Tree '''\n",
    "\n",
    "class BinaryTreeNode:\n",
    "    def __init__(self,data):\n",
    "        self.data=data\n",
    "        self.left=None\n",
    "        self.right=None\n",
    "\n",
    "def printTreeDetailed(root):\n",
    "        if root == None:\n",
    "            return\n",
    "        print(root.data, end=\":\")\n",
    "        if root.left!=None:\n",
    "            print('L', root.left.data, end=',')\n",
    "        if root.right != None:\n",
    "            print('R', root.right.data, end='')\n",
    "        print()\n",
    "        printTreeDetailed(root.left)\n",
    "        printTreeDetailed(root.right)\n",
    "\n",
    "\n",
    "def treeInput():\n",
    "     rootData = int(input())\n",
    "     if rootData == -1:\n",
    "          return None\n",
    "     root = BinaryTreeNode(rootData)\n",
    "     leftTree = treeInput()\n",
    "     rightTree = treeInput()\n",
    "     root.left=leftTree\n",
    "     root.right = rightTree\n",
    "     return root\n",
    "\n",
    "def numNodes(root):\n",
    "     if root == None:\n",
    "          return 0\n",
    "     leftCount = numNodes(root.left)\n",
    "     rightCount = numNodes(root.right)\n",
    "     return leftCount + rightCount + 1\n",
    "\n",
    "def getSumNode(root):\n",
    "     if root == None:\n",
    "          return 0\n",
    "     return root.data + getSumNode(root.left) + getSumNode(root.right) \n",
    "     \n",
    "root = treeInput()\n",
    "printTreeDetailed(root)\n",
    "print(numNodes(root))\n",
    "print(getSumNode(root))\n",
    "\n",
    "        "
   ]
  },
  {
   "cell_type": "code",
   "execution_count": null,
   "id": "10f137b1",
   "metadata": {},
   "outputs": [],
   "source": []
  },
  {
   "cell_type": "code",
   "execution_count": 28,
   "id": "e924325b",
   "metadata": {},
   "outputs": [
    {
     "name": "stdout",
     "output_type": "stream",
     "text": [
      "1:L 2,R 3\n",
      "2:L 4,R 5\n",
      "4:\n",
      "5:\n",
      "3:\n"
     ]
    }
   ],
   "source": [
    "btn1=BinaryTreeNode(1)\n",
    "btn2=BinaryTreeNode(2)\n",
    "btn3=BinaryTreeNode(3)\n",
    "btn4=BinaryTreeNode(4)\n",
    "btn5=BinaryTreeNode(5)\n",
    "\n",
    "btn1.left=btn2\n",
    "btn1.right=btn3\n",
    "btn2.left=btn4\n",
    "btn2.right=btn5\n",
    "\n",
    "printTreeDetailed(btn1)"
   ]
  },
  {
   "cell_type": "code",
   "execution_count": null,
   "id": "0c847d91",
   "metadata": {},
   "outputs": [],
   "source": []
  }
 ],
 "metadata": {
  "kernelspec": {
   "display_name": "base",
   "language": "python",
   "name": "python3"
  },
  "language_info": {
   "codemirror_mode": {
    "name": "ipython",
    "version": 3
   },
   "file_extension": ".py",
   "mimetype": "text/x-python",
   "name": "python",
   "nbconvert_exporter": "python",
   "pygments_lexer": "ipython3",
   "version": "3.12.7"
  }
 },
 "nbformat": 4,
 "nbformat_minor": 5
}
