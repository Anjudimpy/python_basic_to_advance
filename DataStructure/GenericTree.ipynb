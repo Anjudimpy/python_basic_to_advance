{
 "cells": [
  {
   "cell_type": "code",
   "execution_count": null,
   "id": "79ec50ad",
   "metadata": {},
   "outputs": [],
   "source": []
  },
  {
   "cell_type": "code",
   "execution_count": 41,
   "id": "82dae000",
   "metadata": {},
   "outputs": [],
   "source": [
    "class TreeNode:\n",
    "    def __init__(self,data):\n",
    "        self.data=data\n",
    "        self.children=list()\n",
    "\n",
    "def printTree(root):\n",
    "    # not a base case but edge case\n",
    "    if root==None:\n",
    "        return\n",
    "    print(root.data)\n",
    "    for child in root.children:\n",
    "        printTree(child)\n",
    "\n",
    "def printTreeDetailed(root):\n",
    "    if root==None:\n",
    "        return\n",
    "    \n",
    "    print(root.data,\":\",end=\" \")\n",
    "    for child in root.children:\n",
    "        print(child.data,\",\",end=\" \")\n",
    "    print()\n",
    "    \n",
    "    for child in root.children:\n",
    "        printTreeDetailed(child)\n",
    "\n",
    "def takeTreeInput():\n",
    "\n",
    "    print(\"Enter root data\")\n",
    "    rootData = int(input())\n",
    "    if rootData == -1:\n",
    "        return None\n",
    "    root= TreeNode(rootData)\n",
    "    print(\"Enter number of children for\", rootData)\n",
    "    childrenCount = int(input())\n",
    "    for i in range(childrenCount):\n",
    "        \n",
    "        child=takeTreeInput()\n",
    "        root.children.append(child)\n",
    "    return root\n",
    " \n",
    "\n"
   ]
  },
  {
   "cell_type": "code",
   "execution_count": 35,
   "id": "d88eb17e",
   "metadata": {},
   "outputs": [
    {
     "name": "stdout",
     "output_type": "stream",
     "text": [
      "5 : 2 , 9 , 8 , 7 , \n",
      "2 : \n",
      "9 : 15 , 1 , \n",
      "15 : \n",
      "1 : \n",
      "8 : \n",
      "7 : \n"
     ]
    }
   ],
   "source": [
    "n1=TreeNode(5)\n",
    "n2=TreeNode(2)\n",
    "n3=TreeNode(9)\n",
    "n4=TreeNode(8)\n",
    "n5=TreeNode(7)\n",
    "n6=TreeNode(15)\n",
    "n7=TreeNode(1)\n",
    "\n",
    "n1.children.append(n2)\n",
    "n1.children.append(n3)\n",
    "n1.children.append(n4)\n",
    "n1.children.append(n5)\n",
    "\n",
    "n3.children.append(n6)\n",
    "n3.children.append(n7)\n",
    "printTreeDetailed(n1)"
   ]
  },
  {
   "cell_type": "code",
   "execution_count": 51,
   "id": "6892e29f",
   "metadata": {},
   "outputs": [],
   "source": [
    "'''Count Number of Node'''\n",
    "\n",
    "def numNodes(root):\n",
    "    if root  == None:\n",
    "        return 0\n",
    "    count =1\n",
    "    for child in root.children:\n",
    "        count = count+numNodes(child)\n",
    "    return count  "
   ]
  },
  {
   "cell_type": "code",
   "execution_count": 50,
   "id": "119f9700",
   "metadata": {},
   "outputs": [],
   "source": [
    "'''Sum of all node'''\n",
    "def SumOfAllNode(root):\n",
    "    if root == None:\n",
    "        return 0\n",
    "    sumAll =  root.data\n",
    "    for child in root.children:\n",
    "        sumAll = sumAll + SumOfAllNode(child)\n",
    "    return sumAll    "
   ]
  },
  {
   "cell_type": "code",
   "execution_count": 52,
   "id": "5b4376e6",
   "metadata": {},
   "outputs": [
    {
     "name": "stdout",
     "output_type": "stream",
     "text": [
      "Enter root data\n",
      "Enter number of children for 5\n",
      "Enter root data\n",
      "Enter number of children for 3\n",
      "Enter root data\n",
      "Enter number of children for 0\n",
      "5 : 3 , \n",
      "3 : 0 , \n",
      "0 : \n",
      "3\n",
      "8\n"
     ]
    }
   ],
   "source": [
    "root= takeTreeInput()\n",
    "printTreeDetailed(root)\n",
    "print(numNodes(root))\n",
    "print(SumOfAllNode(root))"
   ]
  },
  {
   "cell_type": "code",
   "execution_count": null,
   "id": "fd01fb07",
   "metadata": {},
   "outputs": [],
   "source": [
    "'''Take input levelWise'''\n",
    "\n",
    "import queue\n",
    "def takeInputLevelWise():\n",
    "    q=queue.Queue()\n",
    "    print(\"Enter root\")\n",
    "    rootData= int(input())\n",
    "    if rootData == -1:\n",
    "        return None\n",
    "    root = TreeNode(rootData)\n",
    "    q.put(root)\n",
    "    while not q.empty():\n",
    "        current_node = q.get()\n",
    "        print(\"enter number of children for\", current_node.data)\n",
    "        numChildren = int(input())\n",
    "        for i in range(numChildren):\n",
    "            print(\"Enter next child for\", current_node.data)\n",
    "            childData= int(input())\n",
    "            child = TreeNode(childData)\n",
    "            current_node.children.append(child)\n",
    "            q.put(child)\n",
    "    return root    \n",
    "\n"
   ]
  },
  {
   "cell_type": "code",
   "execution_count": 63,
   "id": "776100e5",
   "metadata": {},
   "outputs": [
    {
     "name": "stdout",
     "output_type": "stream",
     "text": [
      "Enter root\n",
      "enter number of children for 5\n",
      "Enter next child for 5\n",
      "Enter next child for 5\n",
      "Enter next child for 5\n",
      "enter number of children for 1\n",
      "enter number of children for 2\n",
      "enter number of children for 3\n",
      "5 : 1 , 2 , 3 , \n",
      "1 : \n",
      "2 : \n",
      "3 : \n",
      "4\n",
      "11\n"
     ]
    }
   ],
   "source": [
    "root= takeInputLevelWise()\n",
    "printTreeDetailed(root)\n",
    "print(numNodes(root))\n",
    "print(SumOfAllNode(root))"
   ]
  },
  {
   "cell_type": "code",
   "execution_count": 66,
   "id": "4cbb34b6",
   "metadata": {},
   "outputs": [],
   "source": [
    "'''Height of Tree'''\n",
    "\n",
    "def heightOfTree(root):\n",
    "    if root is None:\n",
    "        return 0\n",
    "    ans = 0\n",
    "    for child in root.children:\n",
    "        childHeight = heightOfTree(child)\n",
    "        ans = max(ans, childHeight)\n",
    "    return ans + 1\n",
    "\n",
    "        \n",
    "    \n",
    "\n",
    "\n",
    "\n"
   ]
  },
  {
   "cell_type": "code",
   "execution_count": 67,
   "id": "17f0e9ef",
   "metadata": {},
   "outputs": [
    {
     "name": "stdout",
     "output_type": "stream",
     "text": [
      "Enter root\n",
      "enter number of children for 5\n",
      "Enter next child for 5\n",
      "Enter next child for 5\n",
      "enter number of children for 3\n",
      "enter number of children for 1\n",
      "5 : 3 , 1 , \n",
      "3 : \n",
      "1 : \n",
      "3\n",
      "9\n",
      "2\n"
     ]
    }
   ],
   "source": [
    "root= takeInputLevelWise()\n",
    "printTreeDetailed(root)\n",
    "print(numNodes(root))\n",
    "print(SumOfAllNode(root))\n",
    "print(heightOfTree(root))"
   ]
  },
  {
   "cell_type": "code",
   "execution_count": null,
   "id": "87a3aefa",
   "metadata": {},
   "outputs": [],
   "source": [
    "'''Print levelwise InPUT'''\n",
    "def printLevelWiseTree(tree):\n",
    "    if tree is None:\n",
    "        return\n",
    "\n",
    "    q = queue.Queue()\n",
    "    q.put(tree)\n",
    "\n",
    "    while not q.empty():\n",
    "        current = q.get()\n",
    "        print(current.data, end=\":\", sep=\"\")\n",
    "\n",
    "        for i in range(len(current.children)):\n",
    "            print(current.children[i].data, end=\"\", sep=\"\")\n",
    "            if i != len(current.children) - 1:\n",
    "                print(\",\", end=\"\", sep=\"\")\n",
    "            q.put(current.children[i])\n",
    "\n",
    "        print()"
   ]
  }
 ],
 "metadata": {
  "kernelspec": {
   "display_name": "base",
   "language": "python",
   "name": "python3"
  },
  "language_info": {
   "codemirror_mode": {
    "name": "ipython",
    "version": 3
   },
   "file_extension": ".py",
   "mimetype": "text/x-python",
   "name": "python",
   "nbconvert_exporter": "python",
   "pygments_lexer": "ipython3",
   "version": "3.12.7"
  }
 },
 "nbformat": 4,
 "nbformat_minor": 5
}
