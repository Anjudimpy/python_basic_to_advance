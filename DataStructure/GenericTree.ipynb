{
 "cells": [
  {
   "cell_type": "code",
   "execution_count": null,
   "id": "79ec50ad",
   "metadata": {},
   "outputs": [],
   "source": []
  },
  {
   "cell_type": "code",
   "execution_count": null,
   "id": "82dae000",
   "metadata": {},
   "outputs": [
    {
     "name": "stdout",
     "output_type": "stream",
     "text": [
      "Enter root data\n",
      "Enter number of children for 5\n",
      "child\n",
      "Enter root data\n",
      "Enter number of children for 1\n"
     ]
    }
   ],
   "source": [
    "class TreeNode:\n",
    "    def __init__(self,data):\n",
    "        self.data=data\n",
    "        self.children=list()\n",
    "\n",
    "def printTree(root):\n",
    "    # not a base case but edge case\n",
    "    if root==None:\n",
    "        return\n",
    "    print(root.data)\n",
    "    for child in root.children:\n",
    "        printTree(child)\n",
    "\n",
    "def printTreeDetailed(root):\n",
    "    if root==None:\n",
    "        return\n",
    "    \n",
    "    print(root.data,\":\",end=\" \")\n",
    "    for child in root.children:\n",
    "        print(child.data,\",\",end=\" \")\n",
    "    print()\n",
    "    \n",
    "    for child in root.children:\n",
    "        printTreeDetailed(child)\n",
    "\n",
    "def takeTreeInput():\n",
    "\n",
    "    print(\"Enter root data\")\n",
    "    rootData = int(input())\n",
    "    if rootData == -1:\n",
    "        return None\n",
    "    root= TreeNode(rootData)\n",
    "    print(\"Enter number of children for\", rootData)\n",
    "    childrenCount = int(input())\n",
    "    for i in range(childrenCount):\n",
    "        \n",
    "        child=takeTreeInput()\n",
    "        root.children.append(child)\n",
    "    return root\n",
    " \n",
    "root= takeTreeInput()\n",
    "printTreeDetailed(root)\n"
   ]
  },
  {
   "cell_type": "code",
   "execution_count": 35,
   "id": "d88eb17e",
   "metadata": {},
   "outputs": [
    {
     "name": "stdout",
     "output_type": "stream",
     "text": [
      "5 : 2 , 9 , 8 , 7 , \n",
      "2 : \n",
      "9 : 15 , 1 , \n",
      "15 : \n",
      "1 : \n",
      "8 : \n",
      "7 : \n"
     ]
    }
   ],
   "source": [
    "n1=TreeNode(5)\n",
    "n2=TreeNode(2)\n",
    "n3=TreeNode(9)\n",
    "n4=TreeNode(8)\n",
    "n5=TreeNode(7)\n",
    "n6=TreeNode(15)\n",
    "n7=TreeNode(1)\n",
    "\n",
    "n1.children.append(n2)\n",
    "n1.children.append(n3)\n",
    "n1.children.append(n4)\n",
    "n1.children.append(n5)\n",
    "\n",
    "n3.children.append(n6)\n",
    "n3.children.append(n7)\n",
    "printTreeDetailed(n1)"
   ]
  },
  {
   "cell_type": "code",
   "execution_count": null,
   "id": "6892e29f",
   "metadata": {},
   "outputs": [],
   "source": []
  }
 ],
 "metadata": {
  "kernelspec": {
   "display_name": "base",
   "language": "python",
   "name": "python3"
  },
  "language_info": {
   "codemirror_mode": {
    "name": "ipython",
    "version": 3
   },
   "file_extension": ".py",
   "mimetype": "text/x-python",
   "name": "python",
   "nbconvert_exporter": "python",
   "pygments_lexer": "ipython3",
   "version": "3.12.7"
  }
 },
 "nbformat": 4,
 "nbformat_minor": 5
}
