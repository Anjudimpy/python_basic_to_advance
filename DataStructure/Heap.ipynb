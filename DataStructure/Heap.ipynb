{
 "cells": [
  {
   "cell_type": "code",
   "execution_count": 30,
   "id": "df8603d2",
   "metadata": {},
   "outputs": [],
   "source": [
    "'''insert node in mxa-heap'''\n",
    "\n",
    "class Heap:\n",
    "    def __init__(self, max_size:int)->None:\n",
    "        self.heap=[0 for _ in range(max_size)]\n",
    "        self.size = 0\n",
    "\n",
    "    def compare(self, a, b) -> bool:\n",
    "        return b>a\n",
    "\n",
    "    def swap(self, idx1, idx2):\n",
    "        self.heap[idx1], self.heap[idx2] = self.heap[idx2], self.heap[idx1]  \n",
    "\n",
    "    def insert(self, val:int) ->None:\n",
    "        self.size +=1\n",
    "        self.heap[self.size] = val\n",
    "\n",
    "        idx = self.size\n",
    "\n",
    "        while idx > 1:\n",
    "            parent = idx //2\n",
    "            if self.compare(self.heap[parent], self.heap[idx]):\n",
    "                self.swap(parent,idx)\n",
    "                idx = parent\n",
    "            else:\n",
    "                break\n",
    "\n",
    "    def heapify(self, pos) -> None:\n",
    "        idx =pos\n",
    "        while 2*idx <= self.size:\n",
    "            left = 2*idx\n",
    "            right = 2*idx+1\n",
    "            gre=left\n",
    "            if right <= self.size and self.compare(self.heap[gre], self.heap[right]):\n",
    "                gre = right\n",
    "            if self.compare(self.heap[idx],self.heap[gre]):\n",
    "                self.swap(idx,gre)\n",
    "                idx = gre\n",
    "            else:\n",
    "                break\n",
    "\n",
    "    def remove(self) ->int:\n",
    "        self.swap(1,self.size)\n",
    "        self.size -=1\n",
    "        self.heapify(1)\n",
    "        return self.heap[self.size + 1]                \n",
    "\n",
    "    def print(self) -> None:\n",
    "        print(\"Heap is:\")\n",
    "        for i in range(1, self.size+1):\n",
    "            print(self.heap[i], end=' ')\n",
    "  \n",
    "\n"
   ]
  },
  {
   "cell_type": "code",
   "execution_count": 31,
   "id": "e9c4568c",
   "metadata": {},
   "outputs": [
    {
     "name": "stdout",
     "output_type": "stream",
     "text": [
      "Heap is:\n",
      "40 30 35 10 25 20 "
     ]
    }
   ],
   "source": [
    "heap = Heap(10)\n",
    "heap.insert(10)\n",
    "heap.insert(20)\n",
    "heap.insert(30)\n",
    "heap.insert(35)\n",
    "heap.insert(25)\n",
    "heap.insert(40)\n",
    "\n",
    "heap.print()"
   ]
  },
  {
   "cell_type": "code",
   "execution_count": 32,
   "id": "78f4b9dc",
   "metadata": {},
   "outputs": [
    {
     "name": "stdout",
     "output_type": "stream",
     "text": [
      "Greatest element is: 40\n",
      "Heap is:\n",
      "35 30 20 10 25 "
     ]
    }
   ],
   "source": [
    "print(\"Greatest element is: \" + str(heap.remove()))\n",
    "\n",
    "heap.print()"
   ]
  },
  {
   "cell_type": "code",
   "execution_count": null,
   "id": "78ec8604",
   "metadata": {},
   "outputs": [],
   "source": []
  },
  {
   "cell_type": "code",
   "execution_count": null,
   "id": "5ff6202e",
   "metadata": {},
   "outputs": [],
   "source": []
  }
 ],
 "metadata": {
  "kernelspec": {
   "display_name": "base",
   "language": "python",
   "name": "python3"
  },
  "language_info": {
   "codemirror_mode": {
    "name": "ipython",
    "version": 3
   },
   "file_extension": ".py",
   "mimetype": "text/x-python",
   "name": "python",
   "nbconvert_exporter": "python",
   "pygments_lexer": "ipython3",
   "version": "3.12.7"
  }
 },
 "nbformat": 4,
 "nbformat_minor": 5
}
