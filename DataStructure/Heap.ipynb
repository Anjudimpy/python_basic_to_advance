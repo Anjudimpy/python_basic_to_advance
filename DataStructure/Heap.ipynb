{
 "cells": [
  {
   "cell_type": "code",
   "execution_count": 30,
   "id": "df8603d2",
   "metadata": {},
   "outputs": [],
   "source": [
    "'''insert node in mxa-heap'''\n",
    "\n",
    "class Heap:\n",
    "    def __init__(self, max_size:int)->None:\n",
    "        self.heap=[0 for _ in range(max_size)]\n",
    "        self.size = 0\n",
    "\n",
    "    def compare(self, a, b) -> bool:\n",
    "        return b>a\n",
    "\n",
    "    def swap(self, idx1, idx2):\n",
    "        self.heap[idx1], self.heap[idx2] = self.heap[idx2], self.heap[idx1]  \n",
    "\n",
    "    def insert(self, val:int) ->None:\n",
    "        self.size +=1\n",
    "        self.heap[self.size] = val\n",
    "\n",
    "        idx = self.size\n",
    "\n",
    "        while idx > 1:\n",
    "            parent = idx //2\n",
    "            if self.compare(self.heap[parent], self.heap[idx]):\n",
    "                self.swap(parent,idx)\n",
    "                idx = parent\n",
    "            else:\n",
    "                break\n",
    "\n",
    "    def heapify(self, pos) -> None:\n",
    "        idx =pos\n",
    "        while 2*idx <= self.size:\n",
    "            left = 2*idx\n",
    "            right = 2*idx+1\n",
    "            gre=left\n",
    "            if right <= self.size and self.compare(self.heap[gre], self.heap[right]):\n",
    "                gre = right\n",
    "            if self.compare(self.heap[idx],self.heap[gre]):\n",
    "                self.swap(idx,gre)\n",
    "                idx = gre\n",
    "            else:\n",
    "                break\n",
    "\n",
    "    def remove(self) ->int:\n",
    "        self.swap(1,self.size)\n",
    "        self.size -=1\n",
    "        self.heapify(1)\n",
    "        return self.heap[self.size + 1]                \n",
    "\n",
    "    def print(self) -> None:\n",
    "        print(\"Heap is:\")\n",
    "        for i in range(1, self.size+1):\n",
    "            print(self.heap[i], end=' ')\n",
    "  \n",
    "\n"
   ]
  },
  {
   "cell_type": "code",
   "execution_count": 31,
   "id": "e9c4568c",
   "metadata": {},
   "outputs": [
    {
     "name": "stdout",
     "output_type": "stream",
     "text": [
      "Heap is:\n",
      "40 30 35 10 25 20 "
     ]
    }
   ],
   "source": [
    "heap = Heap(10)\n",
    "heap.insert(10)\n",
    "heap.insert(20)\n",
    "heap.insert(30)\n",
    "heap.insert(35)\n",
    "heap.insert(25)\n",
    "heap.insert(40)\n",
    "\n",
    "heap.print()"
   ]
  },
  {
   "cell_type": "code",
   "execution_count": 32,
   "id": "78f4b9dc",
   "metadata": {},
   "outputs": [
    {
     "name": "stdout",
     "output_type": "stream",
     "text": [
      "Greatest element is: 40\n",
      "Heap is:\n",
      "35 30 20 10 25 "
     ]
    }
   ],
   "source": [
    "print(\"Greatest element is: \" + str(heap.remove()))\n",
    "\n",
    "heap.print()"
   ]
  },
  {
   "cell_type": "code",
   "execution_count": null,
   "id": "78ec8604",
   "metadata": {},
   "outputs": [],
   "source": [
    "'''Given an integer array of size N. Sort this array (in decreasing order) using heap sort.\n",
    "Note: Space complexity should be O(1).'''"
   ]
  },
  {
   "cell_type": "code",
   "execution_count": null,
   "id": "5ff6202e",
   "metadata": {},
   "outputs": [],
   "source": [
    "\n",
    "def swap(arr, i, j):\n",
    "    arr[i], arr[j] = arr[j], arr[i]\n",
    "\n",
    "def heapify(arr, n, idx):\n",
    "    pos = idx\n",
    "    while 2 * pos + 1 < n:\n",
    "        left = 2 * pos + 1\n",
    "        right = 2 * pos + 2\n",
    "        g = pos\n",
    "\n",
    "        if arr[left] > arr[g]:\n",
    "            g = left\n",
    "\n",
    "        if right < n and arr[right] > arr[g]:\n",
    "            g = right\n",
    "\n",
    "        if g == pos:\n",
    "            return\n",
    "\n",
    "        swap(arr, pos, g)\n",
    "        pos = g\n",
    "\n",
    "def heapSort(arr):\n",
    "    n = len(arr)\n",
    "    # Build max heap\n",
    "    for i in range(n // 2 - 1, -1, -1):\n",
    "        heapify(arr, n, i)\n",
    "\n",
    "    # Extract elements one by one\n",
    "    for i in range(n - 1, 0, -1):\n",
    "        swap(arr, i, 0)\n",
    "        heapify(arr, i, 0)\n",
    "\n",
    "n = input()\n",
    "arr = [int(ele) for ele in input().split()]\n",
    "heapSort(arr)\n",
    "for ele in arr[::-1]:\n",
    "    print(ele, end=' ')"
   ]
  },
  {
   "cell_type": "code",
   "execution_count": null,
   "id": "7a436c98",
   "metadata": {},
   "outputs": [],
   "source": [
    "def isBinaryHeap(root):\n",
    "    nodes=[(root,1)]\n",
    "    i=0\n",
    "    while i < len(nodes):\n",
    "        node, position = nodes[i]\n",
    "\n",
    "        if node.left:\n",
    "            if node.left.data<= node.data:\n",
    "                nodes.append((node.left,2*position))\n",
    "            else:\n",
    "                return False\n",
    "        if node.right:\n",
    "            if node.right.data<= node.data:\n",
    "                nodes.append((node.right,2*position+1))\n",
    "            else:\n",
    "                return False\n",
    "    i+=1\n",
    "\n",
    "    last_node, last_index = nodes[-1]\n",
    "    if last_index != len(nodes):\n",
    "        return False\n",
    "    return True \n",
    "\n",
    "        "
   ]
  },
  {
   "cell_type": "code",
   "execution_count": null,
   "id": "4a77b87c",
   "metadata": {},
   "outputs": [],
   "source": [
    "\n",
    "def isBinaryHeapTree(root):\n",
    "\n",
    "    nodes=[(root,1)]\n",
    "    i=0\n",
    "    while i < len(nodes):\n",
    "        node, position = nodes[i]\n",
    "   \n",
    "        if node.left:\n",
    "            if node.left.data<= node.data:\n",
    "                nodes.append((node.left,2*position))\n",
    "            else:\n",
    "                return False\n",
    "        if node.right:\n",
    "            if node.right.data<= node.data:\n",
    "                nodes.append((node.right,2*position+1))\n",
    "            else:\n",
    "                return False\n",
    "    i+=1\n",
    "\n",
    "    last_node, last_index = nodes[-1]\n",
    "    if last_index != len(nodes):\n",
    "        return False\n",
    "    return True \n",
    "\n",
    "          \n"
   ]
  },
  {
   "cell_type": "code",
   "execution_count": null,
   "id": "97a9402a",
   "metadata": {},
   "outputs": [],
   "source": [
    "'''You are given with an integer k and an array of integers that contain numbers in random order. Write a program to find k smallest numbers from given \n",
    "array. You need to save them in an array and return it.\n",
    "\n",
    "Notes :\n",
    "1. Time complexity should be O(n * logk) and space complexity should not be more than O(k).\n",
    "2. Order of elements in the output is not important.'''"
   ]
  },
  {
   "cell_type": "code",
   "execution_count": 1,
   "id": "d4ba9b2e",
   "metadata": {},
   "outputs": [],
   "source": [
    "import heapq\n",
    "from typing import List\n",
    "\n",
    "def find_k_smallest_elements(arr: List[int], k: int) -> List[int]:\n",
    "    heapq.heapify(arr)\n",
    "    ans=[]\n",
    "    for i in range(k):\n",
    "        ans.append(heapq.heappop(arr))\n",
    "\n",
    "    return ans    "
   ]
  },
  {
   "cell_type": "code",
   "execution_count": 2,
   "id": "5fd64340",
   "metadata": {},
   "outputs": [
    {
     "data": {
      "text/plain": [
       "[1, 2, 2, 3]"
      ]
     },
     "execution_count": 2,
     "metadata": {},
     "output_type": "execute_result"
    }
   ],
   "source": [
    "find_k_smallest_elements([1,4,2,3,5,2,6,7,8],4)"
   ]
  },
  {
   "cell_type": "code",
   "execution_count": 7,
   "id": "eb336343",
   "metadata": {},
   "outputs": [],
   "source": [
    "'''Sum combination adds one element from array ‘A’ and another from array ‘B’.'''\n",
    "\n",
    "import heapq\n",
    "\n",
    "def kMaxSumCombination(a, b, n, k):\n",
    "    a.sort()\n",
    "    b.sort()\n",
    "\n",
    "    pq = [(-(a[n-1] + b[n-1]), n-1, n-1)]\n",
    "    taken = {}\n",
    "    ans = []\n",
    "\n",
    "    for _ in range(k):\n",
    "        value, i, j = heapq.heappop(pq)\n",
    "        ans.append(-1 * value)\n",
    "\n",
    "        if (i - 1) >= 0 and not taken.get((i - 1, j), False):\n",
    "            heapq.heappush(pq, (-(a[i - 1] + b[j]), i - 1, j))\n",
    "            taken[(i - 1, j)] = True\n",
    "\n",
    "        if (j - 1) >= 0 and not taken.get((i, j - 1), False):\n",
    "            heapq.heappush(pq, (-(a[i] + b[j - 1]), i, j - 1))\n",
    "            taken[(i, j - 1)] = True\n",
    "\n",
    "    return ans      "
   ]
  },
  {
   "cell_type": "code",
   "execution_count": 8,
   "id": "025319f6",
   "metadata": {},
   "outputs": [
    {
     "name": "stdout",
     "output_type": "stream",
     "text": [
      "[11, 9]\n"
     ]
    }
   ],
   "source": [
    "print(kMaxSumCombination(a=[1, 3, 5], b=[6, 4, 2], n=3, k=2))"
   ]
  },
  {
   "cell_type": "code",
   "execution_count": 12,
   "id": "34c6967d",
   "metadata": {},
   "outputs": [
    {
     "name": "stdout",
     "output_type": "stream",
     "text": [
      "[1, 2, 3, 4]\n"
     ]
    }
   ],
   "source": [
    "arr=[1,2,3,4]\n",
    "arr1=arr\n",
    "print(arr1)"
   ]
  },
  {
   "cell_type": "code",
   "execution_count": null,
   "id": "d83be85c",
   "metadata": {},
   "outputs": [
    {
     "name": "stdout",
     "output_type": "stream",
     "text": [
      "55\n",
      "44\n",
      "32\n"
     ]
    }
   ],
   "source": [
    "import heapq\n",
    "def kLargest(lst, k):\n",
    "    #############################\n",
    "    # PLEASE ADD YOUR CODE HERE #\n",
    "    #############################\n",
    "    arr1= [-x for x in lst]\n",
    "    heapq.heapify(arr1)\n",
    "    ans=[]\n",
    "    for i in range(k):\n",
    "        ans.append(-1*(heapq.heappop(arr1)))\n",
    "    return ans    \n",
    "        \n",
    "\n",
    "#input format \n",
    "# 13\n",
    "# 2 12 9 16 10 5 3 20 25 11 1 8 6 \n",
    "# 4\n",
    "# Main Code\n",
    "n=int(input())\n",
    "lst=list(int(i) for i in input().strip().split(' '))\n",
    "k=int(input())\n",
    "ans=kLargest(lst, k)\n",
    "print(*ans, sep='\\n')"
   ]
  },
  {
   "cell_type": "code",
   "execution_count": null,
   "id": "1c8a98b9",
   "metadata": {},
   "outputs": [],
   "source": []
  },
  {
   "cell_type": "code",
   "execution_count": null,
   "id": "f5bfbb30",
   "metadata": {},
   "outputs": [],
   "source": []
  }
 ],
 "metadata": {
  "kernelspec": {
   "display_name": "base",
   "language": "python",
   "name": "python3"
  },
  "language_info": {
   "codemirror_mode": {
    "name": "ipython",
    "version": 3
   },
   "file_extension": ".py",
   "mimetype": "text/x-python",
   "name": "python",
   "nbconvert_exporter": "python",
   "pygments_lexer": "ipython3",
   "version": "3.12.7"
  }
 },
 "nbformat": 4,
 "nbformat_minor": 5
}
