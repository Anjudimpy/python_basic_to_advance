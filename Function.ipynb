{
 "cells": [
  {
   "cell_type": "code",
   "execution_count": 1,
   "id": "5a4e49fe-8a46-48fe-96cf-0c2025779498",
   "metadata": {},
   "outputs": [
    {
     "name": "stdout",
     "output_type": "stream",
     "text": [
      "Hello\n"
     ]
    }
   ],
   "source": [
    "print(\"Hello\")"
   ]
  },
  {
   "cell_type": "code",
   "execution_count": 5,
   "id": "1577beb2-29f1-4d54-b273-83e517091f8f",
   "metadata": {},
   "outputs": [],
   "source": [
    "def hello():\n",
    "    print(\"Hello World\")"
   ]
  },
  {
   "cell_type": "code",
   "execution_count": 29,
   "id": "3453ba3b-9c1d-48fb-ab9d-bf1f77bb597c",
   "metadata": {},
   "outputs": [
    {
     "name": "stdout",
     "output_type": "stream",
     "text": [
      "Hello World\n"
     ]
    }
   ],
   "source": [
    "hello()"
   ]
  },
  {
   "cell_type": "code",
   "execution_count": null,
   "id": "799880ef-be74-405e-8d10-537e7c155d43",
   "metadata": {},
   "outputs": [],
   "source": [
    "#Function with Parameter or Argument\n"
   ]
  },
  {
   "cell_type": "code",
   "execution_count": 37,
   "id": "b37abf20-248e-4688-ad3c-64570f88e7b3",
   "metadata": {},
   "outputs": [],
   "source": [
    "def user(name, age):\n",
    "    print(\"Name:\", name, \"Age:\", age)\n"
   ]
  },
  {
   "cell_type": "code",
   "execution_count": 39,
   "id": "243f01df-4940-4b06-9a4f-82fe05095ae7",
   "metadata": {},
   "outputs": [
    {
     "name": "stdout",
     "output_type": "stream",
     "text": [
      "Name: Anju Age: 23\n"
     ]
    }
   ],
   "source": [
    "user(\"Anju\",23)"
   ]
  },
  {
   "cell_type": "code",
   "execution_count": 43,
   "id": "904532b7-b824-47a3-a765-640ae914524d",
   "metadata": {},
   "outputs": [
    {
     "name": "stdout",
     "output_type": "stream",
     "text": [
      "16\n"
     ]
    }
   ],
   "source": [
    "def square(a):\n",
    "    ans  = a*a\n",
    "    return  ans\n",
    "\n",
    "a = 4\n",
    "a = square(a)\n",
    "print(a)"
   ]
  },
  {
   "cell_type": "code",
   "execution_count": 67,
   "id": "60698f31-879b-49ec-bb8d-d125d787ed9f",
   "metadata": {},
   "outputs": [
    {
     "name": "stdin",
     "output_type": "stream",
     "text": [
      " 4\n"
     ]
    },
    {
     "name": "stdout",
     "output_type": "stream",
     "text": [
      "50.26544\n"
     ]
    }
   ],
   "source": [
    "def calculate_circle_area(radius):\n",
    "   \n",
    "    return 3.14159*radius*radius\n",
    "\n",
    "n=float(input())\n",
    "result=calculate_circle_area(n)\n",
    "print(result)"
   ]
  },
  {
   "cell_type": "code",
   "execution_count": 87,
   "id": "2533a67e-8cc7-4b27-93fe-c67155a6c96c",
   "metadata": {},
   "outputs": [
    {
     "name": "stdin",
     "output_type": "stream",
     "text": [
      " 3\n"
     ]
    },
    {
     "name": "stdout",
     "output_type": "stream",
     "text": [
      "Prime number\n"
     ]
    }
   ],
   "source": [
    "def check_prime(num):\n",
    "    for i in range(2,num):\n",
    "        if num%i==0:\n",
    "            return False\n",
    "    return True\n",
    "    \n"
   ]
  },
  {
   "cell_type": "code",
   "execution_count": 93,
   "id": "c6a26eb0-de91-4b78-8dc8-195dbe610893",
   "metadata": {},
   "outputs": [
    {
     "name": "stdin",
     "output_type": "stream",
     "text": [
      " 7\n"
     ]
    },
    {
     "name": "stdout",
     "output_type": "stream",
     "text": [
      "Prime number\n"
     ]
    }
   ],
   "source": [
    "n=int(input())    \n",
    "is_prime=check_prime(n)\n",
    "if is_prime:\n",
    "    print(\"Prime number\")\n",
    "else:\n",
    "    print(\"Not Prime Number\")"
   ]
  },
  {
   "cell_type": "code",
   "execution_count": 95,
   "id": "de5a9d5f-930f-4d17-9ab4-611feafc9724",
   "metadata": {},
   "outputs": [
    {
     "name": "stdout",
     "output_type": "stream",
     "text": [
      "Entering functionA\n",
      "Entering functionB\n",
      "Entering functionC\n",
      "Exiting functionC\n",
      "Exiting functionB\n",
      "Exiting functionA\n"
     ]
    }
   ],
   "source": [
    "def functionA():\n",
    "    print(\"Entering functionA\")\n",
    "    functionB()\n",
    "    print(\"Exiting functionA\")\n",
    "\n",
    "def functionB():\n",
    "    print(\"Entering functionB\")\n",
    "    functionC()\n",
    "    print(\"Exiting functionB\")\n",
    "\n",
    "def functionC():\n",
    "    print(\"Entering functionC\")\n",
    "    print(\"Exiting functionC\")\n",
    "\n",
    "functionA()"
   ]
  },
  {
   "cell_type": "code",
   "execution_count": 103,
   "id": "11381969-8782-4c54-9a21-949c24db744c",
   "metadata": {},
   "outputs": [
    {
     "data": {
      "text/plain": [
       "1"
      ]
     },
     "execution_count": 103,
     "metadata": {},
     "output_type": "execute_result"
    }
   ],
   "source": [
    "#Prameter and Argument\n",
    "def sum(a,b):\n",
    "    return a-b\n",
    "\n",
    "sum(5,4)"
   ]
  },
  {
   "cell_type": "code",
   "execution_count": 105,
   "id": "edc3c917-fdfe-4b97-85ba-5ba467ae35f5",
   "metadata": {},
   "outputs": [
    {
     "data": {
      "text/plain": [
       "-1"
      ]
     },
     "execution_count": 105,
     "metadata": {},
     "output_type": "execute_result"
    }
   ],
   "source": [
    "def sum(a,b):\n",
    "    return a-b\n",
    "\n",
    "sum(b=5,a=4)"
   ]
  },
  {
   "cell_type": "code",
   "execution_count": 113,
   "id": "c7873bde-9370-4865-9792-2b0866f43fd3",
   "metadata": {},
   "outputs": [
    {
     "data": {
      "text/plain": [
       "20"
      ]
     },
     "execution_count": 113,
     "metadata": {},
     "output_type": "execute_result"
    }
   ],
   "source": [
    "#default parameter:- in case user not pass or forgot to pass argument\n",
    "def multi(a,b=5):\n",
    "    return a*b\n",
    "multi(4)    \n"
   ]
  },
  {
   "cell_type": "code",
   "execution_count": 127,
   "id": "03267373-314c-4fcf-b883-3b92403343c8",
   "metadata": {},
   "outputs": [
    {
     "data": {
      "text/plain": [
       "72"
      ]
     },
     "execution_count": 127,
     "metadata": {},
     "output_type": "execute_result"
    }
   ],
   "source": [
    "def multi(a=9,b=8):\n",
    "    return a*b\n",
    "multi()"
   ]
  },
  {
   "cell_type": "code",
   "execution_count": null,
   "id": "8bbfeea8-d5ba-483d-a50e-f7e3e0575df8",
   "metadata": {},
   "outputs": [],
   "source": [
    "#1.args:- collection of variable arguments and dinoted by *\n",
    "#2.kwargs:- collection of key value pair set of arguments and dinoted by **"
   ]
  },
  {
   "cell_type": "code",
   "execution_count": 3,
   "id": "12243d02-6162-43c5-9d49-78d9dce143ff",
   "metadata": {},
   "outputs": [
    {
     "name": "stdout",
     "output_type": "stream",
     "text": [
      "35\n"
     ]
    }
   ],
   "source": [
    "#1.args:- collection of variable arguments and dinoted by *\n",
    "def add(*number):\n",
    "    print(sum(number))\n",
    "\n",
    "add(2,5,5,7,8,6,2)"
   ]
  },
  {
   "cell_type": "code",
   "execution_count": 5,
   "id": "2fa98bad-677b-4907-a7e8-69ed1162b70c",
   "metadata": {},
   "outputs": [
    {
     "name": "stdout",
     "output_type": "stream",
     "text": [
      "{'name': 'KBC', 'address': 'xyz'}\n"
     ]
    }
   ],
   "source": [
    "#2.kwargs:- collection of key value pair set of arguments and dinoted by **\n",
    "def company(**details):\n",
    "    print(details)\n",
    "\n",
    "company(name=\"KBC\",address=\"xyz\")\n"
   ]
  },
  {
   "cell_type": "code",
   "execution_count": null,
   "id": "e85779fb-2e90-4e03-a249-ebeb8dba9d31",
   "metadata": {},
   "outputs": [],
   "source": []
  }
 ],
 "metadata": {
  "kernelspec": {
   "display_name": "Python [conda env:base] *",
   "language": "python",
   "name": "conda-base-py"
  },
  "language_info": {
   "codemirror_mode": {
    "name": "ipython",
    "version": 3
   },
   "file_extension": ".py",
   "mimetype": "text/x-python",
   "name": "python",
   "nbconvert_exporter": "python",
   "pygments_lexer": "ipython3",
   "version": "3.12.7"
  }
 },
 "nbformat": 4,
 "nbformat_minor": 5
}
