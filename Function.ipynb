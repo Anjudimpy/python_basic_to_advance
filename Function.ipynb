{
 "cells": [
  {
   "cell_type": "code",
   "execution_count": 3,
   "id": "34325291-1b64-4fdc-b9cf-66f9a44cde83",
   "metadata": {},
   "outputs": [
    {
     "name": "stdout",
     "output_type": "stream",
     "text": [
      "Hello World\n"
     ]
    }
   ],
   "source": [
    "def hello():\n",
    "    print(\"Hello World\")\n",
    "    \n",
    "hello()    "
   ]
  },
  {
   "cell_type": "code",
   "execution_count": null,
   "id": "799880ef-be74-405e-8d10-537e7c155d43",
   "metadata": {},
   "outputs": [],
   "source": [
    "#Function with Parameter or Argument\n"
   ]
  },
  {
   "cell_type": "code",
   "execution_count": 37,
   "id": "b37abf20-248e-4688-ad3c-64570f88e7b3",
   "metadata": {},
   "outputs": [],
   "source": [
    "def user(name, age):\n",
    "    print(\"Name:\", name, \"Age:\", age)\n"
   ]
  },
  {
   "cell_type": "code",
   "execution_count": 39,
   "id": "243f01df-4940-4b06-9a4f-82fe05095ae7",
   "metadata": {},
   "outputs": [
    {
     "name": "stdout",
     "output_type": "stream",
     "text": [
      "Name: Anju Age: 23\n"
     ]
    }
   ],
   "source": [
    "user(\"Anju\",23)"
   ]
  },
  {
   "cell_type": "code",
   "execution_count": 43,
   "id": "904532b7-b824-47a3-a765-640ae914524d",
   "metadata": {},
   "outputs": [
    {
     "name": "stdout",
     "output_type": "stream",
     "text": [
      "16\n"
     ]
    }
   ],
   "source": [
    "def square(a):\n",
    "    ans  = a*a\n",
    "    return  ans\n",
    "\n",
    "a = 4\n",
    "a = square(a)\n",
    "print(a)"
   ]
  },
  {
   "cell_type": "code",
   "execution_count": 67,
   "id": "60698f31-879b-49ec-bb8d-d125d787ed9f",
   "metadata": {},
   "outputs": [
    {
     "name": "stdout",
     "output_type": "stream",
     "text": [
      " 4\n"
     ]
    },
    {
     "name": "stdout",
     "output_type": "stream",
     "text": [
      "50.26544\n"
     ]
    }
   ],
   "source": [
    "def calculate_circle_area(radius):\n",
    "   \n",
    "    return 3.14159*radius*radius\n",
    "\n",
    "n=float(input())\n",
    "result=calculate_circle_area(n)\n",
    "print(result)"
   ]
  },
  {
   "cell_type": "code",
   "execution_count": 87,
   "id": "2533a67e-8cc7-4b27-93fe-c67155a6c96c",
   "metadata": {},
   "outputs": [
    {
     "name": "stdout",
     "output_type": "stream",
     "text": [
      " 3\n"
     ]
    },
    {
     "name": "stdout",
     "output_type": "stream",
     "text": [
      "Prime number\n"
     ]
    }
   ],
   "source": [
    "def check_prime(num):\n",
    "    for i in range(2,num):\n",
    "        if num%i==0:\n",
    "            return False\n",
    "    return True\n",
    "    \n"
   ]
  },
  {
   "cell_type": "code",
   "execution_count": 93,
   "id": "c6a26eb0-de91-4b78-8dc8-195dbe610893",
   "metadata": {},
   "outputs": [
    {
     "name": "stdout",
     "output_type": "stream",
     "text": [
      " 7\n"
     ]
    },
    {
     "name": "stdout",
     "output_type": "stream",
     "text": [
      "Prime number\n"
     ]
    }
   ],
   "source": [
    "n=int(input())    \n",
    "is_prime=check_prime(n)\n",
    "if is_prime:\n",
    "    print(\"Prime number\")\n",
    "else:\n",
    "    print(\"Not Prime Number\")"
   ]
  },
  {
   "cell_type": "code",
   "execution_count": 95,
   "id": "de5a9d5f-930f-4d17-9ab4-611feafc9724",
   "metadata": {},
   "outputs": [
    {
     "name": "stdout",
     "output_type": "stream",
     "text": [
      "Entering functionA\n",
      "Entering functionB\n",
      "Entering functionC\n",
      "Exiting functionC\n",
      "Exiting functionB\n",
      "Exiting functionA\n"
     ]
    }
   ],
   "source": [
    "def functionA():\n",
    "    print(\"Entering functionA\")\n",
    "    functionB()\n",
    "    print(\"Exiting functionA\")\n",
    "\n",
    "def functionB():\n",
    "    print(\"Entering functionB\")\n",
    "    functionC()\n",
    "    print(\"Exiting functionB\")\n",
    "\n",
    "def functionC():\n",
    "    print(\"Entering functionC\")\n",
    "    print(\"Exiting functionC\")\n",
    "\n",
    "functionA()"
   ]
  },
  {
   "cell_type": "code",
   "execution_count": 103,
   "id": "11381969-8782-4c54-9a21-949c24db744c",
   "metadata": {},
   "outputs": [
    {
     "data": {
      "text/plain": [
       "1"
      ]
     },
     "execution_count": 103,
     "metadata": {},
     "output_type": "execute_result"
    }
   ],
   "source": [
    "#Prameter and Argument\n",
    "def sum(a,b):\n",
    "    return a-b\n",
    "\n",
    "sum(5,4)"
   ]
  },
  {
   "cell_type": "code",
   "execution_count": 105,
   "id": "edc3c917-fdfe-4b97-85ba-5ba467ae35f5",
   "metadata": {},
   "outputs": [
    {
     "data": {
      "text/plain": [
       "-1"
      ]
     },
     "execution_count": 105,
     "metadata": {},
     "output_type": "execute_result"
    }
   ],
   "source": [
    "def sum(a,b):\n",
    "    return a-b\n",
    "\n",
    "sum(b=5,a=4)"
   ]
  },
  {
   "cell_type": "code",
   "execution_count": 113,
   "id": "c7873bde-9370-4865-9792-2b0866f43fd3",
   "metadata": {},
   "outputs": [
    {
     "data": {
      "text/plain": [
       "20"
      ]
     },
     "execution_count": 113,
     "metadata": {},
     "output_type": "execute_result"
    }
   ],
   "source": [
    "#default parameter:- in case user not pass or forgot to pass argument\n",
    "def multi(a,b=5):\n",
    "    return a*b\n",
    "multi(4)    \n"
   ]
  },
  {
   "cell_type": "code",
   "execution_count": 127,
   "id": "03267373-314c-4fcf-b883-3b92403343c8",
   "metadata": {},
   "outputs": [
    {
     "data": {
      "text/plain": [
       "72"
      ]
     },
     "execution_count": 127,
     "metadata": {},
     "output_type": "execute_result"
    }
   ],
   "source": [
    "def multi(a=9,b=8):\n",
    "    return a*b\n",
    "multi()"
   ]
  },
  {
   "cell_type": "code",
   "execution_count": null,
   "id": "8bbfeea8-d5ba-483d-a50e-f7e3e0575df8",
   "metadata": {},
   "outputs": [],
   "source": [
    "#1.args:- collection of variable arguments and dinoted by *\n",
    "#2.kwargs:- collection of key value pair set of arguments and dinoted by **"
   ]
  },
  {
   "cell_type": "code",
   "execution_count": 3,
   "id": "12243d02-6162-43c5-9d49-78d9dce143ff",
   "metadata": {},
   "outputs": [
    {
     "name": "stdout",
     "output_type": "stream",
     "text": [
      "35\n"
     ]
    }
   ],
   "source": [
    "#1.args:- collection of variable arguments and dinoted by *\n",
    "def add(*number):\n",
    "    print(sum(number))\n",
    "\n",
    "add(2,5,5,7,8,6,2)"
   ]
  },
  {
   "cell_type": "code",
   "execution_count": 5,
   "id": "2fa98bad-677b-4907-a7e8-69ed1162b70c",
   "metadata": {},
   "outputs": [
    {
     "name": "stdout",
     "output_type": "stream",
     "text": [
      "{'name': 'KBC', 'address': 'xyz'}\n"
     ]
    }
   ],
   "source": [
    "#2.kwargs:- collection of key value pair set of arguments and dinoted by **\n",
    "def company(**details):\n",
    "    print(details)\n",
    "\n",
    "company(name=\"KBC\",address=\"xyz\")\n"
   ]
  },
  {
   "cell_type": "code",
   "execution_count": 15,
   "id": "e85779fb-2e90-4e03-a249-ebeb8dba9d31",
   "metadata": {},
   "outputs": [
    {
     "data": {
      "text/plain": [
       "True"
      ]
     },
     "execution_count": 15,
     "metadata": {},
     "output_type": "execute_result"
    }
   ],
   "source": [
    "#palindrome Number\n",
    "\n",
    "def palindromeNumber(num):\n",
    "    res=0\n",
    "    while num>0:\n",
    "        r=num%10\n",
    "        res=res*10+r\n",
    "        num=num//10\n",
    "    return res\n",
    "\n",
    "def check_palindromeNumber(num):\n",
    "    check_number=palindromeNumber(num)\n",
    "    return check_number == num\n",
    "\n",
    "check_palindromeNumber(121)\n",
    "    "
   ]
  },
  {
   "cell_type": "code",
   "execution_count": 119,
   "id": "86fa29fb-6aff-48be-a056-418f1742e42e",
   "metadata": {},
   "outputs": [
    {
     "name": "stdout",
     "output_type": "stream",
     "text": [
      "true\n"
     ]
    }
   ],
   "source": [
    "def palindromeNumber(n: int) -> bool:\n",
    "    orignal=n\n",
    "    res=0\n",
    "    while n>0:\n",
    "        r=n%10\n",
    "        res=res*10 + r\n",
    "        n=n//10\n",
    "    if orignal == res:\n",
    "        print(\"true\")\n",
    "    else:\n",
    "        print(\"false\")\n",
    "\n",
    "palindromeNumber(121)"
   ]
  },
  {
   "cell_type": "code",
   "execution_count": 11,
   "id": "c533eaab-b1f0-45c0-8564-84f83a7cbc44",
   "metadata": {},
   "outputs": [
    {
     "name": "stdout",
     "output_type": "stream",
     "text": [
      "true\n"
     ]
    }
   ],
   "source": [
    "def armstrong_number(n):\n",
    "    original_number=n\n",
    "    sum_of_digits=0\n",
    "    count=0\n",
    "    count_num=n\n",
    "    while count_num>0:\n",
    "        count+=1  #count the digit\n",
    "        count_num=count_num//10\n",
    "    # print(count) \n",
    "    \n",
    "    while n>0:\n",
    "        r=n%10\n",
    "        sum_of_digits += r**count\n",
    "        n=n//10\n",
    "        # print(sum_of_digits)\n",
    "    if original_number == sum_of_digits:\n",
    "        print(\"true\")\n",
    "    else:\n",
    "        print(\"false\")\n",
    "    \n",
    "armstrong_number(1)    "
   ]
  },
  {
   "cell_type": "code",
   "execution_count": 6,
   "id": "d72bd079-a6ee-4ab8-b4cb-69945102cfbd",
   "metadata": {},
   "outputs": [
    {
     "data": {
      "text/plain": [
       "True"
      ]
     },
     "execution_count": 6,
     "metadata": {},
     "output_type": "execute_result"
    }
   ],
   "source": [
    "#Second Approch for armstrongd number\n",
    "def count_num(num):\n",
    "    count=0\n",
    "    while num>0:\n",
    "        count+=1\n",
    "        num=num//10\n",
    "    return count\n",
    "\n",
    "def check_armstrong(n):\n",
    "    power=count_num(n)\n",
    "    originalNum=n\n",
    "    sum_of_digits=0\n",
    "    while n>0:\n",
    "        r=n%10\n",
    "        sum_of_digits+=r**power\n",
    "        n//=10\n",
    "    return sum_of_digits == originalNum\n",
    "\n",
    "check_armstrong(1634)"
   ]
  },
  {
   "cell_type": "code",
   "execution_count": 41,
   "id": "22ae3532-df95-43c2-aec4-df68fe601be7",
   "metadata": {},
   "outputs": [
    {
     "name": "stdout",
     "output_type": "stream",
     "text": [
      "24\n"
     ]
    }
   ],
   "source": [
    "#Factorial of number\n",
    "def fact(n):\n",
    "    f=1\n",
    "    while n>=1:\n",
    "        f=f*n\n",
    "        n-=1\n",
    "    return f \n",
    "factorial=fact(5)\n",
    "print(factorial)"
   ]
  },
  {
   "cell_type": "code",
   "execution_count": 87,
   "id": "95341c62-bdd2-4b1f-9a13-9069c206074b",
   "metadata": {},
   "outputs": [
    {
     "name": "stdout",
     "output_type": "stream",
     "text": [
      "4\n",
      "6\n",
      "8\n",
      "9\n",
      "10\n",
      "12\n"
     ]
    }
   ],
   "source": [
    "def print_composite(n):\n",
    "\n",
    "    #Your code goes here\n",
    "     for i in range(2,n+1):\n",
    "        for j in range(2,i):\n",
    "            if i%j==0:\n",
    "                print(i)\n",
    "                break     \n",
    "\n",
    "print_composite(12)"
   ]
  },
  {
   "cell_type": "code",
   "execution_count": null,
   "id": "c8befefe-9331-495a-af5a-e1b9edb84a14",
   "metadata": {},
   "outputs": [],
   "source": [
    "def is_prime(n):\n",
    "    for i in range(2,n):\n",
    "        count=0\n",
    "        for j in range(2,i):\n",
    "            if i%j==0:\n",
    "                count+=1\n",
    "                \n",
    "\n",
    "   \n",
    "\n",
    "\n",
    "def print_composite(n):"
   ]
  },
  {
   "cell_type": "code",
   "execution_count": 20,
   "id": "7393ba6d-a2f7-41ee-a40d-77b133fbaa10",
   "metadata": {},
   "outputs": [
    {
     "name": "stdout",
     "output_type": "stream",
     "text": [
      "4\n",
      "6\n",
      "8\n",
      "9\n",
      "10\n"
     ]
    }
   ],
   "source": [
    "def is_prime(n):\n",
    "\n",
    "    if n < 2:\n",
    "        return False \n",
    "    for i in range(2, int(n ** 0.5) + 1): \n",
    "        if n % i == 0:\n",
    "            return False \n",
    "    return True  \n",
    "\n",
    "def print_composite(n):\n",
    "\n",
    "    for i in range(2, n + 1):\n",
    "        if not is_prime(i):\n",
    "            print(i)\n",
    "\n",
    "# Example usage:\n",
    "print_composite(10)"
   ]
  },
  {
   "cell_type": "code",
   "execution_count": 47,
   "id": "0d4b5ba2-65aa-4c03-80af-ed7e2a2fa0ac",
   "metadata": {},
   "outputs": [
    {
     "name": "stdout",
     "output_type": "stream",
     "text": [
      "4\n",
      "6\n",
      "8\n",
      "9\n",
      "10\n"
     ]
    }
   ],
   "source": [
    "def is_prime(n):\n",
    "    if n<2:\n",
    "        return False\n",
    "    for i in range(2,n):\n",
    "        if n%i==0:\n",
    "            return False\n",
    "    return True\n",
    "\n",
    "def print_composite(n):\n",
    "    for i in range(2,n+1):\n",
    "        prime=is_prime(i)\n",
    "        if not prime:\n",
    "            print(i)\n",
    "\n",
    "print_composite(10)"
   ]
  },
  {
   "cell_type": "code",
   "execution_count": 83,
   "id": "e23c36e0-3e81-44b2-9c52-411eb0590346",
   "metadata": {},
   "outputs": [
    {
     "name": "stdout",
     "output_type": "stream",
     "text": [
      "0 1 "
     ]
    },
    {
     "data": {
      "text/plain": [
       "False"
      ]
     },
     "execution_count": 83,
     "metadata": {},
     "output_type": "execute_result"
    }
   ],
   "source": [
    "#Fabonacci series member\n",
    "\n",
    "def checkMember(n):\n",
    "    f=0\n",
    "    s=1\n",
    "    print(f,end=\" \")\n",
    "      is_fab=False\n",
    "  print(s,end=\" \")\n",
    "    for i in range(1,n+1):\n",
    "        t=f+s\n",
    "        # print(t)\n",
    "        f=s\n",
    "        s=t\n",
    "        if n==t:\n",
    "            is_fab=True\n",
    "      \n",
    "    if is_fab:\n",
    "        return True\n",
    "    elif n==0 or n==1:\n",
    "        return True\n",
    "    else:\n",
    "        return False\n",
    "\n",
    "checkMember(10)"
   ]
  },
  {
   "cell_type": "code",
   "execution_count": 101,
   "id": "239d0c80-a36b-436a-a163-18b5b5c27d75",
   "metadata": {},
   "outputs": [
    {
     "data": {
      "text/plain": [
       "1"
      ]
     },
     "execution_count": 101,
     "metadata": {},
     "output_type": "execute_result"
    }
   ],
   "source": [
    "#Greatest Common Divisor.\n",
    "\n",
    "def find_GCD(a, b):\n",
    "    n=0\n",
    "    if a<b:\n",
    "        n=a\n",
    "    else:\n",
    "        n=b\n",
    "    for i in range(1,n+1):\n",
    "        if a%i==0 and b%i==0:\n",
    "            gcd=i\n",
    "    return gcd\n",
    "\n",
    "find_GCD(3, 7)   "
   ]
  },
  {
   "cell_type": "code",
   "execution_count": 103,
   "id": "d9ecf3cb-7cc6-49d2-a12b-ba5106f95be9",
   "metadata": {},
   "outputs": [
    {
     "data": {
      "text/plain": [
       "3"
      ]
     },
     "execution_count": 103,
     "metadata": {},
     "output_type": "execute_result"
    }
   ],
   "source": [
    "# Greatest Common Divisor.\n",
    "\n",
    "def find_GCD(a, b):\n",
    "    while b:\n",
    "        a, b = b, a % b  \n",
    "    return a\n",
    "    \n",
    "find_GCD(3, 27)     "
   ]
  },
  {
   "cell_type": "code",
   "execution_count": null,
   "id": "e84d0eb0-f880-4342-9742-67cb6b351c19",
   "metadata": {},
   "outputs": [],
   "source": [
    "import math\n",
    "def find_GCD(a, b):\n",
    "    return math.gcd(a,b)"
   ]
  },
  {
   "cell_type": "code",
   "execution_count": null,
   "id": "e46df712-f912-4f9b-9370-d9875d1a6649",
   "metadata": {},
   "outputs": [
    {
     "name": "stdout",
     "output_type": "stream",
     "text": [
      " 120\n",
      " 200\n",
      " 40\n"
     ]
    },
    {
     "name": "stdout",
     "output_type": "stream",
     "text": [
      "120 48\n",
      "160 71\n",
      "200 93\n"
     ]
    }
   ],
   "source": [
    "#Fahrenheit to Celsius\n",
    " # C = (F - 32) * 5/9\n",
    "def printTable(start,end,step):\n",
    "    for i in range(start,end+1,step):\n",
    "        c=(i-32)*5/9\n",
    "        print(i, end=\" \")\n",
    "        print(int(c))\n",
    "\t   \n",
    "s = int(input())\n",
    "e = int(input())\n",
    "step = int(input())\n",
    "printTable(s,e,step)"
   ]
  },
  {
   "cell_type": "code",
   "execution_count": null,
   "id": "48333976-7686-4f87-8235-ecbe32d89680",
   "metadata": {},
   "outputs": [
    {
     "data": {
      "text/plain": [
       "720"
      ]
     },
     "execution_count": 133,
     "metadata": {},
     "output_type": "execute_result"
    }
   ],
   "source": [
    "def fact(n):\n",
    "    # write your code logic here !!\n",
    "    f=1\n",
    "    while n>=1:\n",
    "        f=f*n\n",
    "        n=n-1\n",
    "    return f\n",
    "    \n",
    "fact(8)"
   ]
  },
  {
   "cell_type": "code",
   "execution_count": null,
   "id": "d0956f09-67b7-48ae-ab5f-fd4259d729c8",
   "metadata": {},
   "outputs": [
    {
     "name": "stdout",
     "output_type": "stream",
     "text": [
      " 2\n"
     ]
    },
    {
     "ename": "ValueError",
     "evalue": "not enough values to unpack (expected 2, got 1)",
     "output_type": "error",
     "traceback": [
      "\u001b[1;31m---------------------------------------------------------------------------\u001b[0m",
      "\u001b[1;31mValueError\u001b[0m                                Traceback (most recent call last)",
      "Cell \u001b[1;32mIn[149], line 17\u001b[0m\n\u001b[0;32m     14\u001b[0m         \u001b[38;5;28;01mreturn\u001b[39;00m f\n\u001b[0;32m     16\u001b[0m \u001b[38;5;66;03m# Reading input values\u001b[39;00m\n\u001b[1;32m---> 17\u001b[0m n, q \u001b[38;5;241m=\u001b[39m \u001b[38;5;28mmap\u001b[39m(\u001b[38;5;28mint\u001b[39m, \u001b[38;5;28minput\u001b[39m()\u001b[38;5;241m.\u001b[39msplit())\n\u001b[0;32m     19\u001b[0m \u001b[38;5;66;03m# Calling function and printing result\u001b[39;00m\n\u001b[0;32m     20\u001b[0m \u001b[38;5;28mprint\u001b[39m(sumOrProduct(n, q))\n",
      "\u001b[1;31mValueError\u001b[0m: not enough values to unpack (expected 2, got 1)"
     ]
    }
   ],
   "source": [
    "def sumOrProduct(n, q):\n",
    "    # Initialize sum and factorial\n",
    "    s = 0\n",
    "    f = 1\n",
    "    \n",
    "    if q == 1:  # Sum case\n",
    "        for i in range(1, n + 1):\n",
    "            s += i\n",
    "        return s\n",
    "\n",
    "    elif q == 2:  # Product case\n",
    "        for i in range(1, n + 1):\n",
    "            f *= i\n",
    "        return f\n",
    "\n",
    "# Reading input values\n",
    "n, q = map(int, input().split())\n",
    "\n",
    "# Calling function and printing result\n",
    "print(sumOrProduct(n, q))\n"
   ]
  },
  {
   "cell_type": "code",
   "execution_count": null,
   "id": "b99e4f31-4d17-43f8-b566-3bad4df2e582",
   "metadata": {},
   "outputs": [],
   "source": [
    " 5432*\n",
    " 543*1\n",
    " 54*21\n",
    " 5*321\n",
    " *4321"
   ]
  },
  {
   "cell_type": "code",
   "execution_count": 176,
   "id": "c8c53979-e150-4246-84d2-e1d0dafc5361",
   "metadata": {},
   "outputs": [
    {
     "name": "stdout",
     "output_type": "stream",
     "text": [
      " 5\n"
     ]
    },
    {
     "name": "stdout",
     "output_type": "stream",
     "text": [
      "5432*\n",
      "543*1\n",
      "54*21\n",
      "5*321\n",
      "*4321\n"
     ]
    }
   ],
   "source": [
    "\n",
    "\n",
    "n=int(input())\n",
    "for i in range(1,n+1):\n",
    "    for s in range(0,n-i):\n",
    "        print(n-s,end=\"\")\n",
    "    for j in range(1,2):\n",
    "        print(\"*\",end=\"\")\n",
    "    for j in range(1,i):\n",
    "        print(i-j,end=\"\")    \n",
    "    print()    "
   ]
  },
  {
   "cell_type": "code",
   "execution_count": null,
   "id": "bdbc80df-89ff-4cb0-84a9-288db57ecc5c",
   "metadata": {},
   "outputs": [],
   "source": [
    "****\n",
    " ***     \n",
    "  **\n",
    "   *"
   ]
  },
  {
   "cell_type": "code",
   "execution_count": 211,
   "id": "168a40d6-eb7d-4551-a05c-334f30b6a1a3",
   "metadata": {},
   "outputs": [
    {
     "name": "stdout",
     "output_type": "stream",
     "text": [
      "****\n",
      " ***\n",
      "  **\n",
      "   *\n",
      "*****\n",
      " ****\n",
      "  ***\n",
      "   **\n",
      "    *\n"
     ]
    }
   ],
   "source": [
    "def ninjaPuzzle(n):\n",
    "    for i in range(1,n+1):\n",
    "        for j in range(1,i):\n",
    "            print(\" \",end=\"\")\n",
    "        for s in range(0,n+1-i):\n",
    "            print(\"*\",end=\"\")\n",
    "        print()\n",
    "\n",
    "ninjaPuzzle(4)\n",
    "ninjaPuzzle(5)           "
   ]
  },
  {
   "cell_type": "code",
   "execution_count": 217,
   "id": "af62ddd5-8c38-4294-8773-58d86686c286",
   "metadata": {},
   "outputs": [
    {
     "name": "stdout",
     "output_type": "stream",
     "text": [
      " 2\n",
      " 50 40\n"
     ]
    },
    {
     "name": "stdout",
     "output_type": "stream",
     "text": [
      "10\n"
     ]
    },
    {
     "name": "stdout",
     "output_type": "stream",
     "text": [
      " 30 25\n"
     ]
    },
    {
     "name": "stdout",
     "output_type": "stream",
     "text": [
      "5\n"
     ]
    }
   ],
   "source": [
    "from math import gcd\n",
    "\n",
    "def findGcd(x, y):\n",
    "    return gcd(x, y)\n",
    "\n",
    "# Handling multiple test cases\n",
    "T = int(input())  # Number of test cases\n",
    "for _ in range(T):\n",
    "    x, y = map(int, input().split())\n",
    "    print(findGcd(x, y))\n"
   ]
  },
  {
   "cell_type": "code",
   "execution_count": 219,
   "id": "c7362bc9-bfc8-4073-97b0-11ea9666b120",
   "metadata": {},
   "outputs": [
    {
     "name": "stdout",
     "output_type": "stream",
     "text": [
      " 2\n",
      " 30 45\n"
     ]
    },
    {
     "name": "stdout",
     "output_type": "stream",
     "text": [
      "15\n"
     ]
    },
    {
     "name": "stdout",
     "output_type": "stream",
     "text": [
      " 30 9\n"
     ]
    },
    {
     "name": "stdout",
     "output_type": "stream",
     "text": [
      "3\n"
     ]
    }
   ],
   "source": [
    "def findGcd(x, y):\n",
    "    while y:\n",
    "        x, y = y, x % y  # Using the Euclidean algorithm\n",
    "    return x\n",
    "\n",
    "# Read number of test cases\n",
    "T = int(input())\n",
    "\n",
    "# Process each test case\n",
    "for _ in range(T):\n",
    "    x, y = map(int, input().split())\n",
    "    print(findGcd(x, y))\n"
   ]
  },
  {
   "cell_type": "code",
   "execution_count": 221,
   "id": "8c8346e5-442f-4395-b706-074e22b17726",
   "metadata": {},
   "outputs": [
    {
     "data": {
      "text/plain": [
       "5"
      ]
     },
     "execution_count": 221,
     "metadata": {},
     "output_type": "execute_result"
    }
   ],
   "source": [
    "def findGcd(x, y):\n",
    "    # Write your code here\n",
    "    # Return an integer\n",
    "    return gcd(x,y)\n",
    "\n",
    "findGcd(25, 5)"
   ]
  },
  {
   "cell_type": "code",
   "execution_count": null,
   "id": "dbe35edb-29f4-4fa9-a29f-fd94d4e75053",
   "metadata": {},
   "outputs": [],
   "source": []
  }
 ],
 "metadata": {
  "kernelspec": {
   "display_name": "Python [conda env:base] *",
   "language": "python",
   "name": "conda-base-py"
  },
  "language_info": {
   "codemirror_mode": {
    "name": "ipython",
    "version": 3
   },
   "file_extension": ".py",
   "mimetype": "text/x-python",
   "name": "python",
   "nbconvert_exporter": "python",
   "pygments_lexer": "ipython3",
   "version": "3.12.7"
  }
 },
 "nbformat": 4,
 "nbformat_minor": 5
}
