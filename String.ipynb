{
 "cells": [
  {
   "cell_type": "code",
   "execution_count": 1,
   "id": "0d65c108-250c-44a1-afa3-b4cdb6366bdc",
   "metadata": {},
   "outputs": [
    {
     "data": {
      "text/plain": [
       "'A'"
      ]
     },
     "execution_count": 1,
     "metadata": {},
     "output_type": "execute_result"
    }
   ],
   "source": [
    "username='Anju'\n",
    "username[0]"
   ]
  },
  {
   "cell_type": "code",
   "execution_count": 3,
   "id": "287480ed-6a59-4127-ad9d-c5bb418d1fb3",
   "metadata": {},
   "outputs": [
    {
     "data": {
      "text/plain": [
       "'u'"
      ]
     },
     "execution_count": 3,
     "metadata": {},
     "output_type": "execute_result"
    }
   ],
   "source": [
    "#negative number start with last charactor of the string\n",
    "username[-1]"
   ]
  },
  {
   "cell_type": "code",
   "execution_count": 5,
   "id": "ae03dcdb-3d6e-48e8-b810-445156e97fc9",
   "metadata": {},
   "outputs": [
    {
     "data": {
      "text/plain": [
       "'j'"
      ]
     },
     "execution_count": 5,
     "metadata": {},
     "output_type": "execute_result"
    }
   ],
   "source": [
    "username[-2]"
   ]
  },
  {
   "cell_type": "code",
   "execution_count": 7,
   "id": "8b5979d4-9687-4876-9190-d03d4d876459",
   "metadata": {},
   "outputs": [
    {
     "data": {
      "text/plain": [
       "'n'"
      ]
     },
     "execution_count": 7,
     "metadata": {},
     "output_type": "execute_result"
    }
   ],
   "source": [
    "username[1]"
   ]
  },
  {
   "cell_type": "code",
   "execution_count": 9,
   "id": "1014ff22-2769-49b9-9654-ea5f0bef861e",
   "metadata": {},
   "outputs": [
    {
     "name": "stdout",
     "output_type": "stream",
     "text": [
      "0 A\n",
      "1 n\n",
      "2 j\n",
      "3 u\n"
     ]
    }
   ],
   "source": [
    "for idx in range(len(username)):\n",
    "    print(idx,username[idx])"
   ]
  },
  {
   "cell_type": "code",
   "execution_count": 11,
   "id": "e0ce42d0-a576-4829-8d7a-bfb43e366384",
   "metadata": {},
   "outputs": [
    {
     "name": "stdout",
     "output_type": "stream",
     "text": [
      "Python"
     ]
    }
   ],
   "source": [
    "string = \"Python\"\n",
    "for i in range(len(string)):\n",
    "    print(string[i], end=\"\")"
   ]
  },
  {
   "cell_type": "code",
   "execution_count": 18,
   "id": "0a559a4c-340e-43db-bdbf-6b6bf055b431",
   "metadata": {},
   "outputs": [
    {
     "name": "stdout",
     "output_type": "stream",
     "text": [
      "2\n"
     ]
    }
   ],
   "source": [
    "def count_char_freq(s,ch):\n",
    "    count=0\n",
    "    for i in s:\n",
    "        if i == ch:\n",
    "            count+=1\n",
    "    print(count)        \n",
    "count_char_freq(\"happy holiday\",\"h\")    "
   ]
  },
  {
   "cell_type": "code",
   "execution_count": 20,
   "id": "f64e9e0e-40d5-4b0c-b9db-e4a01475ef8d",
   "metadata": {},
   "outputs": [
    {
     "name": "stdout",
     "output_type": "stream",
     "text": [
      "moc.liamg@ujna\n"
     ]
    }
   ],
   "source": [
    "#Reverse of string\n",
    "string=\"anju@gmail.com\"\n",
    "print(string[::-1])\n"
   ]
  },
  {
   "cell_type": "code",
   "execution_count": 32,
   "id": "183b8d83-8bd7-473e-b565-be2f875e6736",
   "metadata": {},
   "outputs": [
    {
     "name": "stdout",
     "output_type": "stream",
     "text": [
      "aj@mi.o\n"
     ]
    }
   ],
   "source": [
    "#alternate charactor\n",
    "print(string[0:len(string):2])"
   ]
  },
  {
   "cell_type": "code",
   "execution_count": 34,
   "id": "92170f74-8e1e-4033-acfd-4108fa557dbe",
   "metadata": {},
   "outputs": [
    {
     "name": "stdout",
     "output_type": "stream",
     "text": [
      "ju@gmail.com\n"
     ]
    }
   ],
   "source": [
    "print(string[2:])"
   ]
  },
  {
   "cell_type": "code",
   "execution_count": 50,
   "id": "05d1494f-affb-4836-9428-2ac3b9631ca7",
   "metadata": {},
   "outputs": [
    {
     "name": "stdout",
     "output_type": "stream",
     "text": [
      "anju\n",
      "1353490179360\n",
      "\n",
      "anju@gmail.com\n",
      "1353491228528\n"
     ]
    }
   ],
   "source": [
    "# Stirng are Immutable:- that ,means we cant change value at the same loction\n",
    "username=\"anju\"\n",
    "print(username)\n",
    "print(id(username))\n",
    "print()\n",
    "username += \"@gmail.com\"\n",
    "print(username)\n",
    "print(id(username))\n",
    "\n",
    "#both id is different"
   ]
  },
  {
   "cell_type": "code",
   "execution_count": 70,
   "id": "5f948732-e66f-4e12-9807-52bbc0b79551",
   "metadata": {},
   "outputs": [
    {
     "name": "stdout",
     "output_type": "stream",
     "text": [
      "Palindrome srtring\n"
     ]
    }
   ],
   "source": [
    "#1.Palindrome String\n",
    "def palindrom_string(s):\n",
    "    copy_string= s[::-1]\n",
    "    if s==copy_string:\n",
    "        print(\"Palindrome srtring\")\n",
    "    else:\n",
    "        print(\"Not Palindrome srtring\")\n",
    "\n",
    "palindrom_string(\"nawa\")\n",
    "        "
   ]
  },
  {
   "cell_type": "code",
   "execution_count": 68,
   "id": "b016f0ab-7332-40bb-bf77-e9708ae08fcd",
   "metadata": {},
   "outputs": [
    {
     "data": {
      "text/plain": [
       "True"
      ]
     },
     "execution_count": 68,
     "metadata": {},
     "output_type": "execute_result"
    }
   ],
   "source": [
    "#2.Palindrome String\n",
    "def palindrom_string_2(s):\n",
    "    i=0\n",
    "    l=len(s)-1\n",
    "    while i<=l:\n",
    "        if s[i]==s[l]:\n",
    "            i+=1\n",
    "            l-=1\n",
    "        else:\n",
    "            return False\n",
    "    return True  \n",
    "    \n",
    "palindrom_string_2(\"nawan\")            "
   ]
  },
  {
   "cell_type": "code",
   "execution_count": null,
   "id": "36efe4d5-f663-419f-b26c-e507adf99ba2",
   "metadata": {},
   "outputs": [],
   "source": []
  },
  {
   "cell_type": "code",
   "execution_count": null,
   "id": "71adb159-a2b2-4562-8ef8-578e824d71c4",
   "metadata": {},
   "outputs": [],
   "source": [
    "#String Formating\n",
    "'''\n",
    "%s\n",
    "%.2f\n",
    "{}\n",
    "f\n",
    "'''"
   ]
  },
  {
   "cell_type": "code",
   "execution_count": 78,
   "id": "c626c64f-4a03-4c10-89e5-61dbb012acea",
   "metadata": {},
   "outputs": [
    {
     "name": "stdout",
     "output_type": "stream",
     "text": [
      "The email of user: anju@gmail.comand password is: anju123\n"
     ]
    }
   ],
   "source": [
    "\n",
    "email=\"anju@gmail.com\"\n",
    "password=\"anju123\"\n",
    "\n",
    "comb1=\"The email of user: \" + email + \"and password is: \" + password\n",
    "print(comb1)\n"
   ]
  },
  {
   "cell_type": "code",
   "execution_count": 86,
   "id": "3b2f1e5b-2259-4366-af05-035f6ebe98e1",
   "metadata": {},
   "outputs": [
    {
     "name": "stdout",
     "output_type": "stream",
     "text": [
      "The email of user: anju@gmail.com and password is: anju123\n"
     ]
    }
   ],
   "source": [
    "#use of %s\n",
    "comb2 =\"The email of user: %s and password is: %s\"%(email,password) \n",
    "print(comb2)"
   ]
  },
  {
   "cell_type": "code",
   "execution_count": 108,
   "id": "238a291c-f4e5-40f0-90f4-758e6e10d6e1",
   "metadata": {},
   "outputs": [
    {
     "name": "stdout",
     "output_type": "stream",
     "text": [
      "The value: 23.46\n"
     ]
    }
   ],
   "source": [
    "value=23.4567\n",
    "s=\"The value: %.2f\"%(value)\n",
    "# s=\"The value: %0.3f\"%(value)\n",
    "# s=\"The Value: %s\"%(value)\n",
    "print(s)"
   ]
  },
  {
   "cell_type": "code",
   "execution_count": 100,
   "id": "57ea6400-e94d-4b24-8e2e-4c635bad2d70",
   "metadata": {},
   "outputs": [
    {
     "name": "stdout",
     "output_type": "stream",
     "text": [
      "The email of user: anju@gmail.com and password is: anju123\n"
     ]
    }
   ],
   "source": [
    "comb3 =\"The email of user: {} and password is: {}\".formate(email,password) \n",
    "print(comb3)"
   ]
  },
  {
   "cell_type": "code",
   "execution_count": 102,
   "id": "97a28a64-d292-45d2-a826-2a16cf2947f3",
   "metadata": {},
   "outputs": [
    {
     "name": "stdout",
     "output_type": "stream",
     "text": [
      "The email of user: anju123 and password is: anju@gmail.com\n"
     ]
    }
   ],
   "source": [
    "comb3 =\"The email of user: {1} and password is: {0}\".format(email,password) \n",
    "print(comb3)"
   ]
  },
  {
   "cell_type": "code",
   "execution_count": 104,
   "id": "91318f75-c70e-4f05-aaeb-df6bbe2ffb3f",
   "metadata": {},
   "outputs": [
    {
     "name": "stdout",
     "output_type": "stream",
     "text": [
      "The email of user: anju@gmail.com and password is: anju123\n"
     ]
    }
   ],
   "source": [
    "comb3 =f\"The email of user: {email} and password is: {password}\"\n",
    "print(comb3)"
   ]
  },
  {
   "cell_type": "code",
   "execution_count": null,
   "id": "2840719f-0b17-414e-bdf9-e3c2cfff8e94",
   "metadata": {},
   "outputs": [],
   "source": []
  },
  {
   "cell_type": "code",
   "execution_count": null,
   "id": "e5482cf1-4fb5-452d-b475-5d3aa83aa50b",
   "metadata": {},
   "outputs": [],
   "source": [
    "# Method of String"
   ]
  },
  {
   "cell_type": "code",
   "execution_count": null,
   "id": "6ad10850-783c-43a2-8ea8-ae3ff95fdd1b",
   "metadata": {},
   "outputs": [],
   "source": [
    "'''\n",
    "  upper()\n",
    "  lower()\n",
    "  split()\n",
    "  join()\n",
    "  find()\n",
    "  compairsion opetor(==)\n",
    "  < :- according dictionnary order\n",
    "  > :- according dictionnary order\n",
    "\n",
    "  \n",
    "'''"
   ]
  },
  {
   "cell_type": "code",
   "execution_count": 110,
   "id": "d5793cb9-2428-4c71-b802-d526f6124e40",
   "metadata": {},
   "outputs": [
    {
     "name": "stdout",
     "output_type": "stream",
     "text": [
      "ANJU@GMAIL.COM\n"
     ]
    }
   ],
   "source": [
    "word=\"anju@gmail.com\"\n",
    "print(word.upper())"
   ]
  },
  {
   "cell_type": "code",
   "execution_count": 112,
   "id": "7da337ea-5a6d-42fc-a007-9ffe199f7e82",
   "metadata": {},
   "outputs": [
    {
     "name": "stdout",
     "output_type": "stream",
     "text": [
      "anju@gmail.com\n"
     ]
    }
   ],
   "source": [
    "word=\"ANJU@GMAIL.COM\"\n",
    "print(word.lower())"
   ]
  },
  {
   "cell_type": "code",
   "execution_count": 114,
   "id": "2145b165-5cca-41e4-a4d4-ac994ecfd12c",
   "metadata": {},
   "outputs": [
    {
     "name": "stdout",
     "output_type": "stream",
     "text": [
      "['This', 'is', 'a', 'car']\n"
     ]
    }
   ],
   "source": [
    "word=\"This is a car\"\n",
    "print(word.split(\" \"))#return a list sperated by space"
   ]
  },
  {
   "cell_type": "code",
   "execution_count": 118,
   "id": "13031dfc-3c92-46fd-889d-65f765abb627",
   "metadata": {},
   "outputs": [
    {
     "name": "stdout",
     "output_type": "stream",
     "text": [
      "['This', 'is', 'car']\n"
     ]
    }
   ],
   "source": [
    "word=\"This#is#car\"\n",
    "print(word.split(\"#\"))#return a list sperated by #"
   ]
  },
  {
   "cell_type": "code",
   "execution_count": 128,
   "id": "97dfb7d4-57d3-4276-934f-af7443d196e7",
   "metadata": {},
   "outputs": [
    {
     "name": "stdout",
     "output_type": "stream",
     "text": [
      "This is house\n"
     ]
    }
   ],
   "source": [
    "li=['This', 'is', 'house']\n",
    "print(\" \".join(li))\n"
   ]
  },
  {
   "cell_type": "code",
   "execution_count": 130,
   "id": "640fd5ee-2cc2-42b2-8bd5-067f73609a8b",
   "metadata": {},
   "outputs": [
    {
     "name": "stdout",
     "output_type": "stream",
     "text": [
      "This#is#house\n"
     ]
    }
   ],
   "source": [
    "print(\"#\".join(li))"
   ]
  },
  {
   "cell_type": "code",
   "execution_count": 138,
   "id": "1a263b64-2205-47bc-a734-2eab9a851f1f",
   "metadata": {},
   "outputs": [
    {
     "name": "stdout",
     "output_type": "stream",
     "text": [
      "5\n"
     ]
    }
   ],
   "source": [
    "email=\"anju@12312\"\n",
    "print(email.find(\"12\")) #return first occurance index number"
   ]
  },
  {
   "cell_type": "code",
   "execution_count": 140,
   "id": "63a6f457-0f75-41c6-aaa0-ede2a96ccca8",
   "metadata": {},
   "outputs": [
    {
     "name": "stdout",
     "output_type": "stream",
     "text": [
      "True\n"
     ]
    }
   ],
   "source": [
    "print(email == \"anju@12312\")"
   ]
  },
  {
   "cell_type": "code",
   "execution_count": 142,
   "id": "2fab5b18-b1e0-4edf-a9a5-e1889393c7f1",
   "metadata": {},
   "outputs": [
    {
     "name": "stdout",
     "output_type": "stream",
     "text": [
      "False\n"
     ]
    }
   ],
   "source": [
    "print(email == \"anju@1231\")"
   ]
  },
  {
   "cell_type": "code",
   "execution_count": 144,
   "id": "99d43c2c-1655-4ff7-b305-b93929079f7f",
   "metadata": {},
   "outputs": [
    {
     "name": "stdout",
     "output_type": "stream",
     "text": [
      "False\n"
     ]
    }
   ],
   "source": [
    "print(\"abc\"<\"abb\") #according to dictionary order"
   ]
  },
  {
   "cell_type": "code",
   "execution_count": 146,
   "id": "2761db8b-b261-4278-a65b-d83c4f39afe8",
   "metadata": {},
   "outputs": [
    {
     "name": "stdout",
     "output_type": "stream",
     "text": [
      "True\n"
     ]
    }
   ],
   "source": [
    "print(\"abc\">\"abb\") #according to dictionary order"
   ]
  },
  {
   "cell_type": "code",
   "execution_count": 154,
   "id": "6a62a1e7-1e39-43b9-a5e9-217565729c0e",
   "metadata": {},
   "outputs": [
    {
     "name": "stdout",
     "output_type": "stream",
     "text": [
      "They are same\n"
     ]
    }
   ],
   "source": [
    "s = 'abcd'\n",
    "a = 'abcd'\n",
    "if id(s) == id(a):\n",
    "    print(\"They are same\")\n",
    "else:\n",
    "    print(\"They are not same\")"
   ]
  },
  {
   "cell_type": "code",
   "execution_count": 156,
   "id": "24c6186b-e667-4daf-b3a4-907eb9719a4a",
   "metadata": {},
   "outputs": [
    {
     "name": "stdout",
     "output_type": "stream",
     "text": [
      "abcd\n"
     ]
    }
   ],
   "source": [
    "s = \"abcd\"\n",
    "b = s + \"ef\"\n",
    "print(s)"
   ]
  },
  {
   "cell_type": "code",
   "execution_count": 161,
   "id": "f6e59672-57dc-4dd6-81cb-b47ad9082edb",
   "metadata": {},
   "outputs": [
    {
     "data": {
      "text/plain": [
       "26"
      ]
     },
     "execution_count": 161,
     "metadata": {},
     "output_type": "execute_result"
    }
   ],
   "source": [
    "def stringSum(num1,num2):\n",
    "    #write your code logic here !!!\n",
    "    return int(num1)+int(num2)\n",
    "\n",
    "stringSum(\"5\",\"21\")\n",
    "    "
   ]
  },
  {
   "cell_type": "code",
   "execution_count": 167,
   "id": "400b197d-22d7-447b-9171-3bba41580640",
   "metadata": {},
   "outputs": [
    {
     "data": {
      "text/plain": [
       "3"
      ]
     },
     "execution_count": 167,
     "metadata": {},
     "output_type": "execute_result"
    }
   ],
   "source": [
    "def countWords(string) :\n",
    "    li=string.split(\" \")\n",
    "    return len(li)\n",
    "\n",
    "countWords(\"happy world a\")"
   ]
  },
  {
   "cell_type": "code",
   "execution_count": 191,
   "id": "48a6d003-8cc9-41ae-8cec-65e2598547f8",
   "metadata": {},
   "outputs": [
    {
     "data": {
      "text/plain": [
       "'sihT si a wen rac '"
      ]
     },
     "execution_count": 191,
     "metadata": {},
     "output_type": "execute_result"
    }
   ],
   "source": [
    "#Revers each word\n",
    "def reverse_each_word(string):\n",
    "    words=string.split(\" \")\n",
    "    result=\"\"\n",
    "    for word in words:\n",
    "        result+=word[::-1]\n",
    "        result+=\" \" \n",
    "    return result\n",
    "reverse_each_word(\"This is a new car\")        "
   ]
  },
  {
   "cell_type": "code",
   "execution_count": 227,
   "id": "898a8b32-55ff-4214-877a-50f7b8d01031",
   "metadata": {},
   "outputs": [
    {
     "data": {
      "text/plain": [
       "'a4b3ad3a2'"
      ]
     },
     "execution_count": 227,
     "metadata": {},
     "output_type": "execute_result"
    }
   ],
   "source": [
    "#Compress String\n",
    "def compress(s):\n",
    "    count=1\n",
    "    r=\"\"\n",
    "    for i in range(1,len(s)):\n",
    "        if s[i]== s[i-1]:\n",
    "            count+=1\n",
    "        else:\n",
    "            r+=s[i-1]+(str(count)if count>1 else \"\")\n",
    "            count=1\n",
    "    r+=s[-1]+(str(count)if count>1 else \"\")        \n",
    "    return r\n",
    "\n",
    "compress(\"aaaabbbadddaa\")\n",
    "    "
   ]
  },
  {
   "cell_type": "code",
   "execution_count": 5,
   "id": "1b0f307a-71bb-4e75-9f48-6a01b88c497c",
   "metadata": {},
   "outputs": [
    {
     "name": "stdout",
     "output_type": "stream",
     "text": [
      "abcd\n",
      "bcd\n",
      "cd\n",
      "d\n"
     ]
    }
   ],
   "source": [
    "word=\"abcd\"\n",
    "for i in range(4):\n",
    "    print(word[i:len(word)+1])"
   ]
  },
  {
   "cell_type": "code",
   "execution_count": 11,
   "id": "154b7ca3-7026-45fc-8534-2fb0253c93c9",
   "metadata": {},
   "outputs": [
    {
     "name": "stdout",
     "output_type": "stream",
     "text": [
      "a\n",
      "ab\n",
      "abc\n",
      "abcd\n",
      "b\n",
      "bc\n",
      "bcd\n",
      "c\n",
      "cd\n",
      "d\n"
     ]
    }
   ],
   "source": [
    "def sub_string(s):\n",
    "    for start in range(len(s)):\n",
    "        for end in range(start,len(s)):\n",
    "            print(s[start:end+1])\n",
    "            \n",
    "sub_string(\"abcd\")    "
   ]
  },
  {
   "cell_type": "code",
   "execution_count": 33,
   "id": "9ce91f5a-68c6-4d0b-8117-6aae181c8758",
   "metadata": {},
   "outputs": [
    {
     "name": "stdout",
     "output_type": "stream",
     "text": [
      "a\n",
      "ab\n",
      "abc\n",
      "abcd\n",
      "b\n",
      "bc\n",
      "bcd\n",
      "c\n",
      "cd\n",
      "d\n"
     ]
    }
   ],
   "source": [
    "def sub_string_2(s):\n",
    "    for start in range(len(s)):\n",
    "        for end in range(start,len(s)):\n",
    "            k=\"\"\n",
    "            for i in range(start,end+1):\n",
    "                k+=s[i]\n",
    "            print(k)\n",
    "\n",
    "sub_string_2(\"abcd\") "
   ]
  },
  {
   "cell_type": "code",
   "execution_count": 61,
   "id": "21eb2fba-02f0-4914-96b5-10b28d53e6ff",
   "metadata": {},
   "outputs": [
    {
     "data": {
      "text/plain": [
       "True"
      ]
     },
     "execution_count": 61,
     "metadata": {},
     "output_type": "execute_result"
    }
   ],
   "source": [
    "'''\n",
    "1.Given two strings, determine if one is the reverse of the other. Return True if one string is the reverse of the other, otherwise return False.\n",
    "'''\n",
    "def is_reverse_string(str1, str2):\n",
    "    str1=str1[::-1]\n",
    "    if str1==str2:\n",
    "        return True\n",
    "\n",
    "    return False\n",
    "    \n",
    "is_reverse_string(\"hello\",\"olleh\")"
   ]
  },
  {
   "cell_type": "code",
   "execution_count": 59,
   "id": "3e3622b7-7903-42e5-a382-27d930ade10b",
   "metadata": {},
   "outputs": [
    {
     "data": {
      "text/plain": [
       "True"
      ]
     },
     "execution_count": 59,
     "metadata": {},
     "output_type": "execute_result"
    }
   ],
   "source": [
    "'''\n",
    "2.Given two strings, determine if one is the reverse of the other. Return True if one string is the reverse of the other, otherwise return False.\n",
    "'''\n",
    "def is_reverse_string_2(str1, str2):\n",
    "    l=len(str1)\n",
    "    if len(str1)!=len(str2):\n",
    "        return False\n",
    "    for i in range(len(str2)):\n",
    "        if str1[i]==str2[l-1]:\n",
    "            l-=1\n",
    "        else:\n",
    "            return False\n",
    "    return True\n",
    "    \n",
    "is_reverse_string_2(\"hello\",\"olleh\")        "
   ]
  },
  {
   "cell_type": "code",
   "execution_count": 69,
   "id": "210d728d-1ca4-4f22-aac3-eca25769efd4",
   "metadata": {},
   "outputs": [
    {
     "data": {
      "text/plain": [
       "'codingninjas'"
      ]
     },
     "execution_count": 69,
     "metadata": {},
     "output_type": "execute_result"
    }
   ],
   "source": [
    "'''\n",
    "Given a string and a character X, write a function to remove all occurrences of the character X from the string.\n",
    "'''\n",
    "def remove_all_occurrences_of_char(input_string, char_to_remove):\n",
    "    new_string=\"\"\n",
    "    for i in range(len(input_string)):\n",
    "       \n",
    "        if input_string[i]!=char_to_remove:\n",
    "            new_string+=input_string[i]\n",
    "    return new_string\n",
    "    \n",
    "remove_all_occurrences_of_char(\"cxoxdxixnxgxnxixnxjxaxsxx\", \"x\")            "
   ]
  },
  {
   "cell_type": "code",
   "execution_count": 79,
   "id": "f9adc291-689a-4286-89d2-edc75167435f",
   "metadata": {},
   "outputs": [
    {
     "data": {
      "text/plain": [
       "'xyzwz'"
      ]
     },
     "execution_count": 79,
     "metadata": {},
     "output_type": "execute_result"
    }
   ],
   "source": [
    "'''\n",
    "You are given a string 'STR' consisting of lower and upper case characters. You need to remove the consecutive duplicates characters,\n",
    "and return the new string.\n",
    "'''\n",
    "def removeConsecutiveDuplicates(string) :\n",
    "    s=\"\"\n",
    "    s+=string[0]\n",
    "    for i in range(1,len(string)):\n",
    "        if string[i]!=string[i-1]:\n",
    "            s+=string[i]\n",
    "    return s        \n",
    "       \n",
    "removeConsecutiveDuplicates(\"xxxyyyzwwzzz\")"
   ]
  },
  {
   "cell_type": "code",
   "execution_count": 87,
   "id": "4b50b10d-477c-492b-869d-6859c64ac84c",
   "metadata": {},
   "outputs": [
    {
     "name": "stdout",
     "output_type": "stream",
     "text": [
      "Ninjas Coding to Welcome\n"
     ]
    }
   ],
   "source": [
    "'''\n",
    "Reverse the given string word-wise. The last word in the given string should come at 1st place, the last-second word at 2nd place, \n",
    "and so on. Individual words should remain as it is.\n",
    "'''\n",
    "def reverseStringWordWise(string):\n",
    "    word = string.split()\n",
    "    print(\" \".join(word[::-1]))\n",
    "\n",
    "reverseStringWordWise(\"Welcome to Coding Ninjas\")"
   ]
  },
  {
   "cell_type": "code",
   "execution_count": 135,
   "id": "94ed5aea-0b06-4ae0-ace9-c375d6bdaa96",
   "metadata": {},
   "outputs": [
    {
     "name": "stdout",
     "output_type": "stream",
     "text": [
      "0 5 "
     ]
    }
   ],
   "source": [
    "'''\n",
    "Given a string ‘str’ and a pattern ‘pat’, you have to find all occurrences of the pattern in the string. You have to print the starting \n",
    "positions of all occurrences of the pattern in the string.\n",
    "'''\n",
    "def findSubstringIndices(string, pattern):\n",
    "    for i in range(len(string)):\n",
    "        s=\"\"\n",
    "        for j in range(i,len(string)):\n",
    "            s=string[i:j+1]\n",
    "            if pattern == s:\n",
    "                print(i,end=\" \")\n",
    "\n",
    "\n",
    "\n",
    "    \n",
    "findSubstringIndices(\"heyhihey\", \"hey\")    \n"
   ]
  },
  {
   "cell_type": "code",
   "execution_count": 143,
   "id": "67a22088-7e55-452b-97a3-d64704cadf97",
   "metadata": {},
   "outputs": [
    {
     "name": "stdout",
     "output_type": "stream",
     "text": [
      "0 5 "
     ]
    }
   ],
   "source": [
    "def findSubstringIndices(string, pattern):\n",
    "    for start in range(len(string)):\n",
    "        for end in range(start,len(string)):\n",
    "            k=\"\"\n",
    "            for i in range(start,end+1):\n",
    "                k+=string[i]\n",
    "            if k == pattern:\n",
    "                print(start,end=\" \")\n",
    "\n",
    "findSubstringIndices(\"heyhihey\", \"hey\") "
   ]
  },
  {
   "cell_type": "code",
   "execution_count": 145,
   "id": "45e597f5-6f49-4f9a-8845-6df4cc24a033",
   "metadata": {},
   "outputs": [
    {
     "name": "stdout",
     "output_type": "stream",
     "text": [
      "0 5\n"
     ]
    }
   ],
   "source": [
    "def find_pattern_occurrences(string, pattern):\n",
    "    positions = []\n",
    "    str_len = len(string)\n",
    "    pat_len = len(pattern)\n",
    "    \n",
    "    for i in range(str_len - pat_len + 1):\n",
    "        if string[i:i + pat_len] == pattern:\n",
    "            positions.append(i)\n",
    "    \n",
    "    return positions\n",
    "\n",
    "# Example usage:\n",
    "string = \"heyhihey\"\n",
    "pattern = \"hey\"\n",
    "result = find_pattern_occurrences(string, pattern)\n",
    "print(\" \".join(map(str, result)))\n"
   ]
  },
  {
   "cell_type": "code",
   "execution_count": null,
   "id": "b68d2f8e-088f-4309-9378-0238c72494fe",
   "metadata": {},
   "outputs": [],
   "source": []
  }
 ],
 "metadata": {
  "kernelspec": {
   "display_name": "Python [conda env:base] *",
   "language": "python",
   "name": "conda-base-py"
  },
  "language_info": {
   "codemirror_mode": {
    "name": "ipython",
    "version": 3
   },
   "file_extension": ".py",
   "mimetype": "text/x-python",
   "name": "python",
   "nbconvert_exporter": "python",
   "pygments_lexer": "ipython3",
   "version": "3.12.7"
  }
 },
 "nbformat": 4,
 "nbformat_minor": 5
}
