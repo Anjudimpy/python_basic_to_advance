{
 "cells": [
  {
   "cell_type": "code",
   "execution_count": 1,
   "id": "0d65c108-250c-44a1-afa3-b4cdb6366bdc",
   "metadata": {},
   "outputs": [
    {
     "data": {
      "text/plain": [
       "'A'"
      ]
     },
     "execution_count": 1,
     "metadata": {},
     "output_type": "execute_result"
    }
   ],
   "source": [
    "username='Anju'\n",
    "username[0]"
   ]
  },
  {
   "cell_type": "code",
   "execution_count": 3,
   "id": "287480ed-6a59-4127-ad9d-c5bb418d1fb3",
   "metadata": {},
   "outputs": [
    {
     "data": {
      "text/plain": [
       "'u'"
      ]
     },
     "execution_count": 3,
     "metadata": {},
     "output_type": "execute_result"
    }
   ],
   "source": [
    "#negative number start with last charactor of the string\n",
    "username[-1]"
   ]
  },
  {
   "cell_type": "code",
   "execution_count": 5,
   "id": "ae03dcdb-3d6e-48e8-b810-445156e97fc9",
   "metadata": {},
   "outputs": [
    {
     "data": {
      "text/plain": [
       "'j'"
      ]
     },
     "execution_count": 5,
     "metadata": {},
     "output_type": "execute_result"
    }
   ],
   "source": [
    "username[-2]"
   ]
  },
  {
   "cell_type": "code",
   "execution_count": 7,
   "id": "8b5979d4-9687-4876-9190-d03d4d876459",
   "metadata": {},
   "outputs": [
    {
     "data": {
      "text/plain": [
       "'n'"
      ]
     },
     "execution_count": 7,
     "metadata": {},
     "output_type": "execute_result"
    }
   ],
   "source": [
    "username[1]"
   ]
  },
  {
   "cell_type": "code",
   "execution_count": 9,
   "id": "1014ff22-2769-49b9-9654-ea5f0bef861e",
   "metadata": {},
   "outputs": [
    {
     "name": "stdout",
     "output_type": "stream",
     "text": [
      "0 A\n",
      "1 n\n",
      "2 j\n",
      "3 u\n"
     ]
    }
   ],
   "source": [
    "for idx in range(len(username)):\n",
    "    print(idx,username[idx])"
   ]
  },
  {
   "cell_type": "code",
   "execution_count": 11,
   "id": "e0ce42d0-a576-4829-8d7a-bfb43e366384",
   "metadata": {},
   "outputs": [
    {
     "name": "stdout",
     "output_type": "stream",
     "text": [
      "Python"
     ]
    }
   ],
   "source": [
    "string = \"Python\"\n",
    "for i in range(len(string)):\n",
    "    print(string[i], end=\"\")"
   ]
  },
  {
   "cell_type": "code",
   "execution_count": 18,
   "id": "0a559a4c-340e-43db-bdbf-6b6bf055b431",
   "metadata": {},
   "outputs": [
    {
     "name": "stdout",
     "output_type": "stream",
     "text": [
      "2\n"
     ]
    }
   ],
   "source": [
    "def count_char_freq(s,ch):\n",
    "    count=0\n",
    "    for i in s:\n",
    "        if i == ch:\n",
    "            count+=1\n",
    "    print(count)        \n",
    "count_char_freq(\"happy holiday\",\"h\")    "
   ]
  },
  {
   "cell_type": "code",
   "execution_count": 20,
   "id": "f64e9e0e-40d5-4b0c-b9db-e4a01475ef8d",
   "metadata": {},
   "outputs": [
    {
     "name": "stdout",
     "output_type": "stream",
     "text": [
      "moc.liamg@ujna\n"
     ]
    }
   ],
   "source": [
    "#Reverse of string\n",
    "string=\"anju@gmail.com\"\n",
    "print(string[::-1])\n"
   ]
  },
  {
   "cell_type": "code",
   "execution_count": 32,
   "id": "183b8d83-8bd7-473e-b565-be2f875e6736",
   "metadata": {},
   "outputs": [
    {
     "name": "stdout",
     "output_type": "stream",
     "text": [
      "aj@mi.o\n"
     ]
    }
   ],
   "source": [
    "#alternate charactor\n",
    "print(string[0:len(string):2])"
   ]
  },
  {
   "cell_type": "code",
   "execution_count": 34,
   "id": "92170f74-8e1e-4033-acfd-4108fa557dbe",
   "metadata": {},
   "outputs": [
    {
     "name": "stdout",
     "output_type": "stream",
     "text": [
      "ju@gmail.com\n"
     ]
    }
   ],
   "source": [
    "print(string[2:])"
   ]
  },
  {
   "cell_type": "code",
   "execution_count": 50,
   "id": "05d1494f-affb-4836-9428-2ac3b9631ca7",
   "metadata": {},
   "outputs": [
    {
     "name": "stdout",
     "output_type": "stream",
     "text": [
      "anju\n",
      "1353490179360\n",
      "\n",
      "anju@gmail.com\n",
      "1353491228528\n"
     ]
    }
   ],
   "source": [
    "# Stirng are Immutable:- that ,means we cant change value at the same loction\n",
    "username=\"anju\"\n",
    "print(username)\n",
    "print(id(username))\n",
    "print()\n",
    "username += \"@gmail.com\"\n",
    "print(username)\n",
    "print(id(username))\n",
    "\n",
    "#both id is different"
   ]
  },
  {
   "cell_type": "code",
   "execution_count": 70,
   "id": "5f948732-e66f-4e12-9807-52bbc0b79551",
   "metadata": {},
   "outputs": [
    {
     "name": "stdout",
     "output_type": "stream",
     "text": [
      "Palindrome srtring\n"
     ]
    }
   ],
   "source": [
    "#1.Palindrome String\n",
    "def palindrom_string(s):\n",
    "    copy_string= s[::-1]\n",
    "    if s==copy_string:\n",
    "        print(\"Palindrome srtring\")\n",
    "    else:\n",
    "        print(\"Not Palindrome srtring\")\n",
    "\n",
    "palindrom_string(\"nawa\")\n",
    "        "
   ]
  },
  {
   "cell_type": "code",
   "execution_count": 68,
   "id": "b016f0ab-7332-40bb-bf77-e9708ae08fcd",
   "metadata": {},
   "outputs": [
    {
     "data": {
      "text/plain": [
       "True"
      ]
     },
     "execution_count": 68,
     "metadata": {},
     "output_type": "execute_result"
    }
   ],
   "source": [
    "#2.Palindrome String\n",
    "def palindrom_string_2(s):\n",
    "    i=0\n",
    "    l=len(s)-1\n",
    "    while i<=l:\n",
    "        if s[i]==s[l]:\n",
    "            i+=1\n",
    "            l-=1\n",
    "        else:\n",
    "            return False\n",
    "    return True  \n",
    "    \n",
    "palindrom_string_2(\"nawan\")            "
   ]
  },
  {
   "cell_type": "code",
   "execution_count": null,
   "id": "36efe4d5-f663-419f-b26c-e507adf99ba2",
   "metadata": {},
   "outputs": [],
   "source": []
  },
  {
   "cell_type": "code",
   "execution_count": null,
   "id": "71adb159-a2b2-4562-8ef8-578e824d71c4",
   "metadata": {},
   "outputs": [],
   "source": [
    "#String Formating\n",
    "'''\n",
    "%s\n",
    "%.2f\n",
    "{}\n",
    "f\n",
    "'''"
   ]
  },
  {
   "cell_type": "code",
   "execution_count": 78,
   "id": "c626c64f-4a03-4c10-89e5-61dbb012acea",
   "metadata": {},
   "outputs": [
    {
     "name": "stdout",
     "output_type": "stream",
     "text": [
      "The email of user: anju@gmail.comand password is: anju123\n"
     ]
    }
   ],
   "source": [
    "\n",
    "email=\"anju@gmail.com\"\n",
    "password=\"anju123\"\n",
    "\n",
    "comb1=\"The email of user: \" + email + \"and password is: \" + password\n",
    "print(comb1)\n"
   ]
  },
  {
   "cell_type": "code",
   "execution_count": 86,
   "id": "3b2f1e5b-2259-4366-af05-035f6ebe98e1",
   "metadata": {},
   "outputs": [
    {
     "name": "stdout",
     "output_type": "stream",
     "text": [
      "The email of user: anju@gmail.com and password is: anju123\n"
     ]
    }
   ],
   "source": [
    "#use of %s\n",
    "comb2 =\"The email of user: %s and password is: %s\"%(email,password) \n",
    "print(comb2)"
   ]
  },
  {
   "cell_type": "code",
   "execution_count": 108,
   "id": "238a291c-f4e5-40f0-90f4-758e6e10d6e1",
   "metadata": {},
   "outputs": [
    {
     "name": "stdout",
     "output_type": "stream",
     "text": [
      "The value: 23.46\n"
     ]
    }
   ],
   "source": [
    "value=23.4567\n",
    "s=\"The value: %.2f\"%(value)\n",
    "# s=\"The value: %0.3f\"%(value)\n",
    "# s=\"The Value: %s\"%(value)\n",
    "print(s)"
   ]
  },
  {
   "cell_type": "code",
   "execution_count": 100,
   "id": "57ea6400-e94d-4b24-8e2e-4c635bad2d70",
   "metadata": {},
   "outputs": [
    {
     "name": "stdout",
     "output_type": "stream",
     "text": [
      "The email of user: anju@gmail.com and password is: anju123\n"
     ]
    }
   ],
   "source": [
    "comb3 =\"The email of user: {} and password is: {}\".formate(email,password) \n",
    "print(comb3)"
   ]
  },
  {
   "cell_type": "code",
   "execution_count": 102,
   "id": "97a28a64-d292-45d2-a826-2a16cf2947f3",
   "metadata": {},
   "outputs": [
    {
     "name": "stdout",
     "output_type": "stream",
     "text": [
      "The email of user: anju123 and password is: anju@gmail.com\n"
     ]
    }
   ],
   "source": [
    "comb3 =\"The email of user: {1} and password is: {0}\".format(email,password) \n",
    "print(comb3)"
   ]
  },
  {
   "cell_type": "code",
   "execution_count": 104,
   "id": "91318f75-c70e-4f05-aaeb-df6bbe2ffb3f",
   "metadata": {},
   "outputs": [
    {
     "name": "stdout",
     "output_type": "stream",
     "text": [
      "The email of user: anju@gmail.com and password is: anju123\n"
     ]
    }
   ],
   "source": [
    "comb3 =f\"The email of user: {email} and password is: {password}\"\n",
    "print(comb3)"
   ]
  },
  {
   "cell_type": "code",
   "execution_count": null,
   "id": "2840719f-0b17-414e-bdf9-e3c2cfff8e94",
   "metadata": {},
   "outputs": [],
   "source": []
  },
  {
   "cell_type": "code",
   "execution_count": null,
   "id": "e5482cf1-4fb5-452d-b475-5d3aa83aa50b",
   "metadata": {},
   "outputs": [],
   "source": [
    "# Method of String"
   ]
  },
  {
   "cell_type": "code",
   "execution_count": null,
   "id": "6ad10850-783c-43a2-8ea8-ae3ff95fdd1b",
   "metadata": {},
   "outputs": [],
   "source": [
    "'''\n",
    "  upper()\n",
    "  lower()\n",
    "  split()\n",
    "  join()\n",
    "  find()\n",
    "  compairsion opetor(==)\n",
    "  < :- according dictionnary order\n",
    "  > :- according dictionnary order\n",
    "\n",
    "  \n",
    "'''"
   ]
  },
  {
   "cell_type": "code",
   "execution_count": 110,
   "id": "d5793cb9-2428-4c71-b802-d526f6124e40",
   "metadata": {},
   "outputs": [
    {
     "name": "stdout",
     "output_type": "stream",
     "text": [
      "ANJU@GMAIL.COM\n"
     ]
    }
   ],
   "source": [
    "word=\"anju@gmail.com\"\n",
    "print(word.upper())"
   ]
  },
  {
   "cell_type": "code",
   "execution_count": 112,
   "id": "7da337ea-5a6d-42fc-a007-9ffe199f7e82",
   "metadata": {},
   "outputs": [
    {
     "name": "stdout",
     "output_type": "stream",
     "text": [
      "anju@gmail.com\n"
     ]
    }
   ],
   "source": [
    "word=\"ANJU@GMAIL.COM\"\n",
    "print(word.lower())"
   ]
  },
  {
   "cell_type": "code",
   "execution_count": 114,
   "id": "2145b165-5cca-41e4-a4d4-ac994ecfd12c",
   "metadata": {},
   "outputs": [
    {
     "name": "stdout",
     "output_type": "stream",
     "text": [
      "['This', 'is', 'a', 'car']\n"
     ]
    }
   ],
   "source": [
    "word=\"This is a car\"\n",
    "print(word.split(\" \"))#return a list sperated by space"
   ]
  },
  {
   "cell_type": "code",
   "execution_count": 118,
   "id": "13031dfc-3c92-46fd-889d-65f765abb627",
   "metadata": {},
   "outputs": [
    {
     "name": "stdout",
     "output_type": "stream",
     "text": [
      "['This', 'is', 'car']\n"
     ]
    }
   ],
   "source": [
    "word=\"This#is#car\"\n",
    "print(word.split(\"#\"))#return a list sperated by #"
   ]
  },
  {
   "cell_type": "code",
   "execution_count": 128,
   "id": "97dfb7d4-57d3-4276-934f-af7443d196e7",
   "metadata": {},
   "outputs": [
    {
     "name": "stdout",
     "output_type": "stream",
     "text": [
      "This is house\n"
     ]
    }
   ],
   "source": [
    "li=['This', 'is', 'house']\n",
    "print(\" \".join(li))\n"
   ]
  },
  {
   "cell_type": "code",
   "execution_count": 130,
   "id": "640fd5ee-2cc2-42b2-8bd5-067f73609a8b",
   "metadata": {},
   "outputs": [
    {
     "name": "stdout",
     "output_type": "stream",
     "text": [
      "This#is#house\n"
     ]
    }
   ],
   "source": [
    "print(\"#\".join(li))"
   ]
  },
  {
   "cell_type": "code",
   "execution_count": 138,
   "id": "1a263b64-2205-47bc-a734-2eab9a851f1f",
   "metadata": {},
   "outputs": [
    {
     "name": "stdout",
     "output_type": "stream",
     "text": [
      "5\n"
     ]
    }
   ],
   "source": [
    "email=\"anju@12312\"\n",
    "print(email.find(\"12\")) #return first occurance index number"
   ]
  },
  {
   "cell_type": "code",
   "execution_count": 140,
   "id": "63a6f457-0f75-41c6-aaa0-ede2a96ccca8",
   "metadata": {},
   "outputs": [
    {
     "name": "stdout",
     "output_type": "stream",
     "text": [
      "True\n"
     ]
    }
   ],
   "source": [
    "print(email == \"anju@12312\")"
   ]
  },
  {
   "cell_type": "code",
   "execution_count": 142,
   "id": "2fab5b18-b1e0-4edf-a9a5-e1889393c7f1",
   "metadata": {},
   "outputs": [
    {
     "name": "stdout",
     "output_type": "stream",
     "text": [
      "False\n"
     ]
    }
   ],
   "source": [
    "print(email == \"anju@1231\")"
   ]
  },
  {
   "cell_type": "code",
   "execution_count": 144,
   "id": "99d43c2c-1655-4ff7-b305-b93929079f7f",
   "metadata": {},
   "outputs": [
    {
     "name": "stdout",
     "output_type": "stream",
     "text": [
      "False\n"
     ]
    }
   ],
   "source": [
    "print(\"abc\"<\"abb\") #according to dictionary order"
   ]
  },
  {
   "cell_type": "code",
   "execution_count": 146,
   "id": "2761db8b-b261-4278-a65b-d83c4f39afe8",
   "metadata": {},
   "outputs": [
    {
     "name": "stdout",
     "output_type": "stream",
     "text": [
      "True\n"
     ]
    }
   ],
   "source": [
    "print(\"abc\">\"abb\") #according to dictionary order"
   ]
  },
  {
   "cell_type": "code",
   "execution_count": 154,
   "id": "6a62a1e7-1e39-43b9-a5e9-217565729c0e",
   "metadata": {},
   "outputs": [
    {
     "name": "stdout",
     "output_type": "stream",
     "text": [
      "They are same\n"
     ]
    }
   ],
   "source": [
    "s = 'abcd'\n",
    "a = 'abcd'\n",
    "if id(s) == id(a):\n",
    "    print(\"They are same\")\n",
    "else:\n",
    "    print(\"They are not same\")"
   ]
  },
  {
   "cell_type": "code",
   "execution_count": 156,
   "id": "24c6186b-e667-4daf-b3a4-907eb9719a4a",
   "metadata": {},
   "outputs": [
    {
     "name": "stdout",
     "output_type": "stream",
     "text": [
      "abcd\n"
     ]
    }
   ],
   "source": [
    "s = \"abcd\"\n",
    "b = s + \"ef\"\n",
    "print(s)"
   ]
  },
  {
   "cell_type": "code",
   "execution_count": 161,
   "id": "f6e59672-57dc-4dd6-81cb-b47ad9082edb",
   "metadata": {},
   "outputs": [
    {
     "data": {
      "text/plain": [
       "26"
      ]
     },
     "execution_count": 161,
     "metadata": {},
     "output_type": "execute_result"
    }
   ],
   "source": [
    "def stringSum(num1,num2):\n",
    "    #write your code logic here !!!\n",
    "    return int(num1)+int(num2)\n",
    "\n",
    "stringSum(\"5\",\"21\")\n",
    "    "
   ]
  },
  {
   "cell_type": "code",
   "execution_count": 167,
   "id": "400b197d-22d7-447b-9171-3bba41580640",
   "metadata": {},
   "outputs": [
    {
     "data": {
      "text/plain": [
       "3"
      ]
     },
     "execution_count": 167,
     "metadata": {},
     "output_type": "execute_result"
    }
   ],
   "source": [
    "def countWords(string) :\n",
    "    li=string.split(\" \")\n",
    "    return len(li)\n",
    "\n",
    "countWords(\"happy world a\")"
   ]
  },
  {
   "cell_type": "code",
   "execution_count": null,
   "id": "48a6d003-8cc9-41ae-8cec-65e2598547f8",
   "metadata": {},
   "outputs": [],
   "source": []
  }
 ],
 "metadata": {
  "kernelspec": {
   "display_name": "Python [conda env:base] *",
   "language": "python",
   "name": "conda-base-py"
  },
  "language_info": {
   "codemirror_mode": {
    "name": "ipython",
    "version": 3
   },
   "file_extension": ".py",
   "mimetype": "text/x-python",
   "name": "python",
   "nbconvert_exporter": "python",
   "pygments_lexer": "ipython3",
   "version": "3.12.7"
  }
 },
 "nbformat": 4,
 "nbformat_minor": 5
}
