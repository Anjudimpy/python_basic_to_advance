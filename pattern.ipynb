{
 "cells": [
  {
   "cell_type": "code",
   "execution_count": null,
   "id": "0a800206-6db8-4ae8-9334-628d70ea38d2",
   "metadata": {},
   "outputs": [
    {
     "name": "stdout",
     "output_type": "stream",
     "text": [
      " 5\n"
     ]
    },
    {
     "name": "stdout",
     "output_type": "stream",
     "text": [
      "    1\n",
      "   232\n",
      "  34543\n",
      " 4567654\n",
      "567898765\n"
     ]
    }
   ],
   "source": [
    "n=int(input())\n",
    "for i in range(1,n+1):\n",
    "    p=i\n",
    "    for s in range(1,n+1-i):\n",
    "        print(\" \",end=\"\")\n",
    "    for j in range(1,i+1):\n",
    "        print(p,end=\"\")\n",
    "        p+=1 \n",
    "    for s in range(i-1):\n",
    "        p=p-2\n",
    "        print(p,end=\"\")\n",
    "        p=p+1\n",
    "    print()    "
   ]
  },
  {
   "cell_type": "code",
   "execution_count": 125,
   "id": "1d7368e4-4a26-4456-9491-129b3aef1621",
   "metadata": {},
   "outputs": [
    {
     "name": "stdout",
     "output_type": "stream",
     "text": [
      " 4\n"
     ]
    },
    {
     "name": "stdout",
     "output_type": "stream",
     "text": [
      "        1\n",
      "      12\n",
      "    123\n",
      "  1234\n"
     ]
    }
   ],
   "source": [
    "n=int(input())\n",
    "for i in range(1,n+1):\n",
    "    for s in range(2*(n+1-i)):\n",
    "        print(\" \",end=\"\")\n",
    "    for j in range(1,i+1):\n",
    "        print(j,end=\"\")\n",
    "    print()    "
   ]
  },
  {
   "cell_type": "code",
   "execution_count": 145,
   "id": "434d9efc-e3f2-4d0a-a174-2738c3ee4478",
   "metadata": {},
   "outputs": [
    {
     "name": "stdout",
     "output_type": "stream",
     "text": [
      " 5\n"
     ]
    },
    {
     "name": "stdout",
     "output_type": "stream",
     "text": [
      "1\n",
      "21\n",
      "321\n",
      "4321\n",
      "54321\n"
     ]
    }
   ],
   "source": [
    "n=int(input())\n",
    "for i in range(1,n+1):\n",
    "    p=i\n",
    "    for j in range(1,i+1):\n",
    "        print(p,end=\"\")\n",
    "        p-=1\n",
    "    print()  "
   ]
  },
  {
   "cell_type": "code",
   "execution_count": 162,
   "id": "ea827437-f24d-4233-9495-efda28fb60a5",
   "metadata": {},
   "outputs": [
    {
     "name": "stdout",
     "output_type": "stream",
     "text": [
      "A\n",
      "65\n"
     ]
    }
   ],
   "source": [
    "print(chr(65))\n",
    "print(ord(\"A\"))\n",
    "\n"
   ]
  },
  {
   "cell_type": "code",
   "execution_count": 122,
   "id": "5c21b477-4502-4a81-9ee3-7f27fee350dd",
   "metadata": {},
   "outputs": [
    {
     "name": "stdout",
     "output_type": "stream",
     "text": [
      " 3\n"
     ]
    },
    {
     "name": "stdout",
     "output_type": "stream",
     "text": [
      "A\n",
      "BC\n",
      "CDE\n"
     ]
    }
   ],
   "source": [
    "n=int(input())\n",
    "for i in range(0,n):\n",
    "    for j in range(0,i+1):\n",
    "        ch=chr(65+i+j)\n",
    "        print(ch,end=\"\")\n",
    "    print()    "
   ]
  },
  {
   "cell_type": "code",
   "execution_count": 118,
   "id": "293cd554-4697-40d9-a97d-07a3dc8c759c",
   "metadata": {},
   "outputs": [
    {
     "name": "stdout",
     "output_type": "stream",
     "text": [
      " 3\n"
     ]
    },
    {
     "name": "stdout",
     "output_type": "stream",
     "text": [
      "F\n",
      "FG\n",
      "FGH\n"
     ]
    }
   ],
   "source": [
    "n=int(input())\n",
    "for i in range(1,n+1):\n",
    "    for j in range(1,i+1):\n",
    "        ch=chr(63+k+j)\n",
    "        print(ch,end=\"\")\n",
    "    print()\n"
   ]
  },
  {
   "cell_type": "code",
   "execution_count": 282,
   "id": "63d19dda-0c23-4ec7-aca7-a80a6cdfa309",
   "metadata": {},
   "outputs": [
    {
     "name": "stdout",
     "output_type": "stream",
     "text": [
      " 5\n"
     ]
    },
    {
     "name": "stdout",
     "output_type": "stream",
     "text": [
      "5\n",
      "45\n",
      "345\n",
      "2345\n",
      "12345\n"
     ]
    }
   ],
   "source": [
    "n=int(input())\n",
    "k=n\n",
    "for i in range(1,n+1):\n",
    "    for j in range(1,i+1):\n",
    "        print(k-i+j,end='')\n",
    "    print()     "
   ]
  },
  {
   "cell_type": "code",
   "execution_count": 288,
   "id": "a11b958e-3e1e-48f3-b256-ed3fbc5caa82",
   "metadata": {},
   "outputs": [
    {
     "name": "stdout",
     "output_type": "stream",
     "text": [
      " 4\n"
     ]
    },
    {
     "name": "stdout",
     "output_type": "stream",
     "text": [
      "D\n",
      "CD\n",
      "BCD\n",
      "ABCD\n"
     ]
    }
   ],
   "source": [
    "n=int(input())\n",
    "k=n\n",
    "for i in range(1,n+1):\n",
    "    for j in range(0,i):\n",
    "        ch=chr(65+k-i+j)\n",
    "        print(ch,end='')\n",
    "    print() "
   ]
  },
  {
   "cell_type": "code",
   "execution_count": 1,
   "id": "754a6d42-4860-485d-86c7-dd4f3616d9db",
   "metadata": {},
   "outputs": [
    {
     "name": "stdout",
     "output_type": "stream",
     "text": [
      " 4\n"
     ]
    },
    {
     "name": "stdout",
     "output_type": "stream",
     "text": [
      "   *\n",
      "  ***\n",
      " *****\n"
     ]
    }
   ],
   "source": [
    "n=int(input())\n",
    "for i in range(1,n):\n",
    "    for s in range(0,n-i):\n",
    "        print(\" \",end=\"\")\n",
    "    for j in range(0,i):\n",
    "        print(\"*\",end=\"\")\n",
    "    for s in range(0,j):\n",
    "        print(\"*\",end=\"\")\n",
    "    print()    "
   ]
  },
  {
   "cell_type": "code",
   "execution_count": null,
   "id": "d97d2c38-9153-42e0-8a8e-969dbfbf6fd5",
   "metadata": {},
   "outputs": [],
   "source": [
    "  *\n",
    " ***\n",
    "*****\n",
    " ***\n",
    "  *"
   ]
  },
  {
   "cell_type": "code",
   "execution_count": 121,
   "id": "344ac105-9c95-432a-82d8-12e8e2b62e2b",
   "metadata": {},
   "outputs": [
    {
     "name": "stdout",
     "output_type": "stream",
     "text": [
      " 11\n"
     ]
    },
    {
     "name": "stdout",
     "output_type": "stream",
     "text": [
      "     *\n",
      "    ***\n",
      "   *****\n",
      "  *******\n",
      " *********\n",
      "***********\n",
      " *********\n",
      "  *******\n",
      "   *****\n",
      "    ***\n",
      "     *\n"
     ]
    }
   ],
   "source": [
    "n = int(input())\n",
    "k = n // 2\n",
    "\n",
    "for i in range(1, n + 1):\n",
    "    if i <= n / 2: \n",
    "        for s in range(k + 1 - i):  \n",
    "            print(\" \", end=\"\")\n",
    "        for j in range(i): \n",
    "            print(\"*\", end=\"\")\n",
    "        for j in range(i - 1):  \n",
    "            print(\"*\", end=\"\")\n",
    "    else:\n",
    "        for s in range(i - k-1): \n",
    "            print(\" \", end=\"\")\n",
    "        for j in range(n + 1 - i):  \n",
    "            print(\"*\", end=\"\")\n",
    "        for j in range(n - i):\n",
    "            print(\"*\", end=\"\")\n",
    "    \n",
    "    print()  \n"
   ]
  },
  {
   "cell_type": "code",
   "execution_count": null,
   "id": "ee02bfbb-5376-4531-9834-b453fafe1ef1",
   "metadata": {},
   "outputs": [],
   "source": []
  }
 ],
 "metadata": {
  "kernelspec": {
   "display_name": "Python [conda env:base] *",
   "language": "python",
   "name": "conda-base-py"
  },
  "language_info": {
   "codemirror_mode": {
    "name": "ipython",
    "version": 3
   },
   "file_extension": ".py",
   "mimetype": "text/x-python",
   "name": "python",
   "nbconvert_exporter": "python",
   "pygments_lexer": "ipython3",
   "version": "3.12.7"
  }
 },
 "nbformat": 4,
 "nbformat_minor": 5
}
