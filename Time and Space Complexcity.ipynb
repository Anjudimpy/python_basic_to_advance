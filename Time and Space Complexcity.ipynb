{
 "cells": [
  {
   "cell_type": "code",
   "execution_count": null,
   "id": "d7313320-91f5-4f2a-abb5-ab3fec4aa404",
   "metadata": {},
   "outputs": [],
   "source": [
    "''' Given an integer n,Return the sum of numbers from 1 to n.\n",
    "    Try to submit your code in O(1) complexity.\n",
    "'''"
   ]
  },
  {
   "cell_type": "code",
   "execution_count": 3,
   "id": "bcc30685-b3a9-4bc7-a97a-236a3ee2373a",
   "metadata": {},
   "outputs": [
    {
     "data": {
      "text/plain": [
       "50000000005000000000"
      ]
     },
     "execution_count": 3,
     "metadata": {},
     "output_type": "execute_result"
    }
   ],
   "source": [
    "def sum_n_natural_numbers_optimised(n):\n",
    "    return n*(n+1)//2\n",
    "\n",
    "sum_n_natural_numbers_optimised(10**10)"
   ]
  },
  {
   "cell_type": "code",
   "execution_count": null,
   "id": "d3871d05-1fef-4bb5-9ddd-23231ed561ad",
   "metadata": {},
   "outputs": [],
   "source": [
    "                                                        '''Prime Number '''"
   ]
  },
  {
   "cell_type": "code",
   "execution_count": 90,
   "id": "7d511919-9c63-446d-b7f5-e0d0cd7b57f0",
   "metadata": {},
   "outputs": [
    {
     "name": "stdout",
     "output_type": "stream",
     "text": [
      "CPU times: total: 0 ns\n",
      "Wall time: 0 ns\n"
     ]
    },
    {
     "data": {
      "text/plain": [
       "True"
      ]
     },
     "execution_count": 90,
     "metadata": {},
     "output_type": "execute_result"
    }
   ],
   "source": [
    "%time\n",
    "def check_primt(n):\n",
    "    if n==2 or n==1:\n",
    "        return True\n",
    "    if n%2 == 0:\n",
    "        return False\n",
    "    for i in range(2,int(n**0.5)+1):\n",
    "        if n%i == 0:\n",
    "            return False\n",
    "    return True \n",
    "\n",
    "check_primt(11)"
   ]
  },
  {
   "cell_type": "code",
   "execution_count": 70,
   "id": "d2095954-4370-4f4f-a0bf-99e67fe782e0",
   "metadata": {},
   "outputs": [
    {
     "data": {
      "text/plain": [
       "False"
      ]
     },
     "execution_count": 70,
     "metadata": {},
     "output_type": "execute_result"
    }
   ],
   "source": [
    "# or\n",
    "def check_primt(n):\n",
    "    i=2\n",
    "    while i*i <=n:\n",
    "        if n%i == 0:\n",
    "            return False\n",
    "        i+=1    \n",
    "    return True\n",
    "check_primt(9)"
   ]
  },
  {
   "cell_type": "code",
   "execution_count": 84,
   "id": "46a01888-6220-4df9-b012-d2faf78f737a",
   "metadata": {},
   "outputs": [
    {
     "name": "stdout",
     "output_type": "stream",
     "text": [
      "4\n"
     ]
    }
   ],
   "source": [
    "print(int(16**0.5))"
   ]
  },
  {
   "cell_type": "code",
   "execution_count": null,
   "id": "df9212cd-56c9-4e21-a984-832efe2bf36c",
   "metadata": {},
   "outputs": [],
   "source": [
    "''' You have been given an integer array/list(ARR) of size N. Where N is equal to [2M + 1].\n",
    "Now, in the given array/list, 'M' numbers are present twice and one number is present only once.\n",
    "You need to find and return that number which is unique in the array/list.\n",
    " Note: Unique element is always present in the array/list according to the given condition. '''"
   ]
  },
  {
   "cell_type": "code",
   "execution_count": 96,
   "id": "63ff1788-c3a4-4887-bc51-b70124fd3321",
   "metadata": {},
   "outputs": [
    {
     "data": {
      "text/plain": [
       "1"
      ]
     },
     "execution_count": 96,
     "metadata": {},
     "output_type": "execute_result"
    }
   ],
   "source": [
    "def findUnique(arr, n) :\n",
    "    ans=0\n",
    "    for i in arr:\n",
    "        ans = ans ^ i\n",
    "    return ans\n",
    "\n",
    "findUnique([2, 3, 1, 6, 3, 6, 2], 7)"
   ]
  },
  {
   "cell_type": "code",
   "execution_count": 108,
   "id": "a7e2eedb-3afb-45ff-ad6e-77de4aa5fa91",
   "metadata": {},
   "outputs": [
    {
     "data": {
      "text/plain": [
       "3"
      ]
     },
     "execution_count": 108,
     "metadata": {},
     "output_type": "execute_result"
    }
   ],
   "source": [
    "def findDuplicate(arr, n):\n",
    "    xor_all = 0\n",
    "    \n",
    "    # XOR all elements in the array\n",
    "    for num in arr:\n",
    "        xor_all ^= num\n",
    "   \n",
    "    \n",
    "    # XOR with numbers from 0 to (N-2)\n",
    "    for i in range(n - 1):  \n",
    "        xor_all ^= i\n",
    "\n",
    "    return xor_all\n",
    "\n",
    "findDuplicate([0, 3, 1, 5, 4, 3, 2], 7)"
   ]
  },
  {
   "cell_type": "code",
   "execution_count": 116,
   "id": "c655c183-00e5-429c-8ebd-c77d6d793375",
   "metadata": {},
   "outputs": [
    {
     "data": {
      "text/plain": [
       "7"
      ]
     },
     "execution_count": 116,
     "metadata": {},
     "output_type": "execute_result"
    }
   ],
   "source": [
    "def findDuplicate(arr, n):\n",
    "    dup={}\n",
    "    for i in arr:\n",
    "        if i in dup:\n",
    "            dup[i]+=1\n",
    "        else:\n",
    "            dup[i] =1\n",
    "    for j in dup:\n",
    "        if dup[j] >1:\n",
    "            return j\n",
    "       \n",
    "findDuplicate([0, 7, 2, 5, 4, 7, 1, 3, 6], 9)"
   ]
  },
  {
   "cell_type": "code",
   "execution_count": 208,
   "id": "cfec2987-4657-4957-bcd8-a64534a84081",
   "metadata": {},
   "outputs": [
    {
     "data": {
      "text/plain": [
       "5"
      ]
     },
     "execution_count": 208,
     "metadata": {},
     "output_type": "execute_result"
    }
   ],
   "source": [
    "def findMissingRepeatingNumbers(a: [int]):\n",
    "    arr = sorted(a)\n",
    "    miss=0\n",
    "    dup ={}\n",
    "    for i in range(1,len(a)+1):\n",
    "        if i not in a:\n",
    "            miss = i\n",
    "    for i in a:\n",
    "        if i in dup:\n",
    "            dup[i]+=1\n",
    "        else:\n",
    "            dup[i] =1\n",
    "            \n",
    "    for i in dup:\n",
    "        if dup[i]> 1:\n",
    "            return i, miss\n",
    "  \n",
    "     \n",
    "\n",
    "findMissingRepeatingNumbers([7, 7,1, 5, 4, 3, 6])\n",
    "        "
   ]
  },
  {
   "cell_type": "code",
   "execution_count": 230,
   "id": "21f0a12f-1f39-4670-92ea-f53ff77f4eac",
   "metadata": {},
   "outputs": [
    {
     "data": {
      "text/plain": [
       "5"
      ]
     },
     "execution_count": 230,
     "metadata": {},
     "output_type": "execute_result"
    }
   ],
   "source": [
    "def bestTimeToBuyAndSellStock(prices: [int]):\n",
    "    min_p=prices[0]\n",
    "    max_prf=0\n",
    "    for i in prices:\n",
    "        if i < min_p:\n",
    "            min_p=i\n",
    "        else:\n",
    "            max_prf= max(max_prf,i-min_p)\n",
    "    return max_prf        \n",
    "   \n",
    "bestTimeToBuyAndSellStock([2, 1, 5, 4, 3, 6])"
   ]
  },
  {
   "cell_type": "code",
   "execution_count": 232,
   "id": "6f5ea379-d61b-43f7-a9ee-3649ca1a8b3d",
   "metadata": {},
   "outputs": [
    {
     "name": "stdout",
     "output_type": "stream",
     "text": [
      "9\n"
     ]
    }
   ],
   "source": [
    "print(max(8,9))"
   ]
  },
  {
   "cell_type": "code",
   "execution_count": 250,
   "id": "8f1a7878-b8a9-4d47-804a-0026de1e6d18",
   "metadata": {},
   "outputs": [],
   "source": [
    "def search(nums: [int], target: int):\n",
    "    n=len(nums)\n",
    "    s=0\n",
    "    e=n-1\n",
    "    while s <= e:\n",
    "        m=(s+e)//2\n",
    "        if target == nums[m]:\n",
    "            return m\n",
    "        elif target < nums[m]:\n",
    "            e = m-1\n",
    "        else:\n",
    "            s=m+1\n",
    "    return None  \n",
    "        \n",
    "\n",
    "search([1, 3, 7, 9, 11, 12, 45], 29)"
   ]
  },
  {
   "cell_type": "code",
   "execution_count": null,
   "id": "cc326ca2-784f-4b59-be7d-d299c4e75f0e",
   "metadata": {},
   "outputs": [],
   "source": []
  }
 ],
 "metadata": {
  "kernelspec": {
   "display_name": "Python [conda env:base] *",
   "language": "python",
   "name": "conda-base-py"
  },
  "language_info": {
   "codemirror_mode": {
    "name": "ipython",
    "version": 3
   },
   "file_extension": ".py",
   "mimetype": "text/x-python",
   "name": "python",
   "nbconvert_exporter": "python",
   "pygments_lexer": "ipython3",
   "version": "3.12.7"
  }
 },
 "nbformat": 4,
 "nbformat_minor": 5
}
