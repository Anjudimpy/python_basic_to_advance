{
 "cells": [
  {
   "cell_type": "code",
   "execution_count": 25,
   "id": "ed0826a5-d817-4950-8b3d-31b32aad842b",
   "metadata": {},
   "outputs": [
    {
     "data": {
      "text/plain": [
       "[1, 2, 3, 4, 6, 13]"
      ]
     },
     "execution_count": 25,
     "metadata": {},
     "output_type": "execute_result"
    }
   ],
   "source": [
    "from typing import List\n",
    "def selectionSort(arr: List[int]):\n",
    "      return sorted(arr)\n",
    "\n",
    "selectionSort([2, 13, 4, 1, 3, 6 ])"
   ]
  },
  {
   "cell_type": "code",
   "execution_count": 96,
   "id": "56e89112-de82-4da5-a6c6-b0f1ec9fbaf5",
   "metadata": {},
   "outputs": [
    {
     "data": {
      "text/plain": [
       "[1, 2, 3, 4, 6, 13]"
      ]
     },
     "execution_count": 96,
     "metadata": {},
     "output_type": "execute_result"
    }
   ],
   "source": [
    "from typing import List\n",
    "def find_min_idx(arr,min_idx):\n",
    "    for i in range(min_idx,len(arr)):\n",
    "        if arr[min_idx] > arr[i]:\n",
    "            min_idx=i\n",
    "    return min_idx   \n",
    "\n",
    "def selectionSort(arr: List[int]):\n",
    "    for j in range(len(arr)):\n",
    "        min_idx = find_min_idx(arr,j)\n",
    "        arr[j],arr[min_idx] = arr[min_idx],arr[j]\n",
    "    return arr    \n",
    "\n",
    "selectionSort([2, 13, 4, 1, 3, 6 ])    "
   ]
  },
  {
   "cell_type": "code",
   "execution_count": 3,
   "id": "ff6da930-f09a-4287-82fb-16652c4c9151",
   "metadata": {},
   "outputs": [
    {
     "data": {
      "text/plain": [
       "[1, 2, 3, 4, 6, 13, 28]"
      ]
     },
     "execution_count": 3,
     "metadata": {},
     "output_type": "execute_result"
    }
   ],
   "source": [
    "from typing import List\n",
    "def bubbleSort(arr: List[int], n: int):\n",
    "    for i in range(n):\n",
    "        for  j in range(n-i-1):\n",
    "            if arr[j] > arr[j+1]:\n",
    "                arr[j],arr[j+1] = arr[j+1],arr[j]\n",
    "\n",
    "    return arr\n",
    "\n",
    "bubbleSort([2, 13, 4, 1, 3, 6, 28],7)"
   ]
  },
  {
   "cell_type": "code",
   "execution_count": 17,
   "id": "85934150-ee4c-4522-9e02-9d6c9d2e47d8",
   "metadata": {},
   "outputs": [
    {
     "data": {
      "text/plain": [
       "[1, 2, 3, 28]"
      ]
     },
     "execution_count": 17,
     "metadata": {},
     "output_type": "execute_result"
    }
   ],
   "source": [
    "def bubbleSort(arr):   \n",
    "    # run loops two times: one for walking through the array \n",
    "    # and the other for comparison\n",
    "    for i in range(len(arr)):\n",
    "        is_swap=False\n",
    "        for j in range(0, len(arr) - i - 1):\n",
    "            # To sort in descending order, change > to < in this line.\n",
    "            if arr[j] > arr[j + 1]:\n",
    "                # swap if greater is at the rear position\n",
    "                (arr[j], arr[j + 1]) = (arr[j + 1], arr[j])\n",
    "                is_swap=True\n",
    "                \n",
    "        if is_swap == False:\n",
    "            break\n",
    "                \n",
    "    return arr\n",
    "\n",
    "bubbleSort([2, 1,3,28])"
   ]
  },
  {
   "cell_type": "code",
   "execution_count": 138,
   "id": "798cd772-2afa-4240-aa0d-9997bf69e87d",
   "metadata": {},
   "outputs": [
    {
     "name": "stdout",
     "output_type": "stream",
     "text": [
      "up  [4, 3, 2, 1]\n",
      "up  [3, 4, 2, 1]\n",
      "up  [2, 3, 4, 1]\n"
     ]
    },
    {
     "data": {
      "text/plain": [
       "[1, 2, 3, 4]"
      ]
     },
     "execution_count": 138,
     "metadata": {},
     "output_type": "execute_result"
    }
   ],
   "source": [
    "def insertionSort(arr):\n",
    "\n",
    "    for step in range(1, len(arr)):\n",
    "        key = arr[step]\n",
    "        j = step - 1\n",
    "        print(\"up \", arr)\n",
    "        while j >= 0 and key < arr[j]:\n",
    "            arr[j + 1] = arr[j]\n",
    "            j = j - 1\n",
    "        arr[j + 1] = key\n",
    "    return arr    \n",
    "        \n",
    "li=[4,3,2,1]\n",
    "insertionSort(li)\n",
    "\n"
   ]
  },
  {
   "cell_type": "code",
   "execution_count": 128,
   "id": "fb165a5b-5e3f-41ac-89ef-c87e58cf9be8",
   "metadata": {},
   "outputs": [
    {
     "name": "stdout",
     "output_type": "stream",
     "text": [
      "[1, 13, 4, 2, 3, 6, 28]\n",
      "[1, 3, 4, 2, 13, 6, 28]\n"
     ]
    },
    {
     "data": {
      "text/plain": [
       "[1, 3, 4, 2, 13, 6, 28]"
      ]
     },
     "execution_count": 128,
     "metadata": {},
     "output_type": "execute_result"
    }
   ],
   "source": [
    "def insertionSort(arr):\n",
    "    i=0\n",
    "    for k in range(len(arr)):\n",
    "        i=0\n",
    "        for j in range (1,len(arr)):\n",
    "            if arr[i]>arr[j]:\n",
    "                arr[i],arr[j]= arr[j],arr[i]\n",
    "                print(arr)\n",
    "                i+=1\n",
    "        i=0  \n",
    "    return arr \n",
    "\n",
    "li=[2, 13, 4, 1, 3, 6, 28]\n",
    "insertionSort(li)\n",
    "       "
   ]
  },
  {
   "cell_type": "code",
   "execution_count": 40,
   "id": "8eb3cc8b-bcc7-4ddd-8b9a-40db00d39a74",
   "metadata": {},
   "outputs": [
    {
     "data": {
      "text/plain": [
       "[1, 2, 3, 3, 4, 5]"
      ]
     },
     "execution_count": 40,
     "metadata": {},
     "output_type": "execute_result"
    }
   ],
   "source": [
    "def merge(arr1, n, arr2, m) : \n",
    "    l3=[]\n",
    "    i=0\n",
    "    j=0\n",
    "  \n",
    "    while i<n and j < m:\n",
    "        if arr1[i]<arr2[j]:\n",
    "            l3.append(arr1[i])\n",
    "            i+=1\n",
    "        else:\n",
    "            l3.append(arr2[j])\n",
    "            j+=1\n",
    "    while i<n:\n",
    "        l3.append(arr1[i])\n",
    "        i+=1\n",
    "    while j<m:\n",
    "        l3.append(arr2[j])\n",
    "        j+=1\n",
    "    return l3        \n",
    "            \n",
    "merge([1,3,4], 3, [2,3,5], 3)            \n",
    "    "
   ]
  },
  {
   "cell_type": "code",
   "execution_count": 48,
   "id": "8e59c029-6acc-4a01-ba0c-633060222f43",
   "metadata": {},
   "outputs": [
    {
     "data": {
      "text/plain": [
       "2"
      ]
     },
     "execution_count": 48,
     "metadata": {},
     "output_type": "execute_result"
    }
   ],
   "source": [
    "def kth_smallest(arr, n, k):\n",
    "    for i in range(n):\n",
    "        for j in range(n-i-1):\n",
    "            if arr[j+1]<arr[j]:\n",
    "                arr[j],arr[j+1]=arr[j+1],arr[j]\n",
    "                \n",
    "                \n",
    "    return arr[k-1]\n",
    "    \n",
    "kth_smallest([3, 2, 11, 5, 1], 4, 2)    "
   ]
  },
  {
   "cell_type": "code",
   "execution_count": 138,
   "id": "2d6a4bf5-49a3-4a1c-ad15-a15d5140a258",
   "metadata": {},
   "outputs": [
    {
     "name": "stdout",
     "output_type": "stream",
     "text": [
      "1\n",
      "1\n",
      "1\n",
      "1\n",
      "1\n"
     ]
    },
    {
     "data": {
      "text/plain": [
       "0"
      ]
     },
     "execution_count": 138,
     "metadata": {},
     "output_type": "execute_result"
    }
   ],
   "source": [
    "def get_inversions(arr, n):\n",
    "    count =0\n",
    "    k=0\n",
    "    for i in range(k,n):\n",
    "        x=min(arr)\n",
    "        \n",
    "        print(x)\n",
    "      \n",
    "            \n",
    "            \n",
    "            \n",
    "   \n",
    "    return count\n",
    "get_inversions([3,2,11,5,1],5)"
   ]
  },
  {
   "cell_type": "code",
   "execution_count": 9,
   "id": "e170ae10-4d16-443b-b005-bbbd9752f12d",
   "metadata": {},
   "outputs": [
    {
     "data": {
      "text/plain": [
       "6"
      ]
     },
     "execution_count": 9,
     "metadata": {},
     "output_type": "execute_result"
    }
   ],
   "source": [
    "def find_min_idx(arr,min_idx):\n",
    "    for i in range(min_idx,len(arr)):\n",
    "        if arr[min_idx] > arr[i]:\n",
    "            min_idx=i\n",
    "    return min_idx   \n",
    "\n",
    "def get_inversions(arr, n):\n",
    "    c=0\n",
    "    for j in range(len(arr)):\n",
    "        min_idx = find_min_idx(arr,j)\n",
    "        if min_idx !=j:\n",
    "            c += min_idx-j\n",
    "            arr[j],arr[min_idx] = arr[min_idx],arr[j]\n",
    "        \n",
    "    return c  \n",
    "get_inversions([3,2,11,5,1],5)"
   ]
  },
  {
   "cell_type": "code",
   "execution_count": null,
   "id": "d57be173-5a0b-4793-b4db-434b3545a502",
   "metadata": {},
   "outputs": [],
   "source": [
    "'''You have been given a random integer array/list(ARR) of size N. You are required to find and return the second-largest element present in the \n",
    "array/list.\n",
    "Note: All elements present in the array are unique.'''"
   ]
  },
  {
   "cell_type": "code",
   "execution_count": 108,
   "id": "06f90acd-8453-4980-8be7-13bb2aa6e9c1",
   "metadata": {},
   "outputs": [
    {
     "data": {
      "text/plain": [
       "5"
      ]
     },
     "execution_count": 108,
     "metadata": {},
     "output_type": "execute_result"
    }
   ],
   "source": [
    "def second_largest(arr, n):\n",
    "    for i in range(1,n):\n",
    "        for j in range(i):\n",
    "            if arr[i] <arr[j]:\n",
    "                arr[i],arr[j] = arr[j],arr[i]\n",
    "                   \n",
    "    return arr[n-2]        \n",
    "\n",
    "second_largest([3,2,11,5,1],5)\n",
    "        "
   ]
  },
  {
   "cell_type": "code",
   "execution_count": 116,
   "id": "9dfcbcba-cf8c-440d-9363-a5f272174d76",
   "metadata": {},
   "outputs": [
    {
     "data": {
      "text/plain": [
       "([11, 5, 2, 3, 1], 5)"
      ]
     },
     "execution_count": 116,
     "metadata": {},
     "output_type": "execute_result"
    }
   ],
   "source": [
    "def second_largest(arr, n):\n",
    "    for i in range(1,n):\n",
    "        for j in range(2):\n",
    "            if arr[i] > arr[j]:\n",
    "                arr[i],arr[j] = arr[j],arr[i]\n",
    "                   \n",
    "    return arr, arr[1]        \n",
    "\n",
    "second_largest([3,2,11,5,1],5) "
   ]
  },
  {
   "cell_type": "code",
   "execution_count": null,
   "id": "0e83ed79-a6bf-41d1-a782-fd051c49ac55",
   "metadata": {},
   "outputs": [],
   "source": [
    "'''You have been given a sorted integer array/list(ARR) and a number 'num'. Find and return the total number of pairs in the array/list which sum to\n",
    "'num'.\n",
    "'''"
   ]
  },
  {
   "cell_type": "code",
   "execution_count": 126,
   "id": "555851b2-8f43-413d-a0ca-896761f0c1ed",
   "metadata": {},
   "outputs": [
    {
     "data": {
      "text/plain": [
       "2"
      ]
     },
     "execution_count": 126,
     "metadata": {},
     "output_type": "execute_result"
    }
   ],
   "source": [
    "def pair_sum(arr, n, K):\n",
    "    c=0\n",
    "    for i in range(n):\n",
    "        for j in range(i):\n",
    "            if arr[i]+arr[j] == K:\n",
    "                c+=1\n",
    "    return c  \n",
    "pair_sum([1, 2, 3, 4, 5], 5,7)"
   ]
  },
  {
   "cell_type": "code",
   "execution_count": null,
   "id": "4b1ea179-8f46-4a6e-a604-d23ade091612",
   "metadata": {},
   "outputs": [],
   "source": []
  }
 ],
 "metadata": {
  "kernelspec": {
   "display_name": "Python [conda env:base] *",
   "language": "python",
   "name": "conda-base-py"
  },
  "language_info": {
   "codemirror_mode": {
    "name": "ipython",
    "version": 3
   },
   "file_extension": ".py",
   "mimetype": "text/x-python",
   "name": "python",
   "nbconvert_exporter": "python",
   "pygments_lexer": "ipython3",
   "version": "3.12.7"
  }
 },
 "nbformat": 4,
 "nbformat_minor": 5
}
