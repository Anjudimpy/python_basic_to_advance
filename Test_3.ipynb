{
 "cells": [
  {
   "cell_type": "code",
   "execution_count": null,
   "id": "24e9eacb-33bb-41f6-a7d8-d889c9f80553",
   "metadata": {},
   "outputs": [],
   "source": [
    "'''\n",
    "Given two string s and t, write a function to check if s contains all characters of t (in the same order as they are in string t).\n",
    "Return true or false.\n",
    "Do it recursively.\n",
    "E.g. : s = “abchjsgsuohhdhyrikkknddg” contains all characters of t=”coding” in the same order. So function will return true.\n",
    "'''"
   ]
  },
  {
   "cell_type": "code",
   "execution_count": null,
   "id": "174f4f9c-4a1b-4c12-a283-b9ad8da1fad5",
   "metadata": {},
   "outputs": [],
   "source": [
    "def contains(s,t):\n",
    "    if len(t) == 0:\n",
    "        return True\n",
    "    if len(s) == 0:\n",
    "        return False\n",
    "    if s[0]==t[0]:\n",
    "        contains(s[1:],t[1:])\n",
    "    else:\n",
    "        contains(s[1:],t)\n",
    "\n",
    "s=input()\n",
    "t=input()\n",
    "contains(s,t)"
   ]
  },
  {
   "cell_type": "code",
   "execution_count": 1,
   "id": "1f5e8565-5d6d-40cd-af0b-717e5fb2d464",
   "metadata": {},
   "outputs": [
    {
     "data": {
      "text/plain": [
       "5"
      ]
     },
     "execution_count": 1,
     "metadata": {},
     "output_type": "execute_result"
    }
   ],
   "source": [
    "def tripletSum(arr, n, num):\n",
    "    arr.sort()\n",
    "    count = 0\n",
    "    for i in range(n):\n",
    "        j=i+1\n",
    "        k=n-1\n",
    "        while j < k:\n",
    "            if arr[i]+arr[j]+arr[k] == num:\n",
    "                count+=1\n",
    "                k-=1\n",
    "            elif arr[i]+arr[j]+arr[k]<num:\n",
    "                j+=1\n",
    "            else:\n",
    "                k-=1\n",
    "\n",
    "    return count\n",
    "   \n",
    "\n",
    "\n",
    "tripletSum([6, 1, 6, 5, 3, 2, 5, 0, 5, 6, 0 ], 11, 5)"
   ]
  },
  {
   "cell_type": "code",
   "execution_count": null,
   "id": "5ab8e698",
   "metadata": {},
   "outputs": [],
   "source": [
    "'''You have made a smartphone app and want to set its subscription price such that the profit earned is maximised. There are certain users who will \n",
    "subscribe to your app only if their budget is greater than or equal to your price.\n",
    "You will be provided with a list of size N having budgets of subscribers and you need to return the maximum profit that you can earn.\n",
    "Lets say you decide that price of your app is Rs. x and there are N number of subscribers. So maximum profit you can earn is :\n",
    " m * x\n",
    "where m is total number of subscribers whose budget is greater than or equal to x.'''"
   ]
  },
  {
   "cell_type": "code",
   "execution_count": 2,
   "id": "54500db0",
   "metadata": {},
   "outputs": [
    {
     "name": "stdout",
     "output_type": "stream",
     "text": [
      "60\n"
     ]
    }
   ],
   "source": [
    "def maximumProfit(arr):\n",
    "    maxs=[]\n",
    "    for i in range(len(arr)):\n",
    "        c=0\n",
    "        for j in range(len(arr)):\n",
    "            if arr[j]>=arr[i]:\n",
    "                 c+=1\n",
    "        maxs.append(c*arr[i])        \n",
    "    return max(maxs) \n",
    "\n",
    "# n = int(input())\n",
    "# arr = [int(ele) for ele in input().split()]\n",
    "ans = maximumProfit([30,20,54,14])\n",
    "print(ans)"
   ]
  },
  {
   "cell_type": "code",
   "execution_count": null,
   "id": "5e7f000d",
   "metadata": {},
   "outputs": [],
   "source": [
    "'''With O(n)'''\n",
    "def maximumProfit(arr):\n",
    "    maxs=0\n",
    "    n=len(arr)\n",
    "    arr.sort()\n",
    "    for i in range(n):\n",
    "        p=arr[i]*(n-i)\n",
    "        maxs = max(maxs,p)\n",
    "    return maxs  \n",
    "    \n",
    "\n",
    "ans = maximumProfit([30,20,54,14])\n",
    "print(ans)"
   ]
  }
 ],
 "metadata": {
  "kernelspec": {
   "display_name": "base",
   "language": "python",
   "name": "python3"
  },
  "language_info": {
   "codemirror_mode": {
    "name": "ipython",
    "version": 3
   },
   "file_extension": ".py",
   "mimetype": "text/x-python",
   "name": "python",
   "nbconvert_exporter": "python",
   "pygments_lexer": "ipython3",
   "version": "3.12.7"
  }
 },
 "nbformat": 4,
 "nbformat_minor": 5
}
