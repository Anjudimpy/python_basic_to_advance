{
 "cells": [
  {
   "cell_type": "code",
   "execution_count": null,
   "id": "24e9eacb-33bb-41f6-a7d8-d889c9f80553",
   "metadata": {},
   "outputs": [],
   "source": [
    "'''\n",
    "Given two string s and t, write a function to check if s contains all characters of t (in the same order as they are in string t).\n",
    "Return true or false.\n",
    "Do it recursively.\n",
    "E.g. : s = “abchjsgsuohhdhyrikkknddg” contains all characters of t=”coding” in the same order. So function will return true.\n",
    "'''"
   ]
  },
  {
   "cell_type": "code",
   "execution_count": null,
   "id": "174f4f9c-4a1b-4c12-a283-b9ad8da1fad5",
   "metadata": {},
   "outputs": [],
   "source": [
    "def contains(s,t):\n",
    "    if len(t) == 0:\n",
    "        return True\n",
    "    if len(s) == 0:\n",
    "        return False\n",
    "    if s[0]==t[0]:\n",
    "        contains(s[1:],t[1:])\n",
    "    else:\n",
    "        contains(s[1:],t)\n",
    "\n",
    "s=input()\n",
    "t=input()\n",
    "contains(s,t)"
   ]
  },
  {
   "cell_type": "code",
   "execution_count": null,
   "id": "1f5e8565-5d6d-40cd-af0b-717e5fb2d464",
   "metadata": {},
   "outputs": [],
   "source": [
    "def tripletSum(arr, n, num):\n",
    "    arr.sort()\n",
    "    count = 0\n",
    "    for i in range(n):\n",
    "        j=i+1\n",
    "        k=n-1\n",
    "        while j < k:\n",
    "            if arr[i]+arr[j]+arr[k] == num:\n",
    "                count+=1\n",
    "                k-=1\n",
    "            elif arr[i]+arr[j]+arr[k]<num:\n",
    "                j+=1\n",
    "            else:\n",
    "                k-=1\n",
    "\n",
    "    return count\n",
    "   \n",
    "\n",
    "\n",
    "tripletSum([6, 1, 6, 5, 3, 2, 5, 0, 5, 6, 0 ], 11, 5)"
   ]
  }
 ],
 "metadata": {
  "kernelspec": {
   "display_name": "Python [conda env:base] *",
   "language": "python",
   "name": "conda-base-py"
  },
  "language_info": {
   "codemirror_mode": {
    "name": "ipython",
    "version": 3
   },
   "file_extension": ".py",
   "mimetype": "text/x-python",
   "name": "python",
   "nbconvert_exporter": "python",
   "pygments_lexer": "ipython3",
   "version": "3.12.7"
  }
 },
 "nbformat": 4,
 "nbformat_minor": 5
}
