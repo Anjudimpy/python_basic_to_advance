{
 "cells": [
  {
   "cell_type": "code",
   "execution_count": null,
   "id": "15f366c2-bd9c-459d-8d2f-ed6bd4b7c44a",
   "metadata": {},
   "outputs": [],
   "source": [
    "'''\n",
    "2D-list:- list of list\n",
    "          lists are muttable\n",
    "'''\n",
    "1 2 3 4 5 \n",
    "6 7 8 9 10\n",
    "11 12 13 14 15\n",
    "16 17 18 19 20\n",
    "21 22 23 24 25\n",
    "'''\n",
    "Formuls:- n*i + j\n",
    "n=number of matrix row and column\n",
    "i=position of row\n",
    "j= position of column\n",
    "\n",
    "'''"
   ]
  },
  {
   "cell_type": "code",
   "execution_count": 1,
   "id": "7808a19c-54ce-4ee5-9d11-c8743ade762e",
   "metadata": {},
   "outputs": [
    {
     "name": "stdout",
     "output_type": "stream",
     "text": [
      "[[1, 2, 3, 4], [5, 6, 7, 8], [9, 10, 11, 12], [13, 14, 15, 16, 17]]\n"
     ]
    }
   ],
   "source": [
    "li=[[1,2,3,4],[5,6,7,8],[9,10,11,12],[13,14,15,16,17]]\n",
    "print(li)\n"
   ]
  },
  {
   "cell_type": "code",
   "execution_count": 13,
   "id": "81c6b470-6977-4408-adb1-47225094a769",
   "metadata": {},
   "outputs": [
    {
     "data": {
      "text/plain": [
       "16"
      ]
     },
     "execution_count": 13,
     "metadata": {},
     "output_type": "execute_result"
    }
   ],
   "source": [
    "li[0]\n",
    "li[3][3]"
   ]
  },
  {
   "cell_type": "code",
   "execution_count": 17,
   "id": "853b5f9b-063a-421c-b292-d73559cca519",
   "metadata": {},
   "outputs": [
    {
     "data": {
      "text/plain": [
       "3"
      ]
     },
     "execution_count": 17,
     "metadata": {},
     "output_type": "execute_result"
    }
   ],
   "source": [
    "li[0][2]"
   ]
  },
  {
   "cell_type": "code",
   "execution_count": 19,
   "id": "717c635a-6c45-45e9-a4c8-91a5738c011a",
   "metadata": {},
   "outputs": [],
   "source": [
    "li[0][0]=5"
   ]
  },
  {
   "cell_type": "code",
   "execution_count": 29,
   "id": "58d24486-3ddb-4a3d-b65e-b7384d17b849",
   "metadata": {},
   "outputs": [
    {
     "data": {
      "text/plain": [
       "140724325329368"
      ]
     },
     "execution_count": 29,
     "metadata": {},
     "output_type": "execute_result"
    }
   ],
   "source": [
    "\n",
    "id(li[0][1])"
   ]
  },
  {
   "cell_type": "code",
   "execution_count": 31,
   "id": "09c9872a-9291-419c-b6e2-63e6de98e4ee",
   "metadata": {},
   "outputs": [],
   "source": [
    "li[0][1]=22"
   ]
  },
  {
   "cell_type": "code",
   "execution_count": 33,
   "id": "1e01fd31-5431-4655-8b82-d1c1c7fe842f",
   "metadata": {},
   "outputs": [
    {
     "data": {
      "text/plain": [
       "[[5, 22, 3, 4], [5, 6, 7, 8], [9, 10, 11, 12], [13, 14, 15, 16, 17]]"
      ]
     },
     "execution_count": 33,
     "metadata": {},
     "output_type": "execute_result"
    }
   ],
   "source": [
    "li"
   ]
  },
  {
   "cell_type": "code",
   "execution_count": 35,
   "id": "afc01406-7d1e-48a1-b8f4-4df3c9406be8",
   "metadata": {},
   "outputs": [
    {
     "data": {
      "text/plain": [
       "140724325330008"
      ]
     },
     "execution_count": 35,
     "metadata": {},
     "output_type": "execute_result"
    }
   ],
   "source": [
    "id(li[0][1])"
   ]
  },
  {
   "cell_type": "code",
   "execution_count": 37,
   "id": "bb42b35e-1a86-44f5-9931-84b53d8c01b4",
   "metadata": {},
   "outputs": [
    {
     "data": {
      "text/plain": [
       "[[5, 21, 3, 4], [5, 6, 7, 8], [9, 10, 11, 12], [13, 14, 15, 16, 17]]"
      ]
     },
     "execution_count": 37,
     "metadata": {},
     "output_type": "execute_result"
    }
   ],
   "source": [
    "li[0][1]=21\n",
    "li"
   ]
  },
  {
   "cell_type": "code",
   "execution_count": 39,
   "id": "9df19d7b-1c70-43c3-9f16-f71fe96e900b",
   "metadata": {},
   "outputs": [
    {
     "data": {
      "text/plain": [
       "140724325329976"
      ]
     },
     "execution_count": 39,
     "metadata": {},
     "output_type": "execute_result"
    }
   ],
   "source": [
    "id(li[0][1])"
   ]
  },
  {
   "cell_type": "code",
   "execution_count": 41,
   "id": "0b47bcae-b787-464d-b2d0-a028c2402564",
   "metadata": {},
   "outputs": [
    {
     "data": {
      "text/plain": [
       "140724325329976"
      ]
     },
     "execution_count": 41,
     "metadata": {},
     "output_type": "execute_result"
    }
   ],
   "source": [
    "id(li[0][1])"
   ]
  },
  {
   "cell_type": "code",
   "execution_count": 51,
   "id": "cb194883-2d2b-4526-918d-aeab5a73415f",
   "metadata": {},
   "outputs": [
    {
     "data": {
      "text/plain": [
       "[[5, 20, 3, 4], [5, 6, 7, 8], [9, 10, 11, 12], [13, 14, 15, 16, 17]]"
      ]
     },
     "execution_count": 51,
     "metadata": {},
     "output_type": "execute_result"
    }
   ],
   "source": [
    "li[0][1]=20\n",
    "li"
   ]
  },
  {
   "cell_type": "code",
   "execution_count": 53,
   "id": "5be1226d-2204-4859-ab15-6acc2aea6b27",
   "metadata": {},
   "outputs": [
    {
     "data": {
      "text/plain": [
       "140724325329944"
      ]
     },
     "execution_count": 53,
     "metadata": {},
     "output_type": "execute_result"
    }
   ],
   "source": [
    "id(li[0][1])"
   ]
  },
  {
   "cell_type": "code",
   "execution_count": null,
   "id": "fc7201e2-eed9-4016-991b-51e4b34439dd",
   "metadata": {},
   "outputs": [],
   "source": [
    "'''\n",
    "jagged list:-jagged list is a list but cloumn size not to be same\n",
    "eg-\n",
    "1 2 3 4\n",
    "2 3 5\n",
    "2 3 6\n",
    "7 8\n",
    "\n",
    "like this\n",
    "\n",
    "'''"
   ]
  },
  {
   "cell_type": "code",
   "execution_count": 55,
   "id": "5e3d00d7-d734-4212-8e8c-f6b51802fdce",
   "metadata": {},
   "outputs": [
    {
     "data": {
      "text/plain": [
       "[[1, 2, 3, 4], [5, 6], [7, 8, 9]]"
      ]
     },
     "execution_count": 55,
     "metadata": {},
     "output_type": "execute_result"
    }
   ],
   "source": [
    "jagged_list=[[1,2,3,4],[5,6],[7,8,9]]\n",
    "jagged_list"
   ]
  },
  {
   "cell_type": "code",
   "execution_count": 57,
   "id": "a0324430-29f3-45ce-b1b2-04569d51787a",
   "metadata": {},
   "outputs": [
    {
     "data": {
      "text/plain": [
       "5"
      ]
     },
     "execution_count": 57,
     "metadata": {},
     "output_type": "execute_result"
    }
   ],
   "source": [
    " jagged_list[1][0]"
   ]
  },
  {
   "cell_type": "code",
   "execution_count": 59,
   "id": "d93f129d-7e62-4ccf-a013-325cd2638e3d",
   "metadata": {},
   "outputs": [
    {
     "data": {
      "text/plain": [
       "6"
      ]
     },
     "execution_count": 59,
     "metadata": {},
     "output_type": "execute_result"
    }
   ],
   "source": [
    " jagged_list[1][1]"
   ]
  },
  {
   "cell_type": "code",
   "execution_count": 63,
   "id": "3d97cca0-2331-4a4a-aa0a-237ed96f9b76",
   "metadata": {},
   "outputs": [
    {
     "data": {
      "text/plain": [
       "[4, 8, 12]"
      ]
     },
     "execution_count": 63,
     "metadata": {},
     "output_type": "execute_result"
    }
   ],
   "source": [
    "''' Find squre element only for even element '''\n",
    "li=[1,2,3,4,5,6]\n",
    "squre_li =[ele*2 for ele in li if ele%2==0]\n",
    "squre_li"
   ]
  },
  {
   "cell_type": "code",
   "execution_count": null,
   "id": "4525983d-cc20-4df0-b7e7-4529dd02ec27",
   "metadata": {},
   "outputs": [],
   "source": []
  }
 ],
 "metadata": {
  "kernelspec": {
   "display_name": "Python [conda env:base] *",
   "language": "python",
   "name": "conda-base-py"
  },
  "language_info": {
   "codemirror_mode": {
    "name": "ipython",
    "version": 3
   },
   "file_extension": ".py",
   "mimetype": "text/x-python",
   "name": "python",
   "nbconvert_exporter": "python",
   "pygments_lexer": "ipython3",
   "version": "3.12.7"
  }
 },
 "nbformat": 4,
 "nbformat_minor": 5
}
