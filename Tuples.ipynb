{
 "cells": [
  {
   "cell_type": "code",
   "execution_count": 31,
   "id": "b53f4bad-f099-47bd-a030-7a8ec8343b6a",
   "metadata": {},
   "outputs": [
    {
     "name": "stdout",
     "output_type": "stream",
     "text": [
      "click button 1\n"
     ]
    }
   ],
   "source": [
    "tuples=('click button 1','click button 2','click button 3')\n",
    "print(tuples[0])"
   ]
  },
  {
   "cell_type": "code",
   "execution_count": 35,
   "id": "658fd1dc-e9de-4377-8043-6c7e87ed3e79",
   "metadata": {},
   "outputs": [
    {
     "name": "stdout",
     "output_type": "stream",
     "text": [
      "click button 2\n"
     ]
    }
   ],
   "source": [
    "print(tuples[1])"
   ]
  },
  {
   "cell_type": "code",
   "execution_count": 39,
   "id": "f0b3f1b5-eb50-4465-a852-aad2f362cfc2",
   "metadata": {},
   "outputs": [
    {
     "name": "stdout",
     "output_type": "stream",
     "text": [
      "click button 3\n"
     ]
    }
   ],
   "source": [
    "print(tuples[2])"
   ]
  },
  {
   "cell_type": "code",
   "execution_count": 41,
   "id": "bb7ed749-dfdc-4be6-a270-743f3926a401",
   "metadata": {},
   "outputs": [
    {
     "name": "stdout",
     "output_type": "stream",
     "text": [
      "click button 3\n"
     ]
    }
   ],
   "source": [
    "print(tuples[-1])"
   ]
  },
  {
   "cell_type": "code",
   "execution_count": null,
   "id": "4fdcb280-38a8-44f9-9a97-4c524960244f",
   "metadata": {},
   "outputs": [],
   "source": [
    "                                                          '''Reverse order '''"
   ]
  },
  {
   "cell_type": "code",
   "execution_count": 103,
   "id": "356a21b3-36b2-4515-b16d-4bcf6d50036d",
   "metadata": {},
   "outputs": [
    {
     "name": "stdout",
     "output_type": "stream",
     "text": [
      "('click button 3', 'click button 2', 'click button 1')\n"
     ]
    }
   ],
   "source": [
    "print(tuples[::-1])"
   ]
  },
  {
   "cell_type": "code",
   "execution_count": 47,
   "id": "ba914882-d07c-48df-b704-2f0963a8b7bc",
   "metadata": {},
   "outputs": [
    {
     "name": "stdout",
     "output_type": "stream",
     "text": [
      "('click button 1', 'click button 2')\n",
      "('click button 1', 'click button 3')\n",
      "None\n"
     ]
    }
   ],
   "source": [
    "'''Slice '''\n",
    "print(tuples[0:2])\n",
    "print(print(tuples[0:3:2]))  #alternet element"
   ]
  },
  {
   "cell_type": "code",
   "execution_count": 49,
   "id": "aea2f853-0d52-4d7a-bd83-72f21d99a0a6",
   "metadata": {},
   "outputs": [
    {
     "name": "stdout",
     "output_type": "stream",
     "text": [
      "click button 1\n",
      "click button 2\n",
      "click button 3\n"
     ]
    }
   ],
   "source": [
    "for i in tuples:\n",
    "    print(i)"
   ]
  },
  {
   "cell_type": "code",
   "execution_count": 51,
   "id": "e844511c-6fb8-4ae8-b387-ecc9ac5b8a8a",
   "metadata": {},
   "outputs": [
    {
     "name": "stdout",
     "output_type": "stream",
     "text": [
      "click button 1\n",
      "click button 2\n",
      "click button 3\n"
     ]
    }
   ],
   "source": [
    "for i in range(len(tuples)):\n",
    "    print(tuples[i])"
   ]
  },
  {
   "cell_type": "code",
   "execution_count": 55,
   "id": "4bc2e94c-f941-4893-9d27-5f4d9477f4e2",
   "metadata": {},
   "outputs": [
    {
     "name": "stdout",
     "output_type": "stream",
     "text": [
      "click button 1\n",
      "click button 2\n",
      "click button 3\n"
     ]
    }
   ],
   "source": [
    "i=0\n",
    "while i<len(tuples):\n",
    "    print(tuples[i])\n",
    "    i+=1"
   ]
  },
  {
   "cell_type": "code",
   "execution_count": null,
   "id": "0506a6f2-bb37-49ac-9225-8589ad773098",
   "metadata": {},
   "outputs": [],
   "source": [
    "                                                             '''Operation on Tuple '''"
   ]
  },
  {
   "cell_type": "code",
   "execution_count": 101,
   "id": "6d721699-cc2d-4373-8202-233c8827beb3",
   "metadata": {},
   "outputs": [
    {
     "name": "stdout",
     "output_type": "stream",
     "text": [
      "('click button1', 'click button1')\n"
     ]
    }
   ],
   "source": [
    "userActivity=(\"click button1\",\"click button1\")\n",
    "print(userActivity)"
   ]
  },
  {
   "cell_type": "code",
   "execution_count": 69,
   "id": "a43a0a94-5402-423d-8816-417906ad283e",
   "metadata": {},
   "outputs": [
    {
     "name": "stdout",
     "output_type": "stream",
     "text": [
      "['click button1', 'click button1']\n"
     ]
    }
   ],
   "source": [
    "mutable_userActivity=list(userActivity)\n",
    "print(mutable_userActivity)"
   ]
  },
  {
   "cell_type": "code",
   "execution_count": 71,
   "id": "9c50c055-4f1d-40c5-a0c7-01d2b7b83428",
   "metadata": {},
   "outputs": [
    {
     "name": "stdout",
     "output_type": "stream",
     "text": [
      "['click button1', 'Scrollable button']\n"
     ]
    }
   ],
   "source": [
    "mutable_userActivity[1]=\"Scrollable button\"\n",
    "print(mutable_userActivity)"
   ]
  },
  {
   "cell_type": "code",
   "execution_count": 89,
   "id": "c1b3790d-7ff5-4a06-97de-d577f7072f0a",
   "metadata": {},
   "outputs": [
    {
     "name": "stdout",
     "output_type": "stream",
     "text": [
      "('click button1', 'Scrollable button')\n"
     ]
    }
   ],
   "source": [
    "userActivity=tuple(mutable_userActivity)\n",
    "print(userActivity)"
   ]
  },
  {
   "cell_type": "code",
   "execution_count": 91,
   "id": "57c2ae97-f4c0-43d0-92fd-a115ebb9197b",
   "metadata": {},
   "outputs": [
    {
     "name": "stdout",
     "output_type": "stream",
     "text": [
      "('click button1', 'Scrollable button', 'click button 2')\n"
     ]
    }
   ],
   "source": [
    "new_activity=(\"click button 2\",)\n",
    "userActivity+=new_activity\n",
    "print(userActivity)"
   ]
  },
  {
   "cell_type": "code",
   "execution_count": 93,
   "id": "1bd46010-88e0-4364-8968-53fe2544592c",
   "metadata": {},
   "outputs": [
    {
     "name": "stdout",
     "output_type": "stream",
     "text": [
      "(1, 2)\n"
     ]
    }
   ],
   "source": [
    "a = (1,2)\n",
    "b = (4,5)\n",
    "d = (a,b)\n",
    "print(d[0])"
   ]
  },
  {
   "cell_type": "code",
   "execution_count": 97,
   "id": "28937f2b-43aa-4a6b-9a48-940965c5e3c4",
   "metadata": {},
   "outputs": [
    {
     "name": "stdout",
     "output_type": "stream",
     "text": [
      "(1, 2, 4, 5)\n",
      "4\n"
     ]
    }
   ],
   "source": [
    "a = (1,2)\n",
    "b = (4,5)\n",
    "d = a+b\n",
    "print(d)\n",
    "print(d[2])"
   ]
  },
  {
   "cell_type": "code",
   "execution_count": null,
   "id": "ed8aab34-e05f-4d14-b689-7e2c09a3af37",
   "metadata": {},
   "outputs": [],
   "source": [
    "                                                            '''upacking Tuple'''"
   ]
  },
  {
   "cell_type": "code",
   "execution_count": 115,
   "id": "d0c10a2e-19b6-4c3c-8edc-705f3ce84698",
   "metadata": {},
   "outputs": [],
   "source": [
    "def fetch_activity():\n",
    "    return \"click 1\", \"click 2\",\"click 3\"\n",
    "\n",
    "activity=fetch_activity()"
   ]
  },
  {
   "cell_type": "code",
   "execution_count": 121,
   "id": "80ab41b8-2cc7-42fa-b0ba-7b9907767808",
   "metadata": {},
   "outputs": [
    {
     "name": "stdout",
     "output_type": "stream",
     "text": [
      "('click 1', 'click 2', 'click 3')\n",
      "<class 'tuple'>\n"
     ]
    }
   ],
   "source": [
    "print(activity)\n",
    "print(type(activity))"
   ]
  },
  {
   "cell_type": "code",
   "execution_count": 119,
   "id": "dda0ff9a-7d4e-4c7e-ae54-6733411426c8",
   "metadata": {},
   "outputs": [
    {
     "name": "stdout",
     "output_type": "stream",
     "text": [
      "click 1\n",
      "click 2\n"
     ]
    }
   ],
   "source": [
    "print(activity[0])\n",
    "print(activity[1])"
   ]
  },
  {
   "cell_type": "code",
   "execution_count": 138,
   "id": "de95603e-12f4-4616-a1f5-c946195c0359",
   "metadata": {},
   "outputs": [
    {
     "name": "stdout",
     "output_type": "stream",
     "text": [
      "click 1\n"
     ]
    }
   ],
   "source": [
    "act1, act2,act3=fetch_activity()\n",
    "print(act1)"
   ]
  },
  {
   "cell_type": "code",
   "execution_count": 135,
   "id": "449a6cc9-8d56-4fe3-899b-6e08db5a49ef",
   "metadata": {},
   "outputs": [
    {
     "name": "stdout",
     "output_type": "stream",
     "text": [
      "click 1 click 2 click 3\n"
     ]
    }
   ],
   "source": [
    "print(act1,act2,act3)"
   ]
  },
  {
   "cell_type": "code",
   "execution_count": 140,
   "id": "a578f4ad-3ed0-417d-be62-624dcef4e221",
   "metadata": {},
   "outputs": [
    {
     "name": "stdout",
     "output_type": "stream",
     "text": [
      "click 1\n"
     ]
    }
   ],
   "source": [
    "initial, *remaining=fetch_activity()\n",
    "\n",
    "print(initial)"
   ]
  },
  {
   "cell_type": "code",
   "execution_count": 142,
   "id": "df4a44d2-9980-46e2-b890-178ff4ad2598",
   "metadata": {},
   "outputs": [
    {
     "name": "stdout",
     "output_type": "stream",
     "text": [
      "['click 2', 'click 3']\n"
     ]
    }
   ],
   "source": [
    "print(remaining)"
   ]
  },
  {
   "cell_type": "code",
   "execution_count": 144,
   "id": "c6a3f2c4-33f2-4dd9-b731-4aee4a6df7d0",
   "metadata": {},
   "outputs": [
    {
     "name": "stdout",
     "output_type": "stream",
     "text": [
      "<class 'list'>\n"
     ]
    }
   ],
   "source": [
    "print(type(remaining))"
   ]
  },
  {
   "cell_type": "code",
   "execution_count": null,
   "id": "de47cacd-d0c3-46e6-a3c3-458c55fb523e",
   "metadata": {},
   "outputs": [],
   "source": [
    "                                                    ''' Count and index '''"
   ]
  },
  {
   "cell_type": "code",
   "execution_count": 152,
   "id": "907b1190-a049-4962-b535-7eb27fd94e8c",
   "metadata": {},
   "outputs": [],
   "source": [
    "user_activity=(\"activity1\",\"activity2\",\"activity3\",\"activity1\",\"activity1\")\n"
   ]
  },
  {
   "cell_type": "code",
   "execution_count": 150,
   "id": "553d2b8f-b2d0-434a-a333-fd510aba560f",
   "metadata": {},
   "outputs": [
    {
     "name": "stdout",
     "output_type": "stream",
     "text": [
      "3\n"
     ]
    }
   ],
   "source": [
    "print(user_activity.count(\"activity1\"))"
   ]
  },
  {
   "cell_type": "code",
   "execution_count": 188,
   "id": "7bbc8532-59a3-4446-8ecc-c6bd24631832",
   "metadata": {},
   "outputs": [
    {
     "name": "stdout",
     "output_type": "stream",
     "text": [
      "0\n"
     ]
    }
   ],
   "source": [
    "print(user_activity.index(\"activity1\"))   #return first accuring index"
   ]
  },
  {
   "cell_type": "code",
   "execution_count": 172,
   "id": "62f592aa-4db7-4158-8b80-299d2b991d77",
   "metadata": {},
   "outputs": [
    {
     "name": "stdout",
     "output_type": "stream",
     "text": [
      "user1 user2\n",
      "<class 'str'>\n"
     ]
    }
   ],
   "source": [
    "u1=(\"user1 \")\n",
    "u2=(\"user2\")\n",
    "\n",
    "combined1= u1 + u2\n",
    "print(combined1)\n",
    "print(type(u))"
   ]
  },
  {
   "cell_type": "code",
   "execution_count": 182,
   "id": "0686e133-041d-4db8-b796-d6e69ffa7a5d",
   "metadata": {},
   "outputs": [
    {
     "name": "stdout",
     "output_type": "stream",
     "text": [
      "('user1', 'user2')\n",
      "<class 'tuple'>\n"
     ]
    }
   ],
   "source": [
    "u1=(\"user1\",)\n",
    "u2=(\"user2\",)\n",
    "\n",
    "combined2= u1 + u2\n",
    "print(combined2)\n",
    "print(type(combined2))\n"
   ]
  },
  {
   "cell_type": "code",
   "execution_count": 180,
   "id": "e08530be-231c-429c-a237-0c1a1ec7f8a8",
   "metadata": {},
   "outputs": [
    {
     "data": {
      "text/plain": [
       "('user1', 'user2', 'user1', 'user2', 'user1', 'user2')"
      ]
     },
     "execution_count": 180,
     "metadata": {},
     "output_type": "execute_result"
    }
   ],
   "source": [
    "combined2*3"
   ]
  },
  {
   "cell_type": "code",
   "execution_count": 184,
   "id": "617c365f-57d3-40ea-823d-b5ae6bc0c2e3",
   "metadata": {},
   "outputs": [
    {
     "name": "stdout",
     "output_type": "stream",
     "text": [
      "3\n"
     ]
    }
   ],
   "source": [
    "my_tuple = (1, 2, 3, 4, 2, 3, 2)\n",
    "print(my_tuple.count(2))"
   ]
  },
  {
   "cell_type": "code",
   "execution_count": 196,
   "id": "bc24604d-303b-4dc5-90a2-37b9965b053f",
   "metadata": {},
   "outputs": [
    {
     "name": "stdout",
     "output_type": "stream",
     "text": [
      "ab\n"
     ]
    }
   ],
   "source": [
    "a = (\"ac\",\"ab\",\"abc\",\"def\")\n",
    "print(min(a))"
   ]
  },
  {
   "cell_type": "code",
   "execution_count": null,
   "id": "efe18138-5e68-4359-9d34-5d9ec4dde93d",
   "metadata": {},
   "outputs": [],
   "source": [
    "                                                        '''Sum of value in tuple'''"
   ]
  },
  {
   "cell_type": "code",
   "execution_count": 200,
   "id": "5f2bc2e8-ea59-4086-9ad1-cb15f576fa60",
   "metadata": {},
   "outputs": [
    {
     "data": {
      "text/plain": [
       "25"
      ]
     },
     "execution_count": 200,
     "metadata": {},
     "output_type": "execute_result"
    }
   ],
   "source": [
    "def sum_value(ints):\n",
    "    result=0\n",
    "    for ele in ints:\n",
    "        result+=ele\n",
    "    return result  \n",
    "\n",
    "sum_value((12,4,6,3))"
   ]
  },
  {
   "cell_type": "code",
   "execution_count": 204,
   "id": "495193d9-320a-4a14-859d-a53d811da8f8",
   "metadata": {},
   "outputs": [
    {
     "data": {
      "text/plain": [
       "25"
      ]
     },
     "execution_count": 204,
     "metadata": {},
     "output_type": "execute_result"
    }
   ],
   "source": [
    "def sum_value(ints):\n",
    "    result=0\n",
    "    for i in range(len(ints)):\n",
    "        result+=ints[i]\n",
    "    return result  \n",
    "\n",
    "sum_value((12,4,6,3))"
   ]
  },
  {
   "cell_type": "code",
   "execution_count": 206,
   "id": "66c0d9a0-9378-4f54-a554-c714967bafe8",
   "metadata": {},
   "outputs": [
    {
     "data": {
      "text/plain": [
       "36"
      ]
     },
     "execution_count": 206,
     "metadata": {},
     "output_type": "execute_result"
    }
   ],
   "source": [
    "'''You are given a Python function named \"Multiply\" which takes a tuple test_tup as input. Your task is to implement the function to calculate\n",
    "the product of all elements in the tuple.'''\n",
    "\n",
    "def Multiply(test_tup):\n",
    "    # write your code logic here !!\n",
    "    mul=1\n",
    "    for ele in test_tup:\n",
    "        mul *= ele\n",
    "\n",
    "    return mul\n",
    "\n",
    "Multiply((12,3))"
   ]
  },
  {
   "cell_type": "code",
   "execution_count": null,
   "id": "00e54cbd-8dd1-46d7-a07d-e7f0ad540c01",
   "metadata": {},
   "outputs": [],
   "source": [
    "                                                            ''' Return Unique Element '''"
   ]
  },
  {
   "cell_type": "code",
   "execution_count": 211,
   "id": "09fc143c-0a78-42f8-b6a4-89f62415cfbd",
   "metadata": {},
   "outputs": [
    {
     "data": {
      "text/plain": [
       "(3, 5, 4)"
      ]
     },
     "execution_count": 211,
     "metadata": {},
     "output_type": "execute_result"
    }
   ],
   "source": [
    "def unique_ele(uni):\n",
    "    uni_ele=()\n",
    "    for ele in uni:\n",
    "        if uni.count(ele) == 1:\n",
    "            uni_ele +=(ele,)\n",
    "    return uni_ele \n",
    "unique_ele((1,2,3,5,2,1,4))"
   ]
  },
  {
   "cell_type": "code",
   "execution_count": 213,
   "id": "b0a9876f-d657-494d-b8ae-568475151738",
   "metadata": {},
   "outputs": [
    {
     "data": {
      "text/plain": [
       "(1, 2, 3, 5, 4)"
      ]
     },
     "execution_count": 213,
     "metadata": {},
     "output_type": "execute_result"
    }
   ],
   "source": [
    "def unique_tuple_ele(tuples):\n",
    "    result=[]\n",
    "    for ele in tuples:\n",
    "        if ele not in result:\n",
    "            result.append(ele)\n",
    "\n",
    "    return tuple(result)\n",
    "\n",
    "unique_tuple_ele((1,2,3,5,2,1,4))"
   ]
  },
  {
   "cell_type": "code",
   "execution_count": 219,
   "id": "e81c77be-8c99-4ad9-ba60-c5deb7fadf4e",
   "metadata": {},
   "outputs": [
    {
     "data": {
      "text/plain": [
       "(7, 2)"
      ]
     },
     "execution_count": 219,
     "metadata": {},
     "output_type": "execute_result"
    }
   ],
   "source": [
    "def find_max_min(data):\n",
    "    return max(data), min(data)\n",
    "\n",
    "find_max_min((2,3,4,5,6,7))"
   ]
  },
  {
   "cell_type": "code",
   "execution_count": 225,
   "id": "2bb5e924-6452-44a7-93c6-694220264505",
   "metadata": {},
   "outputs": [
    {
     "data": {
      "text/plain": [
       "(8, 1)"
      ]
     },
     "execution_count": 225,
     "metadata": {},
     "output_type": "execute_result"
    }
   ],
   "source": [
    "def find_max_min(data):\n",
    "    m=0\n",
    "    mi=data[0]\n",
    "    for ele in data:\n",
    "        if ele>=m:\n",
    "            m=ele\n",
    "        elif ele<=mi:\n",
    "            mi=ele\n",
    "\n",
    "    return m,mi\n",
    "find_max_min((1,3,4,5,8,7))        "
   ]
  },
  {
   "cell_type": "code",
   "execution_count": null,
   "id": "d1717406-d867-4e4a-b44b-3c5086ec3fa4",
   "metadata": {},
   "outputs": [],
   "source": []
  }
 ],
 "metadata": {
  "kernelspec": {
   "display_name": "Python [conda env:base] *",
   "language": "python",
   "name": "conda-base-py"
  },
  "language_info": {
   "codemirror_mode": {
    "name": "ipython",
    "version": 3
   },
   "file_extension": ".py",
   "mimetype": "text/x-python",
   "name": "python",
   "nbconvert_exporter": "python",
   "pygments_lexer": "ipython3",
   "version": "3.12.7"
  }
 },
 "nbformat": 4,
 "nbformat_minor": 5
}
