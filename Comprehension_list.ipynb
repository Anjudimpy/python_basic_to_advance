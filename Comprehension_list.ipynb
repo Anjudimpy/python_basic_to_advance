{
 "cells": [
  {
   "cell_type": "code",
   "execution_count": null,
   "id": "532ea589-7025-4e83-b2dd-b221ed87311c",
   "metadata": {},
   "outputs": [],
   "source": [
    "'''\n",
    "Comprehendion list:-List comprehensions are used for creating new lists from other iterable sequences.\n",
    "\n",
    "'''"
   ]
  },
  {
   "cell_type": "code",
   "execution_count": 1,
   "id": "dd620ef2-8a82-44c6-9e7b-f34a92497360",
   "metadata": {},
   "outputs": [
    {
     "data": {
      "text/plain": [
       "[1, 4, 9, 16]"
      ]
     },
     "execution_count": 1,
     "metadata": {},
     "output_type": "execute_result"
    }
   ],
   "source": [
    "li=[1,2,3,4]\n",
    "new_list=[]\n",
    "for ele in li:\n",
    "    new_list.append(ele**2)\n",
    "\n",
    "new_list"
   ]
  },
  {
   "cell_type": "code",
   "execution_count": 7,
   "id": "857b4266-6469-42eb-840e-d6171e1d1a16",
   "metadata": {},
   "outputs": [
    {
     "data": {
      "text/plain": [
       "[1, 8, 27, 64]"
      ]
     },
     "execution_count": 7,
     "metadata": {},
     "output_type": "execute_result"
    }
   ],
   "source": [
    "new_list_com=[ele**3 for ele in li]\n",
    "new_list_com\n"
   ]
  },
  {
   "cell_type": "code",
   "execution_count": 9,
   "id": "21f62bb9-aa5a-465b-8d27-c689c086e820",
   "metadata": {},
   "outputs": [
    {
     "data": {
      "text/plain": [
       "[4, 8, 12]"
      ]
     },
     "execution_count": 9,
     "metadata": {},
     "output_type": "execute_result"
    }
   ],
   "source": [
    "''' Find square element only for even element '''\n",
    "li=[1,2,3,4,5,6]\n",
    "square_li =[ele*2 for ele in li if ele%2==0]\n",
    "square_li"
   ]
  },
  {
   "cell_type": "code",
   "execution_count": 17,
   "id": "0e1532a7-8592-4b2a-a82f-47d48e0477cc",
   "metadata": {},
   "outputs": [
    {
     "data": {
      "text/plain": [
       "[6]"
      ]
     },
     "execution_count": 17,
     "metadata": {},
     "output_type": "execute_result"
    }
   ],
   "source": [
    "'''Find element that one multiple of 2 as well as multiple of 3 '''\n",
    "# 1 approach\n",
    "li=[1,2,3,4,5,6,7,8,9]\n",
    "new_li=[]\n",
    "for ele in li:\n",
    "    if ele%2==0 and ele%3==0:\n",
    "        new_li.append(ele)\n",
    "print(new_li)    "
   ]
  },
  {
   "cell_type": "code",
   "execution_count": 19,
   "id": "711a4934-c329-40f2-8909-7973dab7ec7c",
   "metadata": {},
   "outputs": [
    {
     "data": {
      "text/plain": [
       "[6]"
      ]
     },
     "execution_count": 19,
     "metadata": {},
     "output_type": "execute_result"
    }
   ],
   "source": [
    "''' Coprehension list with multiple condition'''\n",
    "# 2 approach\n",
    "new_li_2=[ele for ele in li if ele%2==0 if ele%3==0]\n",
    "new_li_2"
   ]
  },
  {
   "cell_type": "code",
   "execution_count": 47,
   "id": "c01c551e-3329-4204-bc58-b990143183dd",
   "metadata": {},
   "outputs": [
    {
     "data": {
      "text/plain": [
       "[2, 4, 6]"
      ]
     },
     "execution_count": 47,
     "metadata": {},
     "output_type": "execute_result"
    }
   ],
   "source": [
    "''' Coprehension list with multiple loop'''\n",
    "# find intersection of list element\n",
    "li_1=[1,2,3,4,5,6]\n",
    "li_2=[2,4,6,7]\n",
    "li_inter=[ele for ele in li_1 for ele2 in li_2 if ele == ele2]\n",
    "li_inter"
   ]
  },
  {
   "cell_type": "code",
   "execution_count": 45,
   "id": "9e98a211-4b42-4586-a44f-7d50305c1793",
   "metadata": {},
   "outputs": [
    {
     "data": {
      "text/plain": [
       "[2, 4, 6]"
      ]
     },
     "execution_count": 45,
     "metadata": {},
     "output_type": "execute_result"
    }
   ],
   "source": [
    "'''Normal method'''\n",
    "# find intersection of list element\n",
    "li_1=[1,2,3,4,5,6]\n",
    "li_2=[2,4,6,7]\n",
    "li_inter_2=[]\n",
    "for ele in li_1:\n",
    "    for ele1 in li_2:\n",
    "        if ele == ele1:\n",
    "            li_inter_2.append(ele)\n",
    "\n",
    "li_inter_2\n",
    "            "
   ]
  },
  {
   "cell_type": "code",
   "execution_count": 63,
   "id": "9b5a5021-93ec-43d2-be09-5b580e85b6b6",
   "metadata": {},
   "outputs": [
    {
     "data": {
      "text/plain": [
       "[1, 4, 3, 16, 5, 36]"
      ]
     },
     "execution_count": 63,
     "metadata": {},
     "output_type": "execute_result"
    }
   ],
   "source": [
    "''' if element multiple of 2 then squared  other wise levea as a it'''\n",
    "li=[1,2,3,4,5,6]\n",
    "new_li=[ele**2 if ele%2==0 else ele for ele in li]\n",
    "new_li"
   ]
  },
  {
   "cell_type": "code",
   "execution_count": 65,
   "id": "aa49578e-cf27-444f-8378-3553d493056e",
   "metadata": {},
   "outputs": [
    {
     "data": {
      "text/plain": [
       "['a', 'n', 'j', 'u']"
      ]
     },
     "execution_count": 65,
     "metadata": {},
     "output_type": "execute_result"
    }
   ],
   "source": [
    "s=\"anju\"\n",
    "li=[ele for ele in s]\n",
    "li"
   ]
  },
  {
   "cell_type": "code",
   "execution_count": 79,
   "id": "ef131598-5564-4935-ab5c-9c2181841dcd",
   "metadata": {},
   "outputs": [
    {
     "data": {
      "text/plain": [
       "[['a', 'n', 'j', 'u'],\n",
       " ['a', 'w', 'a', 'n', 'i', 's', 'h'],\n",
       " ['t', 'i', 'm', 'o', 't', 'h', 'y']]"
      ]
     },
     "execution_count": 79,
     "metadata": {},
     "output_type": "execute_result"
    }
   ],
   "source": [
    "li=['anju','awanish','timothy']\n",
    "li_2d=[[s for s in ele] for ele in li]\n",
    "li_2d"
   ]
  },
  {
   "cell_type": "code",
   "execution_count": 131,
   "id": "5ef80b89-0b58-4f43-a775-cbae0c5c7a6a",
   "metadata": {},
   "outputs": [
    {
     "data": {
      "text/plain": [
       "[['a', 'n', 'j', 'u'],\n",
       " ['a', 'w', 'a', 'n', 'i', 's', 'h'],\n",
       " ['t', 'i', 'm', 'o', 't', 'h', 'y']]"
      ]
     },
     "execution_count": 131,
     "metadata": {},
     "output_type": "execute_result"
    }
   ],
   "source": [
    "li=['anju','awanish','timothy']\n",
    "li_2=[]\n",
    "for ele in li:\n",
    "    li_2.append([s for s in ele])\n",
    "    \n",
    "li_2\n",
    "    \n"
   ]
  },
  {
   "cell_type": "code",
   "execution_count": 133,
   "id": "37e387ca-8c06-4298-89e5-0c9967014bbc",
   "metadata": {},
   "outputs": [
    {
     "name": "stdout",
     "output_type": "stream",
     "text": [
      "[[0, 0, 0, 0], [0, 1, 2, 3], [0, 2, 4, 6]]\n"
     ]
    }
   ],
   "source": [
    "li = [[ i*j for j in range(4)] for i in range(3)]\n",
    "print(li)"
   ]
  },
  {
   "cell_type": "code",
   "execution_count": 189,
   "id": "dfd75d72-637d-4772-bfac-960713a5fa39",
   "metadata": {},
   "outputs": [
    {
     "name": "stdin",
     "output_type": "stream",
     "text": [
      " 2 3\n",
      " 2 3 4\n",
      " 23 4 5\n"
     ]
    }
   ],
   "source": [
    "str=input().split()\n",
    "n,m=int(str[0]), int(str[1])\n",
    "li=[[int(j) for j in input().split()] for i in range(n)]\n",
    "        "
   ]
  },
  {
   "cell_type": "code",
   "execution_count": 191,
   "id": "5e585fec-81fd-4767-8df4-f608308c6341",
   "metadata": {},
   "outputs": [
    {
     "data": {
      "text/plain": [
       "[[2, 3, 4], [23, 4, 5]]"
      ]
     },
     "execution_count": 191,
     "metadata": {},
     "output_type": "execute_result"
    }
   ],
   "source": [
    "li\n"
   ]
  },
  {
   "cell_type": "code",
   "execution_count": 213,
   "id": "34b0c6e5-628d-496f-85ab-0e76e011b3cc",
   "metadata": {},
   "outputs": [
    {
     "name": "stdin",
     "output_type": "stream",
     "text": [
      " 2\n",
      " 1 2 3\n",
      " 2 34 5 \n"
     ]
    }
   ],
   "source": [
    "n=int(input())\n",
    "li=[[int(j) for j in input().split()] for i in range(n)]"
   ]
  },
  {
   "cell_type": "code",
   "execution_count": 215,
   "id": "f59b5d8e-15f2-4bb7-a35f-2003b016dc2f",
   "metadata": {},
   "outputs": [
    {
     "data": {
      "text/plain": [
       "[[1, 2, 3], [2, 34, 5]]"
      ]
     },
     "execution_count": 215,
     "metadata": {},
     "output_type": "execute_result"
    }
   ],
   "source": [
    "li"
   ]
  },
  {
   "cell_type": "code",
   "execution_count": 229,
   "id": "31b99a28-6cbe-4945-8dbf-dc70adcfee60",
   "metadata": {},
   "outputs": [
    {
     "name": "stdin",
     "output_type": "stream",
     "text": [
      " 3 4 5\n"
     ]
    }
   ],
   "source": [
    "s= input().split()"
   ]
  },
  {
   "cell_type": "code",
   "execution_count": 231,
   "id": "7abc4a29-ee6c-4462-bba9-1a81d305c2b8",
   "metadata": {},
   "outputs": [
    {
     "data": {
      "text/plain": [
       "'3'"
      ]
     },
     "execution_count": 231,
     "metadata": {},
     "output_type": "execute_result"
    }
   ],
   "source": [
    "s[0]"
   ]
  },
  {
   "cell_type": "code",
   "execution_count": 233,
   "id": "10fba5eb-183c-4a7e-bedf-124b2bb28302",
   "metadata": {},
   "outputs": [
    {
     "data": {
      "text/plain": [
       "['3', '4', '5']"
      ]
     },
     "execution_count": 233,
     "metadata": {},
     "output_type": "execute_result"
    }
   ],
   "source": [
    "s"
   ]
  },
  {
   "cell_type": "code",
   "execution_count": 223,
   "id": "d1006f8b-5b0c-452b-b179-03adf0692664",
   "metadata": {},
   "outputs": [
    {
     "data": {
      "text/plain": [
       "'3'"
      ]
     },
     "execution_count": 223,
     "metadata": {},
     "output_type": "execute_result"
    }
   ],
   "source": [
    "s[2]"
   ]
  },
  {
   "cell_type": "code",
   "execution_count": 245,
   "id": "a156affc-5159-4398-be2d-d979e2d63fa5",
   "metadata": {},
   "outputs": [
    {
     "name": "stdin",
     "output_type": "stream",
     "text": [
      " 2 3 \n",
      " 1 2 3 4 5 6\n"
     ]
    },
    {
     "data": {
      "text/plain": [
       "[[1, 2, 3], [4, 5, 6]]"
      ]
     },
     "execution_count": 245,
     "metadata": {},
     "output_type": "execute_result"
    }
   ],
   "source": [
    "str=input().split()\n",
    "n,m=int(str[0]),int(str[1])\n",
    "b=input().split()\n",
    "li=[[int(b[m*i+j]) for j in range(m)] for i in range(n)]\n",
    "li"
   ]
  },
  {
   "cell_type": "code",
   "execution_count": 249,
   "id": "c31c7aa7-d2d9-4d14-bbea-c3b006ae9b0a",
   "metadata": {},
   "outputs": [
    {
     "name": "stdin",
     "output_type": "stream",
     "text": [
      " 2 3 1 2 3 4 5 6\n"
     ]
    }
   ],
   "source": [
    "str= input().split()\n",
    "n,m,b=int(str[0]),int(str[1]),str[2:]\n",
    "li=[[int(b[m*i+j]) for j in range(m)] for i in range(n)]"
   ]
  },
  {
   "cell_type": "code",
   "execution_count": 251,
   "id": "d62d18f4-8740-4419-9122-830e6aed449c",
   "metadata": {},
   "outputs": [
    {
     "data": {
      "text/plain": [
       "[[1, 2, 3], [4, 5, 6]]"
      ]
     },
     "execution_count": 251,
     "metadata": {},
     "output_type": "execute_result"
    }
   ],
   "source": [
    "li"
   ]
  },
  {
   "cell_type": "code",
   "execution_count": 255,
   "id": "df9253d5-1199-49ae-a2db-4a60c2d637f9",
   "metadata": {},
   "outputs": [
    {
     "name": "stdout",
     "output_type": "stream",
     "text": [
      "1 2 3 4 \n",
      "5 7 6 8 \n",
      "9 3 5 2 \n"
     ]
    }
   ],
   "source": [
    "''' Print 2D list '''\n",
    "li=[[1,2,3,4],[5,7,6,8],[9,3,5,2]]\n",
    "n=3\n",
    "m=4\n",
    "for i in range(n):\n",
    "    for j in range(m):\n",
    "        print(li[i][j],end=\" \")\n",
    "    print()\n"
   ]
  },
  {
   "cell_type": "code",
   "execution_count": 263,
   "id": "51e40116-6074-41ef-93b9-8aa9b72234d0",
   "metadata": {},
   "outputs": [
    {
     "name": "stdout",
     "output_type": "stream",
     "text": [
      "1 2 3 \n",
      "5 8 \n",
      "7 9 2 \n"
     ]
    }
   ],
   "source": [
    "''' Print 2D list for jagged list '''\n",
    "li=[[1,2,3],[5,8],[7,9,2]]\n",
    "for row in li:\n",
    "    for ele in row:\n",
    "        print(ele,end=\" \")\n",
    "\n",
    "    print()\n",
    "\n"
   ]
  },
  {
   "cell_type": "code",
   "execution_count": 1,
   "id": "e5b93d34-d7c3-4a09-abe1-f71368713194",
   "metadata": {},
   "outputs": [
    {
     "name": "stdout",
     "output_type": "stream",
     "text": [
      "1 2 3\n",
      "5 8\n",
      "7 9 2\n"
     ]
    }
   ],
   "source": [
    "li=[[1,2,3],[5,8],[7,9,2]]\n",
    "for row in li:\n",
    "    output=' '.join([str(ele) for ele in row])\n",
    "    print(output)"
   ]
  },
  {
   "cell_type": "code",
   "execution_count": 17,
   "id": "0af2cb13-94e2-44b6-a5f4-e17411781462",
   "metadata": {},
   "outputs": [
    {
     "name": "stdout",
     "output_type": "stream",
     "text": [
      "1 2 3\n",
      "5 9\n",
      "7 9 2\n"
     ]
    }
   ],
   "source": [
    "li=[[1,2,3],[5,9],[7,9,2]]\n",
    "for row in li:\n",
    "    print(' '.join(map(str,row)))"
   ]
  },
  {
   "cell_type": "code",
   "execution_count": 19,
   "id": "f6c83317-f227-439a-b376-d52a0d474c4b",
   "metadata": {},
   "outputs": [
    {
     "name": "stdout",
     "output_type": "stream",
     "text": [
      "30 2\n"
     ]
    }
   ],
   "source": [
    "def lar_col_sum(li):\n",
    "    n=len(lis)\n",
    "    m=len(li[0])\n",
    "    max_sum=0\n",
    "    max_index=-1\n",
    "    for j in range(m):\n",
    "        sum=0\n",
    "        for i in range(n):\n",
    "            sum+=li[i][j]\n",
    "        if sum > max_sum:\n",
    "                max_col_index=j\n",
    "                max_sum=sum\n",
    "    return max_sum,max_col_index\n",
    "\n",
    "lis=[[1,2,3,4],[18,17,16,15],[9,10,11,7]]\n",
    "lar_sum,lar_col_index= lar_col_sum(lis)\n",
    "print(lar_sum, lar_col_index)"
   ]
  },
  {
   "cell_type": "code",
   "execution_count": 25,
   "id": "df055dbc-b3f4-408b-a1fb-1efd203c9a79",
   "metadata": {},
   "outputs": [
    {
     "name": "stdout",
     "output_type": "stream",
     "text": [
      "46 3\n"
     ]
    }
   ],
   "source": [
    "def lar_col_sum_2(li):\n",
    "    m=len(li[0])\n",
    "    max_sum=-1\n",
    "    max_col_index=-1\n",
    "    for j in range(m):\n",
    "        sum=0\n",
    "        for ele in li:\n",
    "            sum+=ele[j]\n",
    "            if sum > max_sum:\n",
    "                max_col_index=j\n",
    "                max_sum=sum\n",
    "    return max_sum,max_col_index            \n",
    "                \n",
    "lis=[[1,2,3,4],[18,17,16,15],[9,10,11,27]]\n",
    "lar_sum,lar_col_index= lar_col_sum(lis)\n",
    "print(lar_sum, lar_col_index)        "
   ]
  },
  {
   "cell_type": "code",
   "execution_count": 45,
   "id": "855d326e-a105-4fc7-820f-58336362c6df",
   "metadata": {},
   "outputs": [
    {
     "name": "stdout",
     "output_type": "stream",
     "text": [
      "10 66 57 "
     ]
    }
   ],
   "source": [
    "''' For a given two-dimensional integer array/list of size (N x M), find and print the sum of each of the row elements in a single line,\n",
    "separated by a single space.'''\n",
    "\n",
    "def rowWiseSum(mat, nRows, mCols):\n",
    "    for i in mat:\n",
    "        sum=0\n",
    "        for ele in i:\n",
    "            sum+=ele\n",
    "        print(sum,end=\" \")\n",
    "  \n",
    "rowWiseSum([[1,2,3,4],[18,17,16,15],[9,10,11,27]], 3, 4)"
   ]
  },
  {
   "cell_type": "code",
   "execution_count": 43,
   "id": "d619ea73-a272-4869-bc11-9e8df28fa465",
   "metadata": {},
   "outputs": [
    {
     "name": "stdout",
     "output_type": "stream",
     "text": [
      "10 66 57 "
     ]
    }
   ],
   "source": [
    "li=[[1,2,3,4],[18,17,16,15],[9,10,11,27]]\n",
    "for i in li:\n",
    "    sum=0\n",
    "    for j in i:\n",
    "        sum+=j\n",
    "    print(sum,end=\" \")"
   ]
  },
  {
   "cell_type": "code",
   "execution_count": 49,
   "id": "0bccb05d-3c71-4d06-8155-bceeff39a2dc",
   "metadata": {},
   "outputs": [
    {
     "name": "stdout",
     "output_type": "stream",
     "text": [
      "1 5 9 2 6 10 3 7 11 4 8 12 "
     ]
    }
   ],
   "source": [
    "li=[[1,2,3,4],[5,6,7,8],[9,10,11,12]]\n",
    "for j in range(4):\n",
    "    for ele in li:\n",
    "        print(ele[j],end =\" \")"
   ]
  },
  {
   "cell_type": "code",
   "execution_count": 89,
   "id": "94b40f8d-18d1-4f74-be17-0d5389e31ef7",
   "metadata": {},
   "outputs": [
    {
     "name": "stdout",
     "output_type": "stream",
     "text": [
      "row 1 66\n"
     ]
    }
   ],
   "source": [
    "'''\n",
    "You are given a 2D list (array) with dimensions N rows and M columns, filled with integers. Your task is to find the row or column that has the\n",
    "largest sum of its elements.\n",
    "'''\n",
    "\n",
    "def findLargest(arr, nRows, mCols):\n",
    "    max_sum=-2147483648\n",
    "    max_index=0\n",
    "    is_row=True\n",
    "    is_col=True\n",
    "    for row in arr:\n",
    "        sum=0\n",
    "        for ele in row:\n",
    "            sum+=ele\n",
    "        if sum>max_sum:\n",
    "            max_sum=sum\n",
    "            max_index=arr.index(row)\n",
    "            is_col=False\n",
    "            \n",
    "    for col in range(mCols):\n",
    "        sum=0\n",
    "        for ele in arr:\n",
    "            sum+=ele[col]\n",
    "        if sum>max_sum:\n",
    "            max_sum=sum\n",
    "            max_index=col\n",
    "            is_row=False\n",
    "\n",
    "    if is_row:\n",
    "        print(\"row\",max_index,max_sum)\n",
    "    else:\n",
    "        print(\"column\",max_index,max_sum)\n",
    "            \n",
    "\n",
    "\n",
    "findLargest([[1,2,3,4],[18,17,16,15],[9,10,11,27]], 3, 4)\n"
   ]
  },
  {
   "cell_type": "code",
   "execution_count": 77,
   "id": "fda9c2f1-6bce-43d5-a7a6-5bdc56c870eb",
   "metadata": {},
   "outputs": [
    {
     "data": {
      "text/plain": [
       "1"
      ]
     },
     "execution_count": 77,
     "metadata": {},
     "output_type": "execute_result"
    }
   ],
   "source": [
    "li=[2,3,4,5]\n",
    "li.index(3)"
   ]
  },
  {
   "cell_type": "code",
   "execution_count": 177,
   "id": "dae5c7cc-270e-41ba-9150-764b6d948458",
   "metadata": {},
   "outputs": [
    {
     "name": "stdout",
     "output_type": "stream",
     "text": [
      "1 2 3 4 15 16 17 18 9 10 11 27 6 5 3 2 "
     ]
    }
   ],
   "source": [
    "'''\n",
    "For a given two-dimensional integer array/list of size (N x M), print the array/list in a sine wave order, i.e, print the first\n",
    "column left to right, next column left to right and so on.\n",
    "'''\n",
    "def wavePrint(mat, nRows, mCols):\n",
    "    for i in range(nRows):\n",
    "        if i%2==0:\n",
    "            for j in range(mCols):\n",
    "                print(mat[i][j],end=\" \")\n",
    "        else:\n",
    "            for j in range(mCols-1,-1,-1):\n",
    "                print(mat[i][j],end=\" \")\n",
    "            \n",
    "           \n",
    "                \n",
    "            \n",
    "wavePrint([[1,2,3,4],[18,17,16,15],[9,10,11,27],[2,3,5,6]], 4, 4)    "
   ]
  },
  {
   "cell_type": "code",
   "execution_count": 117,
   "id": "0f9bd3e3-3c82-4fb1-9f62-f810c2f3a29f",
   "metadata": {},
   "outputs": [
    {
     "name": "stdout",
     "output_type": "stream",
     "text": [
      "[4, 3, 2, 1]\n"
     ]
    }
   ],
   "source": [
    "li=[1,2,3,4]\n",
    "print(li[::-1])"
   ]
  },
  {
   "cell_type": "code",
   "execution_count": 209,
   "id": "3e8d1715-d879-41e6-8230-f031241f2a09",
   "metadata": {},
   "outputs": [
    {
     "name": "stdout",
     "output_type": "stream",
     "text": [
      "1 18 9 2 3 10 17 2 3 16 11 5 6 27 15 4 "
     ]
    }
   ],
   "source": [
    "'''\n",
    "For a given two-dimensional integer array/list of size (N x M), print the array/list in a sine wave order, i.e, print the first\n",
    "column top to bottom, next column bottom to top and so on.\n",
    "'''\n",
    "def wavePrint(mat, nRows, mCols):\n",
    "    for i in range(mCols):\n",
    "        if i%2==0:\n",
    "            for j in range(nRows):\n",
    "                print(mat[j][i],end=\" \")\n",
    "        else:\n",
    "            for j in range(nRows-1,-1,-1):\n",
    "                print(mat[j][i],end=\" \")\n",
    "\n",
    "wavePrint([[1,2,3,4],[18,17,16,15],[9,10,11,27],[2,3,5,6]], 4, 4)   \n",
    "                "
   ]
  },
  {
   "cell_type": "code",
   "execution_count": null,
   "id": "6284422c-8b5d-4eba-b2bf-c4f80dc0ef85",
   "metadata": {},
   "outputs": [],
   "source": [
    "1,2,3,4\n",
    "18,17,16,15\n",
    "9,10,11,27\n",
    "2,3,5,6\n"
   ]
  },
  {
   "cell_type": "code",
   "execution_count": 430,
   "id": "f541440f-e41f-4190-84df-f7961154d307",
   "metadata": {},
   "outputs": [
    {
     "name": "stdout",
     "output_type": "stream",
     "text": [
      "1 2 3 16 11 10 9 18 17 "
     ]
    }
   ],
   "source": [
    "def spiralPrint(mat, nRows, mCols):\n",
    "    top = 0\n",
    "    bottom = nRows - 1\n",
    "    left = 0\n",
    "    right = mCols - 1\n",
    "    count = 0\n",
    "    total = nRows * mCols  # Total number of elements\n",
    "\n",
    "    while count < total:\n",
    "        # Traverse from left to right\n",
    "        for i in range(left, right + 1):\n",
    "            if count < total:\n",
    "                print(mat[top][i], end=\" \")\n",
    "                count += 1\n",
    "        top += 1  # Move down\n",
    "\n",
    "        # Traverse from top to bottom\n",
    "        for i in range(top, bottom + 1):\n",
    "            if count < total:\n",
    "                print(mat[i][right], end=\" \")\n",
    "                count += 1\n",
    "        right -= 1  # Move left\n",
    "\n",
    "        # Traverse from right to left (if still within bounds)\n",
    "        for i in range(right, left - 1, -1):\n",
    "            if count < total:\n",
    "                print(mat[bottom][i], end=\" \")\n",
    "                count += 1\n",
    "        bottom -= 1  # Move up\n",
    "\n",
    "        # Traverse from bottom to top (if still within bounds)\n",
    "        for i in range(bottom, top - 1, -1):\n",
    "            if count < total:\n",
    "                print(mat[i][left], end=\" \")\n",
    "                count += 1\n",
    "        left += 1  # Move right\n",
    "\n",
    "# Example Usage\n",
    "spiralPrint([[1, 2, 3],[18, 17, 16],[9, 10, 11]], 3, 3)\n"
   ]
  },
  {
   "cell_type": "code",
   "execution_count": 338,
   "id": "fd28eb6e-262a-401b-8522-44ebbc69cac6",
   "metadata": {},
   "outputs": [
    {
     "data": {
      "text/plain": [
       "(2, 3, 5, 6)"
      ]
     },
     "execution_count": 338,
     "metadata": {},
     "output_type": "execute_result"
    }
   ],
   "source": [
    "1,2,3,4\n",
    "18,17,16,15\n",
    "9,10,11,27\n",
    "2,3,5,6"
   ]
  },
  {
   "cell_type": "code",
   "execution_count": 432,
   "id": "fb5c6072-6283-4d71-b2e1-668db76aaad4",
   "metadata": {},
   "outputs": [
    {
     "name": "stdout",
     "output_type": "stream",
     "text": [
      "1 2 3 4 6 7 8 7 2 5 9 18 17 16 11 10 "
     ]
    }
   ],
   "source": [
    "from sys import stdin\n",
    "\n",
    "def spiralPrint(mat, nRows, mCols):\n",
    "    n=nRows*mCols\n",
    "    count=0\n",
    "    l=0\n",
    "    r=0\n",
    "    i=0\n",
    "    j=1\n",
    "    while count<n:\n",
    "        while i<mCols:\n",
    "            if count<n:\n",
    "                print(mat[l][i],end=\" \")\n",
    "                count+=1\n",
    "                i+=1\n",
    "\n",
    "        while j<nRows:\n",
    "            if count<n:\n",
    "                print(mat[j][nRows-1],end=\" \")\n",
    "                count+=1\n",
    "                j+=1\n",
    "\n",
    "        for i in range(mCols-2,-1,-1):\n",
    "            if count<n:\n",
    "                print(mat[nRows-1][i],end=\" \")\n",
    "                count+=1\n",
    "\n",
    "        for j in range(nRows-2,0,-1):\n",
    "            if count<n:\n",
    "                print(mat[j][r],end=\" \")\n",
    "                count+=1\n",
    "        l+=1\n",
    "        r+=1\n",
    "        mCols-=1\n",
    "        nRows-=1\n",
    "        i+=1\n",
    "        j+=1\n",
    "\n",
    "spiralPrint([[1, 2, 3,4],[18, 17, 16,6],[9, 10, 11,7],[5,2,7,8]], 4, 4)"
   ]
  },
  {
   "cell_type": "code",
   "execution_count": null,
   "id": "c8a4000f-4014-474d-ac36-1dd56bded8a3",
   "metadata": {},
   "outputs": [],
   "source": []
  },
  {
   "cell_type": "code",
   "execution_count": null,
   "id": "68df73cb-d58e-4eec-b738-28b25ae6ae9d",
   "metadata": {},
   "outputs": [],
   "source": []
  },
  {
   "cell_type": "code",
   "execution_count": null,
   "id": "d00a7d03-944d-4e3a-87ae-b785cb575260",
   "metadata": {},
   "outputs": [],
   "source": []
  },
  {
   "cell_type": "code",
   "execution_count": null,
   "id": "424e369c-5121-4123-905b-3d3020375373",
   "metadata": {},
   "outputs": [],
   "source": []
  },
  {
   "cell_type": "code",
   "execution_count": null,
   "id": "0ab631e4-5a69-4551-ae12-022e4249d195",
   "metadata": {},
   "outputs": [],
   "source": []
  },
  {
   "cell_type": "code",
   "execution_count": null,
   "id": "11347beb-930d-42dc-b44f-45c804f4cb3b",
   "metadata": {},
   "outputs": [],
   "source": []
  }
 ],
 "metadata": {
  "kernelspec": {
   "display_name": "Python [conda env:base] *",
   "language": "python",
   "name": "conda-base-py"
  },
  "language_info": {
   "codemirror_mode": {
    "name": "ipython",
    "version": 3
   },
   "file_extension": ".py",
   "mimetype": "text/x-python",
   "name": "python",
   "nbconvert_exporter": "python",
   "pygments_lexer": "ipython3",
   "version": "3.12.7"
  }
 },
 "nbformat": 4,
 "nbformat_minor": 5
}
