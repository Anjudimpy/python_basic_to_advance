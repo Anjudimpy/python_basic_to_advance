{
 "cells": [
  {
   "cell_type": "code",
   "execution_count": 21,
   "id": "119e98f4-f20c-4b25-af54-e0664fef97e2",
   "metadata": {},
   "outputs": [
    {
     "name": "stdout",
     "output_type": "stream",
     "text": [
      "array('i', [3, 4, 5])\n"
     ]
    }
   ],
   "source": [
    "from array import array as arr\n",
    "\n",
    "number=arr('i',[3,4,5])\n",
    "\n",
    "print(number)"
   ]
  },
  {
   "cell_type": "code",
   "execution_count": 5,
   "id": "ae05f09a-3d20-4678-a675-d64b7b9f137e",
   "metadata": {},
   "outputs": [
    {
     "name": "stdout",
     "output_type": "stream",
     "text": [
      "[3, 4, 5]\n"
     ]
    }
   ],
   "source": [
    "print(number[1])"
   ]
  },
  {
   "cell_type": "code",
   "execution_count": 13,
   "id": "1fc65c78-a4c8-4151-9425-bab0ad4d41d6",
   "metadata": {},
   "outputs": [
    {
     "name": "stdout",
     "output_type": "stream",
     "text": [
      "math\n"
     ]
    }
   ],
   "source": [
    "sub=[\"math\",\"his\",\"Eng\"]\n",
    "print(sub[0])"
   ]
  },
  {
   "cell_type": "code",
   "execution_count": 33,
   "id": "89068461-d0dc-4ae6-8705-4eda5e7b2254",
   "metadata": {},
   "outputs": [
    {
     "name": "stdout",
     "output_type": "stream",
     "text": [
      "array('d', [3.0, 4.0, 5.0])\n",
      "<class 'array.array'>\n"
     ]
    }
   ],
   "source": [
    "number=arr('d',[3,4,5])\n",
    "\n",
    "print(number)\n",
    "print(type(number))"
   ]
  },
  {
   "cell_type": "code",
   "execution_count": 31,
   "id": "62b00542-91ed-4d1d-a82f-194b2386c902",
   "metadata": {},
   "outputs": [
    {
     "name": "stdout",
     "output_type": "stream",
     "text": [
      "3.0\n",
      "4.0\n",
      "5.0\n"
     ]
    }
   ],
   "source": [
    "for i in range(0,3):\n",
    "    print(number[i])"
   ]
  },
  {
   "cell_type": "code",
   "execution_count": 35,
   "id": "bf0fd391-af18-43cf-ba32-54e2096b7beb",
   "metadata": {},
   "outputs": [
    {
     "name": "stdout",
     "output_type": "stream",
     "text": [
      "<class 'list'>\n"
     ]
    }
   ],
   "source": [
    "# Create List\n",
    "\n",
    "list1=[3,5,6]\n",
    "print(type(list1))"
   ]
  },
  {
   "cell_type": "code",
   "execution_count": 48,
   "id": "c05883f2-a0b9-4344-96c7-61555289fcfa",
   "metadata": {},
   "outputs": [
    {
     "name": "stdout",
     "output_type": "stream",
     "text": [
      "<class 'array.array'>\n",
      "<class 'list'>\n",
      "[1, 2, 3]\n"
     ]
    }
   ],
   "source": [
    "# convert array to list\n",
    "from array import array as arr\n",
    "\n",
    "arr1=arr('i',[1,2,3])\n",
    "print(type(arr1))\n",
    "temp_list=list(arr1)\n",
    "print(type(temp_list))\n",
    "print(temp_list)"
   ]
  },
  {
   "cell_type": "code",
   "execution_count": null,
   "id": "ddbc9cf1-75f3-4b60-bf6b-324e9bef7adb",
   "metadata": {},
   "outputs": [],
   "source": [
    "'''\n",
    "Adding:\n",
    "  -append - Adds an elements at the end of the list\n",
    "  -insert - Insert at any position within the list\n",
    "  -extend - Concatenation of 2 lists or extending first list with elements of second list\n",
    "Removing:\n",
    "  -pop: Remove by default last element, if index is passed removes element at that index\n",
    "  -remove: Remove the first occurence of the element\n",
    "  -clear: Clear the list, remove all elements\n",
    "\n",
    "copy: Creates a copy of list\n",
    "index: Finds the first index where an element coccurs\n",
    "reverse: Reverese the list\n",
    "sort: Sort the list in ascending order by default\n",
    "+ and *\n",
    "  \n",
    "'''"
   ]
  },
  {
   "cell_type": "code",
   "execution_count": 52,
   "id": "76286714-f679-49ab-bd21-4f50623a45a2",
   "metadata": {},
   "outputs": [
    {
     "name": "stdout",
     "output_type": "stream",
     "text": [
      "[2, 3, 4, 3]\n"
     ]
    }
   ],
   "source": [
    "nums=[2,3,4]\n",
    "nums.append(3)\n",
    "print(nums)"
   ]
  },
  {
   "cell_type": "code",
   "execution_count": 54,
   "id": "e5f4f414-bf53-45b5-b261-fe5c1ca59a29",
   "metadata": {},
   "outputs": [
    {
     "name": "stdout",
     "output_type": "stream",
     "text": [
      "[2, 5, 3, 4, 3]\n"
     ]
    }
   ],
   "source": [
    "nums.insert(1,5)\n",
    "print(nums)"
   ]
  },
  {
   "cell_type": "code",
   "execution_count": 56,
   "id": "f1a32e88-aa95-49e2-922b-97f0e7a92c70",
   "metadata": {},
   "outputs": [
    {
     "name": "stdout",
     "output_type": "stream",
     "text": [
      "[2, 5, 3, 4, 3, 8, 9]\n"
     ]
    }
   ],
   "source": [
    "nums2=[8,9]\n",
    "nums.extend(nums2)\n",
    "print(nums)"
   ]
  },
  {
   "cell_type": "code",
   "execution_count": 58,
   "id": "c85571e7-baaa-4597-af92-d6d8c90bb8a5",
   "metadata": {},
   "outputs": [
    {
     "name": "stdout",
     "output_type": "stream",
     "text": [
      "[2, 5, 3, 4, 3, 8]\n"
     ]
    }
   ],
   "source": [
    "nums.pop()\n",
    "print(nums)"
   ]
  },
  {
   "cell_type": "code",
   "execution_count": 60,
   "id": "a1f28c6f-ec35-467b-8d61-394604289714",
   "metadata": {},
   "outputs": [
    {
     "name": "stdout",
     "output_type": "stream",
     "text": [
      "[2, 5, 3, 5, 4, 3, 8]\n"
     ]
    }
   ],
   "source": [
    "nums.insert(3,5)\n",
    "print(nums)"
   ]
  },
  {
   "cell_type": "code",
   "execution_count": 62,
   "id": "2901cd06-145d-488e-918f-bbc0e9a74cbe",
   "metadata": {},
   "outputs": [
    {
     "name": "stdout",
     "output_type": "stream",
     "text": [
      "[2, 3, 5, 4, 3, 8]\n"
     ]
    }
   ],
   "source": [
    "nums.remove(5)\n",
    "print(nums)"
   ]
  },
  {
   "cell_type": "code",
   "execution_count": 64,
   "id": "18f5a4d6-06e3-4157-80b6-ab9e86874e0f",
   "metadata": {},
   "outputs": [
    {
     "name": "stdout",
     "output_type": "stream",
     "text": [
      "[8, 9]\n"
     ]
    }
   ],
   "source": [
    "print(nums2)"
   ]
  },
  {
   "cell_type": "code",
   "execution_count": 66,
   "id": "37e4dd28-0413-4175-a4b3-e9be390b926a",
   "metadata": {},
   "outputs": [],
   "source": [
    "nums2.clear()"
   ]
  },
  {
   "cell_type": "code",
   "execution_count": 68,
   "id": "b005042d-c398-479a-8e6a-1820c268099c",
   "metadata": {},
   "outputs": [
    {
     "name": "stdout",
     "output_type": "stream",
     "text": [
      "[]\n"
     ]
    }
   ],
   "source": [
    "print(nums2)"
   ]
  },
  {
   "cell_type": "code",
   "execution_count": 70,
   "id": "5a54ba9d-af52-4c76-859e-07370f07f4e3",
   "metadata": {},
   "outputs": [
    {
     "name": "stdout",
     "output_type": "stream",
     "text": [
      "['abcd', 'def', 5]\n"
     ]
    }
   ],
   "source": [
    "li =['abcd', 'def']\n",
    "li.insert(4,5)\n",
    "print(li)"
   ]
  },
  {
   "cell_type": "code",
   "execution_count": 72,
   "id": "c2519179-3dd0-41de-9b0d-fbf20758053b",
   "metadata": {},
   "outputs": [
    {
     "name": "stdout",
     "output_type": "stream",
     "text": [
      "[2, 2]\n"
     ]
    }
   ],
   "source": [
    "nums=[2,]\n",
    "print(2*nums)"
   ]
  },
  {
   "cell_type": "code",
   "execution_count": 74,
   "id": "9c0345e6-5894-4c16-a67d-3860bb8676b9",
   "metadata": {},
   "outputs": [
    {
     "name": "stdout",
     "output_type": "stream",
     "text": [
      "[3, 4, 3, 4, 3, 4]\n"
     ]
    }
   ],
   "source": [
    "nums=[3,4]\n",
    "print(3*nums)"
   ]
  },
  {
   "cell_type": "code",
   "execution_count": 84,
   "id": "0393300e-2740-42df-a48d-c4952158af5a",
   "metadata": {},
   "outputs": [
    {
     "name": "stdout",
     "output_type": "stream",
     "text": [
      "[3, 4, 5, 3, 4, 5, 3, 4]\n"
     ]
    }
   ],
   "source": [
    "nums=[3,4,5]\n",
    "num2=[5,4,6]\n",
    "nums3= nums + nums2\n",
    "print(nums3)"
   ]
  },
  {
   "cell_type": "code",
   "execution_count": 88,
   "id": "633ab648-6d0c-4d97-8b53-ede7c2243c70",
   "metadata": {},
   "outputs": [
    {
     "name": "stdout",
     "output_type": "stream",
     "text": [
      "[3, 4, 5, 3, 4]\n"
     ]
    }
   ],
   "source": [
    "nums=[3,4,5]\n",
    "num2=[5,4]\n",
    "print(nums + 3*nums2)"
   ]
  },
  {
   "cell_type": "code",
   "execution_count": null,
   "id": "305e3005-5ce8-4223-9294-afa77961d6a4",
   "metadata": {},
   "outputs": [],
   "source": []
  }
 ],
 "metadata": {
  "kernelspec": {
   "display_name": "Python [conda env:base] *",
   "language": "python",
   "name": "conda-base-py"
  },
  "language_info": {
   "codemirror_mode": {
    "name": "ipython",
    "version": 3
   },
   "file_extension": ".py",
   "mimetype": "text/x-python",
   "name": "python",
   "nbconvert_exporter": "python",
   "pygments_lexer": "ipython3",
   "version": "3.12.7"
  }
 },
 "nbformat": 4,
 "nbformat_minor": 5
}
