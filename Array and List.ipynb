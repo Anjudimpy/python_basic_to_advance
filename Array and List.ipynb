{
 "cells": [
  {
   "cell_type": "code",
   "execution_count": 21,
   "id": "119e98f4-f20c-4b25-af54-e0664fef97e2",
   "metadata": {},
   "outputs": [
    {
     "name": "stdout",
     "output_type": "stream",
     "text": [
      "array('i', [3, 4, 5])\n"
     ]
    }
   ],
   "source": [
    "from array import array as arr\n",
    "\n",
    "number=arr('i',[3,4,5])\n",
    "\n",
    "print(number)"
   ]
  },
  {
   "cell_type": "code",
   "execution_count": 5,
   "id": "ae05f09a-3d20-4678-a675-d64b7b9f137e",
   "metadata": {},
   "outputs": [
    {
     "name": "stdout",
     "output_type": "stream",
     "text": [
      "[3, 4, 5]\n"
     ]
    }
   ],
   "source": [
    "print(number[1])"
   ]
  },
  {
   "cell_type": "code",
   "execution_count": 13,
   "id": "1fc65c78-a4c8-4151-9425-bab0ad4d41d6",
   "metadata": {},
   "outputs": [
    {
     "name": "stdout",
     "output_type": "stream",
     "text": [
      "math\n"
     ]
    }
   ],
   "source": [
    "sub=[\"math\",\"his\",\"Eng\"]\n",
    "print(sub[0])"
   ]
  },
  {
   "cell_type": "code",
   "execution_count": 33,
   "id": "89068461-d0dc-4ae6-8705-4eda5e7b2254",
   "metadata": {},
   "outputs": [
    {
     "name": "stdout",
     "output_type": "stream",
     "text": [
      "array('d', [3.0, 4.0, 5.0])\n",
      "<class 'array.array'>\n"
     ]
    }
   ],
   "source": [
    "number=arr('d',[3,4,5])\n",
    "\n",
    "print(number)\n",
    "print(type(number))"
   ]
  },
  {
   "cell_type": "code",
   "execution_count": 31,
   "id": "62b00542-91ed-4d1d-a82f-194b2386c902",
   "metadata": {},
   "outputs": [
    {
     "name": "stdout",
     "output_type": "stream",
     "text": [
      "3.0\n",
      "4.0\n",
      "5.0\n"
     ]
    }
   ],
   "source": [
    "for i in range(0,3):\n",
    "    print(number[i])"
   ]
  },
  {
   "cell_type": "code",
   "execution_count": 35,
   "id": "bf0fd391-af18-43cf-ba32-54e2096b7beb",
   "metadata": {},
   "outputs": [
    {
     "name": "stdout",
     "output_type": "stream",
     "text": [
      "<class 'list'>\n"
     ]
    }
   ],
   "source": [
    "# Create List\n",
    "\n",
    "list1=[3,5,6]\n",
    "print(type(list1))"
   ]
  },
  {
   "cell_type": "code",
   "execution_count": 48,
   "id": "c05883f2-a0b9-4344-96c7-61555289fcfa",
   "metadata": {},
   "outputs": [
    {
     "name": "stdout",
     "output_type": "stream",
     "text": [
      "<class 'array.array'>\n",
      "<class 'list'>\n",
      "[1, 2, 3]\n"
     ]
    }
   ],
   "source": [
    "# convert array to list\n",
    "from array import array as arr\n",
    "\n",
    "arr1=arr('i',[1,2,3])\n",
    "print(type(arr1))\n",
    "temp_list=list(arr1)\n",
    "print(type(temp_list))\n",
    "print(temp_list)"
   ]
  },
  {
   "cell_type": "code",
   "execution_count": null,
   "id": "ddbc9cf1-75f3-4b60-bf6b-324e9bef7adb",
   "metadata": {},
   "outputs": [],
   "source": [
    "'''\n",
    "Adding:\n",
    "  -append - Adds an elements at the end of the list\n",
    "  -insert - Insert at any position within the list\n",
    "  -extend - Concatenation of 2 lists or extending first list with elements of second list\n",
    "Removing:\n",
    "  -pop: Remove by default last element, if index is passed removes element at that index\n",
    "  -remove: Remove the first occurence of the element\n",
    "  -clear: Clear the list, remove all elements\n",
    "\n",
    "copy: Creates a copy of list\n",
    "index: Finds the first index where an element coccurs\n",
    "reverse: Reverese the list\n",
    "sort: Sort the list in ascending order by default\n",
    "+ and *\n",
    "  \n",
    "'''"
   ]
  },
  {
   "cell_type": "code",
   "execution_count": 52,
   "id": "76286714-f679-49ab-bd21-4f50623a45a2",
   "metadata": {},
   "outputs": [
    {
     "name": "stdout",
     "output_type": "stream",
     "text": [
      "[2, 3, 4, 3]\n"
     ]
    }
   ],
   "source": [
    "nums=[2,3,4]\n",
    "nums.append(3)\n",
    "print(nums)"
   ]
  },
  {
   "cell_type": "code",
   "execution_count": 54,
   "id": "e5f4f414-bf53-45b5-b261-fe5c1ca59a29",
   "metadata": {},
   "outputs": [
    {
     "name": "stdout",
     "output_type": "stream",
     "text": [
      "[2, 5, 3, 4, 3]\n"
     ]
    }
   ],
   "source": [
    "nums.insert(1,5)\n",
    "print(nums)"
   ]
  },
  {
   "cell_type": "code",
   "execution_count": 56,
   "id": "f1a32e88-aa95-49e2-922b-97f0e7a92c70",
   "metadata": {},
   "outputs": [
    {
     "name": "stdout",
     "output_type": "stream",
     "text": [
      "[2, 5, 3, 4, 3, 8, 9]\n"
     ]
    }
   ],
   "source": [
    "nums2=[8,9]\n",
    "nums.extend(nums2)\n",
    "print(nums)"
   ]
  },
  {
   "cell_type": "code",
   "execution_count": 58,
   "id": "c85571e7-baaa-4597-af92-d6d8c90bb8a5",
   "metadata": {},
   "outputs": [
    {
     "name": "stdout",
     "output_type": "stream",
     "text": [
      "[2, 5, 3, 4, 3, 8]\n"
     ]
    }
   ],
   "source": [
    "nums.pop()\n",
    "print(nums)"
   ]
  },
  {
   "cell_type": "code",
   "execution_count": 60,
   "id": "a1f28c6f-ec35-467b-8d61-394604289714",
   "metadata": {},
   "outputs": [
    {
     "name": "stdout",
     "output_type": "stream",
     "text": [
      "[2, 5, 3, 5, 4, 3, 8]\n"
     ]
    }
   ],
   "source": [
    "nums.insert(3,5)\n",
    "print(nums)"
   ]
  },
  {
   "cell_type": "code",
   "execution_count": 62,
   "id": "2901cd06-145d-488e-918f-bbc0e9a74cbe",
   "metadata": {},
   "outputs": [
    {
     "name": "stdout",
     "output_type": "stream",
     "text": [
      "[2, 3, 5, 4, 3, 8]\n"
     ]
    }
   ],
   "source": [
    "nums.remove(5)\n",
    "print(nums)"
   ]
  },
  {
   "cell_type": "code",
   "execution_count": 64,
   "id": "18f5a4d6-06e3-4157-80b6-ab9e86874e0f",
   "metadata": {},
   "outputs": [
    {
     "name": "stdout",
     "output_type": "stream",
     "text": [
      "[8, 9]\n"
     ]
    }
   ],
   "source": [
    "print(nums2)"
   ]
  },
  {
   "cell_type": "code",
   "execution_count": 66,
   "id": "37e4dd28-0413-4175-a4b3-e9be390b926a",
   "metadata": {},
   "outputs": [],
   "source": [
    "nums2.clear()"
   ]
  },
  {
   "cell_type": "code",
   "execution_count": 68,
   "id": "b005042d-c398-479a-8e6a-1820c268099c",
   "metadata": {},
   "outputs": [
    {
     "name": "stdout",
     "output_type": "stream",
     "text": [
      "[]\n"
     ]
    }
   ],
   "source": [
    "print(nums2)"
   ]
  },
  {
   "cell_type": "code",
   "execution_count": 70,
   "id": "5a54ba9d-af52-4c76-859e-07370f07f4e3",
   "metadata": {},
   "outputs": [
    {
     "name": "stdout",
     "output_type": "stream",
     "text": [
      "['abcd', 'def', 5]\n"
     ]
    }
   ],
   "source": [
    "li =['abcd', 'def']\n",
    "li.insert(4,5)\n",
    "print(li)"
   ]
  },
  {
   "cell_type": "code",
   "execution_count": 72,
   "id": "c2519179-3dd0-41de-9b0d-fbf20758053b",
   "metadata": {},
   "outputs": [
    {
     "name": "stdout",
     "output_type": "stream",
     "text": [
      "[2, 2]\n"
     ]
    }
   ],
   "source": [
    "nums=[2,]\n",
    "print(2*nums)"
   ]
  },
  {
   "cell_type": "code",
   "execution_count": 74,
   "id": "9c0345e6-5894-4c16-a67d-3860bb8676b9",
   "metadata": {},
   "outputs": [
    {
     "name": "stdout",
     "output_type": "stream",
     "text": [
      "[3, 4, 3, 4, 3, 4]\n"
     ]
    }
   ],
   "source": [
    "nums=[3,4]\n",
    "print(3*nums)"
   ]
  },
  {
   "cell_type": "code",
   "execution_count": 84,
   "id": "0393300e-2740-42df-a48d-c4952158af5a",
   "metadata": {},
   "outputs": [
    {
     "name": "stdout",
     "output_type": "stream",
     "text": [
      "[3, 4, 5, 3, 4, 5, 3, 4]\n"
     ]
    }
   ],
   "source": [
    "nums=[3,4,5]\n",
    "num2=[5,4,6]\n",
    "nums3= nums + nums2\n",
    "print(nums3)"
   ]
  },
  {
   "cell_type": "code",
   "execution_count": 90,
   "id": "633ab648-6d0c-4d97-8b53-ede7c2243c70",
   "metadata": {},
   "outputs": [
    {
     "name": "stdout",
     "output_type": "stream",
     "text": [
      "[3, 4, 5, 5, 4, 5, 4, 5, 4]\n"
     ]
    }
   ],
   "source": [
    "nums=[3,4,5]\n",
    "num2=[5,4]\n",
    "print(nums + 3*num2)"
   ]
  },
  {
   "cell_type": "code",
   "execution_count": 9,
   "id": "305e3005-5ce8-4223-9294-afa77961d6a4",
   "metadata": {},
   "outputs": [
    {
     "name": "stdin",
     "output_type": "stream",
     "text": [
      " 5\n",
      " 3\n",
      " 6\n",
      " 7\n",
      " 8\n",
      " 1\n"
     ]
    },
    {
     "name": "stdout",
     "output_type": "stream",
     "text": [
      "['3', '6', '7', '8', '1']\n"
     ]
    }
   ],
   "source": [
    "n = int(input())\n",
    "li = []\n",
    "for i in range(n):\n",
    "    li.append(input())\n",
    "print(li)"
   ]
  },
  {
   "cell_type": "code",
   "execution_count": 94,
   "id": "1ccbbe19-53d1-4f5d-a3ff-337bd005c558",
   "metadata": {},
   "outputs": [
    {
     "name": "stdout",
     "output_type": "stream",
     "text": [
      "[]\n"
     ]
    }
   ],
   "source": [
    "num=[]\n",
    "print(num)"
   ]
  },
  {
   "cell_type": "code",
   "execution_count": 100,
   "id": "70226f24-ba45-4484-a93d-367366e38651",
   "metadata": {},
   "outputs": [
    {
     "name": "stdout",
     "output_type": "stream",
     "text": [
      "[5, '5']\n"
     ]
    }
   ],
   "source": [
    "num.append('5')\n",
    "print(num)"
   ]
  },
  {
   "cell_type": "code",
   "execution_count": 114,
   "id": "4aee5fd6-0ffb-453a-abbb-e12a45a83a1d",
   "metadata": {},
   "outputs": [
    {
     "name": "stdout",
     "output_type": "stream",
     "text": [
      "[8, 7, 6, 5, 4, 3]\n"
     ]
    }
   ],
   "source": [
    "num=[3,4,5,6,7,8]\n",
    "print(num[::-1])"
   ]
  },
  {
   "cell_type": "code",
   "execution_count": 128,
   "id": "598197b5-1765-4a4e-bbac-32246d88c8cd",
   "metadata": {},
   "outputs": [
    {
     "name": "stdout",
     "output_type": "stream",
     "text": [
      "[8, 7, 6, 5, 4, 3]\n"
     ]
    }
   ],
   "source": [
    "num=[3,4,5,6,7,8]\n",
    "print(num[5::-1])"
   ]
  },
  {
   "cell_type": "code",
   "execution_count": 136,
   "id": "fcc3f4b2-8789-434c-95d4-45a3f28d160d",
   "metadata": {},
   "outputs": [
    {
     "name": "stdout",
     "output_type": "stream",
     "text": [
      "6\n"
     ]
    }
   ],
   "source": [
    "#Max element\n",
    "list1=[2,4,5,6]\n",
    "print(max(list1))"
   ]
  },
  {
   "cell_type": "code",
   "execution_count": 181,
   "id": "edfaaa7f-9778-461f-8466-29878ab27c4d",
   "metadata": {},
   "outputs": [
    {
     "name": "stdout",
     "output_type": "stream",
     "text": [
      "5\n",
      "1\n"
     ]
    }
   ],
   "source": [
    "#Min element\n",
    "list1=[1,2,4,5,6]\n",
    "print(list1[3])\n",
    "print(min(list1))"
   ]
  },
  {
   "cell_type": "code",
   "execution_count": 13,
   "id": "7ea5dfe7-fc9d-4e56-9f88-97e1f3f146a3",
   "metadata": {},
   "outputs": [
    {
     "name": "stdin",
     "output_type": "stream",
     "text": [
      " 3 4 5\n"
     ]
    },
    {
     "name": "stdout",
     "output_type": "stream",
     "text": [
      "3\n"
     ]
    }
   ],
   "source": [
    "all_marks = list(map(int,input().split(\" \")))\n",
    "max_marks=all_marks[0]\n",
    "\n",
    "for marks in  all_marks:\n",
    "    max_marks = max(marks,max_marks)\n",
    "print(max_marks)    "
   ]
  },
  {
   "cell_type": "code",
   "execution_count": 55,
   "id": "865abd4c-90ce-4894-8349-f921d7e9eea2",
   "metadata": {},
   "outputs": [
    {
     "name": "stdin",
     "output_type": "stream",
     "text": [
      " 2\n",
      " 1 2\n"
     ]
    },
    {
     "name": "stdout",
     "output_type": "stream",
     "text": [
      "1\n"
     ]
    }
   ],
   "source": [
    "n=int(input())\n",
    "all_marks = list(map(int,input().split(\" \")))\n",
    "max_marks=all_marks[0]\n",
    "\n",
    "for i in  range(n):\n",
    "    max_marks = min(all_marks[i],max_marks)\n",
    "print(max_marks) "
   ]
  },
  {
   "cell_type": "code",
   "execution_count": 183,
   "id": "31e0887f-743b-48e4-bf7f-7749db949c86",
   "metadata": {},
   "outputs": [
    {
     "name": "stdin",
     "output_type": "stream",
     "text": [
      " 4\n",
      " 3 5 6 7\n"
     ]
    },
    {
     "name": "stdout",
     "output_type": "stream",
     "text": [
      "[3, 5, 6, 7]\n",
      "3\n"
     ]
    }
   ],
   "source": [
    "def minimum_element(arr, n):\n",
    "    min_num=arr[0]\n",
    "    for i in range(n):\n",
    "        min_num=min(arr[i], min_num)\n",
    "    print(min_num)\n",
    "\n",
    "n=int(input())\n",
    "arr=list(map(int,input().split(\" \")))\n",
    "print(arr)\n",
    "minimum_element(arr, n)\n",
    "\n"
   ]
  },
  {
   "cell_type": "code",
   "execution_count": 143,
   "id": "e0914084-78a7-4306-b978-b788260be65b",
   "metadata": {},
   "outputs": [
    {
     "name": "stdin",
     "output_type": "stream",
     "text": [
      " 3 4 5 6\n"
     ]
    },
    {
     "name": "stdout",
     "output_type": "stream",
     "text": [
      "[3, 4, 5, 6]\n",
      "6\n",
      "3\n"
     ]
    }
   ],
   "source": [
    "#map max min\n",
    "from array import array as arr\n",
    "marks=list(map(int, input().split(\" \")))\n",
    "print(marks)\n",
    "print(max(marks))\n",
    "print(min(marks))\n"
   ]
  },
  {
   "cell_type": "code",
   "execution_count": 121,
   "id": "92d0062e-86b7-48fb-b514-fbd4d5e204db",
   "metadata": {},
   "outputs": [
    {
     "name": "stdout",
     "output_type": "stream",
     "text": [
      "array('i', [5, 6, 7, 8, 2])\n",
      "8\n",
      "2\n"
     ]
    }
   ],
   "source": [
    "# def minimum_element(arr, n):\n",
    "from array import array as arr\n",
    "arr1 = arr('i',[5, 6 ,7,8])\n",
    "arr1.append(2)\n",
    "print(arr1)\n",
    "print(max(arr1))\n",
    "print(min(arr1))\n",
    "    "
   ]
  },
  {
   "cell_type": "code",
   "execution_count": 177,
   "id": "9d7ed037-ba3c-4264-9223-872061b13d22",
   "metadata": {},
   "outputs": [
    {
     "name": "stdin",
     "output_type": "stream",
     "text": [
      " 4\n",
      " 4\n",
      " 5\n",
      " 6\n",
      " 7\n"
     ]
    },
    {
     "name": "stdout",
     "output_type": "stream",
     "text": [
      "array('i', [4, 4, 5, 6, 7])\n"
     ]
    }
   ],
   "source": [
    "from array import array as arr\n",
    "arr1=arr('i',[])\n",
    "for i in range(5):\n",
    "    num=int(input()) \n",
    "    arr1.append(num)\n",
    "print(arr1)    "
   ]
  },
  {
   "cell_type": "code",
   "execution_count": 219,
   "id": "f2f4ab13-2429-45d7-97e3-8a831a190b59",
   "metadata": {},
   "outputs": [
    {
     "name": "stdin",
     "output_type": "stream",
     "text": [
      " 4\n",
      " 333 2 3 1\n"
     ]
    },
    {
     "name": "stdout",
     "output_type": "stream",
     "text": [
      "[333, 2, 3, 1]\n",
      "339\n"
     ]
    }
   ],
   "source": [
    "n = int(input())\n",
    "\n",
    "arr = list(map(int, input().split()))\n",
    "print(arr)\n",
    "print(sum(arr)) \n",
    "    \n",
    "        \n",
    "         "
   ]
  },
  {
   "cell_type": "code",
   "execution_count": 237,
   "id": "b6ccf503-2f89-4d6c-8782-0a08b50dad68",
   "metadata": {},
   "outputs": [
    {
     "name": "stdin",
     "output_type": "stream",
     "text": [
      "Enetre List Element 1 2 2 1\n"
     ]
    },
    {
     "data": {
      "text/plain": [
       "True"
      ]
     },
     "execution_count": 237,
     "metadata": {},
     "output_type": "execute_result"
    }
   ],
   "source": [
    "#Palindrome list\n",
    "# 1 approach\n",
    "\n",
    "def palindrome_list(list1):\n",
    "    rev=list1.copy()\n",
    "    rev.reverse()\n",
    "    return rev == list1\n",
    "\n",
    "list1=list(map(int, input(\"Enetre List Element\").split()))\n",
    "palindrome_list(list1)\n",
    "    \n",
    "    \n",
    "    "
   ]
  },
  {
   "cell_type": "code",
   "execution_count": 243,
   "id": "50ba37ea-7714-44da-8e9a-ca246f87279e",
   "metadata": {},
   "outputs": [
    {
     "name": "stdin",
     "output_type": "stream",
     "text": [
      "Enetre List Element 1 2 3 1\n"
     ]
    },
    {
     "data": {
      "text/plain": [
       "False"
      ]
     },
     "execution_count": 243,
     "metadata": {},
     "output_type": "execute_result"
    }
   ],
   "source": [
    "#2 approach\n",
    "def palindrome_list(list1):\n",
    "    lo=0\n",
    "    hi=len(list1)-1\n",
    "    while lo<=hi:\n",
    "        if list1[lo] != list1[hi]:\n",
    "            return False\n",
    "        lo+=1\n",
    "        hi+=-1\n",
    "    return True\n",
    "    \n",
    "list1=list(map(int, input(\"Enetre List Element\").split()))\n",
    "palindrome_list(list1)    \n",
    "    "
   ]
  },
  {
   "cell_type": "code",
   "execution_count": null,
   "id": "e91c58a0-00d8-4ebe-a50b-cecbeab22b1a",
   "metadata": {},
   "outputs": [],
   "source": [
    "Sample Input 1:\n",
    "1\n",
    "6\n",
    "9 3 6 12 4 32\n",
    "Sample Output 1 :\n",
    "3 9 12 6 32 4"
   ]
  },
  {
   "cell_type": "code",
   "execution_count": 299,
   "id": "5fef3644-4982-46e5-ac18-cc3109997b1c",
   "metadata": {},
   "outputs": [
    {
     "name": "stdin",
     "output_type": "stream",
     "text": [
      " 1\n",
      " 4 \n",
      " 2 3 4 5\n"
     ]
    },
    {
     "name": "stdout",
     "output_type": "stream",
     "text": [
      "3 2 5 3\n"
     ]
    }
   ],
   "source": [
    "def swapAlternate(arr, n) :\n",
    "    f=0\n",
    "    s=1\n",
    "    while s<=n-1:\n",
    "        temp=arr[0]\n",
    "        arr[f]=arr[s]\n",
    "        arr[s]=temp\n",
    "        f+=2\n",
    "        s+=2\n",
    "    print(*arr)\n",
    "\n",
    "t=int(input())\n",
    "\n",
    "for i in range(t):\n",
    "    n=int(input())\n",
    "    arr=list(map(int, input().split()))\n",
    "    swapAlternate(arr, n)\n",
    "\n",
    " \n",
    "    \n",
    "        \n",
    "    \n",
    "    "
   ]
  },
  {
   "cell_type": "code",
   "execution_count": 281,
   "id": "517503ba-b005-4cdb-bb46-33605291db21",
   "metadata": {},
   "outputs": [
    {
     "name": "stdin",
     "output_type": "stream",
     "text": [
      " 2\n",
      " 2 3 4 5\n"
     ]
    },
    {
     "name": "stdout",
     "output_type": "stream",
     "text": [
      "3 2 4 5\n"
     ]
    }
   ],
   "source": [
    "def swapAlternate(arr, n):\n",
    "    for i in range(0, n - 1, 2):  # Swap pairs (0-1, 2-3, etc.)\n",
    "        arr[i], arr[i + 1] = arr[i + 1], arr[i]  # Swap using tuple unpacking\n",
    "\n",
    "    print(*arr)  # Print array in space-separated format\n",
    "\n",
    "# Read input\n",
    "n = int(input())\n",
    "arr = list(map(int, input().split()))\n",
    "\n",
    "# Call function\n",
    "swapAlternate(arr, n)\n"
   ]
  },
  {
   "cell_type": "code",
   "execution_count": 307,
   "id": "6dbbdbac-420a-4e7b-b941-27167e0430a3",
   "metadata": {},
   "outputs": [
    {
     "name": "stdin",
     "output_type": "stream",
     "text": [
      " 2\n",
      " 4\n",
      " 1 2 3 4\n",
      " 4\n",
      " 2 3 4 5\n"
     ]
    }
   ],
   "source": [
    "def swapAlternate(arr, n) :\n",
    "\n",
    "    for i in range(0,n-1,2):\n",
    "       arr[i], arr[i + 1] = arr[i + 1], arr[i]\n",
    "        \n",
    "t = int(input().strip())\n",
    "\n",
    "for _ in range(t):\n",
    "    n = int(input().strip())  \n",
    "    arr = list(map(int, input().split()))  \n",
    "    swapAlternate(arr, n) \n",
    "f"
   ]
  },
  {
   "cell_type": "code",
   "execution_count": null,
   "id": "cce28028-7a63-4d23-a786-51053403b511",
   "metadata": {},
   "outputs": [],
   "source": []
  }
 ],
 "metadata": {
  "kernelspec": {
   "display_name": "Python [conda env:base] *",
   "language": "python",
   "name": "conda-base-py"
  },
  "language_info": {
   "codemirror_mode": {
    "name": "ipython",
    "version": 3
   },
   "file_extension": ".py",
   "mimetype": "text/x-python",
   "name": "python",
   "nbconvert_exporter": "python",
   "pygments_lexer": "ipython3",
   "version": "3.12.7"
  }
 },
 "nbformat": 4,
 "nbformat_minor": 5
}
