{
 "cells": [
  {
   "cell_type": "code",
   "execution_count": 14,
   "id": "f55f3360",
   "metadata": {},
   "outputs": [],
   "source": [
    "'''Create Queue '''\n",
    "class Queue:\n",
    "    def __init__(self):\n",
    "        self.__arr=[]\n",
    "\n",
    "    def is_empty(self):\n",
    "        return len(self.__arr) == 0 \n",
    "    \n",
    "    def enqueue(self,data):\n",
    "        self.__arr.append(data)\n",
    "\n",
    "    def dequeue(self):\n",
    "        if self.is_empty():\n",
    "            print(\"Queue is empty\")\n",
    "            return \n",
    "        return self.__arr.pop(0)\n",
    "    \n",
    "    def front(self):\n",
    "        if self.is_empty():\n",
    "            print(\"Queue is empty\")\n",
    "            return\n",
    "        return self.__arr[0]\n",
    "\n"
   ]
  },
  {
   "cell_type": "code",
   "execution_count": 15,
   "id": "16bf20b1",
   "metadata": {},
   "outputs": [
    {
     "data": {
      "text/plain": [
       "20"
      ]
     },
     "execution_count": 15,
     "metadata": {},
     "output_type": "execute_result"
    }
   ],
   "source": [
    "qu= Queue()\n",
    "qu.enqueue(10)\n",
    "qu.enqueue(20)\n",
    "qu.enqueue(30)\n",
    "qu.front()\n",
    "qu.dequeue()\n",
    "qu.front()"
   ]
  },
  {
   "cell_type": "code",
   "execution_count": null,
   "id": "19025ae7",
   "metadata": {},
   "outputs": [],
   "source": []
  }
 ],
 "metadata": {
  "kernelspec": {
   "display_name": "base",
   "language": "python",
   "name": "python3"
  },
  "language_info": {
   "codemirror_mode": {
    "name": "ipython",
    "version": 3
   },
   "file_extension": ".py",
   "mimetype": "text/x-python",
   "name": "python",
   "nbconvert_exporter": "python",
   "pygments_lexer": "ipython3",
   "version": "3.12.7"
  }
 },
 "nbformat": 4,
 "nbformat_minor": 5
}
