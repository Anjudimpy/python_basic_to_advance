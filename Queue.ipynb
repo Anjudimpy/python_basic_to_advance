{
 "cells": [
  {
   "cell_type": "code",
   "execution_count": null,
   "id": "f55f3360",
   "metadata": {},
   "outputs": [],
   "source": [
    "'''Create Queue using python list'''\n",
    "class Queue:\n",
    "    def __init__(self):\n",
    "        self.__arr=[]\n",
    "\n",
    "    def is_empty(self):\n",
    "        return len(self.__arr) == 0 \n",
    "    \n",
    "    def enqueue(self,data):\n",
    "        self.__arr.append(data)\n",
    "\n",
    "    def dequeue(self):\n",
    "        if self.is_empty():\n",
    "            print(\"Queue is empty\")\n",
    "            return \n",
    "        self.__arr.pop(0)\n",
    "    \n",
    "    def front(self):\n",
    "        if self.is_empty():\n",
    "            print(\"Queue is empty\")\n",
    "            return\n",
    "        return self.__arr[0]\n",
    "\n"
   ]
  },
  {
   "cell_type": "code",
   "execution_count": 21,
   "id": "16bf20b1",
   "metadata": {},
   "outputs": [
    {
     "name": "stdout",
     "output_type": "stream",
     "text": [
      "Queue is empty\n"
     ]
    }
   ],
   "source": [
    "qu= Queue()\n",
    "qu.enqueue(10)\n",
    "qu.enqueue(20)\n",
    "qu.enqueue(30)\n",
    "qu.front()\n",
    "qu.dequeue()\n",
    "qu.front()\n",
    "qu.dequeue()\n",
    "qu.front()\n",
    "qu.dequeue()\n",
    "qu.front()"
   ]
  },
  {
   "cell_type": "code",
   "execution_count": 38,
   "id": "19025ae7",
   "metadata": {},
   "outputs": [],
   "source": [
    "'''Create Queue using LinkList'''\n",
    "\n",
    "class Node:\n",
    "    def __init__(self,value):\n",
    "        self.data=value\n",
    "        self.next =None\n",
    "\n",
    "class Linklist:\n",
    "    def __init__(self):\n",
    "        self.head = None \n",
    "        self.tail=None\n",
    "\n",
    "    \n",
    "    def add_at_tail(self, data):\n",
    "        newNode = Node(data)\n",
    "        if self.head ==  None: #if queue is empty\n",
    "            self.head = newNode\n",
    "            self.tail = newNode\n",
    "        else:\n",
    "            self.tail.next = newNode # if queue not empty\n",
    "            self.tail = newNode\n",
    "\n",
    "    def remove_at_front(self):\n",
    "        if self.is_empty():\n",
    "            return\n",
    "        if self.head.next == None:\n",
    "            self.head = None\n",
    "            self.tail = None\n",
    "            return\n",
    "        newHead =  self.head.next\n",
    "        self.head.next = None\n",
    "        self.head = newHead\n",
    "        \n",
    "\n",
    "    def is_empty(self):\n",
    "        return self.head == None\n",
    "    \n",
    "    def get_head(self):\n",
    "        if self.is_empty():\n",
    "            return\n",
    "        return self.head.data\n",
    "\n",
    "\n",
    "'''Queue Class '''\n",
    "class Queue:\n",
    "    def __init__(self):\n",
    "        self.__ll = Linklist()\n",
    "\n",
    "    def enqueue(self, data):\n",
    "        self.__ll.add_at_tail(data)\n",
    "\n",
    "    def is_empty(self):\n",
    "     \n",
    "     return self.__ll.is_empty()\n",
    "    \n",
    "    def dequeue(self):\n",
    "        if self.is_empty():\n",
    "            print(\"Queue is empty\")\n",
    "            return\n",
    "        self.__ll.remove_at_front()\n",
    "\n",
    "    def front(self):\n",
    "        if self.is_empty():\n",
    "            print(\"Queue is empty\")\n",
    "            return\n",
    "        return self.__ll.get_head()\n",
    "\n",
    "        "
   ]
  },
  {
   "cell_type": "code",
   "execution_count": 39,
   "id": "fa2915c3",
   "metadata": {},
   "outputs": [
    {
     "name": "stdout",
     "output_type": "stream",
     "text": [
      "Queue is empty\n"
     ]
    }
   ],
   "source": [
    "q= Queue()\n",
    "q.dequeue()\n",
    "q.enqueue(10)\n",
    "q.enqueue(20)\n",
    "q.front()\n",
    "q.dequeue()\n",
    "q.front()\n",
    "q.dequeue()\n"
   ]
  },
  {
   "cell_type": "code",
   "execution_count": null,
   "id": "297f8f67",
   "metadata": {},
   "outputs": [],
   "source": []
  }
 ],
 "metadata": {
  "kernelspec": {
   "display_name": "base",
   "language": "python",
   "name": "python3"
  },
  "language_info": {
   "codemirror_mode": {
    "name": "ipython",
    "version": 3
   },
   "file_extension": ".py",
   "mimetype": "text/x-python",
   "name": "python",
   "nbconvert_exporter": "python",
   "pygments_lexer": "ipython3",
   "version": "3.12.7"
  }
 },
 "nbformat": 4,
 "nbformat_minor": 5
}
