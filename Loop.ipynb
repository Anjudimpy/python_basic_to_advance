{
 "cells": [
  {
   "cell_type": "code",
   "execution_count": 1,
   "id": "01cc80fd-2058-4ae8-b52c-2722f10a188d",
   "metadata": {},
   "outputs": [
    {
     "name": "stdout",
     "output_type": "stream",
     "text": [
      "heloo\n"
     ]
    }
   ],
   "source": [
    "print(\"heloo\")"
   ]
  },
  {
   "cell_type": "code",
   "execution_count": 11,
   "id": "a93073e5-9dc0-4021-8658-f742c8f7c353",
   "metadata": {},
   "outputs": [
    {
     "name": "stdin",
     "output_type": "stream",
     "text": [
      " 9\n"
     ]
    },
    {
     "name": "stdout",
     "output_type": "stream",
     "text": [
      "20\n"
     ]
    }
   ],
   "source": [
    "i=0\n",
    "s=0\n",
    "n=int(input())\n",
    "while i<=n:\n",
    "    s=s+i\n",
    "    i=i+2\n",
    "print(s)    \n",
    "    \n",
    "    "
   ]
  },
  {
   "cell_type": "code",
   "execution_count": 3,
   "id": "9c7410d0-21c2-4702-8a05-48c0e7c97182",
   "metadata": {},
   "outputs": [
    {
     "name": "stdout",
     "output_type": "stream",
     "text": [
      "heloo\n"
     ]
    }
   ],
   "source": [
    "print(\"heloo\")\n"
   ]
  },
  {
   "cell_type": "code",
   "execution_count": 26,
   "id": "f83b32b6-7179-4fbc-8125-b41ee14b018f",
   "metadata": {},
   "outputs": [
    {
     "name": "stdout",
     "output_type": "stream",
     "text": [
      "20\n",
      "18\n",
      "16\n",
      "14\n",
      "12\n",
      "10\n",
      "8\n",
      "6\n",
      "4\n",
      "2\n"
     ]
    }
   ],
   "source": [
    "#REVERSE NUMBER\n",
    "\n",
    "i=20\n",
    "while i>=1:\n",
    "    print(i)\n",
    "    i-=2\n",
    "  "
   ]
  },
  {
   "cell_type": "code",
   "execution_count": 66,
   "id": "1c8c8454-db9f-4725-b690-89520bf6a041",
   "metadata": {},
   "outputs": [
    {
     "name": "stdin",
     "output_type": "stream",
     "text": [
      " 8\n"
     ]
    },
    {
     "name": "stdout",
     "output_type": "stream",
     "text": [
      "8 Composite Number\n"
     ]
    }
   ],
   "source": [
    "#PRIME AND COMPOSITE NUMBER\n",
    "n=int(input())\n",
    "i=2\n",
    "while i<=n-1:\n",
    "    if n%i==0:\n",
    "        print(n,\"Composite Number\")\n",
    "        break\n",
    "    i+=1  \n",
    "else:\n",
    "    print(n, \"Prime Number\")    \n",
    "    \n",
    "   "
   ]
  },
  {
   "cell_type": "code",
   "execution_count": 74,
   "id": "b328ba1d-27c5-4c4c-9ded-c6f6dbf45292",
   "metadata": {},
   "outputs": [
    {
     "name": "stdout",
     "output_type": "stream",
     "text": [
      "2\n",
      "4\n",
      "6\n",
      "8\n"
     ]
    }
   ],
   "source": [
    "# for loop\n",
    "for i in range(2,10,2):\n",
    "    print(i)\n",
    "    \n"
   ]
  },
  {
   "cell_type": "code",
   "execution_count": 76,
   "id": "8045f6a3-9ed1-46bd-8b46-900e13126906",
   "metadata": {},
   "outputs": [
    {
     "name": "stdout",
     "output_type": "stream",
     "text": [
      "20\n",
      "18\n",
      "16\n",
      "14\n",
      "12\n",
      "10\n",
      "8\n",
      "6\n",
      "4\n",
      "2\n"
     ]
    }
   ],
   "source": [
    "for i in range(20,1,-2):\n",
    "    print(i)"
   ]
  },
  {
   "cell_type": "code",
   "execution_count": 78,
   "id": "f6143d07-5732-402a-828f-251b989394e4",
   "metadata": {},
   "outputs": [
    {
     "name": "stdin",
     "output_type": "stream",
     "text": [
      " 100\n"
     ]
    },
    {
     "name": "stdout",
     "output_type": "stream",
     "text": [
      "2 4 5 10 20 25 50 "
     ]
    }
   ],
   "source": [
    "# Factor of number\n",
    "\n",
    "n=int(input())\n",
    "isPrime = True\n",
    "for i in range(2,n):\n",
    "    if n%i==0:\n",
    "        print(i,end=\" \")\n",
    "        isPrime=False\n",
    "    i+=1   \n",
    "if isPrime:\n",
    "    print(-1)  "
   ]
  },
  {
   "cell_type": "code",
   "execution_count": 117,
   "id": "a65bd004-ed7a-43e1-9dde-8bbf0a1e3943",
   "metadata": {},
   "outputs": [
    {
     "name": "stdin",
     "output_type": "stream",
     "text": [
      " 0\n"
     ]
    },
    {
     "name": "stdout",
     "output_type": "stream",
     "text": [
      "0\n"
     ]
    }
   ],
   "source": [
    "n=int(input())\n",
    "rev=0\n",
    "while n>0:\n",
    "    r=n%10\n",
    "    rev=rev*10+r\n",
    "    n//=10\n",
    "print(rev)    "
   ]
  },
  {
   "cell_type": "code",
   "execution_count": 255,
   "id": "a9cbcee7-6314-4f21-8c7f-41b3530566af",
   "metadata": {},
   "outputs": [
    {
     "name": "stdin",
     "output_type": "stream",
     "text": [
      " 4\n"
     ]
    },
    {
     "name": "stdout",
     "output_type": "stream",
     "text": [
      "2\n",
      "3\n",
      "4 th febonacci number:- 3\n"
     ]
    }
   ],
   "source": [
    "#fabonacci series\n",
    "\n",
    "n=int(input())\n",
    "fn=1\n",
    "ls=1\n",
    "count=2\n",
    "feb_next=0\n",
    "while count<n:\n",
    "    feb_next=fn+ls\n",
    "    print(feb_next)\n",
    "    fn=ls\n",
    "    ls=feb_next\n",
    "    count+=1\n",
    "if feb_next>=2:\n",
    "    print(n,\"th febonacci number:-\",feb_next) #nth febonacci series\n",
    "else:\n",
    "    print(1)\n",
    "  \n",
    "\n",
    "\n",
    "  \n"
   ]
  },
  {
   "cell_type": "code",
   "execution_count": 267,
   "id": "a4337896-d712-46e7-9a65-3340eecf344b",
   "metadata": {},
   "outputs": [
    {
     "name": "stdin",
     "output_type": "stream",
     "text": [
      " 5\n"
     ]
    },
    {
     "name": "stdout",
     "output_type": "stream",
     "text": [
      "0\n",
      "1\n",
      "4\n",
      "9\n",
      "16\n"
     ]
    }
   ],
   "source": [
    "n=int(input())\n",
    "i=0\n",
    "while i<n:\n",
    "    s=i*i\n",
    "    print(s)\n",
    "    i+=1\n"
   ]
  },
  {
   "cell_type": "markdown",
   "id": "027e3601-abb5-49ca-91d9-c79738e3938f",
   "metadata": {},
   "source": [
    "###### "
   ]
  },
  {
   "cell_type": "code",
   "execution_count": 335,
   "id": "e53158c8-d95e-4755-bf4e-4b66190124ae",
   "metadata": {},
   "outputs": [
    {
     "name": "stdin",
     "output_type": "stream",
     "text": [
      " 0\n"
     ]
    },
    {
     "name": "stdout",
     "output_type": "stream",
     "text": [
      "0\n",
      "\n"
     ]
    }
   ],
   "source": [
    "n=float(input())\n",
    "binary_num=\"\"\n",
    "if n==0:\n",
    "    print(0)\n",
    "while n>0:\n",
    "    if n%2==0:\n",
    "        binary_num=\"0\"+binary_num\n",
    "    else:\n",
    "        binary_num=\"1\"+binary_num\n",
    "    n//=2 \n",
    "    \n",
    "print(binary_num)   "
   ]
  },
  {
   "cell_type": "code",
   "execution_count": 357,
   "id": "b2fb5a46-eb5a-4975-a5ff-0904375f48b3",
   "metadata": {},
   "outputs": [
    {
     "name": "stdin",
     "output_type": "stream",
     "text": [
      " 88\n"
     ]
    },
    {
     "name": "stdout",
     "output_type": "stream",
     "text": [
      "1011000\n"
     ]
    }
   ],
   "source": [
    "#Binary to Desimal\n",
    "\n",
    "n=float(input())\n",
    "binary_num=\"\"\n",
    "if n==0:\n",
    "    binary_num=\"0\"+binary_num\n",
    "else:\n",
    "    while n>0:\n",
    "        if n%2==0:\n",
    "            binary_num=\"0\"+binary_num\n",
    "        else:\n",
    "            binary_num=\"1\"+binary_num\n",
    "        n//=2 \n",
    "print(binary_num)       \n"
   ]
  },
  {
   "cell_type": "code",
   "execution_count": 375,
   "id": "21044277-be07-41e3-a13f-3e8ede2dd7f9",
   "metadata": {},
   "outputs": [
    {
     "name": "stdin",
     "output_type": "stream",
     "text": [
      " 0\n"
     ]
    },
    {
     "name": "stdout",
     "output_type": "stream",
     "text": [
      "0\n"
     ]
    }
   ],
   "source": [
    "#Desimal to Binary\n",
    "\n",
    "n=int(input())\n",
    "ans=0\n",
    "pow=1\n",
    "while n>0:\n",
    "    lastdigit=n%10\n",
    "    ans+=lastdigit*pow\n",
    "    pow *= 2\n",
    "    n//=10\n",
    "    \n",
    "print(ans)    \n"
   ]
  },
  {
   "cell_type": "code",
   "execution_count": 383,
   "id": "69c64b94-6d76-4900-b289-0194b01e7245",
   "metadata": {},
   "outputs": [
    {
     "name": "stdin",
     "output_type": "stream",
     "text": [
      " 0\n"
     ]
    }
   ],
   "source": [
    "#Table\n",
    "n=int(input())\n",
    "for value in range(1,n+1):\n",
    "    for i in range(1,11):\n",
    "        print(value*i,end=\" \")\n",
    "    print()  "
   ]
  },
  {
   "cell_type": "code",
   "execution_count": 395,
   "id": "4ff8ad39-568d-4f73-a068-35eaa3466a3e",
   "metadata": {},
   "outputs": [
    {
     "name": "stdin",
     "output_type": "stream",
     "text": [
      " 10\n",
      " 4\n"
     ]
    },
    {
     "name": "stdout",
     "output_type": "stream",
     "text": [
      "-1\n"
     ]
    }
   ],
   "source": [
    "n=int(input())\n",
    "c=int(input())\n",
    "sum=0\n",
    "product=1\n",
    "if c==1:\n",
    "    for i in range(1,n+1):\n",
    "        sum+=i\n",
    "    print(sum)\n",
    "elif c==2:\n",
    "    for i in range(1,n+1):\n",
    "        product*=i\n",
    "    print(product)\n",
    "else:\n",
    "    print(-1)"
   ]
  },
  {
   "cell_type": "code",
   "execution_count": 425,
   "id": "e516505b-5c75-4535-b11e-87c850b21c14",
   "metadata": {},
   "outputs": [
    {
     "name": "stdin",
     "output_type": "stream",
     "text": [
      " 0 0\n"
     ]
    },
    {
     "name": "stdout",
     "output_type": "stream",
     "text": [
      "0\n"
     ]
    }
   ],
   "source": [
    "x, n = input().split()\n",
    "x =int(x)\n",
    "n= int(n)\n",
    "t=x\n",
    "for i in range(1,n):\n",
    "    x=x*t\n",
    "print(x)    "
   ]
  },
  {
   "cell_type": "code",
   "execution_count": 469,
   "id": "03baa56a-45f4-4649-b77e-28ae674ce699",
   "metadata": {},
   "outputs": [
    {
     "name": "stdin",
     "output_type": "stream",
     "text": [
      " 10\n"
     ]
    },
    {
     "name": "stdout",
     "output_type": "stream",
     "text": [
      "5 11 14 17 23 26 29 35 38 41 "
     ]
    }
   ],
   "source": [
    "# AP Sries\n",
    "n=int(input())\n",
    "count=0\n",
    "i=1\n",
    "while count<n:\n",
    "    tn=3*i+2\n",
    "    if tn%4!=0:\n",
    "        print(tn,end=\" \")\n",
    "        count+=1   \n",
    "    i+=1    \n",
    "  \n",
    "\n",
    "        \n",
    "\n",
    "\n"
   ]
  },
  {
   "cell_type": "code",
   "execution_count": 487,
   "id": "c6059c6b-fe14-44be-b23d-65a7819aa509",
   "metadata": {},
   "outputs": [
    {
     "name": "stdin",
     "output_type": "stream",
     "text": [
      " 2100\n"
     ]
    },
    {
     "name": "stdout",
     "output_type": "stream",
     "text": [
      "False\n"
     ]
    }
   ],
   "source": [
    "#leap year\n",
    "\n",
    "def is_leap(year):\n",
    "    leap = False\n",
    "    \n",
    "    # Write your logic here\n",
    "    if year%4==0 and year%100!=0:\n",
    "        leap=True \n",
    "    elif year%400==0:\n",
    "        leap=True\n",
    "    return leap\n",
    "\n",
    "year = int(input())\n",
    "print(is_leap(year))"
   ]
  },
  {
   "cell_type": "code",
   "execution_count": 533,
   "id": "79fa43e7-c663-4705-81d7-5177a7d1529e",
   "metadata": {},
   "outputs": [
    {
     "name": "stdin",
     "output_type": "stream",
     "text": [
      " 6\n"
     ]
    },
    {
     "name": "stdout",
     "output_type": "stream",
     "text": [
      "123456\n"
     ]
    }
   ],
   "source": [
    "n=int(input())\n",
    "num=0\n",
    "for i in range(1,n+1):\n",
    "    num=num*10+i\n",
    "print(num)    "
   ]
  },
  {
   "cell_type": "code",
   "execution_count": 577,
   "id": "4d2d4146-357e-4004-8122-9696f5925b80",
   "metadata": {},
   "outputs": [
    {
     "name": "stdin",
     "output_type": "stream",
     "text": [
      " 0\n",
      " 100\n",
      " 40\n"
     ]
    },
    {
     "name": "stdout",
     "output_type": "stream",
     "text": [
      "0 -17\n",
      "40 4\n",
      "80 26\n"
     ]
    }
   ],
   "source": [
    "#Fahrenheit to Celsius\n",
    "\n",
    "s=int(input())\n",
    "l=int(input())\n",
    "g=int(input())\n",
    "for i in range(s,l+1,g):\n",
    "    c=5/9*(i-32)\n",
    "    print(i,end=\" \")\n",
    "    print(int(c))\n",
    "    \n",
    "\n"
   ]
  },
  {
   "cell_type": "code",
   "execution_count": 605,
   "id": "dbcd1605-36c4-4fa1-bb8f-efa765c6894f",
   "metadata": {},
   "outputs": [
    {
     "name": "stdin",
     "output_type": "stream",
     "text": [
      " 10\n"
     ]
    },
    {
     "name": "stdout",
     "output_type": "stream",
     "text": [
      "2\n",
      "3\n",
      "5\n",
      "7\n"
     ]
    }
   ],
   "source": [
    "#Given an integer N, print all the prime numbers that lie in the range 2 to N \n",
    "\n",
    "n=int(input())\n",
    "for i in range(2,n+1):\n",
    "    is_prime=True\n",
    "    for j in range(2,i):\n",
    "        if i%j==0:\n",
    "            is_prime=False\n",
    "            break\n",
    "    if is_prime:\n",
    "        print(i)\n"
   ]
  },
  {
   "cell_type": "code",
   "execution_count": 1,
   "id": "0a34d38a-f603-437c-8ef2-6ef49be89c64",
   "metadata": {},
   "outputs": [
    {
     "name": "stdin",
     "output_type": "stream",
     "text": [
      " 4\n"
     ]
    },
    {
     "name": "stdout",
     "output_type": "stream",
     "text": [
      "   1\n",
      "  12\n",
      " 123\n",
      "1234\n"
     ]
    }
   ],
   "source": [
    "n=int(input())\n",
    "for i in range(1,n+1):\n",
    "    for s in range(1,n+1-i):\n",
    "        print(\" \",end=\"\")\n",
    "    for j in range(1,i+1):\n",
    "        print(j,end=\"\")\n",
    "    print()    "
   ]
  },
  {
   "cell_type": "code",
   "execution_count": null,
   "id": "33f4eeff-1847-42e7-b16c-e5d300091705",
   "metadata": {},
   "outputs": [],
   "source": []
  }
 ],
 "metadata": {
  "kernelspec": {
   "display_name": "Python [conda env:base] *",
   "language": "python",
   "name": "conda-base-py"
  },
  "language_info": {
   "codemirror_mode": {
    "name": "ipython",
    "version": 3
   },
   "file_extension": ".py",
   "mimetype": "text/x-python",
   "name": "python",
   "nbconvert_exporter": "python",
   "pygments_lexer": "ipython3",
   "version": "3.12.7"
  }
 },
 "nbformat": 4,
 "nbformat_minor": 5
}
